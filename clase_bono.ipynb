{
 "cells": [
  {
   "cell_type": "code",
   "execution_count": 2,
   "id": "659f0a52-1a7e-4cd4-905c-7075b1bc56c8",
   "metadata": {},
   "outputs": [],
   "source": [
    "import QuantLib as ql\n",
    "import pandas as pd"
   ]
  },
  {
   "cell_type": "code",
   "execution_count": 3,
   "id": "823ced23-bec3-40cb-8d99-1152935e2733",
   "metadata": {},
   "outputs": [],
   "source": [
    "tasa_cupon = 0.0713\n",
    "periodicidad = 2"
   ]
  },
  {
   "cell_type": "code",
   "execution_count": 4,
   "id": "21dc6095-e45c-4aa2-9b42-f1b54c8d6649",
   "metadata": {},
   "outputs": [],
   "source": [
    "precio = 102.42"
   ]
  },
  {
   "cell_type": "code",
   "execution_count": 5,
   "id": "b7874faa-cb49-4a93-b4a9-23f83d0ff621",
   "metadata": {},
   "outputs": [],
   "source": [
    "fecha_emision = pd.to_datetime('2015-12-22')\n",
    "fecha_vence = pd.to_datetime('2021-12-22')\n",
    "fecha_calculo = pd.to_datetime('2020-02-12')"
   ]
  },
  {
   "cell_type": "code",
   "execution_count": 6,
   "id": "c1d2f262-ebd8-4e1f-ab73-ec42a28c9175",
   "metadata": {},
   "outputs": [],
   "source": [
    "fecha_calc_ql = ql.Date(fecha_calculo.day,fecha_calculo.month,fecha_calculo.year)\n",
    "\n",
    "ql.Settings.instance().evaluationDate = fecha_calc_ql"
   ]
  },
  {
   "cell_type": "code",
   "execution_count": 7,
   "id": "b2cb4569-4a2a-462e-a268-cb0bad342e84",
   "metadata": {},
   "outputs": [],
   "source": [
    "qlCalendar = ql.BespokeCalendar('Costa Rica')\n",
    "qlCalendar.addWeekend(ql.Sunday)\n",
    "qlCalendar.addWeekend(ql.Saturday)\n",
    "qlCalendar.addHoliday(ql.Date(25,12,2020))\n",
    "qlCalendar.addHoliday(ql.Date(1,1,2021))\n",
    "qlCalendar.addHoliday(ql.Date(15,9,2020))"
   ]
  },
  {
   "cell_type": "code",
   "execution_count": 8,
   "id": "ea11a8dc-dfbe-4f9e-91b5-93a88a0ac479",
   "metadata": {},
   "outputs": [
    {
     "data": {
      "text/plain": [
       "(Date(15,9,2020), Date(25,12,2020), Date(1,1,2021))"
      ]
     },
     "execution_count": 8,
     "metadata": {},
     "output_type": "execute_result"
    }
   ],
   "source": [
    "qlCalendar.holidayList(ql.Date(1,1,2020),ql.Date(1,1,2022),False)"
   ]
  },
  {
   "cell_type": "code",
   "execution_count": 9,
   "id": "b790897f-c019-4f8b-b148-ab8cff472db3",
   "metadata": {},
   "outputs": [
    {
     "name": "stdout",
     "output_type": "stream",
     "text": [
      "February 12th, 2020\n"
     ]
    }
   ],
   "source": [
    "intervalo = ql.Period(60,ql.Days)\n",
    "print(fecha_calc_ql)"
   ]
  },
  {
   "cell_type": "code",
   "execution_count": 10,
   "id": "4e836139-7c0c-4d45-a5ca-e8c040774f24",
   "metadata": {},
   "outputs": [
    {
     "name": "stdout",
     "output_type": "stream",
     "text": [
      "April 12th, 2020\n"
     ]
    }
   ],
   "source": [
    "fecha = fecha_calc_ql + intervalo\n",
    "print(fecha)"
   ]
  },
  {
   "cell_type": "code",
   "execution_count": 11,
   "id": "d25c3509-8685-4bc9-a0c8-0bd60c7f973a",
   "metadata": {},
   "outputs": [
    {
     "name": "stdout",
     "output_type": "stream",
     "text": [
      "May 6th, 2020\n"
     ]
    }
   ],
   "source": [
    "fecha_1 = qlCalendar.advance(fecha_calc_ql,intervalo)\n",
    "print(fecha_1)"
   ]
  },
  {
   "cell_type": "code",
   "execution_count": 12,
   "id": "37c9182b-c70b-4526-b60e-18fbda52fc1e",
   "metadata": {},
   "outputs": [],
   "source": [
    "fecha_vence_ql = ql.Date(fecha_vence.day,fecha_vence.month,fecha_vence.year)\n",
    "fecha_emision_ql = ql.Date(fecha_emision.day,fecha_emision.month,fecha_emision.year)"
   ]
  },
  {
   "cell_type": "code",
   "execution_count": 13,
   "id": "a6fc37d1-6ec7-43da-a01d-d7728b4c21e0",
   "metadata": {},
   "outputs": [],
   "source": [
    "qlTenor = ql.Period(periodicidad)\n",
    "qlConvencion = ql.Following\n",
    "dateGeneration = ql.DateGeneration.Backward\n",
    "monthEnd = False"
   ]
  },
  {
   "cell_type": "code",
   "execution_count": 14,
   "id": "e3a84fe1-7dc2-4cf0-9f88-651d909a9f28",
   "metadata": {},
   "outputs": [
    {
     "data": {
      "text/html": [
       "<div>\n",
       "<style scoped>\n",
       "    .dataframe tbody tr th:only-of-type {\n",
       "        vertical-align: middle;\n",
       "    }\n",
       "\n",
       "    .dataframe tbody tr th {\n",
       "        vertical-align: top;\n",
       "    }\n",
       "\n",
       "    .dataframe thead th {\n",
       "        text-align: right;\n",
       "    }\n",
       "</style>\n",
       "<table border=\"1\" class=\"dataframe\">\n",
       "  <thead>\n",
       "    <tr style=\"text-align: right;\">\n",
       "      <th></th>\n",
       "      <th>date</th>\n",
       "    </tr>\n",
       "  </thead>\n",
       "  <tbody>\n",
       "    <tr>\n",
       "      <th>0</th>\n",
       "      <td>December 22nd, 2015</td>\n",
       "    </tr>\n",
       "    <tr>\n",
       "      <th>1</th>\n",
       "      <td>June 22nd, 2016</td>\n",
       "    </tr>\n",
       "    <tr>\n",
       "      <th>2</th>\n",
       "      <td>December 22nd, 2016</td>\n",
       "    </tr>\n",
       "    <tr>\n",
       "      <th>3</th>\n",
       "      <td>June 22nd, 2017</td>\n",
       "    </tr>\n",
       "    <tr>\n",
       "      <th>4</th>\n",
       "      <td>December 22nd, 2017</td>\n",
       "    </tr>\n",
       "    <tr>\n",
       "      <th>5</th>\n",
       "      <td>June 22nd, 2018</td>\n",
       "    </tr>\n",
       "    <tr>\n",
       "      <th>6</th>\n",
       "      <td>December 24th, 2018</td>\n",
       "    </tr>\n",
       "    <tr>\n",
       "      <th>7</th>\n",
       "      <td>June 24th, 2019</td>\n",
       "    </tr>\n",
       "    <tr>\n",
       "      <th>8</th>\n",
       "      <td>December 23rd, 2019</td>\n",
       "    </tr>\n",
       "    <tr>\n",
       "      <th>9</th>\n",
       "      <td>June 22nd, 2020</td>\n",
       "    </tr>\n",
       "    <tr>\n",
       "      <th>10</th>\n",
       "      <td>December 22nd, 2020</td>\n",
       "    </tr>\n",
       "    <tr>\n",
       "      <th>11</th>\n",
       "      <td>June 22nd, 2021</td>\n",
       "    </tr>\n",
       "    <tr>\n",
       "      <th>12</th>\n",
       "      <td>December 22nd, 2021</td>\n",
       "    </tr>\n",
       "  </tbody>\n",
       "</table>\n",
       "</div>"
      ],
      "text/plain": [
       "                   date\n",
       "0   December 22nd, 2015\n",
       "1       June 22nd, 2016\n",
       "2   December 22nd, 2016\n",
       "3       June 22nd, 2017\n",
       "4   December 22nd, 2017\n",
       "5       June 22nd, 2018\n",
       "6   December 24th, 2018\n",
       "7       June 24th, 2019\n",
       "8   December 23rd, 2019\n",
       "9       June 22nd, 2020\n",
       "10  December 22nd, 2020\n",
       "11      June 22nd, 2021\n",
       "12  December 22nd, 2021"
      ]
     },
     "execution_count": 14,
     "metadata": {},
     "output_type": "execute_result"
    }
   ],
   "source": [
    "cronograma = ql.Schedule(fecha_emision_ql,fecha_vence_ql,qlTenor,\n",
    "                         qlCalendar,qlConvencion,qlConvencion,dateGeneration,monthEnd)\n",
    "# list(cronograma)\n",
    "pd.DataFrame({'date':list(cronograma)})"
   ]
  },
  {
   "cell_type": "code",
   "execution_count": 15,
   "id": "a640c09a-120d-41d4-8b87-c32f989e55d1",
   "metadata": {},
   "outputs": [],
   "source": [
    "dayCount = ql.Thirty360(ql.Thirty360.BondBasis)"
   ]
  },
  {
   "cell_type": "code",
   "execution_count": 16,
   "id": "22ab01d5-9979-46f2-9ceb-833e9a1c94db",
   "metadata": {},
   "outputs": [],
   "source": [
    "compound_type = ql.Compounded"
   ]
  },
  {
   "cell_type": "code",
   "execution_count": 17,
   "id": "d63dccc2-4230-42aa-ae2b-8ed4f6a26f64",
   "metadata": {},
   "outputs": [],
   "source": [
    "frequency = ql.Semiannual"
   ]
  },
  {
   "cell_type": "code",
   "execution_count": 18,
   "id": "bc8f64a4-bbbb-457d-ab6f-194f71cc436a",
   "metadata": {},
   "outputs": [],
   "source": [
    "settlementDays = 0"
   ]
  },
  {
   "cell_type": "code",
   "execution_count": 28,
   "id": "d464710f-3acc-47aa-a696-e9c8aaa1d754",
   "metadata": {},
   "outputs": [
    {
     "name": "stdout",
     "output_type": "stream",
     "text": [
      "7.130000 % 30/360 (Bond Basis) Semiannual compounding\n"
     ]
    }
   ],
   "source": [
    "interest_rate = ql.InterestRate(tasa_cupon,dayCount,compound_type,frequency)\n",
    "print(interest_rate)"
   ]
  },
  {
   "cell_type": "code",
   "execution_count": 29,
   "id": "9eb268e0-7817-4038-98d0-110526778f90",
   "metadata": {},
   "outputs": [
    {
     "name": "stdout",
     "output_type": "stream",
     "text": [
      "1.0725709225\n"
     ]
    }
   ],
   "source": [
    "print(interest_rate.compoundFactor(1))"
   ]
  },
  {
   "cell_type": "code",
   "execution_count": 30,
   "id": "5b75b6f1-4e75-4310-90ee-c87ec926ce85",
   "metadata": {},
   "outputs": [
    {
     "name": "stdout",
     "output_type": "stream",
     "text": [
      "0.7556069152825599\n"
     ]
    }
   ],
   "source": [
    "print(interest_rate.discountFactor(4))"
   ]
  },
  {
   "cell_type": "code",
   "execution_count": 36,
   "id": "fee3564d-fdd7-4062-8d58-759e41a2a020",
   "metadata": {},
   "outputs": [
    {
     "name": "stdout",
     "output_type": "stream",
     "text": [
      "7.257092 % 30/360 (Bond Basis) Annual compounding\n"
     ]
    }
   ],
   "source": [
    "nueva_tasa = interest_rate.equivalentRate(compound_type,ql.Annual,1)\n",
    "print(nueva_tasa)"
   ]
  },
  {
   "cell_type": "markdown",
   "id": "f3fc6893-3b56-423c-9315-171098bdbe61",
   "metadata": {},
   "source": [
    "### Creación del bono"
   ]
  },
  {
   "cell_type": "code",
   "execution_count": 38,
   "id": "2cf5ead9-8b14-4e5f-8cc0-7141fe39bfd7",
   "metadata": {},
   "outputs": [
    {
     "data": {
      "text/plain": [
       "<QuantLib.QuantLib.FixedRateBond; proxy of <Swig Object of type 'ext::shared_ptr< FixedRateBond > *' at 0x00000264B6623F60> >"
      ]
     },
     "execution_count": 38,
     "metadata": {},
     "output_type": "execute_result"
    }
   ],
   "source": [
    "bono = ql.FixedRateBond(settlementDays,100,cronograma,[tasa_cupon],dayCount)\n",
    "bono"
   ]
  },
  {
   "cell_type": "code",
   "execution_count": 39,
   "id": "6d5619ac-9686-4c26-998c-7aa7306fd379",
   "metadata": {},
   "outputs": [
    {
     "name": "stdout",
     "output_type": "stream",
     "text": [
      "                 Fechas      Montos\n",
      "0       June 22nd, 2016    3.565000\n",
      "1   December 22nd, 2016    3.565000\n",
      "2       June 22nd, 2017    3.565000\n",
      "3   December 22nd, 2017    3.565000\n",
      "4       June 22nd, 2018    3.565000\n",
      "5   December 24th, 2018    3.604611\n",
      "6       June 24th, 2019    3.565000\n",
      "7   December 23rd, 2019    3.545194\n",
      "8       June 22nd, 2020    3.545194\n",
      "9   December 22nd, 2020    3.565000\n",
      "10      June 22nd, 2021    3.565000\n",
      "11  December 22nd, 2021    3.565000\n",
      "12  December 22nd, 2021  100.000000\n"
     ]
    }
   ],
   "source": [
    "cf = bono.cashflows()\n",
    "fechas = [item.date() for item in cf]\n",
    "montos = [item.amount() for item in cf]\n",
    "print(pd.DataFrame({'Fechas':fechas,'Montos':montos}))"
   ]
  },
  {
   "cell_type": "code",
   "execution_count": 40,
   "id": "efc222dd-c5ba-4e30-bd26-943aa50702a9",
   "metadata": {},
   "outputs": [],
   "source": [
    "rend = bono.bondYield(precio,dayCount,compound_type,frequency)"
   ]
  },
  {
   "cell_type": "code",
   "execution_count": 41,
   "id": "e771a7ff-4a87-4c3d-94de-478a352ecb0c",
   "metadata": {},
   "outputs": [
    {
     "data": {
      "text/plain": [
       "0.057349736690521236"
      ]
     },
     "execution_count": 41,
     "metadata": {},
     "output_type": "execute_result"
    }
   ],
   "source": [
    "rend"
   ]
  },
  {
   "cell_type": "code",
   "execution_count": 42,
   "id": "0b22d6f3-9d4b-4b47-a41a-173afb95560d",
   "metadata": {},
   "outputs": [],
   "source": [
    "interes_rend = ql.InterestRate(rend,dayCount,compound_type,frequency)"
   ]
  },
  {
   "cell_type": "code",
   "execution_count": 44,
   "id": "8f1b21c7-bdc9-44a4-8267-c8c690de7eaf",
   "metadata": {},
   "outputs": [
    {
     "data": {
      "text/plain": [
       "1.7619109199149028"
      ]
     },
     "execution_count": 44,
     "metadata": {},
     "output_type": "execute_result"
    }
   ],
   "source": [
    "duracion=ql.BondFunctions.duration(bono,interes_rend,ql.Duration.Macaulay)\n",
    "duracion"
   ]
  },
  {
   "cell_type": "code",
   "execution_count": 45,
   "id": "320376e9-c990-424f-bcc5-78a9bd15f904",
   "metadata": {},
   "outputs": [
    {
     "data": {
      "text/plain": [
       "1.7127967000390851"
      ]
     },
     "execution_count": 45,
     "metadata": {},
     "output_type": "execute_result"
    }
   ],
   "source": [
    "duracionMod=ql.BondFunctions.duration(bono,interes_rend,ql.Duration.Modified)\n",
    "duracionMod"
   ]
  },
  {
   "cell_type": "code",
   "execution_count": 46,
   "id": "b43f49ab-54d9-4741-b00b-cf735709deb6",
   "metadata": {},
   "outputs": [
    {
     "data": {
      "text/plain": [
       "3.8669145300256282"
      ]
     },
     "execution_count": 46,
     "metadata": {},
     "output_type": "execute_result"
    }
   ],
   "source": [
    "convexidad=ql.BondFunctions.convexity(bono,interes_rend)\n",
    "convexidad"
   ]
  },
  {
   "cell_type": "markdown",
   "id": "39cb0f4c-6005-4fcd-9adf-213930931e75",
   "metadata": {},
   "source": [
    "#### Curvas de rendimiento"
   ]
  },
  {
   "cell_type": "code",
   "execution_count": 47,
   "id": "f387f541-7d4e-48f0-8530-19896212bb7c",
   "metadata": {},
   "outputs": [],
   "source": [
    "curvas = pd.read_csv(r'C:\\Users\\josea\\Dropbox\\CA0417\\curso_python\\curvas.csv')"
   ]
  },
  {
   "cell_type": "code",
   "execution_count": 48,
   "id": "abc3fdf9-582f-4125-90d5-f4aafb7b7f10",
   "metadata": {},
   "outputs": [
    {
     "data": {
      "text/html": [
       "<div>\n",
       "<style scoped>\n",
       "    .dataframe tbody tr th:only-of-type {\n",
       "        vertical-align: middle;\n",
       "    }\n",
       "\n",
       "    .dataframe tbody tr th {\n",
       "        vertical-align: top;\n",
       "    }\n",
       "\n",
       "    .dataframe thead th {\n",
       "        text-align: right;\n",
       "    }\n",
       "</style>\n",
       "<table border=\"1\" class=\"dataframe\">\n",
       "  <thead>\n",
       "    <tr style=\"text-align: right;\">\n",
       "      <th></th>\n",
       "      <th>Unnamed: 0</th>\n",
       "      <th>DATE</th>\n",
       "      <th>TERM</th>\n",
       "      <th>RATE</th>\n",
       "      <th>CURRENCY</th>\n",
       "    </tr>\n",
       "  </thead>\n",
       "  <tbody>\n",
       "    <tr>\n",
       "      <th>0</th>\n",
       "      <td>0</td>\n",
       "      <td>2017-07-24</td>\n",
       "      <td>0</td>\n",
       "      <td>0.003061</td>\n",
       "      <td>CRC</td>\n",
       "    </tr>\n",
       "    <tr>\n",
       "      <th>1</th>\n",
       "      <td>1</td>\n",
       "      <td>2017-07-24</td>\n",
       "      <td>30</td>\n",
       "      <td>0.003061</td>\n",
       "      <td>CRC</td>\n",
       "    </tr>\n",
       "    <tr>\n",
       "      <th>2</th>\n",
       "      <td>2</td>\n",
       "      <td>2017-07-24</td>\n",
       "      <td>60</td>\n",
       "      <td>0.008777</td>\n",
       "      <td>CRC</td>\n",
       "    </tr>\n",
       "    <tr>\n",
       "      <th>3</th>\n",
       "      <td>3</td>\n",
       "      <td>2017-07-24</td>\n",
       "      <td>90</td>\n",
       "      <td>0.014356</td>\n",
       "      <td>CRC</td>\n",
       "    </tr>\n",
       "    <tr>\n",
       "      <th>4</th>\n",
       "      <td>4</td>\n",
       "      <td>2017-07-24</td>\n",
       "      <td>120</td>\n",
       "      <td>0.019441</td>\n",
       "      <td>CRC</td>\n",
       "    </tr>\n",
       "    <tr>\n",
       "      <th>...</th>\n",
       "      <td>...</td>\n",
       "      <td>...</td>\n",
       "      <td>...</td>\n",
       "      <td>...</td>\n",
       "      <td>...</td>\n",
       "    </tr>\n",
       "    <tr>\n",
       "      <th>106797</th>\n",
       "      <td>106797</td>\n",
       "      <td>2019-09-02</td>\n",
       "      <td>5880</td>\n",
       "      <td>0.151905</td>\n",
       "      <td>CRC</td>\n",
       "    </tr>\n",
       "    <tr>\n",
       "      <th>106798</th>\n",
       "      <td>106798</td>\n",
       "      <td>2019-09-02</td>\n",
       "      <td>5910</td>\n",
       "      <td>0.153207</td>\n",
       "      <td>CRC</td>\n",
       "    </tr>\n",
       "    <tr>\n",
       "      <th>106799</th>\n",
       "      <td>106799</td>\n",
       "      <td>2019-09-02</td>\n",
       "      <td>5940</td>\n",
       "      <td>0.154600</td>\n",
       "      <td>CRC</td>\n",
       "    </tr>\n",
       "    <tr>\n",
       "      <th>106800</th>\n",
       "      <td>106800</td>\n",
       "      <td>2019-09-02</td>\n",
       "      <td>5970</td>\n",
       "      <td>0.155992</td>\n",
       "      <td>CRC</td>\n",
       "    </tr>\n",
       "    <tr>\n",
       "      <th>106801</th>\n",
       "      <td>106801</td>\n",
       "      <td>2019-09-02</td>\n",
       "      <td>6000</td>\n",
       "      <td>0.157430</td>\n",
       "      <td>CRC</td>\n",
       "    </tr>\n",
       "  </tbody>\n",
       "</table>\n",
       "<p>106802 rows × 5 columns</p>\n",
       "</div>"
      ],
      "text/plain": [
       "        Unnamed: 0        DATE  TERM      RATE CURRENCY\n",
       "0                0  2017-07-24     0  0.003061      CRC\n",
       "1                1  2017-07-24    30  0.003061      CRC\n",
       "2                2  2017-07-24    60  0.008777      CRC\n",
       "3                3  2017-07-24    90  0.014356      CRC\n",
       "4                4  2017-07-24   120  0.019441      CRC\n",
       "...            ...         ...   ...       ...      ...\n",
       "106797      106797  2019-09-02  5880  0.151905      CRC\n",
       "106798      106798  2019-09-02  5910  0.153207      CRC\n",
       "106799      106799  2019-09-02  5940  0.154600      CRC\n",
       "106800      106800  2019-09-02  5970  0.155992      CRC\n",
       "106801      106801  2019-09-02  6000  0.157430      CRC\n",
       "\n",
       "[106802 rows x 5 columns]"
      ]
     },
     "execution_count": 48,
     "metadata": {},
     "output_type": "execute_result"
    }
   ],
   "source": [
    "curvas"
   ]
  },
  {
   "cell_type": "code",
   "execution_count": 49,
   "id": "cf027ea7-0706-45b1-809c-c004be364f83",
   "metadata": {},
   "outputs": [
    {
     "data": {
      "text/plain": [
       "Unnamed: 0      int64\n",
       "DATE           object\n",
       "TERM            int64\n",
       "RATE          float64\n",
       "CURRENCY       object\n",
       "dtype: object"
      ]
     },
     "execution_count": 49,
     "metadata": {},
     "output_type": "execute_result"
    }
   ],
   "source": [
    "curvas.dtypes"
   ]
  },
  {
   "cell_type": "code",
   "execution_count": 50,
   "id": "2ad7c87e-7db5-4499-ad73-14649926c0b2",
   "metadata": {},
   "outputs": [],
   "source": [
    "curvas['DATE'] = pd.to_datetime(curvas['DATE'])"
   ]
  },
  {
   "cell_type": "code",
   "execution_count": 53,
   "id": "2311be4d-2a5d-4259-86ee-7357d532185a",
   "metadata": {},
   "outputs": [
    {
     "data": {
      "text/html": [
       "<div>\n",
       "<style scoped>\n",
       "    .dataframe tbody tr th:only-of-type {\n",
       "        vertical-align: middle;\n",
       "    }\n",
       "\n",
       "    .dataframe tbody tr th {\n",
       "        vertical-align: top;\n",
       "    }\n",
       "\n",
       "    .dataframe thead th {\n",
       "        text-align: right;\n",
       "    }\n",
       "</style>\n",
       "<table border=\"1\" class=\"dataframe\">\n",
       "  <thead>\n",
       "    <tr style=\"text-align: right;\">\n",
       "      <th>TERM</th>\n",
       "      <th>0</th>\n",
       "      <th>30</th>\n",
       "      <th>60</th>\n",
       "      <th>90</th>\n",
       "      <th>120</th>\n",
       "      <th>150</th>\n",
       "      <th>180</th>\n",
       "      <th>210</th>\n",
       "      <th>240</th>\n",
       "      <th>270</th>\n",
       "      <th>...</th>\n",
       "      <th>6150</th>\n",
       "      <th>6180</th>\n",
       "      <th>6210</th>\n",
       "      <th>6240</th>\n",
       "      <th>6270</th>\n",
       "      <th>6300</th>\n",
       "      <th>6330</th>\n",
       "      <th>6360</th>\n",
       "      <th>6390</th>\n",
       "      <th>6420</th>\n",
       "    </tr>\n",
       "    <tr>\n",
       "      <th>DATE</th>\n",
       "      <th></th>\n",
       "      <th></th>\n",
       "      <th></th>\n",
       "      <th></th>\n",
       "      <th></th>\n",
       "      <th></th>\n",
       "      <th></th>\n",
       "      <th></th>\n",
       "      <th></th>\n",
       "      <th></th>\n",
       "      <th></th>\n",
       "      <th></th>\n",
       "      <th></th>\n",
       "      <th></th>\n",
       "      <th></th>\n",
       "      <th></th>\n",
       "      <th></th>\n",
       "      <th></th>\n",
       "      <th></th>\n",
       "      <th></th>\n",
       "      <th></th>\n",
       "    </tr>\n",
       "  </thead>\n",
       "  <tbody>\n",
       "    <tr>\n",
       "      <th>2017-07-24</th>\n",
       "      <td>0.003061</td>\n",
       "      <td>0.003061</td>\n",
       "      <td>0.008777</td>\n",
       "      <td>0.014356</td>\n",
       "      <td>0.019441</td>\n",
       "      <td>0.024398</td>\n",
       "      <td>0.028909</td>\n",
       "      <td>0.033159</td>\n",
       "      <td>0.037558</td>\n",
       "      <td>0.041297</td>\n",
       "      <td>...</td>\n",
       "      <td>0.128963</td>\n",
       "      <td>0.129401</td>\n",
       "      <td>0.129855</td>\n",
       "      <td>0.130295</td>\n",
       "      <td>0.130737</td>\n",
       "      <td>0.131195</td>\n",
       "      <td>0.131638</td>\n",
       "      <td>0.132099</td>\n",
       "      <td>0.132545</td>\n",
       "      <td>0.132993</td>\n",
       "    </tr>\n",
       "    <tr>\n",
       "      <th>2017-07-26</th>\n",
       "      <td>0.004831</td>\n",
       "      <td>0.004831</td>\n",
       "      <td>0.010409</td>\n",
       "      <td>0.015854</td>\n",
       "      <td>0.020817</td>\n",
       "      <td>0.025654</td>\n",
       "      <td>0.030058</td>\n",
       "      <td>0.034205</td>\n",
       "      <td>0.038500</td>\n",
       "      <td>0.042149</td>\n",
       "      <td>...</td>\n",
       "      <td>0.128715</td>\n",
       "      <td>0.129147</td>\n",
       "      <td>0.129596</td>\n",
       "      <td>0.130031</td>\n",
       "      <td>0.130467</td>\n",
       "      <td>0.130919</td>\n",
       "      <td>0.131358</td>\n",
       "      <td>0.131813</td>\n",
       "      <td>0.132254</td>\n",
       "      <td>0.132696</td>\n",
       "    </tr>\n",
       "    <tr>\n",
       "      <th>2017-07-27</th>\n",
       "      <td>0.080799</td>\n",
       "      <td>0.080799</td>\n",
       "      <td>0.080878</td>\n",
       "      <td>0.080962</td>\n",
       "      <td>0.081043</td>\n",
       "      <td>0.081129</td>\n",
       "      <td>0.081213</td>\n",
       "      <td>0.081299</td>\n",
       "      <td>0.081395</td>\n",
       "      <td>0.081483</td>\n",
       "      <td>...</td>\n",
       "      <td>0.124610</td>\n",
       "      <td>0.124958</td>\n",
       "      <td>0.125320</td>\n",
       "      <td>0.125671</td>\n",
       "      <td>0.126023</td>\n",
       "      <td>0.126389</td>\n",
       "      <td>0.126744</td>\n",
       "      <td>0.127113</td>\n",
       "      <td>0.127471</td>\n",
       "      <td>0.127830</td>\n",
       "    </tr>\n",
       "    <tr>\n",
       "      <th>2017-07-28</th>\n",
       "      <td>0.103137</td>\n",
       "      <td>0.103137</td>\n",
       "      <td>0.099782</td>\n",
       "      <td>0.096664</td>\n",
       "      <td>0.093966</td>\n",
       "      <td>0.091475</td>\n",
       "      <td>0.089337</td>\n",
       "      <td>0.087443</td>\n",
       "      <td>0.085614</td>\n",
       "      <td>0.084174</td>\n",
       "      <td>...</td>\n",
       "      <td>0.147953</td>\n",
       "      <td>0.149045</td>\n",
       "      <td>0.150184</td>\n",
       "      <td>0.151295</td>\n",
       "      <td>0.152416</td>\n",
       "      <td>0.153585</td>\n",
       "      <td>0.154726</td>\n",
       "      <td>0.155915</td>\n",
       "      <td>0.157074</td>\n",
       "      <td>0.158243</td>\n",
       "    </tr>\n",
       "    <tr>\n",
       "      <th>2017-07-31</th>\n",
       "      <td>0.103137</td>\n",
       "      <td>0.103137</td>\n",
       "      <td>0.099782</td>\n",
       "      <td>0.096664</td>\n",
       "      <td>0.093966</td>\n",
       "      <td>0.091475</td>\n",
       "      <td>0.089337</td>\n",
       "      <td>0.087443</td>\n",
       "      <td>0.085614</td>\n",
       "      <td>0.084174</td>\n",
       "      <td>...</td>\n",
       "      <td>0.147953</td>\n",
       "      <td>0.149045</td>\n",
       "      <td>0.150184</td>\n",
       "      <td>0.151295</td>\n",
       "      <td>0.152416</td>\n",
       "      <td>0.153585</td>\n",
       "      <td>0.154726</td>\n",
       "      <td>0.155915</td>\n",
       "      <td>0.157074</td>\n",
       "      <td>0.158243</td>\n",
       "    </tr>\n",
       "  </tbody>\n",
       "</table>\n",
       "<p>5 rows × 215 columns</p>\n",
       "</div>"
      ],
      "text/plain": [
       "TERM            0         30        60        90        120       150   \\\n",
       "DATE                                                                     \n",
       "2017-07-24  0.003061  0.003061  0.008777  0.014356  0.019441  0.024398   \n",
       "2017-07-26  0.004831  0.004831  0.010409  0.015854  0.020817  0.025654   \n",
       "2017-07-27  0.080799  0.080799  0.080878  0.080962  0.081043  0.081129   \n",
       "2017-07-28  0.103137  0.103137  0.099782  0.096664  0.093966  0.091475   \n",
       "2017-07-31  0.103137  0.103137  0.099782  0.096664  0.093966  0.091475   \n",
       "\n",
       "TERM            180       210       240       270   ...      6150      6180  \\\n",
       "DATE                                                ...                       \n",
       "2017-07-24  0.028909  0.033159  0.037558  0.041297  ...  0.128963  0.129401   \n",
       "2017-07-26  0.030058  0.034205  0.038500  0.042149  ...  0.128715  0.129147   \n",
       "2017-07-27  0.081213  0.081299  0.081395  0.081483  ...  0.124610  0.124958   \n",
       "2017-07-28  0.089337  0.087443  0.085614  0.084174  ...  0.147953  0.149045   \n",
       "2017-07-31  0.089337  0.087443  0.085614  0.084174  ...  0.147953  0.149045   \n",
       "\n",
       "TERM            6210      6240      6270      6300      6330      6360  \\\n",
       "DATE                                                                     \n",
       "2017-07-24  0.129855  0.130295  0.130737  0.131195  0.131638  0.132099   \n",
       "2017-07-26  0.129596  0.130031  0.130467  0.130919  0.131358  0.131813   \n",
       "2017-07-27  0.125320  0.125671  0.126023  0.126389  0.126744  0.127113   \n",
       "2017-07-28  0.150184  0.151295  0.152416  0.153585  0.154726  0.155915   \n",
       "2017-07-31  0.150184  0.151295  0.152416  0.153585  0.154726  0.155915   \n",
       "\n",
       "TERM            6390      6420  \n",
       "DATE                            \n",
       "2017-07-24  0.132545  0.132993  \n",
       "2017-07-26  0.132254  0.132696  \n",
       "2017-07-27  0.127471  0.127830  \n",
       "2017-07-28  0.157074  0.158243  \n",
       "2017-07-31  0.157074  0.158243  \n",
       "\n",
       "[5 rows x 215 columns]"
      ]
     },
     "execution_count": 53,
     "metadata": {},
     "output_type": "execute_result"
    }
   ],
   "source": [
    "tabla_curvas = curvas.pivot(values = 'RATE',index = 'DATE', columns = 'TERM')\n",
    "tabla_curvas.head()"
   ]
  },
  {
   "cell_type": "code",
   "execution_count": 54,
   "id": "750bd5d4-d08d-441e-8c97-4df89eebc172",
   "metadata": {},
   "outputs": [],
   "source": [
    "tabla_curvas = tabla_curvas.loc[:,0:900]"
   ]
  },
  {
   "cell_type": "code",
   "execution_count": 55,
   "id": "4b297128-2f74-44aa-9dd6-719a942495da",
   "metadata": {},
   "outputs": [
    {
     "data": {
      "text/html": [
       "<div>\n",
       "<style scoped>\n",
       "    .dataframe tbody tr th:only-of-type {\n",
       "        vertical-align: middle;\n",
       "    }\n",
       "\n",
       "    .dataframe tbody tr th {\n",
       "        vertical-align: top;\n",
       "    }\n",
       "\n",
       "    .dataframe thead th {\n",
       "        text-align: right;\n",
       "    }\n",
       "</style>\n",
       "<table border=\"1\" class=\"dataframe\">\n",
       "  <thead>\n",
       "    <tr style=\"text-align: right;\">\n",
       "      <th>TERM</th>\n",
       "      <th>0</th>\n",
       "      <th>30</th>\n",
       "      <th>60</th>\n",
       "      <th>90</th>\n",
       "      <th>120</th>\n",
       "      <th>150</th>\n",
       "      <th>180</th>\n",
       "      <th>210</th>\n",
       "      <th>240</th>\n",
       "      <th>270</th>\n",
       "      <th>...</th>\n",
       "      <th>630</th>\n",
       "      <th>660</th>\n",
       "      <th>690</th>\n",
       "      <th>720</th>\n",
       "      <th>750</th>\n",
       "      <th>780</th>\n",
       "      <th>810</th>\n",
       "      <th>840</th>\n",
       "      <th>870</th>\n",
       "      <th>900</th>\n",
       "    </tr>\n",
       "    <tr>\n",
       "      <th>DATE</th>\n",
       "      <th></th>\n",
       "      <th></th>\n",
       "      <th></th>\n",
       "      <th></th>\n",
       "      <th></th>\n",
       "      <th></th>\n",
       "      <th></th>\n",
       "      <th></th>\n",
       "      <th></th>\n",
       "      <th></th>\n",
       "      <th></th>\n",
       "      <th></th>\n",
       "      <th></th>\n",
       "      <th></th>\n",
       "      <th></th>\n",
       "      <th></th>\n",
       "      <th></th>\n",
       "      <th></th>\n",
       "      <th></th>\n",
       "      <th></th>\n",
       "      <th></th>\n",
       "    </tr>\n",
       "  </thead>\n",
       "  <tbody>\n",
       "    <tr>\n",
       "      <th>2017-07-24</th>\n",
       "      <td>0.003061</td>\n",
       "      <td>0.003061</td>\n",
       "      <td>0.008777</td>\n",
       "      <td>0.014356</td>\n",
       "      <td>0.019441</td>\n",
       "      <td>0.024398</td>\n",
       "      <td>0.028909</td>\n",
       "      <td>0.033159</td>\n",
       "      <td>0.037558</td>\n",
       "      <td>0.041297</td>\n",
       "      <td>...</td>\n",
       "      <td>0.071958</td>\n",
       "      <td>0.073563</td>\n",
       "      <td>0.075005</td>\n",
       "      <td>0.076391</td>\n",
       "      <td>0.077633</td>\n",
       "      <td>0.078787</td>\n",
       "      <td>0.079891</td>\n",
       "      <td>0.080879</td>\n",
       "      <td>0.081824</td>\n",
       "      <td>0.082666</td>\n",
       "    </tr>\n",
       "    <tr>\n",
       "      <th>2017-07-26</th>\n",
       "      <td>0.004831</td>\n",
       "      <td>0.004831</td>\n",
       "      <td>0.010409</td>\n",
       "      <td>0.015854</td>\n",
       "      <td>0.020817</td>\n",
       "      <td>0.025654</td>\n",
       "      <td>0.030058</td>\n",
       "      <td>0.034205</td>\n",
       "      <td>0.038500</td>\n",
       "      <td>0.042149</td>\n",
       "      <td>...</td>\n",
       "      <td>0.072104</td>\n",
       "      <td>0.073675</td>\n",
       "      <td>0.075087</td>\n",
       "      <td>0.076444</td>\n",
       "      <td>0.077662</td>\n",
       "      <td>0.078792</td>\n",
       "      <td>0.079876</td>\n",
       "      <td>0.080845</td>\n",
       "      <td>0.081772</td>\n",
       "      <td>0.082600</td>\n",
       "    </tr>\n",
       "    <tr>\n",
       "      <th>2017-07-27</th>\n",
       "      <td>0.080799</td>\n",
       "      <td>0.080799</td>\n",
       "      <td>0.080878</td>\n",
       "      <td>0.080962</td>\n",
       "      <td>0.081043</td>\n",
       "      <td>0.081129</td>\n",
       "      <td>0.081213</td>\n",
       "      <td>0.081299</td>\n",
       "      <td>0.081395</td>\n",
       "      <td>0.081483</td>\n",
       "      <td>...</td>\n",
       "      <td>0.082661</td>\n",
       "      <td>0.082770</td>\n",
       "      <td>0.082875</td>\n",
       "      <td>0.082986</td>\n",
       "      <td>0.083094</td>\n",
       "      <td>0.083204</td>\n",
       "      <td>0.083319</td>\n",
       "      <td>0.083431</td>\n",
       "      <td>0.083548</td>\n",
       "      <td>0.083663</td>\n",
       "    </tr>\n",
       "    <tr>\n",
       "      <th>2017-07-28</th>\n",
       "      <td>0.103137</td>\n",
       "      <td>0.103137</td>\n",
       "      <td>0.099782</td>\n",
       "      <td>0.096664</td>\n",
       "      <td>0.093966</td>\n",
       "      <td>0.091475</td>\n",
       "      <td>0.089337</td>\n",
       "      <td>0.087443</td>\n",
       "      <td>0.085614</td>\n",
       "      <td>0.084174</td>\n",
       "      <td>...</td>\n",
       "      <td>0.078079</td>\n",
       "      <td>0.078200</td>\n",
       "      <td>0.078374</td>\n",
       "      <td>0.078604</td>\n",
       "      <td>0.078871</td>\n",
       "      <td>0.079176</td>\n",
       "      <td>0.079525</td>\n",
       "      <td>0.079892</td>\n",
       "      <td>0.080297</td>\n",
       "      <td>0.080710</td>\n",
       "    </tr>\n",
       "    <tr>\n",
       "      <th>2017-07-31</th>\n",
       "      <td>0.103137</td>\n",
       "      <td>0.103137</td>\n",
       "      <td>0.099782</td>\n",
       "      <td>0.096664</td>\n",
       "      <td>0.093966</td>\n",
       "      <td>0.091475</td>\n",
       "      <td>0.089337</td>\n",
       "      <td>0.087443</td>\n",
       "      <td>0.085614</td>\n",
       "      <td>0.084174</td>\n",
       "      <td>...</td>\n",
       "      <td>0.078079</td>\n",
       "      <td>0.078200</td>\n",
       "      <td>0.078374</td>\n",
       "      <td>0.078604</td>\n",
       "      <td>0.078871</td>\n",
       "      <td>0.079176</td>\n",
       "      <td>0.079525</td>\n",
       "      <td>0.079892</td>\n",
       "      <td>0.080297</td>\n",
       "      <td>0.080710</td>\n",
       "    </tr>\n",
       "  </tbody>\n",
       "</table>\n",
       "<p>5 rows × 31 columns</p>\n",
       "</div>"
      ],
      "text/plain": [
       "TERM             0         30        60        90        120       150  \\\n",
       "DATE                                                                     \n",
       "2017-07-24  0.003061  0.003061  0.008777  0.014356  0.019441  0.024398   \n",
       "2017-07-26  0.004831  0.004831  0.010409  0.015854  0.020817  0.025654   \n",
       "2017-07-27  0.080799  0.080799  0.080878  0.080962  0.081043  0.081129   \n",
       "2017-07-28  0.103137  0.103137  0.099782  0.096664  0.093966  0.091475   \n",
       "2017-07-31  0.103137  0.103137  0.099782  0.096664  0.093966  0.091475   \n",
       "\n",
       "TERM             180       210       240       270  ...       630       660  \\\n",
       "DATE                                                ...                       \n",
       "2017-07-24  0.028909  0.033159  0.037558  0.041297  ...  0.071958  0.073563   \n",
       "2017-07-26  0.030058  0.034205  0.038500  0.042149  ...  0.072104  0.073675   \n",
       "2017-07-27  0.081213  0.081299  0.081395  0.081483  ...  0.082661  0.082770   \n",
       "2017-07-28  0.089337  0.087443  0.085614  0.084174  ...  0.078079  0.078200   \n",
       "2017-07-31  0.089337  0.087443  0.085614  0.084174  ...  0.078079  0.078200   \n",
       "\n",
       "TERM             690       720       750       780       810       840  \\\n",
       "DATE                                                                     \n",
       "2017-07-24  0.075005  0.076391  0.077633  0.078787  0.079891  0.080879   \n",
       "2017-07-26  0.075087  0.076444  0.077662  0.078792  0.079876  0.080845   \n",
       "2017-07-27  0.082875  0.082986  0.083094  0.083204  0.083319  0.083431   \n",
       "2017-07-28  0.078374  0.078604  0.078871  0.079176  0.079525  0.079892   \n",
       "2017-07-31  0.078374  0.078604  0.078871  0.079176  0.079525  0.079892   \n",
       "\n",
       "TERM             870       900  \n",
       "DATE                            \n",
       "2017-07-24  0.081824  0.082666  \n",
       "2017-07-26  0.081772  0.082600  \n",
       "2017-07-27  0.083548  0.083663  \n",
       "2017-07-28  0.080297  0.080710  \n",
       "2017-07-31  0.080297  0.080710  \n",
       "\n",
       "[5 rows x 31 columns]"
      ]
     },
     "execution_count": 55,
     "metadata": {},
     "output_type": "execute_result"
    }
   ],
   "source": [
    "tabla_curvas.head()"
   ]
  },
  {
   "cell_type": "code",
   "execution_count": 56,
   "id": "d77a5d00-0a71-4fcc-ad3c-b15a924bbed7",
   "metadata": {},
   "outputs": [],
   "source": [
    "import matplotlib.pyplot as plt"
   ]
  },
  {
   "cell_type": "code",
   "execution_count": 57,
   "id": "50cf46c6-dd54-4282-b0ac-d9df2ccba2cb",
   "metadata": {},
   "outputs": [
    {
     "data": {
      "text/plain": [
       "[<matplotlib.lines.Line2D at 0x264b7b21ed0>]"
      ]
     },
     "execution_count": 57,
     "metadata": {},
     "output_type": "execute_result"
    },
    {
     "data": {
      "image/png": "[encoded data removed]",
      "text/plain": [
       "<Figure size 640x480 with 1 Axes>"
      ]
     },
     "metadata": {},
     "output_type": "display_data"
    }
   ],
   "source": [
    "plt.plot(tabla_curvas[360])"
   ]
  },
  {
   "cell_type": "code",
   "execution_count": 58,
   "id": "2d3beeb8-670e-40b8-b3b4-a27c96e8b472",
   "metadata": {},
   "outputs": [
    {
     "data": {
      "text/plain": [
       "[<matplotlib.lines.Line2D at 0x264b7bd7490>]"
      ]
     },
     "execution_count": 58,
     "metadata": {},
     "output_type": "execute_result"
    },
    {
     "data": {
      "image/png": "[encoded data removed]",
      "text/plain": [
       "<Figure size 640x480 with 1 Axes>"
      ]
     },
     "metadata": {},
     "output_type": "display_data"
    }
   ],
   "source": [
    "tabla_curvas = tabla_curvas.loc[tabla_curvas.index >= pd.to_datetime('2018-04-01'),:]\n",
    "plt.plot(tabla_curvas[360])"
   ]
  },
  {
   "cell_type": "code",
   "execution_count": 59,
   "id": "d0a5dbe1-726f-44cf-8948-a446eaa82d58",
   "metadata": {},
   "outputs": [
    {
     "data": {
      "text/plain": [
       "[<matplotlib.lines.Line2D at 0x264b7c2f990>]"
      ]
     },
     "execution_count": 59,
     "metadata": {},
     "output_type": "execute_result"
    },
    {
     "data": {
      "image/png": "[encoded data removed]",
      "text/plain": [
       "<Figure size 640x480 with 1 Axes>"
      ]
     },
     "metadata": {},
     "output_type": "display_data"
    }
   ],
   "source": [
    "plt.plot(tabla_curvas.iloc[200,:])"
   ]
  },
  {
   "cell_type": "code",
   "execution_count": 60,
   "id": "41f79b1d-f4ed-41ac-8bd5-281a09047832",
   "metadata": {},
   "outputs": [
    {
     "data": {
      "text/plain": [
       "[<matplotlib.lines.Line2D at 0x264b7ca21d0>]"
      ]
     },
     "execution_count": 60,
     "metadata": {},
     "output_type": "execute_result"
    },
    {
     "data": {
      "image/png": "[encoded data removed]",
      "text/plain": [
       "<Figure size 640x480 with 1 Axes>"
      ]
     },
     "metadata": {},
     "output_type": "display_data"
    }
   ],
   "source": [
    "curva_actual = tabla_curvas.iloc[-1,:]\n",
    "plt.plot(curva_actual)"
   ]
  },
  {
   "cell_type": "code",
   "execution_count": 61,
   "id": "fc52b023-79df-49a2-b4fe-0b95b574b83c",
   "metadata": {},
   "outputs": [
    {
     "data": {
      "text/plain": [
       "array([  0,  30,  60,  90, 120, 150, 180, 210, 240, 270, 300, 330, 360,\n",
       "       390, 420, 450, 480, 510, 540, 570, 600, 630, 660, 690, 720, 750,\n",
       "       780, 810, 840, 870, 900], dtype=int64)"
      ]
     },
     "execution_count": 61,
     "metadata": {},
     "output_type": "execute_result"
    }
   ],
   "source": [
    "tasa_actual = curva_actual.values\n",
    "plazos = curva_actual.index.values\n",
    "plazos"
   ]
  },
  {
   "cell_type": "code",
   "execution_count": 62,
   "id": "f92853f1-b126-46fc-9fa4-623516315da8",
   "metadata": {},
   "outputs": [],
   "source": [
    "curva_ql0 = ql.ZeroCurve(fecha_calc_ql+plazos,tasa_actual,ql.Thirty360(ql.Thirty360.BondBasis))\n",
    "curva_ql = ql.YieldTermStructureHandle(curva_ql0)"
   ]
  },
  {
   "cell_type": "code",
   "execution_count": 63,
   "id": "8a9a94e5-8b4f-4584-910f-80b62604f5f4",
   "metadata": {},
   "outputs": [],
   "source": [
    "estructura_plazos = ql.ZeroSpreadedTermStructure(\n",
    "        curva_ql,ql.QuoteHandle(ql.SimpleQuote(0)), ql.Compounded,\n",
    "        ql.Semiannual,dayCount)"
   ]
  },
  {
   "cell_type": "code",
   "execution_count": 64,
   "id": "08d593c9-653b-499b-947b-555cdf0df1dc",
   "metadata": {},
   "outputs": [],
   "source": [
    "pricing_engine = ql.DiscountingBondEngine(\n",
    "        ql.RelinkableYieldTermStructureHandle(estructura_plazos))"
   ]
  },
  {
   "cell_type": "code",
   "execution_count": 65,
   "id": "16b31862-4235-45c2-b25d-b77382b0a49e",
   "metadata": {},
   "outputs": [
    {
     "data": {
      "text/plain": [
       "99.76569998007841"
      ]
     },
     "execution_count": 65,
     "metadata": {},
     "output_type": "execute_result"
    }
   ],
   "source": [
    "bono.setPricingEngine(pricing_engine)\n",
    "bono.NPV()"
   ]
  },
  {
   "cell_type": "code",
   "execution_count": 66,
   "id": "59bafe05-9635-43ae-9746-da0b18a89a28",
   "metadata": {},
   "outputs": [],
   "source": [
    "def Precio(spread):\n",
    "    estructura_plazos = ql.ZeroSpreadedTermStructure(\n",
    "            curva_ql,ql.QuoteHandle(ql.SimpleQuote(spread)), ql.Compounded,\n",
    "            ql.Semiannual,dayCount)\n",
    "    pricing_engine = ql.DiscountingBondEngine(\n",
    "            ql.RelinkableYieldTermStructureHandle(estructura_plazos))\n",
    "    \n",
    "    bono.setPricingEngine(pricing_engine)\n",
    "    return bono.NPV()"
   ]
  },
  {
   "cell_type": "code",
   "execution_count": 69,
   "id": "99f9754e-9b86-4498-a834-a67e8645474e",
   "metadata": {},
   "outputs": [
    {
     "data": {
      "text/plain": [
       "101.473507036049"
      ]
     },
     "execution_count": 69,
     "metadata": {},
     "output_type": "execute_result"
    }
   ],
   "source": [
    "Precio(-0.01)"
   ]
  },
  {
   "cell_type": "code",
   "execution_count": 70,
   "id": "868d8313-55aa-451e-bcbe-0cb65c8f0bf7",
   "metadata": {},
   "outputs": [],
   "source": [
    "def ErrorPrecio(spread):\n",
    "    return precio-Precio(spread)"
   ]
  },
  {
   "cell_type": "code",
   "execution_count": 71,
   "id": "2430abf3-850a-4c65-8564-8ae1dfc63b63",
   "metadata": {},
   "outputs": [
    {
     "data": {
      "text/plain": [
       "2.6543000199215925"
      ]
     },
     "execution_count": 71,
     "metadata": {},
     "output_type": "execute_result"
    }
   ],
   "source": [
    "ErrorPrecio(0)"
   ]
  },
  {
   "cell_type": "code",
   "execution_count": 72,
   "id": "20204c04-9f9b-4e75-a59e-4ba94e1a3fe2",
   "metadata": {},
   "outputs": [],
   "source": [
    "from scipy.optimize import bisect"
   ]
  },
  {
   "cell_type": "code",
   "execution_count": 74,
   "id": "d69f40d3-a408-4d8b-bf7b-0cc215871e87",
   "metadata": {},
   "outputs": [
    {
     "data": {
      "text/plain": [
       "-0.015447051244336762"
      ]
     },
     "execution_count": 74,
     "metadata": {},
     "output_type": "execute_result"
    }
   ],
   "source": [
    "spread_estimado = bisect(ErrorPrecio,-1,1)\n",
    "spread_estimado"
   ]
  },
  {
   "cell_type": "code",
   "execution_count": 75,
   "id": "3fdeee29-6149-4ad0-b18e-517a198b71c1",
   "metadata": {},
   "outputs": [
    {
     "data": {
      "text/plain": [
       "102.42000000025038"
      ]
     },
     "execution_count": 75,
     "metadata": {},
     "output_type": "execute_result"
    }
   ],
   "source": [
    "Precio(spread_estimado)"
   ]
  },
  {
   "cell_type": "code",
   "execution_count": null,
   "id": "643797a2-18b5-4639-badd-ca2ac36f5973",
   "metadata": {},
   "outputs": [],
   "source": []
  },
  {
   "cell_type": "markdown",
   "id": "47f6257b-edc7-4909-ad4d-f1d340a82098",
   "metadata": {},
   "source": [
    "## Cálculo de valor en riesgo por método paramétrico"
   ]
  },
  {
   "cell_type": "markdown",
   "id": "6a5cfb35-6084-4b3d-a0dd-97646b915e0a",
   "metadata": {},
   "source": [
    "Aproximación por variaciones paralelas"
   ]
  },
  {
   "cell_type": "markdown",
   "id": "3698dbef-21cb-428b-9271-b429eaa0281b",
   "metadata": {},
   "source": [
    "$VaR = \\sigma \\times \\Phi^{-1}(q) \\times W = D P \\,\\sigma_r \\,z_q  W/100$"
   ]
  },
  {
   "cell_type": "code",
   "execution_count": 76,
   "id": "c1c4b2ee-5942-4a7b-b622-13842404fe53",
   "metadata": {},
   "outputs": [
    {
     "data": {
      "text/plain": [
       "1.7127967000390851"
      ]
     },
     "execution_count": 76,
     "metadata": {},
     "output_type": "execute_result"
    }
   ],
   "source": [
    "duracionMod"
   ]
  },
  {
   "cell_type": "code",
   "execution_count": 78,
   "id": "a9ad5acb-a127-4bdd-8335-f8057eee668a",
   "metadata": {},
   "outputs": [],
   "source": [
    "from scipy.stats import norm"
   ]
  },
  {
   "cell_type": "code",
   "execution_count": 102,
   "id": "e0f1b3be-e7f1-45d3-ab1e-5b6a693c9714",
   "metadata": {},
   "outputs": [
    {
     "data": {
      "text/plain": [
       "3.090232306167813"
      ]
     },
     "execution_count": 102,
     "metadata": {},
     "output_type": "execute_result"
    }
   ],
   "source": [
    "nivel_conf = 0.999\n",
    "zq = norm.ppf(nivel_conf)\n",
    "zq"
   ]
  },
  {
   "cell_type": "code",
   "execution_count": 103,
   "id": "0c093b60-514c-44ab-8d8e-6b25681831a3",
   "metadata": {},
   "outputs": [
    {
     "data": {
      "text/html": [
       "<div>\n",
       "<style scoped>\n",
       "    .dataframe tbody tr th:only-of-type {\n",
       "        vertical-align: middle;\n",
       "    }\n",
       "\n",
       "    .dataframe tbody tr th {\n",
       "        vertical-align: top;\n",
       "    }\n",
       "\n",
       "    .dataframe thead th {\n",
       "        text-align: right;\n",
       "    }\n",
       "</style>\n",
       "<table border=\"1\" class=\"dataframe\">\n",
       "  <thead>\n",
       "    <tr style=\"text-align: right;\">\n",
       "      <th>TERM</th>\n",
       "      <th>0</th>\n",
       "      <th>30</th>\n",
       "      <th>60</th>\n",
       "      <th>90</th>\n",
       "      <th>120</th>\n",
       "      <th>150</th>\n",
       "      <th>180</th>\n",
       "      <th>210</th>\n",
       "      <th>240</th>\n",
       "      <th>270</th>\n",
       "      <th>...</th>\n",
       "      <th>630</th>\n",
       "      <th>660</th>\n",
       "      <th>690</th>\n",
       "      <th>720</th>\n",
       "      <th>750</th>\n",
       "      <th>780</th>\n",
       "      <th>810</th>\n",
       "      <th>840</th>\n",
       "      <th>870</th>\n",
       "      <th>900</th>\n",
       "    </tr>\n",
       "    <tr>\n",
       "      <th>DATE</th>\n",
       "      <th></th>\n",
       "      <th></th>\n",
       "      <th></th>\n",
       "      <th></th>\n",
       "      <th></th>\n",
       "      <th></th>\n",
       "      <th></th>\n",
       "      <th></th>\n",
       "      <th></th>\n",
       "      <th></th>\n",
       "      <th></th>\n",
       "      <th></th>\n",
       "      <th></th>\n",
       "      <th></th>\n",
       "      <th></th>\n",
       "      <th></th>\n",
       "      <th></th>\n",
       "      <th></th>\n",
       "      <th></th>\n",
       "      <th></th>\n",
       "      <th></th>\n",
       "    </tr>\n",
       "  </thead>\n",
       "  <tbody>\n",
       "    <tr>\n",
       "      <th>2018-05-02</th>\n",
       "      <td>-0.008266</td>\n",
       "      <td>-0.008266</td>\n",
       "      <td>-0.007661</td>\n",
       "      <td>-0.007004</td>\n",
       "      <td>-0.006339</td>\n",
       "      <td>-0.005768</td>\n",
       "      <td>-0.005252</td>\n",
       "      <td>-0.004694</td>\n",
       "      <td>-0.004228</td>\n",
       "      <td>-0.003739</td>\n",
       "      <td>...</td>\n",
       "      <td>-0.000182</td>\n",
       "      <td>-0.000025</td>\n",
       "      <td>0.000131</td>\n",
       "      <td>0.000252</td>\n",
       "      <td>0.000373</td>\n",
       "      <td>0.000467</td>\n",
       "      <td>0.000564</td>\n",
       "      <td>0.000634</td>\n",
       "      <td>0.000700</td>\n",
       "      <td>0.000767</td>\n",
       "    </tr>\n",
       "    <tr>\n",
       "      <th>2018-05-03</th>\n",
       "      <td>-0.008375</td>\n",
       "      <td>-0.008375</td>\n",
       "      <td>-0.007759</td>\n",
       "      <td>-0.007047</td>\n",
       "      <td>-0.006474</td>\n",
       "      <td>-0.005836</td>\n",
       "      <td>-0.005312</td>\n",
       "      <td>-0.004746</td>\n",
       "      <td>-0.004273</td>\n",
       "      <td>-0.003778</td>\n",
       "      <td>...</td>\n",
       "      <td>-0.000180</td>\n",
       "      <td>-0.000022</td>\n",
       "      <td>0.000135</td>\n",
       "      <td>0.000257</td>\n",
       "      <td>0.000378</td>\n",
       "      <td>0.000474</td>\n",
       "      <td>0.000571</td>\n",
       "      <td>0.000641</td>\n",
       "      <td>0.000708</td>\n",
       "      <td>0.000774</td>\n",
       "    </tr>\n",
       "    <tr>\n",
       "      <th>2018-05-04</th>\n",
       "      <td>-0.007430</td>\n",
       "      <td>-0.007430</td>\n",
       "      <td>-0.006853</td>\n",
       "      <td>-0.006186</td>\n",
       "      <td>-0.005623</td>\n",
       "      <td>-0.005125</td>\n",
       "      <td>-0.004603</td>\n",
       "      <td>-0.004091</td>\n",
       "      <td>-0.003673</td>\n",
       "      <td>-0.003230</td>\n",
       "      <td>...</td>\n",
       "      <td>-0.000115</td>\n",
       "      <td>0.000019</td>\n",
       "      <td>0.000153</td>\n",
       "      <td>0.000254</td>\n",
       "      <td>0.000357</td>\n",
       "      <td>0.000436</td>\n",
       "      <td>0.000518</td>\n",
       "      <td>0.000576</td>\n",
       "      <td>0.000631</td>\n",
       "      <td>0.000687</td>\n",
       "    </tr>\n",
       "    <tr>\n",
       "      <th>2018-05-07</th>\n",
       "      <td>-0.007692</td>\n",
       "      <td>-0.007692</td>\n",
       "      <td>-0.007082</td>\n",
       "      <td>-0.006385</td>\n",
       "      <td>-0.005796</td>\n",
       "      <td>-0.005272</td>\n",
       "      <td>-0.004701</td>\n",
       "      <td>-0.004235</td>\n",
       "      <td>-0.003739</td>\n",
       "      <td>-0.003283</td>\n",
       "      <td>...</td>\n",
       "      <td>-0.000083</td>\n",
       "      <td>0.000053</td>\n",
       "      <td>0.000190</td>\n",
       "      <td>0.000292</td>\n",
       "      <td>0.000397</td>\n",
       "      <td>0.000477</td>\n",
       "      <td>0.000560</td>\n",
       "      <td>0.000618</td>\n",
       "      <td>0.000673</td>\n",
       "      <td>0.000729</td>\n",
       "    </tr>\n",
       "    <tr>\n",
       "      <th>2018-05-09</th>\n",
       "      <td>-0.021922</td>\n",
       "      <td>-0.021922</td>\n",
       "      <td>-0.019394</td>\n",
       "      <td>-0.017047</td>\n",
       "      <td>-0.014995</td>\n",
       "      <td>-0.013133</td>\n",
       "      <td>-0.011415</td>\n",
       "      <td>-0.009906</td>\n",
       "      <td>-0.008520</td>\n",
       "      <td>-0.007311</td>\n",
       "      <td>...</td>\n",
       "      <td>0.000151</td>\n",
       "      <td>0.000378</td>\n",
       "      <td>0.000590</td>\n",
       "      <td>0.000746</td>\n",
       "      <td>0.000889</td>\n",
       "      <td>0.000993</td>\n",
       "      <td>0.001090</td>\n",
       "      <td>0.001151</td>\n",
       "      <td>0.001202</td>\n",
       "      <td>0.001246</td>\n",
       "    </tr>\n",
       "  </tbody>\n",
       "</table>\n",
       "<p>5 rows × 31 columns</p>\n",
       "</div>"
      ],
      "text/plain": [
       "TERM             0         30        60        90        120       150  \\\n",
       "DATE                                                                     \n",
       "2018-05-02 -0.008266 -0.008266 -0.007661 -0.007004 -0.006339 -0.005768   \n",
       "2018-05-03 -0.008375 -0.008375 -0.007759 -0.007047 -0.006474 -0.005836   \n",
       "2018-05-04 -0.007430 -0.007430 -0.006853 -0.006186 -0.005623 -0.005125   \n",
       "2018-05-07 -0.007692 -0.007692 -0.007082 -0.006385 -0.005796 -0.005272   \n",
       "2018-05-09 -0.021922 -0.021922 -0.019394 -0.017047 -0.014995 -0.013133   \n",
       "\n",
       "TERM             180       210       240       270  ...       630       660  \\\n",
       "DATE                                                ...                       \n",
       "2018-05-02 -0.005252 -0.004694 -0.004228 -0.003739  ... -0.000182 -0.000025   \n",
       "2018-05-03 -0.005312 -0.004746 -0.004273 -0.003778  ... -0.000180 -0.000022   \n",
       "2018-05-04 -0.004603 -0.004091 -0.003673 -0.003230  ... -0.000115  0.000019   \n",
       "2018-05-07 -0.004701 -0.004235 -0.003739 -0.003283  ... -0.000083  0.000053   \n",
       "2018-05-09 -0.011415 -0.009906 -0.008520 -0.007311  ...  0.000151  0.000378   \n",
       "\n",
       "TERM             690       720       750       780       810       840  \\\n",
       "DATE                                                                     \n",
       "2018-05-02  0.000131  0.000252  0.000373  0.000467  0.000564  0.000634   \n",
       "2018-05-03  0.000135  0.000257  0.000378  0.000474  0.000571  0.000641   \n",
       "2018-05-04  0.000153  0.000254  0.000357  0.000436  0.000518  0.000576   \n",
       "2018-05-07  0.000190  0.000292  0.000397  0.000477  0.000560  0.000618   \n",
       "2018-05-09  0.000590  0.000746  0.000889  0.000993  0.001090  0.001151   \n",
       "\n",
       "TERM             870       900  \n",
       "DATE                            \n",
       "2018-05-02  0.000700  0.000767  \n",
       "2018-05-03  0.000708  0.000774  \n",
       "2018-05-04  0.000631  0.000687  \n",
       "2018-05-07  0.000673  0.000729  \n",
       "2018-05-09  0.001202  0.001246  \n",
       "\n",
       "[5 rows x 31 columns]"
      ]
     },
     "execution_count": 103,
     "metadata": {},
     "output_type": "execute_result"
    }
   ],
   "source": [
    "cambios_tasas = tabla_curvas.diff(20).iloc[20:]\n",
    "cambios_tasas.head()"
   ]
  },
  {
   "cell_type": "code",
   "execution_count": 104,
   "id": "7c891ec9-0ae4-4ad8-bea1-b777b4c81a1c",
   "metadata": {},
   "outputs": [
    {
     "data": {
      "text/plain": [
       "[<matplotlib.lines.Line2D at 0x264e398d950>]"
      ]
     },
     "execution_count": 104,
     "metadata": {},
     "output_type": "execute_result"
    },
    {
     "data": {
      "image/png": "[encoded data removed]",
      "text/plain": [
       "<Figure size 640x480 with 1 Axes>"
      ]
     },
     "metadata": {},
     "output_type": "display_data"
    }
   ],
   "source": [
    "sigma_plazo=cambios_tasas.std()\n",
    "plt.plot(sigma_plazo)"
   ]
  },
  {
   "cell_type": "code",
   "execution_count": 105,
   "id": "7b759c56-c0d6-4dde-90c0-a8fb0b1cfcf3",
   "metadata": {},
   "outputs": [
    {
     "data": {
      "text/plain": [
       "0.00227238543860929"
      ]
     },
     "execution_count": 105,
     "metadata": {},
     "output_type": "execute_result"
    }
   ],
   "source": [
    "vol=sigma_plazo[600]\n",
    "vol"
   ]
  },
  {
   "cell_type": "code",
   "execution_count": 106,
   "id": "1b1ccbb1-f605-48c6-a374-21a1d5b4e78f",
   "metadata": {},
   "outputs": [
    {
     "data": {
      "text/plain": [
       "0.012318666991503201"
      ]
     },
     "execution_count": 106,
     "metadata": {},
     "output_type": "execute_result"
    }
   ],
   "source": [
    "VaR = precio*duracionMod*zq*vol/100\n",
    "VaR"
   ]
  },
  {
   "cell_type": "code",
   "execution_count": 107,
   "id": "aefcdc66-0dfe-4d91-b2f7-1a849d36f1b2",
   "metadata": {},
   "outputs": [
    {
     "data": {
      "text/plain": [
       "1.7127967000390851"
      ]
     },
     "execution_count": 107,
     "metadata": {},
     "output_type": "execute_result"
    }
   ],
   "source": [
    "duracionMod"
   ]
  },
  {
   "cell_type": "code",
   "execution_count": null,
   "id": "9f559557-ce1a-46dd-86ec-9dbd4a60f2c7",
   "metadata": {},
   "outputs": [],
   "source": []
  }
 ],
 "metadata": {
  "kernelspec": {
   "display_name": "Python 3 (ipykernel)",
   "language": "python",
   "name": "python3"
  },
  "language_info": {
   "codemirror_mode": {
    "name": "ipython",
    "version": 3
   },
   "file_extension": ".py",
   "mimetype": "text/x-python",
   "name": "python",
   "nbconvert_exporter": "python",
   "pygments_lexer": "ipython3",
   "version": "3.11.3"
  }
 },
 "nbformat": 4,
 "nbformat_minor": 5
}
