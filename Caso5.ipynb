{
 "cells": [
  {
   "cell_type": "markdown",
   "metadata": {},
   "source": [
    "# Caso 5 - CA417\n",
    "\n",
    "## Jimena Chacón (B81999)"
   ]
  },
  {
   "cell_type": "code",
   "execution_count": 88,
   "metadata": {},
   "outputs": [
    {
     "name": "stdout",
     "output_type": "stream",
     "text": [
      "Requirement already satisfied: statsmodels in /usr/local/python/3.12.1/lib/python3.12/site-packages (0.14.4)\n",
      "Requirement already satisfied: numpy<3,>=1.22.3 in /home/codespace/.local/lib/python3.12/site-packages (from statsmodels) (2.1.1)\n",
      "Requirement already satisfied: scipy!=1.9.2,>=1.8 in /home/codespace/.local/lib/python3.12/site-packages (from statsmodels) (1.14.1)\n",
      "Requirement already satisfied: pandas!=2.1.0,>=1.4 in /home/codespace/.local/lib/python3.12/site-packages (from statsmodels) (2.2.3)\n",
      "Requirement already satisfied: patsy>=0.5.6 in /usr/local/python/3.12.1/lib/python3.12/site-packages (from statsmodels) (1.0.1)\n",
      "Requirement already satisfied: packaging>=21.3 in /home/codespace/.local/lib/python3.12/site-packages (from statsmodels) (24.1)\n",
      "Requirement already satisfied: python-dateutil>=2.8.2 in /home/codespace/.local/lib/python3.12/site-packages (from pandas!=2.1.0,>=1.4->statsmodels) (2.9.0.post0)\n",
      "Requirement already satisfied: pytz>=2020.1 in /home/codespace/.local/lib/python3.12/site-packages (from pandas!=2.1.0,>=1.4->statsmodels) (2024.2)\n",
      "Requirement already satisfied: tzdata>=2022.7 in /home/codespace/.local/lib/python3.12/site-packages (from pandas!=2.1.0,>=1.4->statsmodels) (2024.2)\n",
      "Requirement already satisfied: six>=1.5 in /home/codespace/.local/lib/python3.12/site-packages (from python-dateutil>=2.8.2->pandas!=2.1.0,>=1.4->statsmodels) (1.16.0)\n",
      "\n",
      "\u001b[1m[\u001b[0m\u001b[34;49mnotice\u001b[0m\u001b[1;39;49m]\u001b[0m\u001b[39;49m A new release of pip is available: \u001b[0m\u001b[31;49m24.2\u001b[0m\u001b[39;49m -> \u001b[0m\u001b[32;49m24.3.1\u001b[0m\n",
      "\u001b[1m[\u001b[0m\u001b[34;49mnotice\u001b[0m\u001b[1;39;49m]\u001b[0m\u001b[39;49m To update, run: \u001b[0m\u001b[32;49mpython -m pip install --upgrade pip\u001b[0m\n",
      "Note: you may need to restart the kernel to use updated packages.\n"
     ]
    }
   ],
   "source": [
    "pip install statsmodels"
   ]
  },
  {
   "cell_type": "code",
   "execution_count": 89,
   "metadata": {},
   "outputs": [
    {
     "name": "stderr",
     "output_type": "stream",
     "text": [
      "/tmp/ipykernel_2520/608771923.py:6: DtypeWarning: Columns (26) have mixed types. Specify dtype option on import or set low_memory=False.\n",
      "  dfData = pd.read_csv('train.csv')\n"
     ]
    }
   ],
   "source": [
    "import numpy as np\n",
    "import pandas as pd\n",
    "import matplotlib.pyplot as plt\n",
    "from sklearn.model_selection import train_test_split, KFold, cross_val_score \n",
    "\n",
    "dfData = pd.read_csv('train.csv')\n",
    "\n",
    "dfData1 = dfData[['ID','Age','Num_Bank_Accounts','Credit_Score','Num_Credit_Card','Num_of_Loan','Payment_Behaviour']].copy()"
   ]
  },
  {
   "cell_type": "code",
   "execution_count": 90,
   "metadata": {},
   "outputs": [
    {
     "data": {
      "text/plain": [
       "100000"
      ]
     },
     "execution_count": 90,
     "metadata": {},
     "output_type": "execute_result"
    }
   ],
   "source": [
    "len(dfData1)\n"
   ]
  },
  {
   "cell_type": "code",
   "execution_count": 91,
   "metadata": {},
   "outputs": [
    {
     "data": {
      "text/plain": [
       "ID                   object\n",
       "Age                  object\n",
       "Num_Bank_Accounts     int64\n",
       "Credit_Score         object\n",
       "Num_Credit_Card       int64\n",
       "Num_of_Loan          object\n",
       "Payment_Behaviour    object\n",
       "dtype: object"
      ]
     },
     "execution_count": 91,
     "metadata": {},
     "output_type": "execute_result"
    }
   ],
   "source": [
    "\n",
    "dfData1.dtypes"
   ]
  },
  {
   "cell_type": "code",
   "execution_count": 92,
   "metadata": {},
   "outputs": [
    {
     "data": {
      "text/plain": [
       "malo\n",
       "0    0.71002\n",
       "1    0.28998\n",
       "Name: proportion, dtype: float64"
      ]
     },
     "execution_count": 92,
     "metadata": {},
     "output_type": "execute_result"
    }
   ],
   "source": [
    "dfData1['malo'] = dfData1['Credit_Score'].map({'Good':0, 'Standard':0, 'Poor':1})\n",
    "dfData1['malo'].value_counts(normalize=True)"
   ]
  },
  {
   "cell_type": "code",
   "execution_count": 93,
   "metadata": {},
   "outputs": [],
   "source": [
    "#Variables dependientes\n",
    "\n",
    "dfData1 = dfData1.loc[(dfData1['Num_Bank_Accounts']>=0)&(dfData['Num_Bank_Accounts']<=10),:]\n",
    "dfData1['Edad'] = dfData1['Age'].str.replace('_','')\n",
    "dfData1['Edad'] = pd.to_numeric(dfData1['Edad'], errors='coerce')\n",
    "dfData1 = dfData1.loc[(dfData1['Edad']<=90) & (dfData1['Edad']>=18),:]\n",
    "dfData1['EdadCat'] = pd.cut(dfData1['Edad'], bins = 5)\n"
   ]
  },
  {
   "cell_type": "code",
   "execution_count": 94,
   "metadata": {},
   "outputs": [
    {
     "data": {
      "text/plain": [
       "Num_Credit_Card\n",
       "5       16622\n",
       "6       14962\n",
       "7       14926\n",
       "4       12967\n",
       "3       12256\n",
       "        ...  \n",
       "1013        1\n",
       "1405        1\n",
       "708         1\n",
       "62          1\n",
       "518         1\n",
       "Name: count, Length: 1131, dtype: int64"
      ]
     },
     "execution_count": 94,
     "metadata": {},
     "output_type": "execute_result"
    }
   ],
   "source": [
    "dfData1.Num_Credit_Card.value_counts()"
   ]
  },
  {
   "cell_type": "code",
   "execution_count": 95,
   "metadata": {},
   "outputs": [
    {
     "data": {
      "text/plain": [
       "Payment_Behaviour\n",
       "Low_spent_Small_value_payments      22832\n",
       "High_spent_Medium_value_payments    15861\n",
       "High_spent_Large_value_payments     12557\n",
       "Low_spent_Medium_value_payments     12510\n",
       "High_spent_Small_value_payments     10253\n",
       "Low_spent_Large_value_payments       9428\n",
       "!@9#%8                               6825\n",
       "Name: count, dtype: int64"
      ]
     },
     "execution_count": 95,
     "metadata": {},
     "output_type": "execute_result"
    }
   ],
   "source": [
    "dfData1.Payment_Behaviour.value_counts()"
   ]
  },
  {
   "cell_type": "code",
   "execution_count": 96,
   "metadata": {},
   "outputs": [
    {
     "data": {
      "text/plain": [
       "Num_of_Loan\n",
       "3       13204\n",
       "2       13110\n",
       "4       12823\n",
       "0        9799\n",
       "1        9556\n",
       "        ...  \n",
       "1307        1\n",
       "1196        1\n",
       "83          1\n",
       "1478        1\n",
       "968         1\n",
       "Name: count, Length: 396, dtype: int64"
      ]
     },
     "execution_count": 96,
     "metadata": {},
     "output_type": "execute_result"
    }
   ],
   "source": [
    "dfData1.Num_of_Loan.value_counts()"
   ]
  },
  {
   "cell_type": "code",
   "execution_count": 97,
   "metadata": {},
   "outputs": [],
   "source": [
    "dfData1['Payment_Behaviour'] = dfData1['Payment_Behaviour'].replace('!@9#%8', \"No especifica\")"
   ]
  },
  {
   "cell_type": "code",
   "execution_count": 98,
   "metadata": {},
   "outputs": [
    {
     "data": {
      "text/plain": [
       "Payment_Behaviour\n",
       "Low_spent_Small_value_payments      22832\n",
       "High_spent_Medium_value_payments    15861\n",
       "High_spent_Large_value_payments     12557\n",
       "Low_spent_Medium_value_payments     12510\n",
       "High_spent_Small_value_payments     10253\n",
       "Low_spent_Large_value_payments       9428\n",
       "No especifica                        6825\n",
       "Name: count, dtype: int64"
      ]
     },
     "execution_count": 98,
     "metadata": {},
     "output_type": "execute_result"
    }
   ],
   "source": [
    "dfData1.Payment_Behaviour.value_counts()"
   ]
  },
  {
   "cell_type": "code",
   "execution_count": 99,
   "metadata": {},
   "outputs": [
    {
     "data": {
      "text/plain": [
       "Num_of_Loan_Cat\n",
       "Mayor a 5    18109\n",
       "0            17642\n",
       "3            13204\n",
       "2            13110\n",
       "4            12823\n",
       "1             9556\n",
       "5             5822\n",
       "Name: count, dtype: int64"
      ]
     },
     "execution_count": 99,
     "metadata": {},
     "output_type": "execute_result"
    }
   ],
   "source": [
    "dfData1['Num_of_Loan'] = pd.to_numeric(dfData1['Num_of_Loan'],errors='coerce').fillna(0).astype(int)\n",
    "dfData1['Num_of_Loan_Cat'] = np.where(\n",
    "    dfData1['Num_of_Loan'] > 5, 'Mayor a 5',\n",
    "    np.where(dfData1['Num_of_Loan'] < 0, 0, dfData1['Num_of_Loan'])\n",
    ")\n",
    "dfData1.Num_of_Loan_Cat.value_counts()"
   ]
  },
  {
   "cell_type": "code",
   "execution_count": 100,
   "metadata": {},
   "outputs": [],
   "source": [
    "#Estratificación de los datos\n",
    "from sklearn.model_selection import train_test_split,KFold,cross_val_score\n",
    "df_train, df_test = train_test_split(dfData1,test_size=0.25, random_state=42)"
   ]
  },
  {
   "cell_type": "code",
   "execution_count": 101,
   "metadata": {},
   "outputs": [
    {
     "data": {
      "text/html": [
       "<div>\n",
       "<style scoped>\n",
       "    .dataframe tbody tr th:only-of-type {\n",
       "        vertical-align: middle;\n",
       "    }\n",
       "\n",
       "    .dataframe tbody tr th {\n",
       "        vertical-align: top;\n",
       "    }\n",
       "\n",
       "    .dataframe thead th {\n",
       "        text-align: right;\n",
       "    }\n",
       "</style>\n",
       "<table border=\"1\" class=\"dataframe\">\n",
       "  <thead>\n",
       "    <tr style=\"text-align: right;\">\n",
       "      <th></th>\n",
       "      <th>malo</th>\n",
       "      <th>total</th>\n",
       "      <th>probMalo</th>\n",
       "      <th>bueno</th>\n",
       "      <th>distBad</th>\n",
       "      <th>distGood</th>\n",
       "      <th>woe_NumCuentas</th>\n",
       "    </tr>\n",
       "    <tr>\n",
       "      <th>Num_Bank_Accounts</th>\n",
       "      <th></th>\n",
       "      <th></th>\n",
       "      <th></th>\n",
       "      <th></th>\n",
       "      <th></th>\n",
       "      <th></th>\n",
       "      <th></th>\n",
       "    </tr>\n",
       "  </thead>\n",
       "  <tbody>\n",
       "    <tr>\n",
       "      <th>0</th>\n",
       "      <td>546</td>\n",
       "      <td>3154</td>\n",
       "      <td>0.173114</td>\n",
       "      <td>2608</td>\n",
       "      <td>0.028787</td>\n",
       "      <td>0.053517</td>\n",
       "      <td>-0.620085</td>\n",
       "    </tr>\n",
       "    <tr>\n",
       "      <th>1</th>\n",
       "      <td>525</td>\n",
       "      <td>3302</td>\n",
       "      <td>0.158995</td>\n",
       "      <td>2777</td>\n",
       "      <td>0.027680</td>\n",
       "      <td>0.056985</td>\n",
       "      <td>-0.722093</td>\n",
       "    </tr>\n",
       "    <tr>\n",
       "      <th>2</th>\n",
       "      <td>472</td>\n",
       "      <td>3137</td>\n",
       "      <td>0.150462</td>\n",
       "      <td>2665</td>\n",
       "      <td>0.024885</td>\n",
       "      <td>0.054687</td>\n",
       "      <td>-0.787345</td>\n",
       "    </tr>\n",
       "    <tr>\n",
       "      <th>3</th>\n",
       "      <td>1325</td>\n",
       "      <td>8385</td>\n",
       "      <td>0.158020</td>\n",
       "      <td>7060</td>\n",
       "      <td>0.069858</td>\n",
       "      <td>0.144874</td>\n",
       "      <td>-0.729397</td>\n",
       "    </tr>\n",
       "    <tr>\n",
       "      <th>4</th>\n",
       "      <td>1330</td>\n",
       "      <td>8508</td>\n",
       "      <td>0.156323</td>\n",
       "      <td>7178</td>\n",
       "      <td>0.070122</td>\n",
       "      <td>0.147295</td>\n",
       "      <td>-0.742207</td>\n",
       "    </tr>\n",
       "    <tr>\n",
       "      <th>5</th>\n",
       "      <td>1298</td>\n",
       "      <td>8397</td>\n",
       "      <td>0.154579</td>\n",
       "      <td>7099</td>\n",
       "      <td>0.068435</td>\n",
       "      <td>0.145674</td>\n",
       "      <td>-0.755494</td>\n",
       "    </tr>\n",
       "    <tr>\n",
       "      <th>6</th>\n",
       "      <td>3025</td>\n",
       "      <td>8677</td>\n",
       "      <td>0.348623</td>\n",
       "      <td>5652</td>\n",
       "      <td>0.159488</td>\n",
       "      <td>0.115981</td>\n",
       "      <td>0.318537</td>\n",
       "    </tr>\n",
       "    <tr>\n",
       "      <th>7</th>\n",
       "      <td>3125</td>\n",
       "      <td>8574</td>\n",
       "      <td>0.364474</td>\n",
       "      <td>5449</td>\n",
       "      <td>0.164760</td>\n",
       "      <td>0.111816</td>\n",
       "      <td>0.387637</td>\n",
       "    </tr>\n",
       "    <tr>\n",
       "      <th>8</th>\n",
       "      <td>2959</td>\n",
       "      <td>8534</td>\n",
       "      <td>0.346731</td>\n",
       "      <td>5575</td>\n",
       "      <td>0.156008</td>\n",
       "      <td>0.114401</td>\n",
       "      <td>0.310194</td>\n",
       "    </tr>\n",
       "    <tr>\n",
       "      <th>9</th>\n",
       "      <td>2209</td>\n",
       "      <td>3517</td>\n",
       "      <td>0.628092</td>\n",
       "      <td>1308</td>\n",
       "      <td>0.116465</td>\n",
       "      <td>0.026841</td>\n",
       "      <td>1.467676</td>\n",
       "    </tr>\n",
       "    <tr>\n",
       "      <th>10</th>\n",
       "      <td>2153</td>\n",
       "      <td>3514</td>\n",
       "      <td>0.612692</td>\n",
       "      <td>1361</td>\n",
       "      <td>0.113513</td>\n",
       "      <td>0.027928</td>\n",
       "      <td>1.402278</td>\n",
       "    </tr>\n",
       "  </tbody>\n",
       "</table>\n",
       "</div>"
      ],
      "text/plain": [
       "                   malo  total  probMalo  bueno   distBad  distGood  \\\n",
       "Num_Bank_Accounts                                                     \n",
       "0                   546   3154  0.173114   2608  0.028787  0.053517   \n",
       "1                   525   3302  0.158995   2777  0.027680  0.056985   \n",
       "2                   472   3137  0.150462   2665  0.024885  0.054687   \n",
       "3                  1325   8385  0.158020   7060  0.069858  0.144874   \n",
       "4                  1330   8508  0.156323   7178  0.070122  0.147295   \n",
       "5                  1298   8397  0.154579   7099  0.068435  0.145674   \n",
       "6                  3025   8677  0.348623   5652  0.159488  0.115981   \n",
       "7                  3125   8574  0.364474   5449  0.164760  0.111816   \n",
       "8                  2959   8534  0.346731   5575  0.156008  0.114401   \n",
       "9                  2209   3517  0.628092   1308  0.116465  0.026841   \n",
       "10                 2153   3514  0.612692   1361  0.113513  0.027928   \n",
       "\n",
       "                   woe_NumCuentas  \n",
       "Num_Bank_Accounts                  \n",
       "0                       -0.620085  \n",
       "1                       -0.722093  \n",
       "2                       -0.787345  \n",
       "3                       -0.729397  \n",
       "4                       -0.742207  \n",
       "5                       -0.755494  \n",
       "6                        0.318537  \n",
       "7                        0.387637  \n",
       "8                        0.310194  \n",
       "9                        1.467676  \n",
       "10                       1.402278  "
      ]
     },
     "execution_count": 101,
     "metadata": {},
     "output_type": "execute_result"
    }
   ],
   "source": [
    "#Cálculo de woes\n",
    "\n",
    "#Numero de cuentas\n",
    "\n",
    "dfTablaWoeNumCuentas = df_train[['Num_Bank_Accounts','malo']].groupby('Num_Bank_Accounts').agg({'malo':['sum','count']})\n",
    "dfTablaWoeNumCuentas.columns = ['malo','total']\n",
    "dfTablaWoeNumCuentas['probMalo'] = dfTablaWoeNumCuentas['malo'] / dfTablaWoeNumCuentas['total']\n",
    "dfTablaWoeNumCuentas['bueno'] = dfTablaWoeNumCuentas['total'] - dfTablaWoeNumCuentas['malo']\n",
    "dfTablaWoeNumCuentas['distBad'] = dfTablaWoeNumCuentas['malo'] / dfTablaWoeNumCuentas['malo'].sum()\n",
    "dfTablaWoeNumCuentas['distGood'] = dfTablaWoeNumCuentas['bueno'] / dfTablaWoeNumCuentas['bueno'].sum()\n",
    "dfTablaWoeNumCuentas['woe_NumCuentas'] = np.log(dfTablaWoeNumCuentas['distBad'] / dfTablaWoeNumCuentas['distGood'])\n",
    "dfTablaWoeNumCuentas"
   ]
  },
  {
   "cell_type": "code",
   "execution_count": 102,
   "metadata": {},
   "outputs": [
    {
     "data": {
      "text/plain": [
       "np.float64(0.5291507313058654)"
      ]
     },
     "execution_count": 102,
     "metadata": {},
     "output_type": "execute_result"
    }
   ],
   "source": [
    "information_valueNC = (dfTablaWoeNumCuentas['woe_NumCuentas'] * (dfTablaWoeNumCuentas['distBad'] - dfTablaWoeNumCuentas['distGood'] )).sum()\n",
    "information_valueNC"
   ]
  },
  {
   "cell_type": "code",
   "execution_count": 103,
   "metadata": {},
   "outputs": [
    {
     "data": {
      "text/html": [
       "<div>\n",
       "<style scoped>\n",
       "    .dataframe tbody tr th:only-of-type {\n",
       "        vertical-align: middle;\n",
       "    }\n",
       "\n",
       "    .dataframe tbody tr th {\n",
       "        vertical-align: top;\n",
       "    }\n",
       "\n",
       "    .dataframe thead th {\n",
       "        text-align: right;\n",
       "    }\n",
       "</style>\n",
       "<table border=\"1\" class=\"dataframe\">\n",
       "  <thead>\n",
       "    <tr style=\"text-align: right;\">\n",
       "      <th></th>\n",
       "      <th>malo</th>\n",
       "      <th>bueno</th>\n",
       "    </tr>\n",
       "    <tr>\n",
       "      <th>Num_Bank_Accounts</th>\n",
       "      <th></th>\n",
       "      <th></th>\n",
       "    </tr>\n",
       "  </thead>\n",
       "  <tbody>\n",
       "    <tr>\n",
       "      <th>0</th>\n",
       "      <td>546</td>\n",
       "      <td>2608</td>\n",
       "    </tr>\n",
       "    <tr>\n",
       "      <th>1</th>\n",
       "      <td>525</td>\n",
       "      <td>2777</td>\n",
       "    </tr>\n",
       "    <tr>\n",
       "      <th>2</th>\n",
       "      <td>472</td>\n",
       "      <td>2665</td>\n",
       "    </tr>\n",
       "    <tr>\n",
       "      <th>3</th>\n",
       "      <td>1325</td>\n",
       "      <td>7060</td>\n",
       "    </tr>\n",
       "    <tr>\n",
       "      <th>4</th>\n",
       "      <td>1330</td>\n",
       "      <td>7178</td>\n",
       "    </tr>\n",
       "    <tr>\n",
       "      <th>5</th>\n",
       "      <td>1298</td>\n",
       "      <td>7099</td>\n",
       "    </tr>\n",
       "    <tr>\n",
       "      <th>6</th>\n",
       "      <td>3025</td>\n",
       "      <td>5652</td>\n",
       "    </tr>\n",
       "    <tr>\n",
       "      <th>7</th>\n",
       "      <td>3125</td>\n",
       "      <td>5449</td>\n",
       "    </tr>\n",
       "    <tr>\n",
       "      <th>8</th>\n",
       "      <td>2959</td>\n",
       "      <td>5575</td>\n",
       "    </tr>\n",
       "    <tr>\n",
       "      <th>9</th>\n",
       "      <td>2209</td>\n",
       "      <td>1308</td>\n",
       "    </tr>\n",
       "    <tr>\n",
       "      <th>10</th>\n",
       "      <td>2153</td>\n",
       "      <td>1361</td>\n",
       "    </tr>\n",
       "  </tbody>\n",
       "</table>\n",
       "</div>"
      ],
      "text/plain": [
       "                   malo  bueno\n",
       "Num_Bank_Accounts             \n",
       "0                   546   2608\n",
       "1                   525   2777\n",
       "2                   472   2665\n",
       "3                  1325   7060\n",
       "4                  1330   7178\n",
       "5                  1298   7099\n",
       "6                  3025   5652\n",
       "7                  3125   5449\n",
       "8                  2959   5575\n",
       "9                  2209   1308\n",
       "10                 2153   1361"
      ]
     },
     "execution_count": 103,
     "metadata": {},
     "output_type": "execute_result"
    }
   ],
   "source": [
    "contingenciaNC = dfTablaWoeNumCuentas[['malo','bueno']]\n",
    "contingenciaNC"
   ]
  },
  {
   "cell_type": "code",
   "execution_count": 104,
   "metadata": {},
   "outputs": [
    {
     "data": {
      "text/plain": [
       "Chi2ContingencyResult(statistic=np.float64(7334.355633873566), pvalue=np.float64(0.0), dof=10, expected_freq=array([[ 883.64551914, 2270.35448086],\n",
       "       [ 925.11017888, 2376.88982112],\n",
       "       [ 878.8826866 , 2258.1173134 ],\n",
       "       [2349.19710779, 6035.80289221],\n",
       "       [2383.65760203, 6124.34239797],\n",
       "       [2352.55910722, 6044.44089278],\n",
       "       [2431.00576079, 6245.99423921],\n",
       "       [2402.14859895, 6171.85140105],\n",
       "       [2390.94193415, 6143.05806585],\n",
       "       [ 985.34600216, 2531.65399784],\n",
       "       [ 984.5055023 , 2529.4944977 ]]))"
      ]
     },
     "execution_count": 104,
     "metadata": {},
     "output_type": "execute_result"
    }
   ],
   "source": [
    "from scipy.stats import chi2_contingency\n",
    "resNC = chi2_contingency(contingenciaNC)\n",
    "resNC"
   ]
  },
  {
   "cell_type": "code",
   "execution_count": 105,
   "metadata": {},
   "outputs": [],
   "source": [
    "dfTablaWoeNumCuentas.reset_index(inplace=True)"
   ]
  },
  {
   "cell_type": "code",
   "execution_count": 106,
   "metadata": {},
   "outputs": [],
   "source": [
    "df_train = pd.merge(df_train,dfTablaWoeNumCuentas[['Num_Bank_Accounts','woe_NumCuentas']], on='Num_Bank_Accounts')\n",
    "df_test = pd.merge(df_test,dfTablaWoeNumCuentas[['Num_Bank_Accounts','woe_NumCuentas']],on='Num_Bank_Accounts')"
   ]
  },
  {
   "cell_type": "code",
   "execution_count": 107,
   "metadata": {},
   "outputs": [
    {
     "name": "stderr",
     "output_type": "stream",
     "text": [
      "/tmp/ipykernel_2520/2658801363.py:1: FutureWarning: The default of observed=False is deprecated and will be changed to True in a future version of pandas. Pass observed=False to retain current behavior or observed=True to adopt the future default and silence this warning.\n",
      "  dfTablaWoeEdad = df_train[['EdadCat','malo']].groupby('EdadCat').agg({'malo':['sum','count']})\n"
     ]
    },
    {
     "data": {
      "text/html": [
       "<div>\n",
       "<style scoped>\n",
       "    .dataframe tbody tr th:only-of-type {\n",
       "        vertical-align: middle;\n",
       "    }\n",
       "\n",
       "    .dataframe tbody tr th {\n",
       "        vertical-align: top;\n",
       "    }\n",
       "\n",
       "    .dataframe thead th {\n",
       "        text-align: right;\n",
       "    }\n",
       "</style>\n",
       "<table border=\"1\" class=\"dataframe\">\n",
       "  <thead>\n",
       "    <tr style=\"text-align: right;\">\n",
       "      <th></th>\n",
       "      <th>malo</th>\n",
       "      <th>total</th>\n",
       "      <th>probMalo</th>\n",
       "      <th>bueno</th>\n",
       "      <th>distBad</th>\n",
       "      <th>distGood</th>\n",
       "      <th>woe_Edad</th>\n",
       "    </tr>\n",
       "    <tr>\n",
       "      <th>EdadCat</th>\n",
       "      <th></th>\n",
       "      <th></th>\n",
       "      <th></th>\n",
       "      <th></th>\n",
       "      <th></th>\n",
       "      <th></th>\n",
       "      <th></th>\n",
       "    </tr>\n",
       "  </thead>\n",
       "  <tbody>\n",
       "    <tr>\n",
       "      <th>(17.962, 25.6]</th>\n",
       "      <td>4950</td>\n",
       "      <td>16121</td>\n",
       "      <td>0.307053</td>\n",
       "      <td>11171</td>\n",
       "      <td>0.260980</td>\n",
       "      <td>0.229233</td>\n",
       "      <td>0.129702</td>\n",
       "    </tr>\n",
       "    <tr>\n",
       "      <th>(25.6, 33.2]</th>\n",
       "      <td>5152</td>\n",
       "      <td>16624</td>\n",
       "      <td>0.309913</td>\n",
       "      <td>11472</td>\n",
       "      <td>0.271630</td>\n",
       "      <td>0.235410</td>\n",
       "      <td>0.143111</td>\n",
       "    </tr>\n",
       "    <tr>\n",
       "      <th>(33.2, 40.8]</th>\n",
       "      <td>4523</td>\n",
       "      <td>14574</td>\n",
       "      <td>0.310347</td>\n",
       "      <td>10051</td>\n",
       "      <td>0.238467</td>\n",
       "      <td>0.206251</td>\n",
       "      <td>0.145139</td>\n",
       "    </tr>\n",
       "    <tr>\n",
       "      <th>(40.8, 48.4]</th>\n",
       "      <td>3545</td>\n",
       "      <td>13217</td>\n",
       "      <td>0.268215</td>\n",
       "      <td>9672</td>\n",
       "      <td>0.186904</td>\n",
       "      <td>0.198473</td>\n",
       "      <td>-0.060062</td>\n",
       "    </tr>\n",
       "    <tr>\n",
       "      <th>(48.4, 56.0]</th>\n",
       "      <td>797</td>\n",
       "      <td>7163</td>\n",
       "      <td>0.111266</td>\n",
       "      <td>6366</td>\n",
       "      <td>0.042020</td>\n",
       "      <td>0.130633</td>\n",
       "      <td>-1.134237</td>\n",
       "    </tr>\n",
       "  </tbody>\n",
       "</table>\n",
       "</div>"
      ],
      "text/plain": [
       "                malo  total  probMalo  bueno   distBad  distGood  woe_Edad\n",
       "EdadCat                                                                   \n",
       "(17.962, 25.6]  4950  16121  0.307053  11171  0.260980  0.229233  0.129702\n",
       "(25.6, 33.2]    5152  16624  0.309913  11472  0.271630  0.235410  0.143111\n",
       "(33.2, 40.8]    4523  14574  0.310347  10051  0.238467  0.206251  0.145139\n",
       "(40.8, 48.4]    3545  13217  0.268215   9672  0.186904  0.198473 -0.060062\n",
       "(48.4, 56.0]     797   7163  0.111266   6366  0.042020  0.130633 -1.134237"
      ]
     },
     "execution_count": 107,
     "metadata": {},
     "output_type": "execute_result"
    }
   ],
   "source": [
    "dfTablaWoeEdad = df_train[['EdadCat','malo']].groupby('EdadCat').agg({'malo':['sum','count']})\n",
    "dfTablaWoeEdad.columns = ['malo','total']\n",
    "dfTablaWoeEdad['probMalo'] = dfTablaWoeEdad['malo'] / dfTablaWoeEdad['total']\n",
    "dfTablaWoeEdad['bueno'] = dfTablaWoeEdad['total'] - dfTablaWoeEdad['malo']\n",
    "dfTablaWoeEdad['distBad'] = dfTablaWoeEdad['malo'] / dfTablaWoeEdad['malo'].sum()\n",
    "dfTablaWoeEdad['distGood'] = dfTablaWoeEdad['bueno'] / dfTablaWoeEdad['bueno'].sum()\n",
    "dfTablaWoeEdad['woe_Edad'] = np.log(dfTablaWoeEdad['distBad'] / dfTablaWoeEdad['distGood'])\n",
    "dfTablaWoeEdad"
   ]
  },
  {
   "cell_type": "code",
   "execution_count": 108,
   "metadata": {},
   "outputs": [
    {
     "data": {
      "text/html": [
       "<div>\n",
       "<style scoped>\n",
       "    .dataframe tbody tr th:only-of-type {\n",
       "        vertical-align: middle;\n",
       "    }\n",
       "\n",
       "    .dataframe tbody tr th {\n",
       "        vertical-align: top;\n",
       "    }\n",
       "\n",
       "    .dataframe thead th {\n",
       "        text-align: right;\n",
       "    }\n",
       "</style>\n",
       "<table border=\"1\" class=\"dataframe\">\n",
       "  <thead>\n",
       "    <tr style=\"text-align: right;\">\n",
       "      <th></th>\n",
       "      <th>malo</th>\n",
       "      <th>bueno</th>\n",
       "    </tr>\n",
       "    <tr>\n",
       "      <th>EdadCat</th>\n",
       "      <th></th>\n",
       "      <th></th>\n",
       "    </tr>\n",
       "  </thead>\n",
       "  <tbody>\n",
       "    <tr>\n",
       "      <th>(17.962, 25.6]</th>\n",
       "      <td>4950</td>\n",
       "      <td>11171</td>\n",
       "    </tr>\n",
       "    <tr>\n",
       "      <th>(25.6, 33.2]</th>\n",
       "      <td>5152</td>\n",
       "      <td>11472</td>\n",
       "    </tr>\n",
       "    <tr>\n",
       "      <th>(33.2, 40.8]</th>\n",
       "      <td>4523</td>\n",
       "      <td>10051</td>\n",
       "    </tr>\n",
       "    <tr>\n",
       "      <th>(40.8, 48.4]</th>\n",
       "      <td>3545</td>\n",
       "      <td>9672</td>\n",
       "    </tr>\n",
       "    <tr>\n",
       "      <th>(48.4, 56.0]</th>\n",
       "      <td>797</td>\n",
       "      <td>6366</td>\n",
       "    </tr>\n",
       "  </tbody>\n",
       "</table>\n",
       "</div>"
      ],
      "text/plain": [
       "                malo  bueno\n",
       "EdadCat                    \n",
       "(17.962, 25.6]  4950  11171\n",
       "(25.6, 33.2]    5152  11472\n",
       "(33.2, 40.8]    4523  10051\n",
       "(40.8, 48.4]    3545   9672\n",
       "(48.4, 56.0]     797   6366"
      ]
     },
     "execution_count": 108,
     "metadata": {},
     "output_type": "execute_result"
    }
   ],
   "source": [
    "contingenciaEdad = dfTablaWoeEdad[['malo','bueno']]\n",
    "contingenciaEdad"
   ]
  },
  {
   "cell_type": "code",
   "execution_count": 109,
   "metadata": {},
   "outputs": [
    {
     "data": {
      "text/plain": [
       "Chi2ContingencyResult(statistic=np.float64(1219.1387018517853), pvalue=np.float64(1.1301329973592117e-262), dof=4, expected_freq=array([[ 4516.56607926, 11604.43392074],\n",
       "       [ 4657.48988907, 11966.51011093],\n",
       "       [ 4083.14831829, 10490.85168171],\n",
       "       [ 3702.9622151 ,  9514.0377849 ],\n",
       "       [ 2006.83349828,  5156.16650172]]))"
      ]
     },
     "execution_count": 109,
     "metadata": {},
     "output_type": "execute_result"
    }
   ],
   "source": [
    "dfTablaWoeEdad.reset_index(inplace=True)\n",
    "\n",
    "resEdad = chi2_contingency(contingenciaEdad)\n",
    "resEdad"
   ]
  },
  {
   "cell_type": "code",
   "execution_count": 110,
   "metadata": {},
   "outputs": [],
   "source": [
    "df_train = pd.merge(df_train,dfTablaWoeEdad[['EdadCat','woe_Edad']],on='EdadCat')\n",
    "df_train.reset_index(inplace=True)\n",
    "df_test = pd.merge(df_test,dfTablaWoeEdad[['EdadCat','woe_Edad']],on='EdadCat')\n",
    "df_test.reset_index(inplace=True)"
   ]
  },
  {
   "cell_type": "code",
   "execution_count": 111,
   "metadata": {},
   "outputs": [
    {
     "name": "stderr",
     "output_type": "stream",
     "text": [
      "/home/codespace/.local/lib/python3.12/site-packages/pandas/core/arraylike.py:399: RuntimeWarning: divide by zero encountered in log\n",
      "  result = getattr(ufunc, method)(*inputs, **kwargs)\n"
     ]
    },
    {
     "data": {
      "text/html": [
       "<div>\n",
       "<style scoped>\n",
       "    .dataframe tbody tr th:only-of-type {\n",
       "        vertical-align: middle;\n",
       "    }\n",
       "\n",
       "    .dataframe tbody tr th {\n",
       "        vertical-align: top;\n",
       "    }\n",
       "\n",
       "    .dataframe thead th {\n",
       "        text-align: right;\n",
       "    }\n",
       "</style>\n",
       "<table border=\"1\" class=\"dataframe\">\n",
       "  <thead>\n",
       "    <tr style=\"text-align: right;\">\n",
       "      <th></th>\n",
       "      <th>malo</th>\n",
       "      <th>total</th>\n",
       "      <th>probMalo</th>\n",
       "      <th>bueno</th>\n",
       "      <th>distBad</th>\n",
       "      <th>distGood</th>\n",
       "      <th>woe_CC</th>\n",
       "    </tr>\n",
       "    <tr>\n",
       "      <th>Num_Credit_Card</th>\n",
       "      <th></th>\n",
       "      <th></th>\n",
       "      <th></th>\n",
       "      <th></th>\n",
       "      <th></th>\n",
       "      <th></th>\n",
       "      <th></th>\n",
       "    </tr>\n",
       "  </thead>\n",
       "  <tbody>\n",
       "    <tr>\n",
       "      <th>0</th>\n",
       "      <td>0</td>\n",
       "      <td>10</td>\n",
       "      <td>0.000000</td>\n",
       "      <td>10</td>\n",
       "      <td>0.000000</td>\n",
       "      <td>0.000205</td>\n",
       "      <td>-inf</td>\n",
       "    </tr>\n",
       "    <tr>\n",
       "      <th>1</th>\n",
       "      <td>1</td>\n",
       "      <td>1498</td>\n",
       "      <td>0.000668</td>\n",
       "      <td>1497</td>\n",
       "      <td>0.000053</td>\n",
       "      <td>0.030719</td>\n",
       "      <td>-6.367583</td>\n",
       "    </tr>\n",
       "    <tr>\n",
       "      <th>2</th>\n",
       "      <td>9</td>\n",
       "      <td>1554</td>\n",
       "      <td>0.005792</td>\n",
       "      <td>1545</td>\n",
       "      <td>0.000475</td>\n",
       "      <td>0.031704</td>\n",
       "      <td>-4.201919</td>\n",
       "    </tr>\n",
       "    <tr>\n",
       "      <th>3</th>\n",
       "      <td>1280</td>\n",
       "      <td>9262</td>\n",
       "      <td>0.138199</td>\n",
       "      <td>7982</td>\n",
       "      <td>0.067486</td>\n",
       "      <td>0.163794</td>\n",
       "      <td>-0.886694</td>\n",
       "    </tr>\n",
       "    <tr>\n",
       "      <th>4</th>\n",
       "      <td>1316</td>\n",
       "      <td>9612</td>\n",
       "      <td>0.136912</td>\n",
       "      <td>8296</td>\n",
       "      <td>0.069384</td>\n",
       "      <td>0.170237</td>\n",
       "      <td>-0.897541</td>\n",
       "    </tr>\n",
       "    <tr>\n",
       "      <th>...</th>\n",
       "      <td>...</td>\n",
       "      <td>...</td>\n",
       "      <td>...</td>\n",
       "      <td>...</td>\n",
       "      <td>...</td>\n",
       "      <td>...</td>\n",
       "      <td>...</td>\n",
       "    </tr>\n",
       "    <tr>\n",
       "      <th>1495</th>\n",
       "      <td>0</td>\n",
       "      <td>1</td>\n",
       "      <td>0.000000</td>\n",
       "      <td>1</td>\n",
       "      <td>0.000000</td>\n",
       "      <td>0.000021</td>\n",
       "      <td>-inf</td>\n",
       "    </tr>\n",
       "    <tr>\n",
       "      <th>1496</th>\n",
       "      <td>0</td>\n",
       "      <td>1</td>\n",
       "      <td>0.000000</td>\n",
       "      <td>1</td>\n",
       "      <td>0.000000</td>\n",
       "      <td>0.000021</td>\n",
       "      <td>-inf</td>\n",
       "    </tr>\n",
       "    <tr>\n",
       "      <th>1497</th>\n",
       "      <td>0</td>\n",
       "      <td>2</td>\n",
       "      <td>0.000000</td>\n",
       "      <td>2</td>\n",
       "      <td>0.000000</td>\n",
       "      <td>0.000041</td>\n",
       "      <td>-inf</td>\n",
       "    </tr>\n",
       "    <tr>\n",
       "      <th>1498</th>\n",
       "      <td>0</td>\n",
       "      <td>3</td>\n",
       "      <td>0.000000</td>\n",
       "      <td>3</td>\n",
       "      <td>0.000000</td>\n",
       "      <td>0.000062</td>\n",
       "      <td>-inf</td>\n",
       "    </tr>\n",
       "    <tr>\n",
       "      <th>1499</th>\n",
       "      <td>1</td>\n",
       "      <td>1</td>\n",
       "      <td>1.000000</td>\n",
       "      <td>0</td>\n",
       "      <td>0.000053</td>\n",
       "      <td>0.000000</td>\n",
       "      <td>inf</td>\n",
       "    </tr>\n",
       "  </tbody>\n",
       "</table>\n",
       "<p>970 rows × 7 columns</p>\n",
       "</div>"
      ],
      "text/plain": [
       "                 malo  total  probMalo  bueno   distBad  distGood    woe_CC\n",
       "Num_Credit_Card                                                            \n",
       "0                   0     10  0.000000     10  0.000000  0.000205      -inf\n",
       "1                   1   1498  0.000668   1497  0.000053  0.030719 -6.367583\n",
       "2                   9   1554  0.005792   1545  0.000475  0.031704 -4.201919\n",
       "3                1280   9262  0.138199   7982  0.067486  0.163794 -0.886694\n",
       "4                1316   9612  0.136912   8296  0.069384  0.170237 -0.897541\n",
       "...               ...    ...       ...    ...       ...       ...       ...\n",
       "1495                0      1  0.000000      1  0.000000  0.000021      -inf\n",
       "1496                0      1  0.000000      1  0.000000  0.000021      -inf\n",
       "1497                0      2  0.000000      2  0.000000  0.000041      -inf\n",
       "1498                0      3  0.000000      3  0.000000  0.000062      -inf\n",
       "1499                1      1  1.000000      0  0.000053  0.000000       inf\n",
       "\n",
       "[970 rows x 7 columns]"
      ]
     },
     "execution_count": 111,
     "metadata": {},
     "output_type": "execute_result"
    }
   ],
   "source": [
    "dfTablaWoeCC = df_train[['Num_Credit_Card','malo']].groupby('Num_Credit_Card').agg({'malo':['sum','count']})\n",
    "dfTablaWoeCC.columns = ['malo','total']\n",
    "dfTablaWoeCC['probMalo'] = dfTablaWoeCC['malo'] / dfTablaWoeCC['total']\n",
    "dfTablaWoeCC['bueno'] = dfTablaWoeCC['total'] - dfTablaWoeCC['malo']\n",
    "dfTablaWoeCC['distBad'] = dfTablaWoeCC['malo'] / dfTablaWoeCC['malo'].sum()\n",
    "dfTablaWoeCC['distGood'] = dfTablaWoeCC['bueno'] / dfTablaWoeCC['bueno'].sum()\n",
    "dfTablaWoeCC['woe_CC'] = np.log(dfTablaWoeCC['distBad'] / dfTablaWoeCC['distGood'])\n",
    "dfTablaWoeCC\n"
   ]
  },
  {
   "cell_type": "code",
   "execution_count": 112,
   "metadata": {},
   "outputs": [],
   "source": [
    "dfTablaWoeCC = dfTablaWoeCC.loc[(dfTablaWoeCC['malo']>0) & (dfTablaWoeCC['total']>=18),:]"
   ]
  },
  {
   "cell_type": "code",
   "execution_count": 113,
   "metadata": {},
   "outputs": [
    {
     "data": {
      "text/html": [
       "<div>\n",
       "<style scoped>\n",
       "    .dataframe tbody tr th:only-of-type {\n",
       "        vertical-align: middle;\n",
       "    }\n",
       "\n",
       "    .dataframe tbody tr th {\n",
       "        vertical-align: top;\n",
       "    }\n",
       "\n",
       "    .dataframe thead th {\n",
       "        text-align: right;\n",
       "    }\n",
       "</style>\n",
       "<table border=\"1\" class=\"dataframe\">\n",
       "  <thead>\n",
       "    <tr style=\"text-align: right;\">\n",
       "      <th></th>\n",
       "      <th>malo</th>\n",
       "      <th>bueno</th>\n",
       "    </tr>\n",
       "    <tr>\n",
       "      <th>Num_Credit_Card</th>\n",
       "      <th></th>\n",
       "      <th></th>\n",
       "    </tr>\n",
       "  </thead>\n",
       "  <tbody>\n",
       "    <tr>\n",
       "      <th>1</th>\n",
       "      <td>1</td>\n",
       "      <td>1497</td>\n",
       "    </tr>\n",
       "    <tr>\n",
       "      <th>2</th>\n",
       "      <td>9</td>\n",
       "      <td>1545</td>\n",
       "    </tr>\n",
       "    <tr>\n",
       "      <th>3</th>\n",
       "      <td>1280</td>\n",
       "      <td>7982</td>\n",
       "    </tr>\n",
       "    <tr>\n",
       "      <th>4</th>\n",
       "      <td>1316</td>\n",
       "      <td>8296</td>\n",
       "    </tr>\n",
       "    <tr>\n",
       "      <th>5</th>\n",
       "      <td>3425</td>\n",
       "      <td>9022</td>\n",
       "    </tr>\n",
       "    <tr>\n",
       "      <th>6</th>\n",
       "      <td>3300</td>\n",
       "      <td>7939</td>\n",
       "    </tr>\n",
       "    <tr>\n",
       "      <th>7</th>\n",
       "      <td>3399</td>\n",
       "      <td>7842</td>\n",
       "    </tr>\n",
       "    <tr>\n",
       "      <th>8</th>\n",
       "      <td>2076</td>\n",
       "      <td>1218</td>\n",
       "    </tr>\n",
       "    <tr>\n",
       "      <th>9</th>\n",
       "      <td>1845</td>\n",
       "      <td>1103</td>\n",
       "    </tr>\n",
       "    <tr>\n",
       "      <th>10</th>\n",
       "      <td>1871</td>\n",
       "      <td>1147</td>\n",
       "    </tr>\n",
       "    <tr>\n",
       "      <th>11</th>\n",
       "      <td>14</td>\n",
       "      <td>11</td>\n",
       "    </tr>\n",
       "  </tbody>\n",
       "</table>\n",
       "</div>"
      ],
      "text/plain": [
       "                 malo  bueno\n",
       "Num_Credit_Card             \n",
       "1                   1   1497\n",
       "2                   9   1545\n",
       "3                1280   7982\n",
       "4                1316   8296\n",
       "5                3425   9022\n",
       "6                3300   7939\n",
       "7                3399   7842\n",
       "8                2076   1218\n",
       "9                1845   1103\n",
       "10               1871   1147\n",
       "11                 14     11"
      ]
     },
     "execution_count": 113,
     "metadata": {},
     "output_type": "execute_result"
    }
   ],
   "source": [
    "contingenciaCC = dfTablaWoeCC[['malo','bueno']]\n",
    "contingenciaCC"
   ]
  },
  {
   "cell_type": "code",
   "execution_count": 114,
   "metadata": {},
   "outputs": [
    {
     "data": {
      "text/plain": [
       "Chi2ContingencyResult(statistic=np.float64(8587.184422823353), pvalue=np.float64(0.0), dof=10, expected_freq=array([[4.19833197e+02, 1.07816680e+03],\n",
       "       [4.35527896e+02, 1.11847210e+03],\n",
       "       [2.59579110e+03, 6.66620890e+03],\n",
       "       [2.69388297e+03, 6.91811703e+03],\n",
       "       [3.48842711e+03, 8.95857289e+03],\n",
       "       [3.14987003e+03, 8.08912997e+03],\n",
       "       [3.15043055e+03, 8.09056945e+03],\n",
       "       [9.23184614e+02, 2.37081539e+03],\n",
       "       [8.26213795e+02, 2.12178620e+03],\n",
       "       [8.45832169e+02, 2.17216783e+03],\n",
       "       [7.00656204e+00, 1.79934380e+01]]))"
      ]
     },
     "execution_count": 114,
     "metadata": {},
     "output_type": "execute_result"
    }
   ],
   "source": [
    "dfTablaWoeCC.reset_index(inplace=True)\n",
    "\n",
    "resCC = chi2_contingency(contingenciaCC)\n",
    "resCC"
   ]
  },
  {
   "cell_type": "code",
   "execution_count": 115,
   "metadata": {},
   "outputs": [],
   "source": [
    "df_train = pd.merge(df_train,dfTablaWoeCC[['Num_Credit_Card','woe_CC']],on='Num_Credit_Card')\n",
    "df_test = pd.merge(df_test,dfTablaWoeCC[['Num_Credit_Card','woe_CC']],on='Num_Credit_Card')"
   ]
  },
  {
   "cell_type": "code",
   "execution_count": 116,
   "metadata": {},
   "outputs": [
    {
     "data": {
      "text/html": [
       "<div>\n",
       "<style scoped>\n",
       "    .dataframe tbody tr th:only-of-type {\n",
       "        vertical-align: middle;\n",
       "    }\n",
       "\n",
       "    .dataframe tbody tr th {\n",
       "        vertical-align: top;\n",
       "    }\n",
       "\n",
       "    .dataframe thead th {\n",
       "        text-align: right;\n",
       "    }\n",
       "</style>\n",
       "<table border=\"1\" class=\"dataframe\">\n",
       "  <thead>\n",
       "    <tr style=\"text-align: right;\">\n",
       "      <th></th>\n",
       "      <th>index</th>\n",
       "      <th>ID</th>\n",
       "      <th>Age</th>\n",
       "      <th>Num_Bank_Accounts</th>\n",
       "      <th>Credit_Score</th>\n",
       "      <th>Num_Credit_Card</th>\n",
       "      <th>Num_of_Loan</th>\n",
       "      <th>Payment_Behaviour</th>\n",
       "      <th>malo</th>\n",
       "      <th>Edad</th>\n",
       "      <th>EdadCat</th>\n",
       "      <th>Num_of_Loan_Cat</th>\n",
       "      <th>woe_NumCuentas</th>\n",
       "      <th>woe_Edad</th>\n",
       "      <th>woe_CC</th>\n",
       "    </tr>\n",
       "  </thead>\n",
       "  <tbody>\n",
       "    <tr>\n",
       "      <th>0</th>\n",
       "      <td>0</td>\n",
       "      <td>0x15fbf</td>\n",
       "      <td>31</td>\n",
       "      <td>8</td>\n",
       "      <td>Standard</td>\n",
       "      <td>7</td>\n",
       "      <td>0</td>\n",
       "      <td>High_spent_Small_value_payments</td>\n",
       "      <td>0</td>\n",
       "      <td>31</td>\n",
       "      <td>(25.6, 33.2]</td>\n",
       "      <td>0</td>\n",
       "      <td>0.310194</td>\n",
       "      <td>0.143111</td>\n",
       "      <td>0.107623</td>\n",
       "    </tr>\n",
       "    <tr>\n",
       "      <th>1</th>\n",
       "      <td>1</td>\n",
       "      <td>0x22d0a</td>\n",
       "      <td>41_</td>\n",
       "      <td>8</td>\n",
       "      <td>Standard</td>\n",
       "      <td>4</td>\n",
       "      <td>1</td>\n",
       "      <td>Low_spent_Small_value_payments</td>\n",
       "      <td>0</td>\n",
       "      <td>41</td>\n",
       "      <td>(40.8, 48.4]</td>\n",
       "      <td>1</td>\n",
       "      <td>0.310194</td>\n",
       "      <td>-0.060062</td>\n",
       "      <td>-0.897541</td>\n",
       "    </tr>\n",
       "    <tr>\n",
       "      <th>2</th>\n",
       "      <td>2</td>\n",
       "      <td>0xb2f6</td>\n",
       "      <td>28</td>\n",
       "      <td>5</td>\n",
       "      <td>Standard</td>\n",
       "      <td>4</td>\n",
       "      <td>0</td>\n",
       "      <td>Low_spent_Small_value_payments</td>\n",
       "      <td>0</td>\n",
       "      <td>28</td>\n",
       "      <td>(25.6, 33.2]</td>\n",
       "      <td>0</td>\n",
       "      <td>-0.755494</td>\n",
       "      <td>0.143111</td>\n",
       "      <td>-0.897541</td>\n",
       "    </tr>\n",
       "    <tr>\n",
       "      <th>3</th>\n",
       "      <td>3</td>\n",
       "      <td>0x23053</td>\n",
       "      <td>43</td>\n",
       "      <td>7</td>\n",
       "      <td>Standard</td>\n",
       "      <td>8</td>\n",
       "      <td>5</td>\n",
       "      <td>High_spent_Small_value_payments</td>\n",
       "      <td>0</td>\n",
       "      <td>43</td>\n",
       "      <td>(40.8, 48.4]</td>\n",
       "      <td>5</td>\n",
       "      <td>0.387637</td>\n",
       "      <td>-0.060062</td>\n",
       "      <td>1.476868</td>\n",
       "    </tr>\n",
       "    <tr>\n",
       "      <th>4</th>\n",
       "      <td>4</td>\n",
       "      <td>0x1699f</td>\n",
       "      <td>19</td>\n",
       "      <td>7</td>\n",
       "      <td>Poor</td>\n",
       "      <td>8</td>\n",
       "      <td>3</td>\n",
       "      <td>Low_spent_Small_value_payments</td>\n",
       "      <td>1</td>\n",
       "      <td>19</td>\n",
       "      <td>(17.962, 25.6]</td>\n",
       "      <td>3</td>\n",
       "      <td>0.387637</td>\n",
       "      <td>0.129702</td>\n",
       "      <td>1.476868</td>\n",
       "    </tr>\n",
       "  </tbody>\n",
       "</table>\n",
       "</div>"
      ],
      "text/plain": [
       "   index       ID  Age  Num_Bank_Accounts Credit_Score  Num_Credit_Card  \\\n",
       "0      0  0x15fbf   31                  8     Standard                7   \n",
       "1      1  0x22d0a  41_                  8     Standard                4   \n",
       "2      2   0xb2f6   28                  5     Standard                4   \n",
       "3      3  0x23053   43                  7     Standard                8   \n",
       "4      4  0x1699f   19                  7         Poor                8   \n",
       "\n",
       "   Num_of_Loan                Payment_Behaviour  malo  Edad         EdadCat  \\\n",
       "0            0  High_spent_Small_value_payments     0    31    (25.6, 33.2]   \n",
       "1            1   Low_spent_Small_value_payments     0    41    (40.8, 48.4]   \n",
       "2            0   Low_spent_Small_value_payments     0    28    (25.6, 33.2]   \n",
       "3            5  High_spent_Small_value_payments     0    43    (40.8, 48.4]   \n",
       "4            3   Low_spent_Small_value_payments     1    19  (17.962, 25.6]   \n",
       "\n",
       "  Num_of_Loan_Cat  woe_NumCuentas  woe_Edad    woe_CC  \n",
       "0               0        0.310194  0.143111  0.107623  \n",
       "1               1        0.310194 -0.060062 -0.897541  \n",
       "2               0       -0.755494  0.143111 -0.897541  \n",
       "3               5        0.387637 -0.060062  1.476868  \n",
       "4               3        0.387637  0.129702  1.476868  "
      ]
     },
     "execution_count": 116,
     "metadata": {},
     "output_type": "execute_result"
    }
   ],
   "source": [
    "df_train.head()"
   ]
  },
  {
   "cell_type": "code",
   "execution_count": 117,
   "metadata": {},
   "outputs": [
    {
     "name": "stdout",
     "output_type": "stream",
     "text": [
      "Optimization terminated successfully.\n",
      "         Current function value: 0.518597\n",
      "         Iterations 6\n",
      "                           Logit Regression Results                           \n",
      "==============================================================================\n",
      "Dep. Variable:                   malo   No. Observations:                66138\n",
      "Model:                          Logit   Df Residuals:                    66123\n",
      "Method:                           MLE   Df Model:                           14\n",
      "Date:                Sun, 24 Nov 2024   Pseudo R-squ.:                  0.1258\n",
      "Time:                        23:01:55   Log-Likelihood:                -34299.\n",
      "converged:                       True   LL-Null:                       -39233.\n",
      "Covariance Type:            nonrobust   LLR p-value:                     0.000\n",
      "=========================================================================================================================\n",
      "                                                            coef    std err          z      P>|z|      [0.025      0.975]\n",
      "-------------------------------------------------------------------------------------------------------------------------\n",
      "Intercept                                                -1.5416      0.034    -44.887      0.000      -1.609      -1.474\n",
      "Num_of_Loan_Cat[T.1]                                     -0.4363      0.044     -9.834      0.000      -0.523      -0.349\n",
      "Num_of_Loan_Cat[T.2]                                      0.2292      0.034      6.758      0.000       0.163       0.296\n",
      "Num_of_Loan_Cat[T.3]                                      0.1319      0.035      3.806      0.000       0.064       0.200\n",
      "Num_of_Loan_Cat[T.4]                                      0.1042      0.035      2.990      0.003       0.036       0.172\n",
      "Num_of_Loan_Cat[T.5]                                      1.0341      0.040     25.954      0.000       0.956       1.112\n",
      "Num_of_Loan_Cat[T.Mayor a 5]                              0.9696      0.031     31.539      0.000       0.909       1.030\n",
      "Payment_Behaviour[T.High_spent_Medium_value_payments]     0.1256      0.036      3.500      0.000       0.055       0.196\n",
      "Payment_Behaviour[T.High_spent_Small_value_payments]      0.1424      0.039      3.616      0.000       0.065       0.220\n",
      "Payment_Behaviour[T.Low_spent_Large_value_payments]       0.1785      0.040      4.431      0.000       0.100       0.257\n",
      "Payment_Behaviour[T.Low_spent_Medium_value_payments]      0.3579      0.037      9.690      0.000       0.285       0.430\n",
      "Payment_Behaviour[T.Low_spent_Small_value_payments]       0.4748      0.033     14.546      0.000       0.411       0.539\n",
      "Payment_Behaviour[T.No especifica]                        0.2423      0.044      5.569      0.000       0.157       0.328\n",
      "woe_NumCuentas                                            0.6597      0.014     46.260      0.000       0.632       0.688\n",
      "woe_Edad                                                  0.4659      0.032     14.696      0.000       0.404       0.528\n",
      "=========================================================================================================================\n"
     ]
    }
   ],
   "source": [
    "import statsmodels.formula.api as smf\n",
    "model = smf.logit('malo ~ woe_NumCuentas + woe_Edad + Num_of_Loan_Cat+Payment_Behaviour', data=df_train).fit()\n",
    "\n",
    "print(model.summary())"
   ]
  },
  {
   "cell_type": "code",
   "execution_count": 118,
   "metadata": {},
   "outputs": [],
   "source": [
    "from sklearn.metrics import accuracy_score, confusion_matrix, classification_report, roc_curve, roc_auc_score, auc\n",
    "corte = .3\n",
    "y_pred = model.predict(df_test) > corte\n",
    "y_test = df_test['malo']"
   ]
  },
  {
   "cell_type": "code",
   "execution_count": 119,
   "metadata": {},
   "outputs": [
    {
     "name": "stdout",
     "output_type": "stream",
     "text": [
      "Accuracy:  72.50%\n",
      "Confusion Matrix:\n",
      " [[12170  3718]\n",
      " [ 2347  3819]]\n",
      "\n",
      "Classification Repport:\n",
      "               precision    recall  f1-score   support\n",
      "\n",
      "           0       0.84      0.77      0.80     15888\n",
      "           1       0.51      0.62      0.56      6166\n",
      "\n",
      "    accuracy                           0.72     22054\n",
      "   macro avg       0.67      0.69      0.68     22054\n",
      "weighted avg       0.75      0.72      0.73     22054\n",
      "\n"
     ]
    }
   ],
   "source": [
    "accurary = accuracy_score(y_test, y_pred)\n",
    "print(f\"Accuracy: {accurary * 100: .2f}%\")\n",
    "\n",
    "print(\"Confusion Matrix:\\n\", confusion_matrix(y_test,y_pred))\n",
    "print(\"\\nClassification Repport:\\n\" , classification_report(y_test,y_pred))"
   ]
  },
  {
   "cell_type": "code",
   "execution_count": 121,
   "metadata": {},
   "outputs": [],
   "source": [
    "y_prob = model.predict(df_test)\n",
    "fpr, tpr, thresholds = roc_curve(y_test, y_prob)\n",
    "roc_auc = auc(fpr, tpr)"
   ]
  },
  {
   "cell_type": "code",
   "execution_count": 122,
   "metadata": {},
   "outputs": [
    {
     "data": {
      "image/png": "[encoded data removed]",
      "text/plain": [
       "<Figure size 800x600 with 1 Axes>"
      ]
     },
     "metadata": {},
     "output_type": "display_data"
    }
   ],
   "source": [
    "plt.figure(figsize=(8, 6))\n",
    "plt.plot(fpr, tpr, color='darkorange', lw=2, label=f'ROC Curve (AUC = {roc_auc:.2f})')\n",
    "plt.plot([0, 1], [0, 1], color='navy', lw=2, linestyle='--', label='Random')\n",
    "plt.xlabel('False Positive Rate')\n",
    "plt.ylabel('True Positive Rate')\n",
    "plt.title('Receiver Operating Characteristic (ROC) Curve')\n",
    "plt.legend(loc=\"lower right\")\n",
    "plt.show()"
   ]
  }
 ],
 "metadata": {
  "kernelspec": {
   "display_name": "Python 3",
   "language": "python",
   "name": "python3"
  },
  "language_info": {
   "codemirror_mode": {
    "name": "ipython",
    "version": 3
   },
   "file_extension": ".py",
   "mimetype": "text/x-python",
   "name": "python",
   "nbconvert_exporter": "python",
   "pygments_lexer": "ipython3",
   "version": "3.12.1"
  }
 },
 "nbformat": 4,
 "nbformat_minor": 2
}
