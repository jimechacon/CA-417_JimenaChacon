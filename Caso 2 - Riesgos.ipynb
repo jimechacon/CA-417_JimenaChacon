{
 "cells": [
  {
   "cell_type": "markdown",
   "id": "00265bc6",
   "metadata": {},
   "source": [
    "# Caso 2 - CA417\n",
    "## Jimena Chacón - B81999"
   ]
  },
  {
   "cell_type": "code",
   "execution_count": 30,
   "id": "805ac6be",
   "metadata": {},
   "outputs": [
    {
     "name": "stdout",
     "output_type": "stream",
     "text": [
      "Collecting arch\n",
      "  Downloading arch-7.0.0-cp310-cp310-win_amd64.whl (925 kB)\n",
      "     -------------------------------------- 925.2/925.2 kB 2.0 MB/s eta 0:00:00\n",
      "Requirement already satisfied: numpy>=1.22.3 in c:\\users\\jimec\\anaconda3\\lib\\site-packages (from arch) (1.23.5)\n",
      "Requirement already satisfied: scipy>=1.8 in c:\\users\\jimec\\anaconda3\\lib\\site-packages (from arch) (1.10.0)\n",
      "Requirement already satisfied: pandas>=1.4 in c:\\users\\jimec\\anaconda3\\lib\\site-packages (from arch) (1.5.3)\n",
      "Requirement already satisfied: statsmodels>=0.12 in c:\\users\\jimec\\anaconda3\\lib\\site-packages (from arch) (0.13.5)\n",
      "Requirement already satisfied: python-dateutil>=2.8.1 in c:\\users\\jimec\\anaconda3\\lib\\site-packages (from pandas>=1.4->arch) (2.8.2)\n",
      "Requirement already satisfied: pytz>=2020.1 in c:\\users\\jimec\\anaconda3\\lib\\site-packages (from pandas>=1.4->arch) (2022.7)\n",
      "Requirement already satisfied: patsy>=0.5.2 in c:\\users\\jimec\\anaconda3\\lib\\site-packages (from statsmodels>=0.12->arch) (0.5.3)\n",
      "Requirement already satisfied: packaging>=21.3 in c:\\users\\jimec\\anaconda3\\lib\\site-packages (from statsmodels>=0.12->arch) (22.0)\n",
      "Requirement already satisfied: six in c:\\users\\jimec\\anaconda3\\lib\\site-packages (from patsy>=0.5.2->statsmodels>=0.12->arch) (1.16.0)\n",
      "Installing collected packages: arch\n",
      "Successfully installed arch-7.0.0\n",
      "Note: you may need to restart the kernel to use updated packages.\n"
     ]
    }
   ],
   "source": [
    "#pip install arch"
   ]
  },
  {
   "cell_type": "code",
   "execution_count": 25,
   "id": "2dd4a528",
   "metadata": {},
   "outputs": [],
   "source": [
    "import numpy as np\n",
    "import pandas as pd\n",
    "import scipy.stats as stats\n",
    "from arch import arch_model\n",
    "import yfinance as yf"
   ]
  },
  {
   "cell_type": "markdown",
   "id": "2c4cb485",
   "metadata": {},
   "source": [
    "###  Supuestos\n",
    "\n",
    "Particularmente en el Metodo EWMA se tomará el ponderador $\\lambda$ igual a 0.94, esto dado a que este número captura bien las fluctuaciones diarias sin reaccionar drásticamente a picos. Es un equilibrio entre la volatilidad histórica y la reciente.\n"
   ]
  },
  {
   "cell_type": "code",
   "execution_count": 138,
   "id": "0f4a5ccf",
   "metadata": {},
   "outputs": [],
   "source": [
    "archivo = \"C:/Users/jimec/OneDrive/Documents/UCR/Riesgos en Entidades Financieras/MSFT.csv\"\n",
    "datos_msft = pd.read_csv(archivo)\n",
    "\n",
    "arch2 = \"C:/Users/jimec/OneDrive/Documents/UCR/Riesgos en Entidades Financieras/NVDA.csv\"\n",
    "datos_nvda = pd.read_csv(arch2)\n",
    "\n",
    "#datos_nvda = yf.download('NVDA', start='2023-09-05', end='2024-09-05')['Adj Close']"
   ]
  },
  {
   "cell_type": "markdown",
   "id": "17844f3f",
   "metadata": {},
   "source": [
    "### Inciso 1)"
   ]
  },
  {
   "cell_type": "code",
   "execution_count": 92,
   "id": "8b36cb73",
   "metadata": {},
   "outputs": [
    {
     "name": "stdout",
     "output_type": "stream",
     "text": [
      "Valor del portafolio de Microsoft: 408390.015\n"
     ]
    }
   ],
   "source": [
    "rendimientos_msft = np.log(datos_msft['Adj Close'] / datos_msft['Adj Close'].shift(1)).dropna()\n",
    "\n",
    "acciones_msft = 1000\n",
    "\n",
    "precio_msft = datos_msft['Adj Close'].iloc[-1] # Últimos precios\n",
    "\n",
    "valor_portafolio_msft = acciones_msft * precio_msft\n",
    "\n",
    "print(\"Valor del portafolio de Microsoft:\",valor_portafolio_msft)"
   ]
  },
  {
   "cell_type": "markdown",
   "id": "f5523f3f",
   "metadata": {},
   "source": [
    "#### Estimador Insesgado"
   ]
  },
  {
   "cell_type": "code",
   "execution_count": 99,
   "id": "badece43",
   "metadata": {},
   "outputs": [
    {
     "name": "stdout",
     "output_type": "stream",
     "text": [
      "Varianza con estimador insesgado: 0.0001581446968560946\n",
      "VaR con estimador insesgado:  8102.726372198612\n",
      "ES con estimador insesgado:  10248.73952786968\n"
     ]
    }
   ],
   "source": [
    "media_msft = rendimientos_msft.mean() #Esperanza de los rendimientos\n",
    "var_msft = rendimientos_msft.var() #Varianza de los rendimientos\n",
    "media_perdidas_msft = media_msft*-valor_portafolio_msft\n",
    "\n",
    "#Estimador insesgado \n",
    "var_perdidas_msft = var_msft* (valor_portafolio_msft)**2\n",
    "print(\"Varianza con estimador insesgado:\", var_msft)\n",
    "\n",
    "nivel_confianza = 0.95\n",
    "Z_alpha = stats.norm.ppf(nivel_confianza)\n",
    "\n",
    "# Cálculo del VaR paramétrico\n",
    "VaR = media_perdidas_msft + np.sqrt(var_perdidas_msft) * Z_alpha\n",
    "print(\"VaR con estimador insesgado: \",VaR)\n",
    "\n",
    "#Cálculo de ES paramétrico\n",
    "phi_Z_alpha = stats.norm.pdf(Z_alpha)\n",
    "\n",
    "# Calcular el ES usando la fórmula\n",
    "#ES = media_perdidas_msft + np.sqrt(var_perdidas_msft) * (phi_Z_alpha / (1 - nivel_confianza))\n",
    "ES= media_perdidas_msft + (np.sqrt(var_perdidas_msft)/(np.sqrt(2*np.pi)*(1-nivel_confianza)))*np.exp(-((Z_alpha)**2)/2)\n",
    "print(\"ES con estimador insesgado: \",ES)\n"
   ]
  },
  {
   "cell_type": "markdown",
   "id": "76839c89",
   "metadata": {},
   "source": [
    "#### Método EWMA"
   ]
  },
  {
   "cell_type": "code",
   "execution_count": 103,
   "id": "f0bbb8c4",
   "metadata": {},
   "outputs": [
    {
     "name": "stdout",
     "output_type": "stream",
     "text": [
      "Varianza con EWMA: 0.00013533215648067634\n",
      "VaR con método EWMA:  7469.727613256005\n",
      "ES con método EWMA:  9454.933546709424\n"
     ]
    }
   ],
   "source": [
    "rendi_array = np.array(rendimientos_msft)\n",
    "var_msft_ewma=0\n",
    "suma=0\n",
    "for i in range(1,len(rendi_array)):\n",
    "    suma=((pond)**(i-1)*(rendi_array[-i]-media_msft)**2)+suma\n",
    "var_msft_ewma = suma*((1-pond)/(1-(pond)**len(rendi_array))) #Varianza rendimientos\n",
    "print(\"Varianza con EWMA:\", var_msft_ewma)\n",
    "\n",
    "#EWMA \n",
    "var_perdidas_msft = var_msft_ewma* (valor_portafolio_msft)**2\n",
    "\n",
    "# Cálculo del VaR paramétrico\n",
    "VaR_ewma = media_perdidas_msft + np.sqrt(var_perdidas_msft) * Z_alpha\n",
    "print(\"VaR con método EWMA: \",VaR_ewma)\n",
    "\n",
    "# Calcular el ES usando la fórmula\n",
    "ES_ewma= media_perdidas_msft + (np.sqrt(var_perdidas_msft)/(np.sqrt(2*np.pi)*(1-nivel_confianza)))*np.exp(-((Z_alpha)**2)/2)\n",
    "print(\"ES con método EWMA: \",ES_ewma)"
   ]
  },
  {
   "cell_type": "markdown",
   "id": "9789b137",
   "metadata": {},
   "source": [
    "#### GARCH"
   ]
  },
  {
   "cell_type": "code",
   "execution_count": 104,
   "id": "e68c1cdd",
   "metadata": {},
   "outputs": [
    {
     "name": "stdout",
     "output_type": "stream",
     "text": [
      "Varianza con GARCH: 0.00015437817845337287\n",
      "VaR con método GARCH:  8001.523124926977\n",
      "ES con método GARCH:  10121.826572888125\n"
     ]
    }
   ],
   "source": [
    "garch_mod = arch_model(rendimientos_msft, vol='Garch',p=1,q=1,rescale=False).fit(disp=\"off\")\n",
    "var_msft_garch = garch_mod.conditional_volatility.iloc[-1]**2\n",
    "print(\"Varianza con GARCH:\", var_msft_garch)\n",
    "\n",
    "var_perdidas_msft = var_msft_garch* (valor_portafolio_msft)**2\n",
    "\n",
    "# Cálculo del VaR paramétrico\n",
    "VaR_ewma = media_perdidas_msft + np.sqrt(var_perdidas_msft) * Z_alpha\n",
    "print(\"VaR con método GARCH: \",VaR_ewma)\n",
    "\n",
    "# Calcular el ES usando la fórmula\n",
    "ES_ewma= media_perdidas_msft + (np.sqrt(var_perdidas_msft)/(np.sqrt(2*np.pi)*(1-nivel_confianza)))*np.exp(-((Z_alpha)**2)/2)\n",
    "print(\"ES con método GARCH: \",ES_ewma)"
   ]
  },
  {
   "cell_type": "markdown",
   "id": "f032eb64",
   "metadata": {},
   "source": [
    "### Inciso 2)"
   ]
  },
  {
   "cell_type": "code",
   "execution_count": 140,
   "id": "1f70888b",
   "metadata": {},
   "outputs": [
    {
     "name": "stdout",
     "output_type": "stream",
     "text": [
      "Valor del portafolio de NVidia: 273385.49744999997\n",
      "Valor del portafolio combinado de Microsoft y NVidia: 681775.51245\n"
     ]
    }
   ],
   "source": [
    "rendimientos_nvda =  np.log(datos_nvda['Adj Close'] / datos_nvda['Adj Close'].shift(1)).dropna()\n",
    "\n",
    "acciones_nvda = 2550\n",
    "\n",
    "precio_nvda = datos_nvda['Adj Close'].iloc[-1] # Últimos precios\n",
    "\n",
    "valor_portafolio_nvda = acciones_nvda * precio_nvda\n",
    "print(\"Valor del portafolio de NVidia:\",valor_portafolio_nvda)\n",
    "\n",
    "valor_portafolio_combinado = acciones_msft * precio_msft + acciones_nvda * precio_nvda\n",
    "\n",
    "print(\"Valor del portafolio combinado de Microsoft y NVidia:\",valor_portafolio_combinado)"
   ]
  },
  {
   "cell_type": "markdown",
   "id": "1798da64",
   "metadata": {},
   "source": [
    "#### Estimador Insesgado"
   ]
  },
  {
   "cell_type": "code",
   "execution_count": 145,
   "id": "91385a21",
   "metadata": {},
   "outputs": [
    {
     "name": "stdout",
     "output_type": "stream",
     "text": [
      "0.03193271526320969\n",
      "VaR combinado con estimador insesgado:  28732.432243756513\n",
      "ES combinado con estimador insesgado:  36583.217056756956\n"
     ]
    }
   ],
   "source": [
    "media_nvda = rendimientos_nvda.mean() #Esperanza de los rendimientos\n",
    "var_nvda = rendimientos_nvda.var() #Varianza de los rendimientos\n",
    "\n",
    "correlacion = rendimientos_nvda.corr(rendimientos_msft)\n",
    "media_perdidas_combinado = media_msft*-valor_portafolio_msft - media_nvda * valor_portafolio_nvda\n",
    "var_perdidas_combinado = (valor_portafolio_msft**2)*var_msft + (valor_portafolio_nvda**2)*var_nvda + 2 *correlacion* valor_portafolio_msft*valor_portafolio_nvda*np.sqrt(var_msft)*np.sqrt(var_nvda)\n",
    "\n",
    "# Cálculo del VaR paramétrico\n",
    "VaR = media_perdidas_combinado + np.sqrt(var_perdidas_combinado) * Z_alpha\n",
    "print(\"VaR combinado con estimador insesgado: \",VaR)\n",
    "\n",
    "# Calcular el ES usando la fórmula\n",
    "ES= media_perdidas_combinado + (np.sqrt(var_perdidas_combinado)/(np.sqrt(2*np.pi)*(1-nivel_confianza)))*np.exp(-((Z_alpha)**2)/2)\n",
    "print(\"ES combinado con estimador insesgado: \",ES)"
   ]
  },
  {
   "cell_type": "code",
   "execution_count": 147,
   "id": "49b364b6",
   "metadata": {},
   "outputs": [
    {
     "data": {
      "text/plain": [
       "273385.49744999997"
      ]
     },
     "execution_count": 147,
     "metadata": {},
     "output_type": "execute_result"
    }
   ],
   "source": [
    "valor_portafolio_nvda"
   ]
  },
  {
   "cell_type": "markdown",
   "id": "63f45f53",
   "metadata": {},
   "source": [
    "#### Método EWMA"
   ]
  },
  {
   "cell_type": "code",
   "execution_count": 150,
   "id": "8c9542a5",
   "metadata": {},
   "outputs": [
    {
     "name": "stdout",
     "output_type": "stream",
     "text": [
      "VaR combinado con método EWMA:  22392.679043944725\n",
      "ES combinado con método EWMA:  28632.910775750854\n"
     ]
    }
   ],
   "source": [
    "rendi_array2 = np.array(rendimientos_nvda)\n",
    "var_nvda_ewma=0\n",
    "suma=0\n",
    "for i in range(1,len(rendi_array2)):\n",
    "    suma=((pond)**(i-1)*(rendi_array2[-i]-media_nvda)**2)+suma\n",
    "var_nvda_ewma = suma*((1-pond)/(1-(pond)**len(rendi_array2))) #Varianza rendimientos\n",
    "\n",
    "\n",
    "var_perdidas_combinado = (valor_portafolio_msft**2)*var_msft_ewma + (valor_portafolio_nvda**2)*var_nvda_ewma + 2 *correlacion* valor_portafolio_msft*valor_portafolio_nvda*np.sqrt(var_msft_ewma)*np.sqrt(var_nvda_ewma)\n",
    "\n",
    "\n",
    "# Cálculo del VaR paramétrico\n",
    "VaR_combinado = media_perdidas_combinado + np.sqrt(var_perdidas_combinado) * Z_alpha\n",
    "print(\"VaR combinado con método EWMA: \",VaR_combinado)\n",
    "\n",
    "# Calcular el ES usando la fórmula\n",
    "ES_combinado= media_perdidas_combinado + (np.sqrt(var_perdidas_combinado)/(np.sqrt(2*np.pi)*(1-nivel_confianza)))*np.exp(-((Z_alpha)**2)/2)\n",
    "print(\"ES combinado con método EWMA: \",ES_combinado)"
   ]
  },
  {
   "cell_type": "markdown",
   "id": "5cbd774d",
   "metadata": {},
   "source": [
    "#### GARCH"
   ]
  },
  {
   "cell_type": "code",
   "execution_count": 149,
   "id": "7c58c773",
   "metadata": {},
   "outputs": [
    {
     "name": "stdout",
     "output_type": "stream",
     "text": [
      "Varianza con GARCH: 0.0015891872141400186\n",
      "VaR con método GARCH:  20849.470964310764\n",
      "ES con método GARCH:  26697.665585326486\n"
     ]
    }
   ],
   "source": [
    "garch_mod = arch_model(rendimientos_nvda, vol='Garch',p=1,q=1,rescale=False).fit(disp=\"off\")\n",
    "var_nvda_garch = garch_mod.conditional_volatility.iloc[-1]**2\n",
    "\n",
    "var_perdidas_nvda = var_nvda_garch* (valor_portafolio_nvda)**2\n",
    "\n",
    "var_perdidas_combinado = (valor_portafolio_msft**2)*var_msft_garch + (valor_portafolio_nvda**2)*var_nvda_garch + 2 *correlacion* valor_portafolio_msft*valor_portafolio_nvda*np.sqrt(var_msft_garch)*np.sqrt(var_nvda_garch)\n",
    "\n",
    "\n",
    "# Cálculo del VaR paramétrico\n",
    "VaR_garch = media_perdidas_combinado + np.sqrt(var_perdidas_combinado) * Z_alpha\n",
    "print(\"VaR con método GARCH: \",VaR_garch)\n",
    "\n",
    "# Calcular el ES usando la fórmula\n",
    "ES_garch= media_perdidas_combinado + (np.sqrt(var_perdidas_combinado)/(np.sqrt(2*np.pi)*(1-nivel_confianza)))*np.exp(-((Z_alpha)**2)/2)\n",
    "print(\"ES con método GARCH: \",ES_garch)"
   ]
  }
 ],
 "metadata": {
  "kernelspec": {
   "display_name": "Python 3 (ipykernel)",
   "language": "python",
   "name": "python3"
  },
  "language_info": {
   "codemirror_mode": {
    "name": "ipython",
    "version": 3
   },
   "file_extension": ".py",
   "mimetype": "text/x-python",
   "name": "python",
   "nbconvert_exporter": "python",
   "pygments_lexer": "ipython3",
   "version": "3.10.9"
  }
 },
 "nbformat": 4,
 "nbformat_minor": 5
}
