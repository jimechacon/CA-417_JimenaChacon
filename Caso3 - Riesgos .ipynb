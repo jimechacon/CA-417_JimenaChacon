{
 "cells": [
  {
   "cell_type": "markdown",
   "metadata": {},
   "source": [
    "# Caso 3 - Jimena Chacón "
   ]
  },
  {
   "cell_type": "code",
   "execution_count": 237,
   "metadata": {
    "id": "MCsrpB4H9XtX"
   },
   "outputs": [],
   "source": [
    "import pandas as pd\n",
    "import numpy as np\n",
    "import QuantLib as ql\n",
    "import re"
   ]
  },
  {
   "cell_type": "markdown",
   "metadata": {
    "id": "PAb0BvqxC4CT"
   },
   "source": [
    "### a) Enfoque paramétrico utilizando aproximación Delta-Normal"
   ]
  },
  {
   "cell_type": "code",
   "execution_count": 238,
   "metadata": {
    "id": "TB8lxOv8_1pZ"
   },
   "outputs": [],
   "source": [
    "#Cálculo para el bono 1\n",
    "\n",
    "p1= 99.849511\n",
    "yieldrate1= 0.03875\n",
    "periodicidad1 = 2"
   ]
  },
  {
   "cell_type": "code",
   "execution_count": 239,
   "metadata": {
    "id": "gv0zgTyxAgt8"
   },
   "outputs": [],
   "source": [
    "fecha_emision = pd.to_datetime(\"2023-03-31\")\n",
    "fecha_vence = pd.to_datetime(\"2025-03-31\")\n",
    "fecha_calculo = pd.to_datetime(\"2023-03-31\")"
   ]
  },
  {
   "cell_type": "code",
   "execution_count": 240,
   "metadata": {
    "id": "WSpzw01fAv7e"
   },
   "outputs": [],
   "source": [
    "fecha_calc_ql = ql.Date(fecha_calculo.day,fecha_calculo.month,fecha_calculo.year)\n",
    "\n",
    "ql.Settings.instance().evaluationDate = fecha_calc_ql"
   ]
  },
  {
   "cell_type": "code",
   "execution_count": 241,
   "metadata": {
    "id": "vZ1K_CYYCAx5"
   },
   "outputs": [],
   "source": [
    "qlCalendar = ql.BespokeCalendar(\"United States\")\n",
    "qlCalendar.addWeekend(ql.Sunday)\n",
    "qlCalendar.addWeekend(ql.Saturday)"
   ]
  },
  {
   "cell_type": "code",
   "execution_count": 242,
   "metadata": {
    "id": "aODsFkIqB0M-"
   },
   "outputs": [],
   "source": [
    "fecha_vence_ql = ql.Date(fecha_vence.day,fecha_vence.month,fecha_vence.year)\n",
    "fecha_emision_ql = ql.Date(fecha_emision.day,fecha_emision.month,fecha_emision.year)"
   ]
  },
  {
   "cell_type": "code",
   "execution_count": 243,
   "metadata": {
    "id": "Li8oS1YNBjS8"
   },
   "outputs": [],
   "source": [
    "qlTenor = ql.Period(periodicidad1)\n",
    "qlConvencion = ql.Following\n",
    "dateGeneration = ql.DateGeneration.Backward\n",
    "monthEnd = False"
   ]
  },
  {
   "cell_type": "code",
   "execution_count": 244,
   "metadata": {
    "colab": {
     "base_uri": "https://localhost:8080/",
     "height": 206
    },
    "id": "N7n2F2yoBwKL",
    "outputId": "e06d5f32-f247-4372-df7f-3d0f4ddcef8d"
   },
   "outputs": [
    {
     "data": {
      "text/html": [
       "<div>\n",
       "<style scoped>\n",
       "    .dataframe tbody tr th:only-of-type {\n",
       "        vertical-align: middle;\n",
       "    }\n",
       "\n",
       "    .dataframe tbody tr th {\n",
       "        vertical-align: top;\n",
       "    }\n",
       "\n",
       "    .dataframe thead th {\n",
       "        text-align: right;\n",
       "    }\n",
       "</style>\n",
       "<table border=\"1\" class=\"dataframe\">\n",
       "  <thead>\n",
       "    <tr style=\"text-align: right;\">\n",
       "      <th></th>\n",
       "      <th>date</th>\n",
       "    </tr>\n",
       "  </thead>\n",
       "  <tbody>\n",
       "    <tr>\n",
       "      <th>0</th>\n",
       "      <td>March 31st, 2023</td>\n",
       "    </tr>\n",
       "    <tr>\n",
       "      <th>1</th>\n",
       "      <td>October 2nd, 2023</td>\n",
       "    </tr>\n",
       "    <tr>\n",
       "      <th>2</th>\n",
       "      <td>April 1st, 2024</td>\n",
       "    </tr>\n",
       "    <tr>\n",
       "      <th>3</th>\n",
       "      <td>September 30th, 2024</td>\n",
       "    </tr>\n",
       "    <tr>\n",
       "      <th>4</th>\n",
       "      <td>March 31st, 2025</td>\n",
       "    </tr>\n",
       "  </tbody>\n",
       "</table>\n",
       "</div>"
      ],
      "text/plain": [
       "                   date\n",
       "0      March 31st, 2023\n",
       "1     October 2nd, 2023\n",
       "2       April 1st, 2024\n",
       "3  September 30th, 2024\n",
       "4      March 31st, 2025"
      ]
     },
     "execution_count": 244,
     "metadata": {},
     "output_type": "execute_result"
    }
   ],
   "source": [
    "cronograma = ql.Schedule(fecha_emision_ql,fecha_vence_ql,qlTenor, qlCalendar,qlConvencion,qlConvencion,dateGeneration,monthEnd)\n",
    "\n",
    "pd.DataFrame({\"date\":list(cronograma)})"
   ]
  },
  {
   "cell_type": "code",
   "execution_count": 245,
   "metadata": {
    "id": "8QV7cEd8AxDT"
   },
   "outputs": [],
   "source": [
    "dayCount = ql.Thirty360(ql.Thirty360.BondBasis)\n",
    "compound_type = ql.Compounded\n",
    "frequency = ql.Semiannual\n",
    "settlementDays = 0"
   ]
  },
  {
   "cell_type": "code",
   "execution_count": 246,
   "metadata": {
    "colab": {
     "base_uri": "https://localhost:8080/"
    },
    "id": "0I5afWErBPv1",
    "outputId": "2daec0ce-dc60-40b0-fccd-f17e4d7fa82d"
   },
   "outputs": [
    {
     "name": "stdout",
     "output_type": "stream",
     "text": [
      "3.875000 % 30/360 (Bond Basis) Semiannual compounding\n"
     ]
    }
   ],
   "source": [
    "interest_rate = ql.InterestRate(yieldrate1,dayCount,compound_type,frequency)\n",
    "print(interest_rate)"
   ]
  },
  {
   "cell_type": "code",
   "execution_count": 247,
   "metadata": {
    "id": "7-s-o_UVBarQ"
   },
   "outputs": [],
   "source": [
    "bono1 = ql.FixedRateBond(settlementDays,100,cronograma,[yieldrate1],dayCount)"
   ]
  },
  {
   "cell_type": "code",
   "execution_count": 248,
   "metadata": {
    "colab": {
     "base_uri": "https://localhost:8080/"
    },
    "id": "aSZnJxFOC4ev",
    "outputId": "c485a262-1b25-44cf-a8e2-9209a7e7b25e"
   },
   "outputs": [
    {
     "name": "stdout",
     "output_type": "stream",
     "text": [
      "                 Fechas      Montos\n",
      "0     October 2nd, 2023    1.959028\n",
      "1       April 1st, 2024    1.926736\n",
      "2  September 30th, 2024    1.926736\n",
      "3      March 31st, 2025    1.937500\n",
      "4      March 31st, 2025  100.000000\n"
     ]
    }
   ],
   "source": [
    "cf = bono1.cashflows()\n",
    "fechas = [item.date() for item in cf]\n",
    "montos = [item.amount() for item in cf]\n",
    "print(pd.DataFrame({\"Fechas\":fechas, \"Montos\": montos}))"
   ]
  },
  {
   "cell_type": "code",
   "execution_count": 249,
   "metadata": {
    "id": "i79vVky8C8Z-"
   },
   "outputs": [],
   "source": [
    "rend = bono1.bondYield(p1,dayCount,compound_type,frequency)"
   ]
  },
  {
   "cell_type": "code",
   "execution_count": 250,
   "metadata": {
    "id": "emo_u2XLDBfn"
   },
   "outputs": [],
   "source": [
    "interes_rend = ql.InterestRate(rend,dayCount,compound_type,frequency)"
   ]
  },
  {
   "cell_type": "code",
   "execution_count": 251,
   "metadata": {
    "id": "IsVKLYFqDG0p"
   },
   "outputs": [],
   "source": [
    "duracionMod1 = ql.BondFunctions.duration(bono1,interes_rend,ql.Duration.Modified)"
   ]
  },
  {
   "cell_type": "code",
   "execution_count": 252,
   "metadata": {
    "id": "Ls4_D-nA9GKZ"
   },
   "outputs": [],
   "source": [
    "curvas = pd.read_excel(\"CurvaActualizadaCaso3 (1).xlsx\")\n",
    "curvas.set_index('Date', inplace=True)\n",
    "curva_actual = curvas.iloc[-1,:]"
   ]
  },
  {
   "cell_type": "code",
   "execution_count": 253,
   "metadata": {
    "colab": {
     "base_uri": "https://localhost:8080/"
    },
    "id": "jWI_3hTyDQEk",
    "outputId": "c1a31626-70c0-4818-f677-773a977e5186"
   },
   "outputs": [
    {
     "name": "stdout",
     "output_type": "stream",
     "text": [
      "[0.05343767 0.05259337 0.05097032 0.04881758 0.04535153 0.04079181\n",
      " 0.03817697 0.03579613 0.03510458 0.03521748]\n"
     ]
    },
    {
     "data": {
      "text/plain": [
       "array([   1,   30,   90,  180,  360,  720, 1080, 1800, 2520, 3600])"
      ]
     },
     "execution_count": 253,
     "metadata": {},
     "output_type": "execute_result"
    }
   ],
   "source": [
    "tasa_actual = curva_actual.values\n",
    "print(tasa_actual)\n",
    "plazos = curva_actual.index.values\n",
    "plazos_numeros = [int(re.search(r'\\d+', plazo).group()) for plazo in plazos]\n",
    "plazos_numeros_array = np.array(plazos_numeros)\n",
    "plazos_numeros_array"
   ]
  },
  {
   "cell_type": "code",
   "execution_count": 254,
   "metadata": {
    "colab": {
     "base_uri": "https://localhost:8080/"
    },
    "id": "o0CX1iR1WP_A",
    "outputId": "2d418238-26e8-46d3-de39-b12f61edef2d"
   },
   "outputs": [
    {
     "data": {
      "text/plain": [
       "Date(31,3,2023)"
      ]
     },
     "execution_count": 254,
     "metadata": {},
     "output_type": "execute_result"
    }
   ],
   "source": [
    "fecha_calc_ql"
   ]
  },
  {
   "cell_type": "code",
   "execution_count": 255,
   "metadata": {
    "id": "fLAJ4DeTDXQd"
   },
   "outputs": [],
   "source": [
    "curva_ql0 = ql.ZeroCurve(fecha_calc_ql+plazos_numeros_array,tasa_actual,ql.Thirty360(ql.Thirty360.BondBasis))\n",
    "curva_ql = ql.YieldTermStructureHandle(curva_ql0)\n",
    "estructura_plazos = ql.ZeroSpreadedTermStructure(curva_ql,ql.QuoteHandle(ql.SimpleQuote(0)),ql.Compounded,ql.Semiannual,dayCount)"
   ]
  },
  {
   "cell_type": "code",
   "execution_count": 256,
   "metadata": {
    "id": "hHlv9nmoWvJa"
   },
   "outputs": [],
   "source": [
    "pricing_engine = ql.DiscountingBondEngine(ql.RelinkableYieldTermStructureHandle(estructura_plazos))"
   ]
  },
  {
   "cell_type": "code",
   "execution_count": 257,
   "metadata": {
    "colab": {
     "base_uri": "https://localhost:8080/"
    },
    "id": "9lGASgVsWx7E",
    "outputId": "509459ec-fa98-4a6a-b76f-33002bcfa8e4"
   },
   "outputs": [
    {
     "name": "stdout",
     "output_type": "stream",
     "text": [
      "99.52623809960488\n"
     ]
    }
   ],
   "source": [
    "bono1.setPricingEngine(pricing_engine)\n",
    "print(bono1.NPV())"
   ]
  },
  {
   "cell_type": "code",
   "execution_count": 258,
   "metadata": {
    "id": "6XJzQx5t_Fre"
   },
   "outputs": [],
   "source": [
    "def Precio1(spread):\n",
    "    estructura_plazos = ql.ZeroSpreadedTermStructure(curva_ql,ql.QuoteHandle(ql.SimpleQuote(spread)),ql.Compounded,ql.Semiannual,dayCount)\n",
    "    pricing_engine = ql.DiscountingBondEngine(ql.RelinkableYieldTermStructureHandle(estructura_plazos))\n",
    "\n",
    "    bono1.setPricingEngine(pricing_engine)\n",
    "    return bono1.NPV()"
   ]
  },
  {
   "cell_type": "code",
   "execution_count": 259,
   "metadata": {
    "id": "QYr-0eul_KjO"
   },
   "outputs": [],
   "source": [
    "from scipy.optimize import bisect"
   ]
  },
  {
   "cell_type": "code",
   "execution_count": 260,
   "metadata": {
    "id": "GQPLdBZP_bWM"
   },
   "outputs": [],
   "source": [
    "def ErrorPrecio1(spread):\n",
    "    return p1-Precio1(spread)"
   ]
  },
  {
   "cell_type": "code",
   "execution_count": 261,
   "metadata": {
    "colab": {
     "base_uri": "https://localhost:8080/"
    },
    "id": "CGk-B9qWW4On",
    "outputId": "8cf78c7a-2957-4313-b6a5-543303090260"
   },
   "outputs": [
    {
     "data": {
      "text/plain": [
       "-0.0017021180010488024"
      ]
     },
     "execution_count": 261,
     "metadata": {},
     "output_type": "execute_result"
    }
   ],
   "source": [
    "spread_estimado1 = bisect(ErrorPrecio1,-1,1)\n",
    "spread_estimado1"
   ]
  },
  {
   "cell_type": "code",
   "execution_count": 262,
   "metadata": {
    "colab": {
     "base_uri": "https://localhost:8080/"
    },
    "id": "V_c4kpL1XALj",
    "outputId": "ccd80312-210f-47fd-fe3d-915a4c7dc8a2"
   },
   "outputs": [
    {
     "data": {
      "text/plain": [
       "99.8495110002618"
      ]
     },
     "execution_count": 262,
     "metadata": {},
     "output_type": "execute_result"
    }
   ],
   "source": [
    "Precio1(spread_estimado1)"
   ]
  },
  {
   "cell_type": "code",
   "execution_count": 263,
   "metadata": {
    "id": "2rb7ZaXV7s9G"
   },
   "outputs": [],
   "source": [
    "#Cálculo para el bono 2\n",
    "\n",
    "p2= 99.993866\n",
    "yieldrate2= 0.03625"
   ]
  },
  {
   "cell_type": "code",
   "execution_count": 264,
   "metadata": {
    "id": "Rhk8XjEn75fn"
   },
   "outputs": [],
   "source": [
    "fecha_emision2 = pd.to_datetime(\"2023-03-31\")\n",
    "fecha_vence2 = pd.to_datetime(\"2030-03-31\")\n",
    "fecha_calculo2 = pd.to_datetime(\"2023-03-31\")"
   ]
  },
  {
   "cell_type": "code",
   "execution_count": 265,
   "metadata": {
    "id": "0DLnBkgc8rBt"
   },
   "outputs": [],
   "source": [
    "fecha_calc_ql2 = ql.Date(fecha_calculo2.day,fecha_calculo2.month,fecha_calculo2.year)\n",
    "\n",
    "ql.Settings.instance().evaluationDate = fecha_calc_ql2"
   ]
  },
  {
   "cell_type": "code",
   "execution_count": 266,
   "metadata": {
    "id": "fsAyyjTL82Ex"
   },
   "outputs": [],
   "source": [
    "fecha_vence_ql2 = ql.Date(fecha_vence2.day,fecha_vence2.month,fecha_vence2.year)\n",
    "fecha_emision_ql2 = ql.Date(fecha_emision2.day,fecha_emision2.month,fecha_emision2.year)"
   ]
  },
  {
   "cell_type": "code",
   "execution_count": 267,
   "metadata": {
    "colab": {
     "base_uri": "https://localhost:8080/",
     "height": 519
    },
    "id": "GBgxsUmx9B11",
    "outputId": "d98ac78b-c626-4bbd-d95d-ac3e8ffbf624"
   },
   "outputs": [
    {
     "data": {
      "text/html": [
       "<div>\n",
       "<style scoped>\n",
       "    .dataframe tbody tr th:only-of-type {\n",
       "        vertical-align: middle;\n",
       "    }\n",
       "\n",
       "    .dataframe tbody tr th {\n",
       "        vertical-align: top;\n",
       "    }\n",
       "\n",
       "    .dataframe thead th {\n",
       "        text-align: right;\n",
       "    }\n",
       "</style>\n",
       "<table border=\"1\" class=\"dataframe\">\n",
       "  <thead>\n",
       "    <tr style=\"text-align: right;\">\n",
       "      <th></th>\n",
       "      <th>date</th>\n",
       "    </tr>\n",
       "  </thead>\n",
       "  <tbody>\n",
       "    <tr>\n",
       "      <th>0</th>\n",
       "      <td>March 31st, 2023</td>\n",
       "    </tr>\n",
       "    <tr>\n",
       "      <th>1</th>\n",
       "      <td>October 2nd, 2023</td>\n",
       "    </tr>\n",
       "    <tr>\n",
       "      <th>2</th>\n",
       "      <td>April 1st, 2024</td>\n",
       "    </tr>\n",
       "    <tr>\n",
       "      <th>3</th>\n",
       "      <td>September 30th, 2024</td>\n",
       "    </tr>\n",
       "    <tr>\n",
       "      <th>4</th>\n",
       "      <td>March 31st, 2025</td>\n",
       "    </tr>\n",
       "    <tr>\n",
       "      <th>5</th>\n",
       "      <td>September 30th, 2025</td>\n",
       "    </tr>\n",
       "    <tr>\n",
       "      <th>6</th>\n",
       "      <td>March 31st, 2026</td>\n",
       "    </tr>\n",
       "    <tr>\n",
       "      <th>7</th>\n",
       "      <td>September 30th, 2026</td>\n",
       "    </tr>\n",
       "    <tr>\n",
       "      <th>8</th>\n",
       "      <td>March 31st, 2027</td>\n",
       "    </tr>\n",
       "    <tr>\n",
       "      <th>9</th>\n",
       "      <td>September 30th, 2027</td>\n",
       "    </tr>\n",
       "    <tr>\n",
       "      <th>10</th>\n",
       "      <td>March 31st, 2028</td>\n",
       "    </tr>\n",
       "    <tr>\n",
       "      <th>11</th>\n",
       "      <td>October 2nd, 2028</td>\n",
       "    </tr>\n",
       "    <tr>\n",
       "      <th>12</th>\n",
       "      <td>April 2nd, 2029</td>\n",
       "    </tr>\n",
       "    <tr>\n",
       "      <th>13</th>\n",
       "      <td>October 1st, 2029</td>\n",
       "    </tr>\n",
       "    <tr>\n",
       "      <th>14</th>\n",
       "      <td>April 1st, 2030</td>\n",
       "    </tr>\n",
       "  </tbody>\n",
       "</table>\n",
       "</div>"
      ],
      "text/plain": [
       "                    date\n",
       "0       March 31st, 2023\n",
       "1      October 2nd, 2023\n",
       "2        April 1st, 2024\n",
       "3   September 30th, 2024\n",
       "4       March 31st, 2025\n",
       "5   September 30th, 2025\n",
       "6       March 31st, 2026\n",
       "7   September 30th, 2026\n",
       "8       March 31st, 2027\n",
       "9   September 30th, 2027\n",
       "10      March 31st, 2028\n",
       "11     October 2nd, 2028\n",
       "12       April 2nd, 2029\n",
       "13     October 1st, 2029\n",
       "14       April 1st, 2030"
      ]
     },
     "execution_count": 267,
     "metadata": {},
     "output_type": "execute_result"
    }
   ],
   "source": [
    "cronograma2 = ql.Schedule(fecha_emision_ql2,fecha_vence_ql2,qlTenor, qlCalendar,qlConvencion,qlConvencion,dateGeneration,monthEnd)\n",
    "\n",
    "pd.DataFrame({\"date\":list(cronograma2)})"
   ]
  },
  {
   "cell_type": "code",
   "execution_count": 268,
   "metadata": {
    "colab": {
     "base_uri": "https://localhost:8080/"
    },
    "id": "ZTQdl3mY-Pwd",
    "outputId": "8dc573d3-f55f-4d6d-b86e-bab9630e92dc"
   },
   "outputs": [
    {
     "name": "stdout",
     "output_type": "stream",
     "text": [
      "3.625000 % 30/360 (Bond Basis) Semiannual compounding\n"
     ]
    }
   ],
   "source": [
    "interest_rate2 = ql.InterestRate(yieldrate2,dayCount,compound_type,frequency)\n",
    "print(interest_rate2)"
   ]
  },
  {
   "cell_type": "code",
   "execution_count": 269,
   "metadata": {
    "id": "0WJ3Muqp-W4T"
   },
   "outputs": [],
   "source": [
    "bono2 = ql.FixedRateBond(settlementDays,100,cronograma2,[yieldrate2],dayCount)"
   ]
  },
  {
   "cell_type": "code",
   "execution_count": 270,
   "metadata": {
    "colab": {
     "base_uri": "https://localhost:8080/"
    },
    "id": "5H_jBXdk-eKH",
    "outputId": "4e24b335-f01b-4407-9d68-3bc0f603f0be"
   },
   "outputs": [
    {
     "name": "stdout",
     "output_type": "stream",
     "text": [
      "                  Fechas      Montos\n",
      "0      October 2nd, 2023    1.832639\n",
      "1        April 1st, 2024    1.802431\n",
      "2   September 30th, 2024    1.802431\n",
      "3       March 31st, 2025    1.812500\n",
      "4   September 30th, 2025    1.812500\n",
      "5       March 31st, 2026    1.812500\n",
      "6   September 30th, 2026    1.812500\n",
      "7       March 31st, 2027    1.812500\n",
      "8   September 30th, 2027    1.812500\n",
      "9       March 31st, 2028    1.812500\n",
      "10     October 2nd, 2028    1.832639\n",
      "11       April 2nd, 2029    1.812500\n",
      "12     October 1st, 2029    1.802431\n",
      "13       April 1st, 2030    1.812500\n",
      "14       April 1st, 2030  100.000000\n"
     ]
    }
   ],
   "source": [
    "cf = bono2.cashflows()\n",
    "fechas = [item.date() for item in cf]\n",
    "montos = [item.amount() for item in cf]\n",
    "print(pd.DataFrame({\"Fechas\":fechas, \"Montos\": montos}))"
   ]
  },
  {
   "cell_type": "code",
   "execution_count": 271,
   "metadata": {
    "id": "tHxo9X_L-q9x"
   },
   "outputs": [],
   "source": [
    "rend2 = bono2.bondYield(p2,dayCount,compound_type,frequency)"
   ]
  },
  {
   "cell_type": "code",
   "execution_count": 272,
   "metadata": {
    "id": "EKc_Xujc-xXB"
   },
   "outputs": [],
   "source": [
    "interes_rend2 = ql.InterestRate(rend2,dayCount,compound_type,frequency)"
   ]
  },
  {
   "cell_type": "code",
   "execution_count": 273,
   "metadata": {
    "id": "Ud_gBBjH-8hK"
   },
   "outputs": [],
   "source": [
    "duracionMod2 = ql.BondFunctions.duration(bono2,interes_rend2,ql.Duration.Modified)"
   ]
  },
  {
   "cell_type": "code",
   "execution_count": 274,
   "metadata": {
    "colab": {
     "base_uri": "https://localhost:8080/"
    },
    "id": "OMH3NqoN_eRx",
    "outputId": "c0ea857b-c6f0-41e0-966b-e50a43fc9d2d"
   },
   "outputs": [
    {
     "data": {
      "text/plain": [
       "Date(31,3,2023)"
      ]
     },
     "execution_count": 274,
     "metadata": {},
     "output_type": "execute_result"
    }
   ],
   "source": [
    "fecha_calc_ql2"
   ]
  },
  {
   "cell_type": "code",
   "execution_count": 275,
   "metadata": {
    "colab": {
     "base_uri": "https://localhost:8080/"
    },
    "id": "asDZlU8lAUwR",
    "outputId": "b9cc4822-e297-4cc5-bfc2-4df7d0580145"
   },
   "outputs": [
    {
     "name": "stdout",
     "output_type": "stream",
     "text": [
      "100.37343491942642\n"
     ]
    }
   ],
   "source": [
    "bono2.setPricingEngine(pricing_engine)\n",
    "print(bono2.NPV())"
   ]
  },
  {
   "cell_type": "code",
   "execution_count": 276,
   "metadata": {
    "id": "9f4LAD-xAnBa"
   },
   "outputs": [],
   "source": [
    "def Precio2(spread):\n",
    "    estructura_plazos = ql.ZeroSpreadedTermStructure(curva_ql,ql.QuoteHandle(ql.SimpleQuote(spread)),ql.Compounded,ql.Semiannual,dayCount)\n",
    "    pricing_engine = ql.DiscountingBondEngine(ql.RelinkableYieldTermStructureHandle(estructura_plazos))\n",
    "\n",
    "    bono2.setPricingEngine(pricing_engine)\n",
    "    return bono2.NPV()"
   ]
  },
  {
   "cell_type": "code",
   "execution_count": 277,
   "metadata": {
    "id": "H3MuRrY8AyMo"
   },
   "outputs": [],
   "source": [
    "def ErrorPrecio2(spread):\n",
    "    return p2-Precio2(spread)"
   ]
  },
  {
   "cell_type": "code",
   "execution_count": 278,
   "metadata": {
    "colab": {
     "base_uri": "https://localhost:8080/"
    },
    "id": "s1AO0GkhA5vm",
    "outputId": "2107bb04-9579-4b2e-fbd7-0aa3644d0a96"
   },
   "outputs": [
    {
     "data": {
      "text/plain": [
       "0.0006169575153762707"
      ]
     },
     "execution_count": 278,
     "metadata": {},
     "output_type": "execute_result"
    }
   ],
   "source": [
    "spread_estimado2 = bisect(ErrorPrecio2,-1,1)\n",
    "spread_estimado2"
   ]
  },
  {
   "cell_type": "code",
   "execution_count": 279,
   "metadata": {
    "colab": {
     "base_uri": "https://localhost:8080/"
    },
    "id": "kOqjztZ5BAhP",
    "outputId": "42776dcb-bf61-4776-e98c-4086ca92dcd6"
   },
   "outputs": [
    {
     "data": {
      "text/plain": [
       "99.99386600013406"
      ]
     },
     "execution_count": 279,
     "metadata": {},
     "output_type": "execute_result"
    }
   ],
   "source": [
    "Precio2(spread_estimado2)"
   ]
  },
  {
   "cell_type": "code",
   "execution_count": 280,
   "metadata": {
    "id": "Nndp1zVUXC3n"
   },
   "outputs": [],
   "source": [
    "from scipy.stats import norm"
   ]
  },
  {
   "cell_type": "code",
   "execution_count": 281,
   "metadata": {
    "colab": {
     "base_uri": "https://localhost:8080/"
    },
    "id": "Bk3NYELzXEST",
    "outputId": "8798f686-31e8-4e44-c054-5dbbbd91390e"
   },
   "outputs": [
    {
     "data": {
      "text/plain": [
       "3.090232306167813"
      ]
     },
     "execution_count": 281,
     "metadata": {},
     "output_type": "execute_result"
    }
   ],
   "source": [
    "nivel_conf = 0.999\n",
    "zq = norm.ppf(nivel_conf)\n",
    "zq"
   ]
  },
  {
   "cell_type": "code",
   "execution_count": 282,
   "metadata": {
    "id": "kq5OQElFXH9c"
   },
   "outputs": [],
   "source": [
    "cambio_tasas = curvas.diff().iloc[1:]"
   ]
  },
  {
   "cell_type": "code",
   "execution_count": 283,
   "metadata": {
    "colab": {
     "base_uri": "https://localhost:8080/"
    },
    "id": "dZTS3DR8XTA-",
    "outputId": "4b99838c-d07c-4023-e5f3-39fcaef87fec"
   },
   "outputs": [
    {
     "data": {
      "text/plain": [
       "0.0006080116336959645"
      ]
     },
     "execution_count": 283,
     "metadata": {},
     "output_type": "execute_result"
    }
   ],
   "source": [
    "sigma_plazo = cambio_tasas.std()\n",
    "vol = sigma_plazo.iloc[9]\n",
    "vol"
   ]
  },
  {
   "cell_type": "code",
   "execution_count": 284,
   "metadata": {
    "id": "Y7POZ6XD71Gs"
   },
   "outputs": [],
   "source": [
    "N1 = 1000000\n",
    "N2 = 1500000\n",
    "M1= N1*p1\n",
    "M2= N2*p2\n",
    "valor_cartera = M1+M2"
   ]
  },
  {
   "cell_type": "code",
   "execution_count": 285,
   "metadata": {
    "colab": {
     "base_uri": "https://localhost:8080/"
    },
    "id": "MhHTQ5R3XqtB",
    "outputId": "8343310e-de6d-443e-cef1-53fef74159c7"
   },
   "outputs": [
    {
     "name": "stdout",
     "output_type": "stream",
     "text": [
      "El riesgo del portafolio por aproximación Delta-Normal es: 2086771.9194314259\n"
     ]
    }
   ],
   "source": [
    "VaR = M1*duracionMod1*zq*vol+M2*duracionMod2*zq*vol\n",
    "print(\"El riesgo del portafolio por aproximación Delta-Normal es:\", VaR)"
   ]
  },
  {
   "cell_type": "markdown",
   "metadata": {
    "id": "1kvSPtRsCwyM"
   },
   "source": [
    "### b) Enfoque por componentes principales"
   ]
  },
  {
   "cell_type": "code",
   "execution_count": 286,
   "metadata": {
    "id": "EdSexy3IX9gc"
   },
   "outputs": [],
   "source": [
    "from sklearn import decomposition"
   ]
  },
  {
   "cell_type": "code",
   "execution_count": 287,
   "metadata": {
    "id": "zYbchTBwX_Rj"
   },
   "outputs": [],
   "source": [
    "pca = decomposition.PCA(n_components=3,whiten=False)"
   ]
  },
  {
   "cell_type": "code",
   "execution_count": 288,
   "metadata": {
    "colab": {
     "base_uri": "https://localhost:8080/"
    },
    "id": "IGm14BahYDDC",
    "outputId": "b5859dfb-cb61-4860-8bca-7226fb34d1ed"
   },
   "outputs": [
    {
     "data": {
      "text/plain": [
       "array([[-1.65749015e-04, -1.46329537e-04, -1.08865984e-04, ...,\n",
       "         1.72131446e-04,  1.45750538e-04,  1.07040829e-04],\n",
       "       [-7.44306354e-05, -6.41844571e-05, -4.45633100e-05, ...,\n",
       "         8.21708170e-05,  7.37978210e-05,  8.18675202e-05],\n",
       "       [ 2.23922316e-04,  1.69945274e-04,  6.52711556e-05, ...,\n",
       "        -7.93449980e-04, -7.25514945e-04, -6.09650102e-04],\n",
       "       ...,\n",
       "       [ 4.47665163e-05,  7.83767079e-05,  1.38323416e-04, ...,\n",
       "         2.82785082e-04,  2.48856720e-04,  2.11322824e-04],\n",
       "       [ 9.41414098e-04,  8.91434923e-04,  7.94245291e-04, ...,\n",
       "        -1.45335103e-04, -1.89366493e-04, -2.21481527e-04],\n",
       "       [ 1.30009353e-03,  1.13667587e-03,  8.35302629e-04, ...,\n",
       "        -6.49598072e-04, -6.18249935e-04, -6.37541540e-04]])"
      ]
     },
     "execution_count": 288,
     "metadata": {},
     "output_type": "execute_result"
    }
   ],
   "source": [
    "cambios_tasas = np.diff(curvas.values,axis=0)\n",
    "cambios_tasas"
   ]
  },
  {
   "cell_type": "code",
   "execution_count": 289,
   "metadata": {
    "id": "6MmzhPkKYIhh"
   },
   "outputs": [],
   "source": [
    "x_r = pca.fit_transform(cambios_tasas)"
   ]
  },
  {
   "cell_type": "code",
   "execution_count": 290,
   "metadata": {
    "id": "Jmp-eUJfYO-e"
   },
   "outputs": [],
   "source": [
    "def PriceTermStructShift(spread,shift,bono):\n",
    "    ql_curvacero_shift = ql.ZeroCurve(fecha_calc_ql+plazos_numeros_array,tasa_actual+shift,ql.Thirty360(ql.Thirty360.BondBasis))\n",
    "    ql_curva_shift = ql.YieldTermStructureHandle(ql_curvacero_shift)\n",
    "    term_structure_spread = ql.ZeroSpreadedTermStructure(ql_curva_shift,ql.QuoteHandle(ql.SimpleQuote(spread)),ql.Compounded,ql.Semiannual,dayCount)\n",
    "    pricing_engine_shift = ql.DiscountingBondEngine(ql.RelinkableYieldTermStructureHandle(term_structure_spread))\n",
    "    bono.setPricingEngine(pricing_engine_shift)\n",
    "    return bono.NPV()"
   ]
  },
  {
   "cell_type": "code",
   "execution_count": 291,
   "metadata": {
    "id": "WxkbOZ1KYlmB"
   },
   "outputs": [],
   "source": [
    "comp = pca.components_"
   ]
  },
  {
   "cell_type": "code",
   "execution_count": 292,
   "metadata": {
    "colab": {
     "base_uri": "https://localhost:8080/"
    },
    "id": "VcNO4OkBYZk1",
    "outputId": "6c74dd85-ac94-4ceb-a1fe-ec4f85a0a144"
   },
   "outputs": [
    {
     "name": "stdout",
     "output_type": "stream",
     "text": [
      "[ 0.00388177 -0.79096279  0.0326587 ]\n"
     ]
    }
   ],
   "source": [
    "dur_pca = np.zeros(3)\n",
    "delta = .0001\n",
    "for icomp in range(0,3):\n",
    "    nuevo_precio = PriceTermStructShift(spread_estimado1,delta*comp[icomp],bono1)\n",
    "    dur_pca[icomp] = (1/p1)*(p1-nuevo_precio)/(delta)\n",
    "print(dur_pca)"
   ]
  },
  {
   "cell_type": "code",
   "execution_count": 293,
   "metadata": {
    "colab": {
     "base_uri": "https://localhost:8080/"
    },
    "id": "pq9rpb6pFWbX",
    "outputId": "2326c51a-c692-4ef6-ff77-1d0a3c5802f7"
   },
   "outputs": [
    {
     "name": "stdout",
     "output_type": "stream",
     "text": [
      "[ 0.03464572 -2.66356874  0.22351288]\n"
     ]
    }
   ],
   "source": [
    "dur_pca2 = np.zeros(3)\n",
    "for icomp in range(0,3):\n",
    "    nuevo_precio2 = PriceTermStructShift(spread_estimado2,delta*comp[icomp],bono2)\n",
    "    dur_pca2[icomp] = (1/p2)*(p2-nuevo_precio2)/(delta)\n",
    "print(dur_pca2)"
   ]
  },
  {
   "cell_type": "code",
   "execution_count": 294,
   "metadata": {
    "id": "E8n9VheeZCaS"
   },
   "outputs": [],
   "source": [
    "from numpy.linalg import norm"
   ]
  },
  {
   "cell_type": "code",
   "execution_count": 295,
   "metadata": {
    "colab": {
     "base_uri": "https://localhost:8080/"
    },
    "id": "upVevpuSZETY",
    "outputId": "886226a3-02a4-4757-ef94-27600383e644"
   },
   "outputs": [
    {
     "data": {
      "text/plain": [
       "array([[1.24052678e-04, 1.87670999e-22, 4.28962284e-22],\n",
       "       [1.87670999e-22, 1.84952635e-06, 5.46256658e-22],\n",
       "       [4.28962284e-22, 5.46256658e-22, 1.04828946e-06]])"
      ]
     },
     "execution_count": 295,
     "metadata": {},
     "output_type": "execute_result"
    }
   ],
   "source": [
    "covar = np.cov(np.transpose(x_r)) #valores propios de los componentes principales en la diagonal\n",
    "covar"
   ]
  },
  {
   "cell_type": "code",
   "execution_count": 296,
   "metadata": {
    "colab": {
     "base_uri": "https://localhost:8080/"
    },
    "id": "35MR-P81ZGwu",
    "outputId": "07b11622-4c49-4176-b3d5-434e9d84ace0"
   },
   "outputs": [
    {
     "name": "stdout",
     "output_type": "stream",
     "text": [
      "0.001077075645289994\n"
     ]
    }
   ],
   "source": [
    "sigma = np.sqrt(np.dot(np.dot(np.transpose(dur_pca),covar),dur_pca))\n",
    "print(sigma)"
   ]
  },
  {
   "cell_type": "code",
   "execution_count": 297,
   "metadata": {
    "colab": {
     "base_uri": "https://localhost:8080/"
    },
    "id": "TaPF9cJ_FQo9",
    "outputId": "7f46e707-49ef-4ae3-f3ff-6915d833f0ea"
   },
   "outputs": [
    {
     "name": "stdout",
     "output_type": "stream",
     "text": [
      "0.001077075645289994\n"
     ]
    }
   ],
   "source": [
    "sigma2 = np.sqrt(np.dot(np.dot(np.transpose(dur_pca2),covar),dur_pca2))\n",
    "print(sigma)"
   ]
  },
  {
   "cell_type": "code",
   "execution_count": 298,
   "metadata": {
    "colab": {
     "base_uri": "https://localhost:8080/"
    },
    "id": "bNO937hlZIpk",
    "outputId": "d4110676-402d-4b81-bc35-a900700731d8"
   },
   "outputs": [
    {
     "name": "stdout",
     "output_type": "stream",
     "text": [
      "El riesgo del portafolio por análisis de componentes principales es: 2024165.635233649\n"
     ]
    }
   ],
   "source": [
    "VaR = M1*sigma*zq+M2*sigma2*zq\n",
    "print(\"El riesgo del portafolio por análisis de componentes principales es:\", VaR)"
   ]
  },
  {
   "cell_type": "markdown",
   "metadata": {
    "id": "CxZCJat8ZYaS"
   },
   "source": [
    "### c) Enfoque por simulación histórica"
   ]
  },
  {
   "cell_type": "code",
   "execution_count": 299,
   "metadata": {
    "colab": {
     "base_uri": "https://localhost:8080/"
    },
    "id": "Ahl9mAToZbqA",
    "outputId": "e1d2af94-ad70-49ec-e64f-3dbefc7cd1f4"
   },
   "outputs": [
    {
     "data": {
      "text/plain": [
       "array([99.82662189, 99.83660687, 99.96510786, ..., 99.78351626,\n",
       "       99.81850077, 99.95150933])"
      ]
     },
     "execution_count": 299,
     "metadata": {},
     "output_type": "execute_result"
    }
   ],
   "source": [
    "n = len(cambios_tasas)\n",
    "precios_historicos1 = np.zeros(n)\n",
    "for i in range(0,n):\n",
    "    precios_historicos1[i] = PriceTermStructShift(spread_estimado1, cambios_tasas[i,:],bono1)\n",
    "\n",
    "precios_historicos1"
   ]
  },
  {
   "cell_type": "code",
   "execution_count": 300,
   "metadata": {
    "colab": {
     "base_uri": "https://localhost:8080/"
    },
    "id": "EeLlJuFuv0dr",
    "outputId": "d2e4e9ff-776a-406a-d793-a4a2c9287f48"
   },
   "outputs": [
    {
     "data": {
      "text/plain": [
       "array([ 99.90330555,  99.94747637, 100.44553635, ...,  99.83632727,\n",
       "       100.10393461, 100.37984557])"
      ]
     },
     "execution_count": 300,
     "metadata": {},
     "output_type": "execute_result"
    }
   ],
   "source": [
    "precios_historicos2 = np.zeros(n)\n",
    "for i in range(0,n):\n",
    "    precios_historicos2[i] = PriceTermStructShift(spread_estimado2, cambios_tasas[i,:],bono2)\n",
    "\n",
    "precios_historicos2"
   ]
  },
  {
   "cell_type": "code",
   "execution_count": 301,
   "metadata": {
    "id": "GdSJjtF-DiL1"
   },
   "outputs": [],
   "source": [
    "valor_cartera_historico = N1*precios_historicos1+N2*precios_historicos2"
   ]
  },
  {
   "cell_type": "code",
   "execution_count": 302,
   "metadata": {
    "colab": {
     "base_uri": "https://localhost:8080/"
    },
    "id": "GO2TBUWhZd30",
    "outputId": "a4da2cbf-e907-4ac6-d3a3-907d673ab2b6"
   },
   "outputs": [
    {
     "name": "stdout",
     "output_type": "stream",
     "text": [
      "El riesgo del portafolio por aproximación Delta-Normal es: 2490484.6527523696\n"
     ]
    }
   ],
   "source": [
    "VaRHist = (valor_cartera-np.quantile(valor_cartera_historico,1-nivel_conf))\n",
    "VaRHist\n",
    "print(\"El riesgo del portafolio por aproximación Delta-Normal es:\", VaRHist)"
   ]
  }
 ],
 "metadata": {
  "colab": {
   "provenance": []
  },
  "kernelspec": {
   "display_name": "Python 3 (ipykernel)",
   "language": "python",
   "name": "python3"
  },
  "language_info": {
   "codemirror_mode": {
    "name": "ipython",
    "version": 3
   },
   "file_extension": ".py",
   "mimetype": "text/x-python",
   "name": "python",
   "nbconvert_exporter": "python",
   "pygments_lexer": "ipython3",
   "version": "3.10.9"
  }
 },
 "nbformat": 4,
 "nbformat_minor": 1
}
