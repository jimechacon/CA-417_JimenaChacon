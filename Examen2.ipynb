{
 "cells": [
  {
   "cell_type": "markdown",
   "metadata": {},
   "source": [
    "# Examen Parcial II - CA417\n",
    "\n",
    "## Jimena Chacón Chavarría"
   ]
  },
  {
   "cell_type": "markdown",
   "metadata": {},
   "source": [
    "### Selección Única\n",
    "\n",
    "1. b\n",
    "2. c\n",
    "3. d\n",
    "4. b\n",
    "5. b\n",
    "6. b\n",
    "7. b\n",
    "8. c\n",
    "9. c\n",
    "10. a"
   ]
  },
  {
   "cell_type": "markdown",
   "metadata": {},
   "source": [
    "### Pregunta 11\n",
    "\n",
    "La función de exceso medio en riesgo operativo, es útil ya que permite la definición de un umbral c, a partir del cual se calcula la media de los excesos condicionada a que las pérdidas superen dicho umbral. En la naturaleza del riesgo operativo, las pérdidas extremas suelen ser comunes, y mediante esta función permiten hacerse modelaciones y administrar mejor este riesgo ya que se pueden tomar los eventos extremos después del umbral definida. Esta función facilita el ajuste de modelos estadísticos para extrapolar riesgos más allá de los datos observados, permitiendo estimar la probabilidad de eventos extremos con pérdidas significativas."
   ]
  },
  {
   "cell_type": "markdown",
   "metadata": {},
   "source": [
    "### Pregunta 12\n",
    "\n",
    "El modelo propuesto se basa en asociar a cada deudor dos variables: $X_i$ que representa un valor, y $K_i$\n",
    "un umbral. Con estas dos variables, se define una variable binaria $Y_i$, usualmente por medio de una dummy\n",
    "​que toma el valor de 0 o 1. Se asume que existe una relación de dependencia entre los valores $X_i$ y los umbrales $K_i$.\n",
    "\n",
    "La estructura del modelo comienza estableciendo un umbral que permite distinguir entre riesgos normales o predecibles (aquellos por debajo del umbral) y riesgos que presentan un comportamiento más extremo o agresivo (los que superan el umbral). A partir de esta clasificación, se desarrollan modelos específicos para cada tipo de riesgo. Los parámetros de estos modelos se ajustan utilizando datos históricos y aplicando métodos estadísticos apropiados."
   ]
  },
  {
   "cell_type": "markdown",
   "metadata": {},
   "source": [
    "### Pregunta 13"
   ]
  },
  {
   "cell_type": "code",
   "execution_count": 30,
   "metadata": {},
   "outputs": [],
   "source": [
    "import numpy as np\n",
    "import pandas as pd\n",
    "import matplotlib.pyplot as plt\n",
    "from sklearn.model_selection import train_test_split, KFold, cross_val_score \n",
    "\n",
    "dfData = pd.read_csv('loan_sample.csv')\n",
    "\n",
    "dfData = dfData[['delinq_2yrs','home_ownership', 'annual_inc','purpose','term']].copy()"
   ]
  },
  {
   "cell_type": "code",
   "execution_count": 91,
   "metadata": {},
   "outputs": [
    {
     "data": {
      "text/html": [
       "<div>\n",
       "<style scoped>\n",
       "    .dataframe tbody tr th:only-of-type {\n",
       "        vertical-align: middle;\n",
       "    }\n",
       "\n",
       "    .dataframe tbody tr th {\n",
       "        vertical-align: top;\n",
       "    }\n",
       "\n",
       "    .dataframe thead th {\n",
       "        text-align: right;\n",
       "    }\n",
       "</style>\n",
       "<table border=\"1\" class=\"dataframe\">\n",
       "  <thead>\n",
       "    <tr style=\"text-align: right;\">\n",
       "      <th></th>\n",
       "      <th>delinq_2yrs</th>\n",
       "      <th>home_ownership</th>\n",
       "      <th>annual_inc</th>\n",
       "      <th>purpose</th>\n",
       "      <th>term</th>\n",
       "      <th>Impago</th>\n",
       "    </tr>\n",
       "  </thead>\n",
       "  <tbody>\n",
       "    <tr>\n",
       "      <th>11</th>\n",
       "      <td>0.0</td>\n",
       "      <td>OWN</td>\n",
       "      <td>55000.0</td>\n",
       "      <td>home_improvement</td>\n",
       "      <td>36 months</td>\n",
       "      <td>0.0</td>\n",
       "    </tr>\n",
       "    <tr>\n",
       "      <th>37</th>\n",
       "      <td>1.0</td>\n",
       "      <td>MORTGAGE</td>\n",
       "      <td>89000.0</td>\n",
       "      <td>home_improvement</td>\n",
       "      <td>36 months</td>\n",
       "      <td>1.0</td>\n",
       "    </tr>\n",
       "    <tr>\n",
       "      <th>38</th>\n",
       "      <td>0.0</td>\n",
       "      <td>OWN</td>\n",
       "      <td>65000.0</td>\n",
       "      <td>home_improvement</td>\n",
       "      <td>60 months</td>\n",
       "      <td>0.0</td>\n",
       "    </tr>\n",
       "    <tr>\n",
       "      <th>39</th>\n",
       "      <td>0.0</td>\n",
       "      <td>OWN</td>\n",
       "      <td>67500.0</td>\n",
       "      <td>house</td>\n",
       "      <td>36 months</td>\n",
       "      <td>0.0</td>\n",
       "    </tr>\n",
       "    <tr>\n",
       "      <th>40</th>\n",
       "      <td>1.0</td>\n",
       "      <td>MORTGAGE</td>\n",
       "      <td>30000.0</td>\n",
       "      <td>home_improvement</td>\n",
       "      <td>36 months</td>\n",
       "      <td>1.0</td>\n",
       "    </tr>\n",
       "    <tr>\n",
       "      <th>...</th>\n",
       "      <td>...</td>\n",
       "      <td>...</td>\n",
       "      <td>...</td>\n",
       "      <td>...</td>\n",
       "      <td>...</td>\n",
       "      <td>...</td>\n",
       "    </tr>\n",
       "    <tr>\n",
       "      <th>99935</th>\n",
       "      <td>0.0</td>\n",
       "      <td>RENT</td>\n",
       "      <td>69123.0</td>\n",
       "      <td>house</td>\n",
       "      <td>36 months</td>\n",
       "      <td>0.0</td>\n",
       "    </tr>\n",
       "    <tr>\n",
       "      <th>99946</th>\n",
       "      <td>0.0</td>\n",
       "      <td>MORTGAGE</td>\n",
       "      <td>165000.0</td>\n",
       "      <td>home_improvement</td>\n",
       "      <td>36 months</td>\n",
       "      <td>0.0</td>\n",
       "    </tr>\n",
       "    <tr>\n",
       "      <th>99950</th>\n",
       "      <td>0.0</td>\n",
       "      <td>OWN</td>\n",
       "      <td>250000.0</td>\n",
       "      <td>home_improvement</td>\n",
       "      <td>36 months</td>\n",
       "      <td>0.0</td>\n",
       "    </tr>\n",
       "    <tr>\n",
       "      <th>99952</th>\n",
       "      <td>0.0</td>\n",
       "      <td>OWN</td>\n",
       "      <td>36000.0</td>\n",
       "      <td>home_improvement</td>\n",
       "      <td>36 months</td>\n",
       "      <td>0.0</td>\n",
       "    </tr>\n",
       "    <tr>\n",
       "      <th>99977</th>\n",
       "      <td>2.0</td>\n",
       "      <td>MORTGAGE</td>\n",
       "      <td>75880.0</td>\n",
       "      <td>home_improvement</td>\n",
       "      <td>36 months</td>\n",
       "      <td>2.0</td>\n",
       "    </tr>\n",
       "  </tbody>\n",
       "</table>\n",
       "<p>6385 rows × 6 columns</p>\n",
       "</div>"
      ],
      "text/plain": [
       "       delinq_2yrs home_ownership  annual_inc           purpose        term  \\\n",
       "11             0.0            OWN     55000.0  home_improvement   36 months   \n",
       "37             1.0       MORTGAGE     89000.0  home_improvement   36 months   \n",
       "38             0.0            OWN     65000.0  home_improvement   60 months   \n",
       "39             0.0            OWN     67500.0             house   36 months   \n",
       "40             1.0       MORTGAGE     30000.0  home_improvement   36 months   \n",
       "...            ...            ...         ...               ...         ...   \n",
       "99935          0.0           RENT     69123.0             house   36 months   \n",
       "99946          0.0       MORTGAGE    165000.0  home_improvement   36 months   \n",
       "99950          0.0            OWN    250000.0  home_improvement   36 months   \n",
       "99952          0.0            OWN     36000.0  home_improvement   36 months   \n",
       "99977          2.0       MORTGAGE     75880.0  home_improvement   36 months   \n",
       "\n",
       "       Impago  \n",
       "11        0.0  \n",
       "37        1.0  \n",
       "38        0.0  \n",
       "39        0.0  \n",
       "40        1.0  \n",
       "...       ...  \n",
       "99935     0.0  \n",
       "99946     0.0  \n",
       "99950     0.0  \n",
       "99952     0.0  \n",
       "99977     2.0  \n",
       "\n",
       "[6385 rows x 6 columns]"
      ]
     },
     "execution_count": 91,
     "metadata": {},
     "output_type": "execute_result"
    }
   ],
   "source": [
    "dfData['Impago'] = dfData['delinq_2yrs']\n",
    "data_loan= dfData[(dfData['purpose'] == 'house') | (dfData['purpose'] == 'home_improvement')]\n",
    "data_loan"
   ]
  },
  {
   "cell_type": "code",
   "execution_count": 92,
   "metadata": {},
   "outputs": [
    {
     "name": "stderr",
     "output_type": "stream",
     "text": [
      "/tmp/ipykernel_5931/914271577.py:1: SettingWithCopyWarning: \n",
      "A value is trying to be set on a copy of a slice from a DataFrame.\n",
      "Try using .loc[row_indexer,col_indexer] = value instead\n",
      "\n",
      "See the caveats in the documentation: https://pandas.pydata.org/pandas-docs/stable/user_guide/indexing.html#returning-a-view-versus-a-copy\n",
      "  data_loan['annual_inc'] = pd.to_numeric(data_loan['annual_inc'],errors='coerce')\n"
     ]
    },
    {
     "data": {
      "text/plain": [
       "np.int64(0)"
      ]
     },
     "execution_count": 92,
     "metadata": {},
     "output_type": "execute_result"
    }
   ],
   "source": [
    "data_loan['annual_inc'] = pd.to_numeric(data_loan['annual_inc'],errors='coerce')\n",
    "data_loan['annual_inc'].isna().sum()"
   ]
  },
  {
   "cell_type": "markdown",
   "metadata": {},
   "source": [
    "### Variable dependiente"
   ]
  },
  {
   "cell_type": "code",
   "execution_count": 93,
   "metadata": {},
   "outputs": [
    {
     "name": "stderr",
     "output_type": "stream",
     "text": [
      "/tmp/ipykernel_5931/3533547517.py:3: SettingWithCopyWarning: \n",
      "A value is trying to be set on a copy of a slice from a DataFrame.\n",
      "Try using .loc[row_indexer,col_indexer] = value instead\n",
      "\n",
      "See the caveats in the documentation: https://pandas.pydata.org/pandas-docs/stable/user_guide/indexing.html#returning-a-view-versus-a-copy\n",
      "  data_loan['malo'] = data_loan['delinq_2yrs'].apply(lambda x: 1 if x > 0 else 0)\n"
     ]
    },
    {
     "data": {
      "text/plain": [
       "malo\n",
       "0    4967\n",
       "1    1418\n",
       "Name: count, dtype: int64"
      ]
     },
     "execution_count": 93,
     "metadata": {},
     "output_type": "execute_result"
    }
   ],
   "source": [
    "data_loan['delinq_2yrs'].unique()\n",
    "data_loan['delinq_2yrs'].value_counts()\n",
    "data_loan['malo'] = data_loan['delinq_2yrs'].apply(lambda x: 1 if x > 0 else 0)\n",
    "data_loan['malo'].value_counts()"
   ]
  },
  {
   "cell_type": "markdown",
   "metadata": {},
   "source": [
    "### Variables independientes"
   ]
  },
  {
   "cell_type": "code",
   "execution_count": 94,
   "metadata": {},
   "outputs": [],
   "source": [
    "from sklearn.model_selection import train_test_split, KFold, cross_val_score \n",
    "from sklearn.metrics import accuracy_score, confusion_matrix, classification_report, roc_curve, auc\n",
    "\n",
    "data_loan2, data_test = train_test_split(data_loan, test_size = 0.25, random_state=42)"
   ]
  },
  {
   "cell_type": "markdown",
   "metadata": {},
   "source": [
    "Annual Income"
   ]
  },
  {
   "cell_type": "code",
   "execution_count": 95,
   "metadata": {},
   "outputs": [
    {
     "data": {
      "text/plain": [
       "Annual_IncomeCat\n",
       "(38772.884, 61107.2]    1329\n",
       "(61107.2, 83330.4]      1082\n",
       "(83330.4, 105553.6]      750\n",
       "(105553.6, 127776.8]     436\n",
       "(127776.8, 150000.0]     287\n",
       "Name: count, dtype: int64"
      ]
     },
     "execution_count": 95,
     "metadata": {},
     "output_type": "execute_result"
    }
   ],
   "source": [
    "cuantial_al_10 = data_loan2['annual_inc'].quantile(.10)\n",
    "cuantil_al_90 = data_loan2['annual_inc'].quantile(.90)\n",
    "data_loan2 = data_loan2.loc[(data_loan2['annual_inc']<=cuantil_al_90)&(data_loan2['annual_inc']>=cuantial_al_10),:].copy()\n",
    "\n",
    "data_loan2['Annual_IncomeCat'], binsAnIn = pd.cut(data_loan2['annual_inc'],bins = 5, retbins=True)\n",
    "data_loan2['Annual_IncomeCat'].value_counts()"
   ]
  },
  {
   "cell_type": "code",
   "execution_count": 96,
   "metadata": {},
   "outputs": [
    {
     "name": "stderr",
     "output_type": "stream",
     "text": [
      "/tmp/ipykernel_5931/1322053600.py:1: FutureWarning: The default of observed=False is deprecated and will be changed to True in a future version of pandas. Pass observed=False to retain current behavior or observed=True to adopt the future default and silence this warning.\n",
      "  dfTablaWoeIngresoAn = data_loan2[['Annual_IncomeCat','malo']].groupby('Annual_IncomeCat').agg({'malo':['sum','count']})\n"
     ]
    },
    {
     "data": {
      "text/html": [
       "<div>\n",
       "<style scoped>\n",
       "    .dataframe tbody tr th:only-of-type {\n",
       "        vertical-align: middle;\n",
       "    }\n",
       "\n",
       "    .dataframe tbody tr th {\n",
       "        vertical-align: top;\n",
       "    }\n",
       "\n",
       "    .dataframe thead th {\n",
       "        text-align: right;\n",
       "    }\n",
       "</style>\n",
       "<table border=\"1\" class=\"dataframe\">\n",
       "  <thead>\n",
       "    <tr style=\"text-align: right;\">\n",
       "      <th></th>\n",
       "      <th>malo</th>\n",
       "      <th>total</th>\n",
       "      <th>probMalo</th>\n",
       "    </tr>\n",
       "    <tr>\n",
       "      <th>Annual_IncomeCat</th>\n",
       "      <th></th>\n",
       "      <th></th>\n",
       "      <th></th>\n",
       "    </tr>\n",
       "  </thead>\n",
       "  <tbody>\n",
       "    <tr>\n",
       "      <th>(38772.884, 61107.2]</th>\n",
       "      <td>243</td>\n",
       "      <td>1329</td>\n",
       "      <td>0.182844</td>\n",
       "    </tr>\n",
       "    <tr>\n",
       "      <th>(61107.2, 83330.4]</th>\n",
       "      <td>270</td>\n",
       "      <td>1082</td>\n",
       "      <td>0.249538</td>\n",
       "    </tr>\n",
       "    <tr>\n",
       "      <th>(83330.4, 105553.6]</th>\n",
       "      <td>186</td>\n",
       "      <td>750</td>\n",
       "      <td>0.248000</td>\n",
       "    </tr>\n",
       "    <tr>\n",
       "      <th>(105553.6, 127776.8]</th>\n",
       "      <td>101</td>\n",
       "      <td>436</td>\n",
       "      <td>0.231651</td>\n",
       "    </tr>\n",
       "    <tr>\n",
       "      <th>(127776.8, 150000.0]</th>\n",
       "      <td>84</td>\n",
       "      <td>287</td>\n",
       "      <td>0.292683</td>\n",
       "    </tr>\n",
       "  </tbody>\n",
       "</table>\n",
       "</div>"
      ],
      "text/plain": [
       "                      malo  total  probMalo\n",
       "Annual_IncomeCat                           \n",
       "(38772.884, 61107.2]   243   1329  0.182844\n",
       "(61107.2, 83330.4]     270   1082  0.249538\n",
       "(83330.4, 105553.6]    186    750  0.248000\n",
       "(105553.6, 127776.8]   101    436  0.231651\n",
       "(127776.8, 150000.0]    84    287  0.292683"
      ]
     },
     "execution_count": 96,
     "metadata": {},
     "output_type": "execute_result"
    }
   ],
   "source": [
    "dfTablaWoeIngresoAn = data_loan2[['Annual_IncomeCat','malo']].groupby('Annual_IncomeCat').agg({'malo':['sum','count']})\n",
    "dfTablaWoeIngresoAn.columns = ['malo','total']\n",
    "dfTablaWoeIngresoAn['probMalo'] = dfTablaWoeIngresoAn['malo'] / dfTablaWoeIngresoAn['total']\n",
    "dfTablaWoeIngresoAn"
   ]
  },
  {
   "cell_type": "code",
   "execution_count": 97,
   "metadata": {},
   "outputs": [],
   "source": [
    "dfTablaWoeIngresoAn.index = dfTablaWoeIngresoAn.index.astype(str)\n"
   ]
  },
  {
   "cell_type": "code",
   "execution_count": 98,
   "metadata": {},
   "outputs": [
    {
     "data": {
      "text/plain": [
       "Annual_IncomeCat\n",
       "(38772.884, 61107.2]    1329\n",
       "(61107.2, 83330.4]      1082\n",
       "(83330.4, 105553.6]      750\n",
       "(105553.6, 127776.8]     436\n",
       "(127776.8, 150000.0]     287\n",
       "Name: count, dtype: int64"
      ]
     },
     "execution_count": 98,
     "metadata": {},
     "output_type": "execute_result"
    }
   ],
   "source": [
    "dfCountAnnual_IncomeCat=data_loan2['Annual_IncomeCat'].value_counts().sort_index()\n",
    "dfCountAnnual_IncomeCat"
   ]
  },
  {
   "cell_type": "code",
   "execution_count": 99,
   "metadata": {},
   "outputs": [],
   "source": [
    "dfTablaWoeIngresoAn['bueno'] = dfTablaWoeIngresoAn['total']-dfTablaWoeIngresoAn['malo']\n",
    "dfTablaWoeIngresoAn['distBad'] = dfTablaWoeIngresoAn['malo'] / dfTablaWoeIngresoAn['malo'].sum() \n",
    "dfTablaWoeIngresoAn['distGood'] = dfTablaWoeIngresoAn['bueno'] / dfTablaWoeIngresoAn['bueno'].sum()\n",
    "dfTablaWoeIngresoAn['woe_IngAn'] = np.log(dfTablaWoeIngresoAn['distBad']/dfTablaWoeIngresoAn['distGood'])"
   ]
  },
  {
   "cell_type": "code",
   "execution_count": 100,
   "metadata": {},
   "outputs": [
    {
     "data": {
      "image/png": "[encoded data removed]",
      "text/plain": [
       "<Figure size 640x480 with 1 Axes>"
      ]
     },
     "metadata": {},
     "output_type": "display_data"
    }
   ],
   "source": [
    "ax = dfTablaWoeIngresoAn.plot.bar(y='probMalo', rot=0)"
   ]
  },
  {
   "cell_type": "code",
   "execution_count": 101,
   "metadata": {},
   "outputs": [
    {
     "data": {
      "text/plain": [
       "<Axes: xlabel='Annual_IncomeCat'>"
      ]
     },
     "execution_count": 101,
     "metadata": {},
     "output_type": "execute_result"
    },
    {
     "data": {
      "image/png": "[encoded data removed]",
      "text/plain": [
       "<Figure size 640x480 with 1 Axes>"
      ]
     },
     "metadata": {},
     "output_type": "display_data"
    }
   ],
   "source": [
    "dfTablaWoeIngresoAn[['malo','bueno']].plot.bar(stacked=True)"
   ]
  },
  {
   "cell_type": "code",
   "execution_count": 102,
   "metadata": {},
   "outputs": [
    {
     "data": {
      "text/plain": [
       "np.float64(0.040051696952288454)"
      ]
     },
     "execution_count": 102,
     "metadata": {},
     "output_type": "execute_result"
    }
   ],
   "source": [
    "information_value_IngreAnual = (dfTablaWoeIngresoAn['woe_IngAn'] *(dfTablaWoeIngresoAn['distBad'] -dfTablaWoeIngresoAn['distGood'] )).sum()\n",
    "information_value_IngreAnual"
   ]
  },
  {
   "cell_type": "code",
   "execution_count": 103,
   "metadata": {},
   "outputs": [
    {
     "data": {
      "text/html": [
       "<div>\n",
       "<style scoped>\n",
       "    .dataframe tbody tr th:only-of-type {\n",
       "        vertical-align: middle;\n",
       "    }\n",
       "\n",
       "    .dataframe tbody tr th {\n",
       "        vertical-align: top;\n",
       "    }\n",
       "\n",
       "    .dataframe thead th {\n",
       "        text-align: right;\n",
       "    }\n",
       "</style>\n",
       "<table border=\"1\" class=\"dataframe\">\n",
       "  <thead>\n",
       "    <tr style=\"text-align: right;\">\n",
       "      <th></th>\n",
       "      <th>malo</th>\n",
       "      <th>bueno</th>\n",
       "    </tr>\n",
       "    <tr>\n",
       "      <th>Annual_IncomeCat</th>\n",
       "      <th></th>\n",
       "      <th></th>\n",
       "    </tr>\n",
       "  </thead>\n",
       "  <tbody>\n",
       "    <tr>\n",
       "      <th>(38772.884, 61107.2]</th>\n",
       "      <td>243</td>\n",
       "      <td>1086</td>\n",
       "    </tr>\n",
       "    <tr>\n",
       "      <th>(61107.2, 83330.4]</th>\n",
       "      <td>270</td>\n",
       "      <td>812</td>\n",
       "    </tr>\n",
       "    <tr>\n",
       "      <th>(83330.4, 105553.6]</th>\n",
       "      <td>186</td>\n",
       "      <td>564</td>\n",
       "    </tr>\n",
       "    <tr>\n",
       "      <th>(105553.6, 127776.8]</th>\n",
       "      <td>101</td>\n",
       "      <td>335</td>\n",
       "    </tr>\n",
       "    <tr>\n",
       "      <th>(127776.8, 150000.0]</th>\n",
       "      <td>84</td>\n",
       "      <td>203</td>\n",
       "    </tr>\n",
       "  </tbody>\n",
       "</table>\n",
       "</div>"
      ],
      "text/plain": [
       "                      malo  bueno\n",
       "Annual_IncomeCat                 \n",
       "(38772.884, 61107.2]   243   1086\n",
       "(61107.2, 83330.4]     270    812\n",
       "(83330.4, 105553.6]    186    564\n",
       "(105553.6, 127776.8]   101    335\n",
       "(127776.8, 150000.0]    84    203"
      ]
     },
     "execution_count": 103,
     "metadata": {},
     "output_type": "execute_result"
    }
   ],
   "source": [
    "contingencia_AnIn = dfTablaWoeIngresoAn[['malo','bueno']]\n",
    "contingencia_AnIn"
   ]
  },
  {
   "cell_type": "code",
   "execution_count": 104,
   "metadata": {},
   "outputs": [
    {
     "data": {
      "text/plain": [
       "Chi2ContingencyResult(statistic=np.float64(26.836258179546935), pvalue=np.float64(2.145307190574155e-05), dof=4, expected_freq=array([[ 302.48094748, 1026.51905252],\n",
       "       [ 246.26364573,  835.73635427],\n",
       "       [ 170.70030896,  579.29969104],\n",
       "       [  99.23377961,  336.76622039],\n",
       "       [  65.32131823,  221.67868177]]))"
      ]
     },
     "execution_count": 104,
     "metadata": {},
     "output_type": "execute_result"
    }
   ],
   "source": [
    "from scipy.stats import chi2_contingency\n",
    "res_IngreAnual = chi2_contingency(contingencia_AnIn)\n",
    "res_IngreAnual"
   ]
  },
  {
   "cell_type": "code",
   "execution_count": 105,
   "metadata": {},
   "outputs": [],
   "source": [
    "dfTablaWoeIngresoAn.reset_index(inplace=True)\n",
    "data_loan2['Annual_IncomeCat'] = data_loan2['Annual_IncomeCat'].astype(str)"
   ]
  },
  {
   "cell_type": "code",
   "execution_count": 106,
   "metadata": {},
   "outputs": [],
   "source": [
    "data_loan2 = pd.merge(data_loan2,dfTablaWoeIngresoAn[['Annual_IncomeCat','woe_IngAn']],on='Annual_IncomeCat')"
   ]
  },
  {
   "cell_type": "code",
   "execution_count": 107,
   "metadata": {},
   "outputs": [
    {
     "data": {
      "text/plain": [
       "Annual_IncomeCat\n",
       "(38772.884, 61107.2]    1329\n",
       "(61107.2, 83330.4]      1082\n",
       "(83330.4, 105553.6]      750\n",
       "(105553.6, 127776.8]     436\n",
       "(127776.8, 150000.0]     287\n",
       "Name: count, dtype: int64"
      ]
     },
     "execution_count": 107,
     "metadata": {},
     "output_type": "execute_result"
    }
   ],
   "source": [
    "data_loan2['Annual_IncomeCat'].value_counts()"
   ]
  },
  {
   "cell_type": "markdown",
   "metadata": {},
   "source": [
    "Home Ownership"
   ]
  },
  {
   "cell_type": "code",
   "execution_count": 108,
   "metadata": {},
   "outputs": [
    {
     "data": {
      "text/html": [
       "<div>\n",
       "<style scoped>\n",
       "    .dataframe tbody tr th:only-of-type {\n",
       "        vertical-align: middle;\n",
       "    }\n",
       "\n",
       "    .dataframe tbody tr th {\n",
       "        vertical-align: top;\n",
       "    }\n",
       "\n",
       "    .dataframe thead th {\n",
       "        text-align: right;\n",
       "    }\n",
       "</style>\n",
       "<table border=\"1\" class=\"dataframe\">\n",
       "  <thead>\n",
       "    <tr style=\"text-align: right;\">\n",
       "      <th></th>\n",
       "      <th>malo</th>\n",
       "      <th>total</th>\n",
       "      <th>probMalo</th>\n",
       "      <th>bueno</th>\n",
       "      <th>distBad</th>\n",
       "      <th>distGood</th>\n",
       "      <th>woe_home</th>\n",
       "    </tr>\n",
       "    <tr>\n",
       "      <th>home_ownership</th>\n",
       "      <th></th>\n",
       "      <th></th>\n",
       "      <th></th>\n",
       "      <th></th>\n",
       "      <th></th>\n",
       "      <th></th>\n",
       "      <th></th>\n",
       "    </tr>\n",
       "  </thead>\n",
       "  <tbody>\n",
       "    <tr>\n",
       "      <th>MORTGAGE</th>\n",
       "      <td>687</td>\n",
       "      <td>2940</td>\n",
       "      <td>0.233673</td>\n",
       "      <td>2253</td>\n",
       "      <td>0.777149</td>\n",
       "      <td>0.751000</td>\n",
       "      <td>0.034227</td>\n",
       "    </tr>\n",
       "    <tr>\n",
       "      <th>OWN</th>\n",
       "      <td>131</td>\n",
       "      <td>564</td>\n",
       "      <td>0.232270</td>\n",
       "      <td>433</td>\n",
       "      <td>0.148190</td>\n",
       "      <td>0.144333</td>\n",
       "      <td>0.026370</td>\n",
       "    </tr>\n",
       "    <tr>\n",
       "      <th>RENT</th>\n",
       "      <td>66</td>\n",
       "      <td>380</td>\n",
       "      <td>0.173684</td>\n",
       "      <td>314</td>\n",
       "      <td>0.074661</td>\n",
       "      <td>0.104667</td>\n",
       "      <td>-0.337828</td>\n",
       "    </tr>\n",
       "  </tbody>\n",
       "</table>\n",
       "</div>"
      ],
      "text/plain": [
       "                malo  total  probMalo  bueno   distBad  distGood  woe_home\n",
       "home_ownership                                                            \n",
       "MORTGAGE         687   2940  0.233673   2253  0.777149  0.751000  0.034227\n",
       "OWN              131    564  0.232270    433  0.148190  0.144333  0.026370\n",
       "RENT              66    380  0.173684    314  0.074661  0.104667 -0.337828"
      ]
     },
     "execution_count": 108,
     "metadata": {},
     "output_type": "execute_result"
    }
   ],
   "source": [
    "dfTablaWoeHome = data_loan2[['home_ownership','malo']].groupby('home_ownership').agg({'malo':['sum','count']})\n",
    "dfTablaWoeHome.columns = ['malo','total']\n",
    "dfTablaWoeHome['probMalo'] = dfTablaWoeHome['malo'] / dfTablaWoeHome['total']\n",
    "\n",
    "dfTablaWoeHome['bueno'] = dfTablaWoeHome['total']-dfTablaWoeHome['malo']\n",
    "dfTablaWoeHome['distBad'] = dfTablaWoeHome['malo'] / dfTablaWoeHome['malo'].sum() \n",
    "dfTablaWoeHome['distGood'] = dfTablaWoeHome['bueno'] / dfTablaWoeHome['bueno'].sum()\n",
    "dfTablaWoeHome['woe_home'] = np.log(dfTablaWoeHome['distBad']/dfTablaWoeHome['distGood'])\n",
    "dfTablaWoeHome"
   ]
  },
  {
   "cell_type": "code",
   "execution_count": 109,
   "metadata": {},
   "outputs": [],
   "source": [
    "dfTablaWoeHome.reset_index(inplace=True)\n",
    "dfTablaWoeHome.index = dfTablaWoeHome.index.astype(str)\n",
    "data_loan2['home_ownership'] = data_loan2['home_ownership'].astype(str)\n",
    "data_loan2 = pd.merge(data_loan2,dfTablaWoeHome[['home_ownership','woe_home']],on='home_ownership')"
   ]
  },
  {
   "cell_type": "code",
   "execution_count": 110,
   "metadata": {},
   "outputs": [
    {
     "name": "stdout",
     "output_type": "stream",
     "text": [
      "Optimization terminated successfully.\n",
      "         Current function value: 0.532115\n",
      "         Iterations 6\n",
      "                           Logit Regression Results                           \n",
      "==============================================================================\n",
      "Dep. Variable:                   malo   No. Observations:                 3884\n",
      "Model:                          Logit   Df Residuals:                     3881\n",
      "Method:                           MLE   Df Model:                            2\n",
      "Date:                Sat, 30 Nov 2024   Pseudo R-squ.:                0.007916\n",
      "Time:                        00:12:39   Log-Likelihood:                -2066.7\n",
      "converged:                       True   LL-Null:                       -2083.2\n",
      "Covariance Type:            nonrobust   LLR p-value:                 6.882e-08\n",
      "==============================================================================\n",
      "                 coef    std err          z      P>|z|      [0.025      0.975]\n",
      "------------------------------------------------------------------------------\n",
      "Intercept     -1.2219      0.039    -31.733      0.000      -1.297      -1.146\n",
      "woe_IngAn      0.9742      0.194      5.013      0.000       0.593       1.355\n",
      "woe_home       0.8985      0.382      2.352      0.019       0.150       1.647\n",
      "==============================================================================\n"
     ]
    }
   ],
   "source": [
    "import statsmodels.formula.api as smf\n",
    "model_train = smf.logit('malo ~ woe_IngAn + woe_home', data= data_loan2).fit()\n",
    "print(model_train.summary())"
   ]
  },
  {
   "cell_type": "code",
   "execution_count": 111,
   "metadata": {},
   "outputs": [
    {
     "data": {
      "text/html": [
       "<div>\n",
       "<style scoped>\n",
       "    .dataframe tbody tr th:only-of-type {\n",
       "        vertical-align: middle;\n",
       "    }\n",
       "\n",
       "    .dataframe tbody tr th {\n",
       "        vertical-align: top;\n",
       "    }\n",
       "\n",
       "    .dataframe thead th {\n",
       "        text-align: right;\n",
       "    }\n",
       "</style>\n",
       "<table border=\"1\" class=\"dataframe\">\n",
       "  <thead>\n",
       "    <tr style=\"text-align: right;\">\n",
       "      <th></th>\n",
       "      <th>delinq_2yrs</th>\n",
       "      <th>home_ownership</th>\n",
       "      <th>annual_inc</th>\n",
       "      <th>purpose</th>\n",
       "      <th>term</th>\n",
       "      <th>Impago</th>\n",
       "      <th>malo</th>\n",
       "      <th>Annual_IncomeCat</th>\n",
       "      <th>woe_IngAn</th>\n",
       "      <th>woe_home</th>\n",
       "    </tr>\n",
       "  </thead>\n",
       "  <tbody>\n",
       "    <tr>\n",
       "      <th>0</th>\n",
       "      <td>0.0</td>\n",
       "      <td>MORTGAGE</td>\n",
       "      <td>125000.0</td>\n",
       "      <td>home_improvement</td>\n",
       "      <td>60 months</td>\n",
       "      <td>0.0</td>\n",
       "      <td>0</td>\n",
       "      <td>(105553.6, 127776.8]</td>\n",
       "      <td>0.022900</td>\n",
       "      <td>0.034227</td>\n",
       "    </tr>\n",
       "    <tr>\n",
       "      <th>1</th>\n",
       "      <td>0.0</td>\n",
       "      <td>MORTGAGE</td>\n",
       "      <td>150000.0</td>\n",
       "      <td>home_improvement</td>\n",
       "      <td>60 months</td>\n",
       "      <td>0.0</td>\n",
       "      <td>0</td>\n",
       "      <td>(127776.8, 150000.0]</td>\n",
       "      <td>0.339521</td>\n",
       "      <td>0.034227</td>\n",
       "    </tr>\n",
       "    <tr>\n",
       "      <th>2</th>\n",
       "      <td>0.0</td>\n",
       "      <td>MORTGAGE</td>\n",
       "      <td>120000.0</td>\n",
       "      <td>home_improvement</td>\n",
       "      <td>60 months</td>\n",
       "      <td>0.0</td>\n",
       "      <td>0</td>\n",
       "      <td>(105553.6, 127776.8]</td>\n",
       "      <td>0.022900</td>\n",
       "      <td>0.034227</td>\n",
       "    </tr>\n",
       "    <tr>\n",
       "      <th>3</th>\n",
       "      <td>2.0</td>\n",
       "      <td>MORTGAGE</td>\n",
       "      <td>102000.0</td>\n",
       "      <td>home_improvement</td>\n",
       "      <td>36 months</td>\n",
       "      <td>2.0</td>\n",
       "      <td>1</td>\n",
       "      <td>(83330.4, 105553.6]</td>\n",
       "      <td>0.112603</td>\n",
       "      <td>0.034227</td>\n",
       "    </tr>\n",
       "    <tr>\n",
       "      <th>4</th>\n",
       "      <td>0.0</td>\n",
       "      <td>MORTGAGE</td>\n",
       "      <td>73000.0</td>\n",
       "      <td>home_improvement</td>\n",
       "      <td>60 months</td>\n",
       "      <td>0.0</td>\n",
       "      <td>0</td>\n",
       "      <td>(61107.2, 83330.4]</td>\n",
       "      <td>0.120832</td>\n",
       "      <td>0.034227</td>\n",
       "    </tr>\n",
       "    <tr>\n",
       "      <th>...</th>\n",
       "      <td>...</td>\n",
       "      <td>...</td>\n",
       "      <td>...</td>\n",
       "      <td>...</td>\n",
       "      <td>...</td>\n",
       "      <td>...</td>\n",
       "      <td>...</td>\n",
       "      <td>...</td>\n",
       "      <td>...</td>\n",
       "      <td>...</td>\n",
       "    </tr>\n",
       "    <tr>\n",
       "      <th>1289</th>\n",
       "      <td>0.0</td>\n",
       "      <td>MORTGAGE</td>\n",
       "      <td>107000.0</td>\n",
       "      <td>home_improvement</td>\n",
       "      <td>60 months</td>\n",
       "      <td>0.0</td>\n",
       "      <td>0</td>\n",
       "      <td>(105553.6, 127776.8]</td>\n",
       "      <td>0.022900</td>\n",
       "      <td>0.034227</td>\n",
       "    </tr>\n",
       "    <tr>\n",
       "      <th>1290</th>\n",
       "      <td>0.0</td>\n",
       "      <td>MORTGAGE</td>\n",
       "      <td>70000.0</td>\n",
       "      <td>home_improvement</td>\n",
       "      <td>60 months</td>\n",
       "      <td>0.0</td>\n",
       "      <td>0</td>\n",
       "      <td>(61107.2, 83330.4]</td>\n",
       "      <td>0.120832</td>\n",
       "      <td>0.034227</td>\n",
       "    </tr>\n",
       "    <tr>\n",
       "      <th>1291</th>\n",
       "      <td>0.0</td>\n",
       "      <td>MORTGAGE</td>\n",
       "      <td>65000.0</td>\n",
       "      <td>home_improvement</td>\n",
       "      <td>36 months</td>\n",
       "      <td>0.0</td>\n",
       "      <td>0</td>\n",
       "      <td>(61107.2, 83330.4]</td>\n",
       "      <td>0.120832</td>\n",
       "      <td>0.034227</td>\n",
       "    </tr>\n",
       "    <tr>\n",
       "      <th>1292</th>\n",
       "      <td>0.0</td>\n",
       "      <td>OWN</td>\n",
       "      <td>53000.0</td>\n",
       "      <td>home_improvement</td>\n",
       "      <td>60 months</td>\n",
       "      <td>0.0</td>\n",
       "      <td>0</td>\n",
       "      <td>(38772.884, 61107.2]</td>\n",
       "      <td>-0.275285</td>\n",
       "      <td>0.026370</td>\n",
       "    </tr>\n",
       "    <tr>\n",
       "      <th>1293</th>\n",
       "      <td>0.0</td>\n",
       "      <td>OWN</td>\n",
       "      <td>65000.0</td>\n",
       "      <td>home_improvement</td>\n",
       "      <td>36 months</td>\n",
       "      <td>0.0</td>\n",
       "      <td>0</td>\n",
       "      <td>(61107.2, 83330.4]</td>\n",
       "      <td>0.120832</td>\n",
       "      <td>0.026370</td>\n",
       "    </tr>\n",
       "  </tbody>\n",
       "</table>\n",
       "<p>1294 rows × 10 columns</p>\n",
       "</div>"
      ],
      "text/plain": [
       "      delinq_2yrs home_ownership  annual_inc           purpose        term  \\\n",
       "0             0.0       MORTGAGE    125000.0  home_improvement   60 months   \n",
       "1             0.0       MORTGAGE    150000.0  home_improvement   60 months   \n",
       "2             0.0       MORTGAGE    120000.0  home_improvement   60 months   \n",
       "3             2.0       MORTGAGE    102000.0  home_improvement   36 months   \n",
       "4             0.0       MORTGAGE     73000.0  home_improvement   60 months   \n",
       "...           ...            ...         ...               ...         ...   \n",
       "1289          0.0       MORTGAGE    107000.0  home_improvement   60 months   \n",
       "1290          0.0       MORTGAGE     70000.0  home_improvement   60 months   \n",
       "1291          0.0       MORTGAGE     65000.0  home_improvement   36 months   \n",
       "1292          0.0            OWN     53000.0  home_improvement   60 months   \n",
       "1293          0.0            OWN     65000.0  home_improvement   36 months   \n",
       "\n",
       "      Impago  malo      Annual_IncomeCat  woe_IngAn  woe_home  \n",
       "0        0.0     0  (105553.6, 127776.8]   0.022900  0.034227  \n",
       "1        0.0     0  (127776.8, 150000.0]   0.339521  0.034227  \n",
       "2        0.0     0  (105553.6, 127776.8]   0.022900  0.034227  \n",
       "3        2.0     1   (83330.4, 105553.6]   0.112603  0.034227  \n",
       "4        0.0     0    (61107.2, 83330.4]   0.120832  0.034227  \n",
       "...      ...   ...                   ...        ...       ...  \n",
       "1289     0.0     0  (105553.6, 127776.8]   0.022900  0.034227  \n",
       "1290     0.0     0    (61107.2, 83330.4]   0.120832  0.034227  \n",
       "1291     0.0     0    (61107.2, 83330.4]   0.120832  0.034227  \n",
       "1292     0.0     0  (38772.884, 61107.2]  -0.275285  0.026370  \n",
       "1293     0.0     0    (61107.2, 83330.4]   0.120832  0.026370  \n",
       "\n",
       "[1294 rows x 10 columns]"
      ]
     },
     "execution_count": 111,
     "metadata": {},
     "output_type": "execute_result"
    }
   ],
   "source": [
    "data_test['Annual_IncomeCat'] = pd.cut(data_test['annual_inc'], bins=binsAnIn, right=True)\n",
    "data_test['Annual_IncomeCat'] = data_test['Annual_IncomeCat'].astype(str)\n",
    "data_test = pd.merge(data_test,dfTablaWoeIngresoAn[['Annual_IncomeCat','woe_IngAn']],on='Annual_IncomeCat')\n",
    "\n",
    "data_test['home_ownership'] = data_test['home_ownership'].astype(str)\n",
    "data_test = pd.merge(data_test,dfTablaWoeHome[['home_ownership','woe_home']],on='home_ownership')\n",
    "\n",
    "\n",
    "data_test"
   ]
  },
  {
   "cell_type": "code",
   "execution_count": 127,
   "metadata": {},
   "outputs": [
    {
     "data": {
      "text/plain": [
       "0"
      ]
     },
     "execution_count": 127,
     "metadata": {},
     "output_type": "execute_result"
    }
   ],
   "source": [
    "corte = .3\n",
    "y_pred = model_train.predict(data_test) > corte\n",
    "y_test = data_test['malo']\n",
    "sum(y_pred)"
   ]
  },
  {
   "cell_type": "code",
   "execution_count": 128,
   "metadata": {},
   "outputs": [
    {
     "name": "stdout",
     "output_type": "stream",
     "text": [
      "Accuracy: 77.90%\n",
      "Confusion Matrix:\n",
      " [[1008    0]\n",
      " [ 286    0]]\n",
      "\n",
      "Classification Report:\n",
      "               precision    recall  f1-score   support\n",
      "\n",
      "           0       0.78      1.00      0.88      1008\n",
      "           1       0.00      0.00      0.00       286\n",
      "\n",
      "    accuracy                           0.78      1294\n",
      "   macro avg       0.39      0.50      0.44      1294\n",
      "weighted avg       0.61      0.78      0.68      1294\n",
      "\n"
     ]
    },
    {
     "name": "stderr",
     "output_type": "stream",
     "text": [
      "/home/codespace/.local/lib/python3.12/site-packages/sklearn/metrics/_classification.py:1531: UndefinedMetricWarning: Precision is ill-defined and being set to 0.0 in labels with no predicted samples. Use `zero_division` parameter to control this behavior.\n",
      "  _warn_prf(average, modifier, f\"{metric.capitalize()} is\", len(result))\n",
      "/home/codespace/.local/lib/python3.12/site-packages/sklearn/metrics/_classification.py:1531: UndefinedMetricWarning: Precision is ill-defined and being set to 0.0 in labels with no predicted samples. Use `zero_division` parameter to control this behavior.\n",
      "  _warn_prf(average, modifier, f\"{metric.capitalize()} is\", len(result))\n",
      "/home/codespace/.local/lib/python3.12/site-packages/sklearn/metrics/_classification.py:1531: UndefinedMetricWarning: Precision is ill-defined and being set to 0.0 in labels with no predicted samples. Use `zero_division` parameter to control this behavior.\n",
      "  _warn_prf(average, modifier, f\"{metric.capitalize()} is\", len(result))\n"
     ]
    }
   ],
   "source": [
    "accuracy = accuracy_score(y_test, y_pred)\n",
    "print(f\"Accuracy: {accuracy * 100:.2f}%\")\n",
    "\n",
    "print(\"Confusion Matrix:\\n\", confusion_matrix(y_test, y_pred))\n",
    "print(\"\\nClassification Report:\\n\", classification_report(y_test, y_pred))"
   ]
  },
  {
   "cell_type": "code",
   "execution_count": 116,
   "metadata": {},
   "outputs": [],
   "source": [
    "y_prob = model_train.predict(data_test)\n",
    "fpr, tpr, thresholds = roc_curve(y_test, y_prob)\n",
    "roc_auc = auc(fpr, tpr)"
   ]
  },
  {
   "cell_type": "code",
   "execution_count": 130,
   "metadata": {},
   "outputs": [
    {
     "data": {
      "image/png": "[encoded data removed]",
      "text/plain": [
       "<Figure size 800x600 with 1 Axes>"
      ]
     },
     "metadata": {},
     "output_type": "display_data"
    }
   ],
   "source": [
    "plt.figure(figsize=(8, 6))\n",
    "plt.plot(fpr, tpr, color='darkorange', lw=2, label=f'ROC Curve (AUC = {roc_auc:.2f})')\n",
    "plt.plot([0, 1], [0, 1], color='navy', lw=2, linestyle='--', label='Random')\n",
    "plt.xlabel('False Positive Rate')\n",
    "plt.ylabel('True Positive Rate')\n",
    "plt.title('Receiver Operating Characteristic (ROC) Curve')\n",
    "plt.legend(loc=\"lower right\")\n",
    "plt.show()"
   ]
  },
  {
   "cell_type": "code",
   "execution_count": 131,
   "metadata": {},
   "outputs": [
    {
     "data": {
      "text/plain": [
       "np.float64(0.543243215118215)"
      ]
     },
     "execution_count": 131,
     "metadata": {},
     "output_type": "execute_result"
    }
   ],
   "source": [
    "roc_auc"
   ]
  },
  {
   "cell_type": "code",
   "execution_count": 132,
   "metadata": {},
   "outputs": [
    {
     "data": {
      "text/plain": [
       "np.float64(0.0864864302364301)"
      ]
     },
     "execution_count": 132,
     "metadata": {},
     "output_type": "execute_result"
    }
   ],
   "source": [
    "gini = 2*roc_auc-1\n",
    "gini"
   ]
  },
  {
   "cell_type": "markdown",
   "metadata": {},
   "source": [
    "### Ejercicio 14"
   ]
  },
  {
   "cell_type": "code",
   "execution_count": 134,
   "metadata": {},
   "outputs": [
    {
     "data": {
      "text/html": [
       "<div>\n",
       "<style scoped>\n",
       "    .dataframe tbody tr th:only-of-type {\n",
       "        vertical-align: middle;\n",
       "    }\n",
       "\n",
       "    .dataframe tbody tr th {\n",
       "        vertical-align: top;\n",
       "    }\n",
       "\n",
       "    .dataframe thead th {\n",
       "        text-align: right;\n",
       "    }\n",
       "</style>\n",
       "<table border=\"1\" class=\"dataframe\">\n",
       "  <thead>\n",
       "    <tr style=\"text-align: right;\">\n",
       "      <th></th>\n",
       "      <th>Unnamed: 0</th>\n",
       "      <th>Fecha</th>\n",
       "      <th>Monto</th>\n",
       "    </tr>\n",
       "  </thead>\n",
       "  <tbody>\n",
       "    <tr>\n",
       "      <th>0</th>\n",
       "      <td>0</td>\n",
       "      <td>2010-01-01</td>\n",
       "      <td>1.611220e+06</td>\n",
       "    </tr>\n",
       "    <tr>\n",
       "      <th>1</th>\n",
       "      <td>1</td>\n",
       "      <td>2010-01-03</td>\n",
       "      <td>4.805363e+06</td>\n",
       "    </tr>\n",
       "    <tr>\n",
       "      <th>2</th>\n",
       "      <td>2</td>\n",
       "      <td>2010-01-06</td>\n",
       "      <td>3.009076e+05</td>\n",
       "    </tr>\n",
       "    <tr>\n",
       "      <th>3</th>\n",
       "      <td>3</td>\n",
       "      <td>2010-01-07</td>\n",
       "      <td>6.880461e+05</td>\n",
       "    </tr>\n",
       "    <tr>\n",
       "      <th>4</th>\n",
       "      <td>4</td>\n",
       "      <td>2010-01-08</td>\n",
       "      <td>1.669404e+06</td>\n",
       "    </tr>\n",
       "    <tr>\n",
       "      <th>...</th>\n",
       "      <td>...</td>\n",
       "      <td>...</td>\n",
       "      <td>...</td>\n",
       "    </tr>\n",
       "    <tr>\n",
       "      <th>1096</th>\n",
       "      <td>1096</td>\n",
       "      <td>2014-03-15</td>\n",
       "      <td>1.858579e+05</td>\n",
       "    </tr>\n",
       "    <tr>\n",
       "      <th>1097</th>\n",
       "      <td>1097</td>\n",
       "      <td>2014-03-16</td>\n",
       "      <td>4.544246e+05</td>\n",
       "    </tr>\n",
       "    <tr>\n",
       "      <th>1098</th>\n",
       "      <td>1098</td>\n",
       "      <td>2014-03-17</td>\n",
       "      <td>4.639341e+06</td>\n",
       "    </tr>\n",
       "    <tr>\n",
       "      <th>1099</th>\n",
       "      <td>1099</td>\n",
       "      <td>2014-03-20</td>\n",
       "      <td>3.592726e+05</td>\n",
       "    </tr>\n",
       "    <tr>\n",
       "      <th>1100</th>\n",
       "      <td>1100</td>\n",
       "      <td>2014-03-22</td>\n",
       "      <td>2.304360e+06</td>\n",
       "    </tr>\n",
       "  </tbody>\n",
       "</table>\n",
       "<p>1101 rows × 3 columns</p>\n",
       "</div>"
      ],
      "text/plain": [
       "      Unnamed: 0       Fecha         Monto\n",
       "0              0  2010-01-01  1.611220e+06\n",
       "1              1  2010-01-03  4.805363e+06\n",
       "2              2  2010-01-06  3.009076e+05\n",
       "3              3  2010-01-07  6.880461e+05\n",
       "4              4  2010-01-08  1.669404e+06\n",
       "...          ...         ...           ...\n",
       "1096        1096  2014-03-15  1.858579e+05\n",
       "1097        1097  2014-03-16  4.544246e+05\n",
       "1098        1098  2014-03-17  4.639341e+06\n",
       "1099        1099  2014-03-20  3.592726e+05\n",
       "1100        1100  2014-03-22  2.304360e+06\n",
       "\n",
       "[1101 rows x 3 columns]"
      ]
     },
     "execution_count": 134,
     "metadata": {},
     "output_type": "execute_result"
    }
   ],
   "source": [
    "data_perdidas = pd.read_csv('perdidas.csv',sep = ',')\n",
    "data_perdidas"
   ]
  },
  {
   "cell_type": "code",
   "execution_count": 136,
   "metadata": {},
   "outputs": [
    {
     "data": {
      "text/plain": [
       "dtype('O')"
      ]
     },
     "execution_count": 136,
     "metadata": {},
     "output_type": "execute_result"
    }
   ],
   "source": [
    "data_perdidas['Fecha'].dtype"
   ]
  },
  {
   "cell_type": "code",
   "execution_count": 142,
   "metadata": {},
   "outputs": [
    {
     "data": {
      "text/plain": [
       "dtype('<M8[ns]')"
      ]
     },
     "execution_count": 142,
     "metadata": {},
     "output_type": "execute_result"
    }
   ],
   "source": [
    "data_perdidas['Fecha'] = pd.to_datetime(data_perdidas['Fecha'], format=\"%Y-%m-%d\")\n",
    "data_perdidas['Fecha'].dtype"
   ]
  },
  {
   "cell_type": "code",
   "execution_count": 145,
   "metadata": {},
   "outputs": [
    {
     "data": {
      "text/html": [
       "<div>\n",
       "<style scoped>\n",
       "    .dataframe tbody tr th:only-of-type {\n",
       "        vertical-align: middle;\n",
       "    }\n",
       "\n",
       "    .dataframe tbody tr th {\n",
       "        vertical-align: top;\n",
       "    }\n",
       "\n",
       "    .dataframe thead th {\n",
       "        text-align: right;\n",
       "    }\n",
       "</style>\n",
       "<table border=\"1\" class=\"dataframe\">\n",
       "  <thead>\n",
       "    <tr style=\"text-align: right;\">\n",
       "      <th></th>\n",
       "      <th>Unnamed: 0sum</th>\n",
       "      <th>Unnamed: 0count</th>\n",
       "      <th>Montosum</th>\n",
       "      <th>Montocount</th>\n",
       "    </tr>\n",
       "    <tr>\n",
       "      <th>Fecha</th>\n",
       "      <th></th>\n",
       "      <th></th>\n",
       "      <th></th>\n",
       "      <th></th>\n",
       "    </tr>\n",
       "  </thead>\n",
       "  <tbody>\n",
       "    <tr>\n",
       "      <th>2010-01-01</th>\n",
       "      <td>0</td>\n",
       "      <td>1</td>\n",
       "      <td>1.611220e+06</td>\n",
       "      <td>1</td>\n",
       "    </tr>\n",
       "    <tr>\n",
       "      <th>2010-01-03</th>\n",
       "      <td>1</td>\n",
       "      <td>1</td>\n",
       "      <td>4.805363e+06</td>\n",
       "      <td>1</td>\n",
       "    </tr>\n",
       "    <tr>\n",
       "      <th>2010-01-06</th>\n",
       "      <td>2</td>\n",
       "      <td>1</td>\n",
       "      <td>3.009076e+05</td>\n",
       "      <td>1</td>\n",
       "    </tr>\n",
       "    <tr>\n",
       "      <th>2010-01-07</th>\n",
       "      <td>3</td>\n",
       "      <td>1</td>\n",
       "      <td>6.880461e+05</td>\n",
       "      <td>1</td>\n",
       "    </tr>\n",
       "    <tr>\n",
       "      <th>2010-01-08</th>\n",
       "      <td>4</td>\n",
       "      <td>1</td>\n",
       "      <td>1.669404e+06</td>\n",
       "      <td>1</td>\n",
       "    </tr>\n",
       "    <tr>\n",
       "      <th>...</th>\n",
       "      <td>...</td>\n",
       "      <td>...</td>\n",
       "      <td>...</td>\n",
       "      <td>...</td>\n",
       "    </tr>\n",
       "    <tr>\n",
       "      <th>2014-03-15</th>\n",
       "      <td>1096</td>\n",
       "      <td>1</td>\n",
       "      <td>1.858579e+05</td>\n",
       "      <td>1</td>\n",
       "    </tr>\n",
       "    <tr>\n",
       "      <th>2014-03-16</th>\n",
       "      <td>1097</td>\n",
       "      <td>1</td>\n",
       "      <td>4.544246e+05</td>\n",
       "      <td>1</td>\n",
       "    </tr>\n",
       "    <tr>\n",
       "      <th>2014-03-17</th>\n",
       "      <td>1098</td>\n",
       "      <td>1</td>\n",
       "      <td>4.639341e+06</td>\n",
       "      <td>1</td>\n",
       "    </tr>\n",
       "    <tr>\n",
       "      <th>2014-03-20</th>\n",
       "      <td>1099</td>\n",
       "      <td>1</td>\n",
       "      <td>3.592726e+05</td>\n",
       "      <td>1</td>\n",
       "    </tr>\n",
       "    <tr>\n",
       "      <th>2014-03-22</th>\n",
       "      <td>1100</td>\n",
       "      <td>1</td>\n",
       "      <td>2.304360e+06</td>\n",
       "      <td>1</td>\n",
       "    </tr>\n",
       "  </tbody>\n",
       "</table>\n",
       "<p>1101 rows × 4 columns</p>\n",
       "</div>"
      ],
      "text/plain": [
       "            Unnamed: 0sum  Unnamed: 0count      Montosum  Montocount\n",
       "Fecha                                                               \n",
       "2010-01-01              0                1  1.611220e+06           1\n",
       "2010-01-03              1                1  4.805363e+06           1\n",
       "2010-01-06              2                1  3.009076e+05           1\n",
       "2010-01-07              3                1  6.880461e+05           1\n",
       "2010-01-08              4                1  1.669404e+06           1\n",
       "...                   ...              ...           ...         ...\n",
       "2014-03-15           1096                1  1.858579e+05           1\n",
       "2014-03-16           1097                1  4.544246e+05           1\n",
       "2014-03-17           1098                1  4.639341e+06           1\n",
       "2014-03-20           1099                1  3.592726e+05           1\n",
       "2014-03-22           1100                1  2.304360e+06           1\n",
       "\n",
       "[1101 rows x 4 columns]"
      ]
     },
     "execution_count": 145,
     "metadata": {},
     "output_type": "execute_result"
    }
   ],
   "source": [
    "dfrec = data_perdidas.groupby('Fecha').agg(['sum','count'])\n",
    "dfrec.columns = [''.join(col).strip() for col in dfrec.columns.values]\n",
    "dfrec"
   ]
  },
  {
   "cell_type": "code",
   "execution_count": 147,
   "metadata": {},
   "outputs": [
    {
     "data": {
      "text/plain": [
       "0      2010-01-01\n",
       "1      2010-01-01\n",
       "2      2010-01-01\n",
       "3      2010-01-01\n",
       "4      2010-01-01\n",
       "          ...    \n",
       "1096   2014-03-01\n",
       "1097   2014-03-01\n",
       "1098   2014-03-01\n",
       "1099   2014-03-01\n",
       "1100   2014-03-01\n",
       "Name: Fecha1, Length: 1101, dtype: datetime64[ns]"
      ]
     },
     "execution_count": 147,
     "metadata": {},
     "output_type": "execute_result"
    }
   ],
   "source": [
    "data_perdidas['Fecha1'] = data_perdidas['Fecha'].dt.to_period('M').dt.to_timestamp()\n",
    "data_perdidas['Fecha1']"
   ]
  },
  {
   "cell_type": "code",
   "execution_count": 151,
   "metadata": {},
   "outputs": [
    {
     "data": {
      "text/html": [
       "<div>\n",
       "<style scoped>\n",
       "    .dataframe tbody tr th:only-of-type {\n",
       "        vertical-align: middle;\n",
       "    }\n",
       "\n",
       "    .dataframe tbody tr th {\n",
       "        vertical-align: top;\n",
       "    }\n",
       "\n",
       "    .dataframe thead th {\n",
       "        text-align: right;\n",
       "    }\n",
       "</style>\n",
       "<table border=\"1\" class=\"dataframe\">\n",
       "  <thead>\n",
       "    <tr style=\"text-align: right;\">\n",
       "      <th></th>\n",
       "      <th>Fecha1</th>\n",
       "      <th>Montosum</th>\n",
       "      <th>Montocount</th>\n",
       "    </tr>\n",
       "  </thead>\n",
       "  <tbody>\n",
       "    <tr>\n",
       "      <th>0</th>\n",
       "      <td>2010-01-01</td>\n",
       "      <td>2.079054e+07</td>\n",
       "      <td>22</td>\n",
       "    </tr>\n",
       "    <tr>\n",
       "      <th>1</th>\n",
       "      <td>2010-02-01</td>\n",
       "      <td>1.505359e+08</td>\n",
       "      <td>23</td>\n",
       "    </tr>\n",
       "    <tr>\n",
       "      <th>2</th>\n",
       "      <td>2010-03-01</td>\n",
       "      <td>4.637056e+11</td>\n",
       "      <td>23</td>\n",
       "    </tr>\n",
       "    <tr>\n",
       "      <th>3</th>\n",
       "      <td>2010-04-01</td>\n",
       "      <td>1.741951e+08</td>\n",
       "      <td>24</td>\n",
       "    </tr>\n",
       "    <tr>\n",
       "      <th>4</th>\n",
       "      <td>2010-05-01</td>\n",
       "      <td>2.019801e+08</td>\n",
       "      <td>15</td>\n",
       "    </tr>\n",
       "  </tbody>\n",
       "</table>\n",
       "</div>"
      ],
      "text/plain": [
       "      Fecha1      Montosum  Montocount\n",
       "0 2010-01-01  2.079054e+07          22\n",
       "1 2010-02-01  1.505359e+08          23\n",
       "2 2010-03-01  4.637056e+11          23\n",
       "3 2010-04-01  1.741951e+08          24\n",
       "4 2010-05-01  2.019801e+08          15"
      ]
     },
     "execution_count": 151,
     "metadata": {},
     "output_type": "execute_result"
    }
   ],
   "source": [
    "dfrec_month = data_perdidas[['Fecha1','Monto']].groupby(['Fecha1']).agg(['sum','count']).reset_index()\n",
    "dfrec_month.columns = [''.join(col).strip() for col in dfrec_month.columns.values]\n",
    "\n",
    "dfrec_month.head()"
   ]
  },
  {
   "cell_type": "code",
   "execution_count": 152,
   "metadata": {},
   "outputs": [
    {
     "data": {
      "text/plain": [
       "DatetimeIndex(['2010-01-01', '2010-02-01', '2010-03-01', '2010-04-01',\n",
       "               '2010-05-01', '2010-06-01', '2010-07-01', '2010-08-01',\n",
       "               '2010-09-01', '2010-10-01', '2010-11-01', '2010-12-01',\n",
       "               '2011-01-01', '2011-02-01', '2011-03-01', '2011-04-01',\n",
       "               '2011-05-01', '2011-06-01', '2011-07-01', '2011-08-01',\n",
       "               '2011-09-01', '2011-10-01', '2011-11-01', '2011-12-01',\n",
       "               '2012-01-01', '2012-02-01', '2012-03-01', '2012-04-01',\n",
       "               '2012-05-01', '2012-06-01', '2012-07-01', '2012-08-01',\n",
       "               '2012-09-01', '2012-10-01', '2012-11-01', '2012-12-01',\n",
       "               '2013-01-01', '2013-02-01', '2013-03-01', '2013-04-01',\n",
       "               '2013-05-01', '2013-06-01', '2013-07-01', '2013-08-01',\n",
       "               '2013-09-01', '2013-10-01', '2013-11-01', '2013-12-01',\n",
       "               '2014-01-01', '2014-02-01', '2014-03-01'],\n",
       "              dtype='datetime64[ns]', freq='MS')"
      ]
     },
     "execution_count": 152,
     "metadata": {},
     "output_type": "execute_result"
    }
   ],
   "source": [
    "fFechaInicial = dfrec.index.min()\n",
    "fFechaFinal = dfrec.index.max()\n",
    "fFechas = pd.date_range(start = fFechaInicial, end = fFechaFinal, freq = 'MS')\n",
    "fFechas"
   ]
  },
  {
   "cell_type": "code",
   "execution_count": 154,
   "metadata": {},
   "outputs": [
    {
     "data": {
      "text/html": [
       "<div>\n",
       "<style scoped>\n",
       "    .dataframe tbody tr th:only-of-type {\n",
       "        vertical-align: middle;\n",
       "    }\n",
       "\n",
       "    .dataframe tbody tr th {\n",
       "        vertical-align: top;\n",
       "    }\n",
       "\n",
       "    .dataframe thead th {\n",
       "        text-align: right;\n",
       "    }\n",
       "</style>\n",
       "<table border=\"1\" class=\"dataframe\">\n",
       "  <thead>\n",
       "    <tr style=\"text-align: right;\">\n",
       "      <th></th>\n",
       "      <th>Fecha1</th>\n",
       "      <th>Montosum</th>\n",
       "      <th>Montocount</th>\n",
       "    </tr>\n",
       "  </thead>\n",
       "  <tbody>\n",
       "    <tr>\n",
       "      <th>0</th>\n",
       "      <td>2010-01-01</td>\n",
       "      <td>2.079054e+07</td>\n",
       "      <td>22</td>\n",
       "    </tr>\n",
       "    <tr>\n",
       "      <th>1</th>\n",
       "      <td>2010-02-01</td>\n",
       "      <td>1.505359e+08</td>\n",
       "      <td>23</td>\n",
       "    </tr>\n",
       "    <tr>\n",
       "      <th>2</th>\n",
       "      <td>2010-03-01</td>\n",
       "      <td>4.637056e+11</td>\n",
       "      <td>23</td>\n",
       "    </tr>\n",
       "    <tr>\n",
       "      <th>3</th>\n",
       "      <td>2010-04-01</td>\n",
       "      <td>1.741951e+08</td>\n",
       "      <td>24</td>\n",
       "    </tr>\n",
       "    <tr>\n",
       "      <th>4</th>\n",
       "      <td>2010-05-01</td>\n",
       "      <td>2.019801e+08</td>\n",
       "      <td>15</td>\n",
       "    </tr>\n",
       "  </tbody>\n",
       "</table>\n",
       "</div>"
      ],
      "text/plain": [
       "      Fecha1      Montosum  Montocount\n",
       "0 2010-01-01  2.079054e+07          22\n",
       "1 2010-02-01  1.505359e+08          23\n",
       "2 2010-03-01  4.637056e+11          23\n",
       "3 2010-04-01  1.741951e+08          24\n",
       "4 2010-05-01  2.019801e+08          15"
      ]
     },
     "execution_count": 154,
     "metadata": {},
     "output_type": "execute_result"
    }
   ],
   "source": [
    "df_meses_todos = pd.DataFrame( data = {'Fecha1':fFechas} )\n",
    "df_data_freq = df_meses_todos.merge(dfrec_month, how = 'left').fillna(0)\n",
    "\n",
    "df_data_freq.head()"
   ]
  },
  {
   "cell_type": "code",
   "execution_count": 157,
   "metadata": {},
   "outputs": [
    {
     "data": {
      "text/plain": [
       "np.float64(9789342806.606161)"
      ]
     },
     "execution_count": 157,
     "metadata": {},
     "output_type": "execute_result"
    }
   ],
   "source": [
    "df_data_freq['Montosum'].mean()"
   ]
  },
  {
   "cell_type": "code",
   "execution_count": 159,
   "metadata": {},
   "outputs": [
    {
     "data": {
      "text/plain": [
       "np.float64(21.58823529411765)"
      ]
     },
     "execution_count": 159,
     "metadata": {},
     "output_type": "execute_result"
    }
   ],
   "source": [
    "df_data_freq['Montocount'].mean()"
   ]
  },
  {
   "cell_type": "markdown",
   "metadata": {},
   "source": [
    "### Frecuencia"
   ]
  },
  {
   "cell_type": "code",
   "execution_count": 163,
   "metadata": {},
   "outputs": [],
   "source": [
    "import scipy.stats as st \n",
    "mu = df_data_freq['Montocount'].mean()\n",
    "sigma = df_data_freq['Montocount'].std()\n",
    "nmin = df_data_freq['Montocount'].min()\n",
    "nmax = df_data_freq['Montocount'].max()"
   ]
  },
  {
   "cell_type": "code",
   "execution_count": 164,
   "metadata": {},
   "outputs": [
    {
     "data": {
      "text/plain": [
       "1"
      ]
     },
     "execution_count": 164,
     "metadata": {},
     "output_type": "execute_result"
    }
   ],
   "source": [
    "st.geom.numargs"
   ]
  },
  {
   "cell_type": "code",
   "execution_count": 167,
   "metadata": {},
   "outputs": [],
   "source": [
    "maxdata = df_data_freq['Montocount'].max() + 10\n",
    "pmf,x = np.histogram(df_data_freq['Montocount'],bins = range(0,maxdata), density = True)\n",
    "x = x[:-1]"
   ]
  },
  {
   "cell_type": "code",
   "execution_count": 168,
   "metadata": {},
   "outputs": [
    {
     "data": {
      "text/plain": [
       "np.float64(1.0)"
      ]
     },
     "execution_count": 168,
     "metadata": {},
     "output_type": "execute_result"
    }
   ],
   "source": [
    "pmf.sum()"
   ]
  },
  {
   "cell_type": "code",
   "execution_count": 169,
   "metadata": {},
   "outputs": [],
   "source": [
    "dist_discreta = [st.nbinom]\n",
    "cotas_discreta = [[(0,maxdata),(0,1)]]"
   ]
  },
  {
   "cell_type": "code",
   "execution_count": 171,
   "metadata": {},
   "outputs": [
    {
     "data": {
      "text/plain": [
       "0    22\n",
       "1    23\n",
       "2    23\n",
       "3    24\n",
       "4    15\n",
       "Name: Montocount, dtype: int64"
      ]
     },
     "execution_count": 171,
     "metadata": {},
     "output_type": "execute_result"
    }
   ],
   "source": [
    "df_data_freq['Montocount'].head()"
   ]
  },
  {
   "cell_type": "code",
   "execution_count": 173,
   "metadata": {},
   "outputs": [
    {
     "data": {
      "text/plain": [
       "Montocount\n",
       "23    10\n",
       "22     8\n",
       "20     6\n",
       "21     5\n",
       "25     5\n",
       "17     3\n",
       "18     3\n",
       "28     2\n",
       "19     2\n",
       "24     2\n",
       "15     1\n",
       "27     1\n",
       "26     1\n",
       "16     1\n",
       "14     1\n",
       "Name: count, dtype: int64"
      ]
     },
     "execution_count": 173,
     "metadata": {},
     "output_type": "execute_result"
    }
   ],
   "source": [
    "df_data_freq['Montocount'].value_counts()"
   ]
  },
  {
   "cell_type": "code",
   "execution_count": 174,
   "metadata": {},
   "outputs": [
    {
     "data": {
      "text/plain": [
       "range(14, 28)"
      ]
     },
     "execution_count": 174,
     "metadata": {},
     "output_type": "execute_result"
    }
   ],
   "source": [
    "X = range(nmin,nmax)\n",
    "X"
   ]
  },
  {
   "cell_type": "code",
   "execution_count": 176,
   "metadata": {},
   "outputs": [
    {
     "data": {
      "text/plain": [
       "(array([ 1.,  1.,  1.,  3.,  3.,  2.,  6.,  5.,  8., 10.,  2.,  5.,  1.,\n",
       "         3.]),\n",
       " array([14., 15., 16., 17., 18., 19., 20., 21., 22., 23., 24., 25., 26.,\n",
       "        27., 28.]),\n",
       " <BarContainer object of 14 artists>)"
      ]
     },
     "execution_count": 176,
     "metadata": {},
     "output_type": "execute_result"
    },
    {
     "data": {
      "image/png": "[encoded data removed]",
      "text/plain": [
       "<Figure size 640x480 with 1 Axes>"
      ]
     },
     "metadata": {},
     "output_type": "display_data"
    }
   ],
   "source": [
    "plt.hist(df_data_freq['Montocount'], bins=len(X)) "
   ]
  },
  {
   "cell_type": "code",
   "execution_count": 177,
   "metadata": {},
   "outputs": [],
   "source": [
    "best_sse = np.inf"
   ]
  },
  {
   "cell_type": "code",
   "execution_count": 179,
   "metadata": {},
   "outputs": [
    {
     "data": {
      "text/plain": [
       "  params: FitParams(mu=np.float64(21.588237104516757), loc=np.float64(0.0))\n",
       " success: True\n",
       " message: 'Optimization terminated successfully.'"
      ]
     },
     "execution_count": 179,
     "metadata": {},
     "output_type": "execute_result"
    }
   ],
   "source": [
    "st.fit(st.poisson,df_data_freq['Montocount'].values, bounds = [(0,100)])"
   ]
  },
  {
   "cell_type": "code",
   "execution_count": 181,
   "metadata": {},
   "outputs": [
    {
     "name": "stdout",
     "output_type": "stream",
     "text": [
      "<scipy.stats._discrete_distns.nbinom_gen object at 0x78284476c3b0>\n",
      "  params: FitParams(n=np.float64(38.0), p=np.float64(0.6382930371620639), loc=np.float64(0.0))\n",
      " success: True\n",
      " message: 'Optimization terminated successfully.'\n",
      "0.03787960024420311\n"
     ]
    }
   ],
   "source": [
    "for id in range(len(dist_discreta)):\n",
    "\n",
    "    print(dist_discreta[id])\n",
    "    nparams = dist_discreta[id].numargs\n",
    "    params = st.fit(dist_discreta[id],df_data_freq['Montocount'].values, bounds = cotas_discreta[id])\n",
    "    print(params)\n",
    "    \n",
    "    yt = dist_discreta[id].pmf(x,*params.params)\n",
    "    \n",
    "    sse = np.sum(np.power(pmf-yt, 2))\n",
    "    print(sse)\n",
    "    \n",
    "    if best_sse > sse:\n",
    "        best_freq_distribution = dist_discreta[id]\n",
    "        best_freq_params = params.params\n",
    "        best_freq_sse = sse\n",
    "        best_freq_pmf = yt\n"
   ]
  },
  {
   "cell_type": "code",
   "execution_count": 183,
   "metadata": {},
   "outputs": [
    {
     "data": {
      "text/plain": [
       "<scipy.stats._discrete_distns.nbinom_gen at 0x78284476c3b0>"
      ]
     },
     "execution_count": 183,
     "metadata": {},
     "output_type": "execute_result"
    }
   ],
   "source": [
    "best_freq_distribution"
   ]
  },
  {
   "cell_type": "code",
   "execution_count": 184,
   "metadata": {},
   "outputs": [
    {
     "data": {
      "text/plain": [
       "np.float64(21.53378430846289)"
      ]
     },
     "execution_count": 184,
     "metadata": {},
     "output_type": "execute_result"
    }
   ],
   "source": [
    "best_freq_distribution.mean(*best_freq_params)"
   ]
  },
  {
   "cell_type": "code",
   "execution_count": 182,
   "metadata": {},
   "outputs": [
    {
     "data": {
      "text/plain": [
       "[<matplotlib.lines.Line2D at 0x78283923ea50>]"
      ]
     },
     "execution_count": 182,
     "metadata": {},
     "output_type": "execute_result"
    },
    {
     "data": {
      "image/png": "[encoded data removed]",
      "text/plain": [
       "<Figure size 640x480 with 1 Axes>"
      ]
     },
     "metadata": {},
     "output_type": "display_data"
    }
   ],
   "source": [
    "fi,ax = plt.subplots()\n",
    "ax.bar(x,pmf)\n",
    "ax.plot(x,best_freq_pmf, color = 'red')"
   ]
  },
  {
   "cell_type": "markdown",
   "metadata": {},
   "source": [
    "### Severidad"
   ]
  },
  {
   "cell_type": "code",
   "execution_count": 185,
   "metadata": {},
   "outputs": [
    {
     "data": {
      "text/plain": [
       "np.float64(499256483136.91406)"
      ]
     },
     "execution_count": 185,
     "metadata": {},
     "output_type": "execute_result"
    }
   ],
   "source": [
    "cont_dist = ['gamma']\n",
    "data_perdidas['Monto'].sum()"
   ]
  },
  {
   "cell_type": "code",
   "execution_count": 187,
   "metadata": {},
   "outputs": [],
   "source": [
    "bins = 200\n",
    "maxmonto = data_perdidas['Monto'].max() * 1.1\n",
    "prob,x = np.histogram(data_perdidas['Monto'],bins = np.linspace(0,maxmonto,bins), density = True)\n",
    "x = x[:-1]\n",
    "prob = prob/prob.sum()"
   ]
  },
  {
   "cell_type": "code",
   "execution_count": 188,
   "metadata": {},
   "outputs": [],
   "source": [
    "best_sse = np.inf"
   ]
  },
  {
   "cell_type": "code",
   "execution_count": 195,
   "metadata": {},
   "outputs": [
    {
     "name": "stdout",
     "output_type": "stream",
     "text": [
      "gamma\n",
      "0.16489367062448296\n"
     ]
    }
   ],
   "source": [
    "for distribution in cont_dist:\n",
    "\n",
    "    print(distribution)\n",
    "    distribution = getattr(st, distribution)\n",
    "\n",
    "    params = distribution.fit(data_perdidas['Monto'],  method=\"MM\")\n",
    "    \n",
    "    arg = params[:-2]\n",
    "    loc = params[-2]\n",
    "    scale = params[-1]\n",
    "\n",
    "    yt = distribution.pdf(x, loc=loc, scale=scale, *arg)\n",
    "    yt = yt/yt.sum()\n",
    "    sse = np.sum(np.power(yt - prob, 2.0))\n",
    "    print(sse)\n",
    "\n",
    "    if best_sse > sse > 0:\n",
    "        best_distribution = distribution\n",
    "        best_params = params\n",
    "        best_sse = sse\n",
    "        best_prob = yt"
   ]
  },
  {
   "cell_type": "code",
   "execution_count": 199,
   "metadata": {},
   "outputs": [
    {
     "data": {
      "text/plain": [
       "np.float64(0.9999999999999998)"
      ]
     },
     "execution_count": 199,
     "metadata": {},
     "output_type": "execute_result"
    }
   ],
   "source": [
    "yt.sum()"
   ]
  },
  {
   "cell_type": "code",
   "execution_count": 196,
   "metadata": {},
   "outputs": [
    {
     "data": {
      "text/plain": [
       "<scipy.stats._continuous_distns.gamma_gen at 0x78284469cda0>"
      ]
     },
     "execution_count": 196,
     "metadata": {},
     "output_type": "execute_result"
    }
   ],
   "source": [
    "best_distribution"
   ]
  },
  {
   "cell_type": "code",
   "execution_count": 197,
   "metadata": {},
   "outputs": [],
   "source": [
    "arg = best_params[:-2]\n",
    "loc = best_params[-2]\n",
    "scale = best_params[-1]"
   ]
  },
  {
   "cell_type": "code",
   "execution_count": 198,
   "metadata": {},
   "outputs": [
    {
     "data": {
      "text/plain": [
       "np.float64(453457296.21881384)"
      ]
     },
     "execution_count": 198,
     "metadata": {},
     "output_type": "execute_result"
    }
   ],
   "source": [
    "best_distribution.mean(loc=loc, scale=scale, *arg)"
   ]
  },
  {
   "cell_type": "code",
   "execution_count": 200,
   "metadata": {},
   "outputs": [
    {
     "data": {
      "text/plain": [
       "[<matplotlib.lines.Line2D at 0x782834cf7080>]"
      ]
     },
     "execution_count": 200,
     "metadata": {},
     "output_type": "execute_result"
    },
    {
     "data": {
      "image/png": "[encoded data removed]",
      "text/plain": [
       "<Figure size 640x480 with 1 Axes>"
      ]
     },
     "metadata": {},
     "output_type": "display_data"
    }
   ],
   "source": [
    "fi,ax = plt.subplots()\n",
    "ax.bar(x,prob)\n",
    "ax.plot(x,best_prob, color = 'red')"
   ]
  },
  {
   "cell_type": "code",
   "execution_count": 222,
   "metadata": {},
   "outputs": [],
   "source": [
    "cont_dist = ['gamma']\n"
   ]
  },
  {
   "cell_type": "code",
   "execution_count": 223,
   "metadata": {},
   "outputs": [],
   "source": [
    "import warnings"
   ]
  },
  {
   "cell_type": "code",
   "execution_count": 224,
   "metadata": {},
   "outputs": [],
   "source": [
    "best_sse = np.inf"
   ]
  },
  {
   "cell_type": "code",
   "execution_count": 225,
   "metadata": {},
   "outputs": [
    {
     "data": {
      "text/plain": [
       "np.float64(0.9999999999999998)"
      ]
     },
     "execution_count": 225,
     "metadata": {},
     "output_type": "execute_result"
    }
   ],
   "source": [
    "yt.sum()"
   ]
  },
  {
   "cell_type": "code",
   "execution_count": 226,
   "metadata": {},
   "outputs": [
    {
     "name": "stdout",
     "output_type": "stream",
     "text": [
      "gamma\n",
      "0.16489367062448296\n"
     ]
    }
   ],
   "source": [
    "for distribution in cont_dist:\n",
    "    print(distribution)\n",
    "    try:\n",
    "        distribution = getattr(st, distribution)\n",
    "        with warnings.catch_warnings():\n",
    "\n",
    "            warnings.filterwarnings('ignore')\n",
    "\n",
    "            params = distribution.fit(data_perdidas['Monto'],  method=\"MM\")\n",
    "    \n",
    "            arg = params[:-2]\n",
    "            loc = params[-2]\n",
    "            scale = params[-1]\n",
    "        \n",
    "            yt = distribution.pdf(x, loc=loc, scale=scale, *arg)\n",
    "            yt = yt/yt.sum()\n",
    "            sse = np.sum(np.power(yt - prob, 2.0))\n",
    "            print(sse)\n",
    "    \n",
    "            if best_sse > sse > 0:\n",
    "                best_distribution = distribution\n",
    "                best_params = params\n",
    "                best_sse = sse\n",
    "                best_prob = yt\n",
    "                \n",
    "    except  Exception as e:\n",
    "        print(e)\n",
    "        print('Error')\n",
    "        pass"
   ]
  },
  {
   "cell_type": "code",
   "execution_count": 227,
   "metadata": {},
   "outputs": [
    {
     "data": {
      "text/plain": [
       "<scipy.stats._continuous_distns.gamma_gen at 0x78284469cda0>"
      ]
     },
     "execution_count": 227,
     "metadata": {},
     "output_type": "execute_result"
    }
   ],
   "source": [
    "best_distribution"
   ]
  },
  {
   "cell_type": "code",
   "execution_count": 228,
   "metadata": {},
   "outputs": [],
   "source": [
    "arg = best_params[:-2]\n",
    "loc = best_params[-2]\n",
    "scale = best_params[-1]"
   ]
  },
  {
   "cell_type": "code",
   "execution_count": 229,
   "metadata": {},
   "outputs": [
    {
     "data": {
      "text/plain": [
       "(np.float64(0.0036503925052412526),)"
      ]
     },
     "execution_count": 229,
     "metadata": {},
     "output_type": "execute_result"
    }
   ],
   "source": [
    "arg"
   ]
  },
  {
   "cell_type": "code",
   "execution_count": 230,
   "metadata": {},
   "outputs": [
    {
     "data": {
      "text/plain": [
       "np.float64(231204031103.1584)"
      ]
     },
     "execution_count": 230,
     "metadata": {},
     "output_type": "execute_result"
    }
   ],
   "source": [
    "scale"
   ]
  },
  {
   "cell_type": "code",
   "execution_count": 231,
   "metadata": {},
   "outputs": [
    {
     "data": {
      "text/plain": [
       "np.float64(453457296.21881384)"
      ]
     },
     "execution_count": 231,
     "metadata": {},
     "output_type": "execute_result"
    }
   ],
   "source": [
    "best_distribution.mean(loc=loc, scale=scale, *arg)"
   ]
  },
  {
   "cell_type": "code",
   "execution_count": 232,
   "metadata": {},
   "outputs": [
    {
     "data": {
      "text/plain": [
       "[<matplotlib.lines.Line2D at 0x78282ec73140>]"
      ]
     },
     "execution_count": 232,
     "metadata": {},
     "output_type": "execute_result"
    },
    {
     "data": {
      "image/png": "[encoded data removed]",
      "text/plain": [
       "<Figure size 640x480 with 1 Axes>"
      ]
     },
     "metadata": {},
     "output_type": "display_data"
    }
   ],
   "source": [
    "fi,ax = plt.subplots()\n",
    "ax.bar(x,prob)\n",
    "ax.plot(x,best_prob, color = 'red')"
   ]
  },
  {
   "cell_type": "code",
   "execution_count": 233,
   "metadata": {},
   "outputs": [],
   "source": [
    "arg = best_params[:-2]\n",
    "loc = best_params[-2]\n",
    "scale = best_params[-1]"
   ]
  },
  {
   "cell_type": "code",
   "execution_count": 234,
   "metadata": {},
   "outputs": [
    {
     "data": {
      "text/plain": [
       "array([-3.90528166e+08, -3.90528166e+08, -2.15469942e+08, -3.90528166e+08,\n",
       "       -3.90528166e+08, -3.90528166e+08, -3.90528166e+08, -3.90528166e+08,\n",
       "       -3.90528166e+08, -3.90528166e+08])"
      ]
     },
     "execution_count": 234,
     "metadata": {},
     "output_type": "execute_result"
    }
   ],
   "source": [
    "best_distribution.rvs(*arg, loc=loc, scale=scale, size = 10)"
   ]
  },
  {
   "cell_type": "code",
   "execution_count": 235,
   "metadata": {},
   "outputs": [],
   "source": [
    "num_esc = 3000"
   ]
  },
  {
   "cell_type": "code",
   "execution_count": 236,
   "metadata": {},
   "outputs": [],
   "source": [
    "esc_perdidas = list()\n",
    "n_val = list()\n",
    "for ie in range(0,num_esc):\n",
    "    N = best_freq_distribution.rvs(*best_freq_params,size=1)\n",
    "    X = best_distribution.rvs(*arg, loc=loc, scale=scale, size = N)\n",
    "    n_val.append(N)\n",
    "    esc_perdidas.append(X.sum())"
   ]
  },
  {
   "cell_type": "code",
   "execution_count": 237,
   "metadata": {},
   "outputs": [
    {
     "data": {
      "text/plain": [
       "np.float64(21.721666666666668)"
      ]
     },
     "execution_count": 237,
     "metadata": {},
     "output_type": "execute_result"
    }
   ],
   "source": [
    "np.mean(n_val)"
   ]
  },
  {
   "cell_type": "code",
   "execution_count": 238,
   "metadata": {},
   "outputs": [
    {
     "data": {
      "text/plain": [
       "np.float64(11597871960.57707)"
      ]
     },
     "execution_count": 238,
     "metadata": {},
     "output_type": "execute_result"
    }
   ],
   "source": [
    "np.mean(esc_perdidas)"
   ]
  },
  {
   "cell_type": "code",
   "execution_count": 239,
   "metadata": {},
   "outputs": [
    {
     "data": {
      "text/plain": [
       "np.float64(329589144966.30927)"
      ]
     },
     "execution_count": 239,
     "metadata": {},
     "output_type": "execute_result"
    }
   ],
   "source": [
    "var = np.quantile(esc_perdidas,.99)\n",
    "var"
   ]
  },
  {
   "cell_type": "code",
   "execution_count": 240,
   "metadata": {},
   "outputs": [
    {
     "data": {
      "text/plain": [
       "((array([-3.22522735, -2.96211872, -2.81542821, ...,  2.81542821,\n",
       "          2.96211872,  3.22522735]),\n",
       "  array([2.17992664e+04, 2.26492325e+04, 2.34369488e+04, ...,\n",
       "         6.70296630e+09, 8.19808286e+09, 4.63594580e+11])),\n",
       " (np.float64(1447674107.5651138),\n",
       "  np.float64(453457296.21881413),\n",
       "  np.float64(0.10337012267958878)))"
      ]
     },
     "execution_count": 240,
     "metadata": {},
     "output_type": "execute_result"
    },
    {
     "data": {
      "image/png": "[encoded data removed]",
      "text/plain": [
       "<Figure size 640x480 with 1 Axes>"
      ]
     },
     "metadata": {},
     "output_type": "display_data"
    }
   ],
   "source": [
    "st.probplot(data_perdidas['Monto'], plot = plt)"
   ]
  },
  {
   "cell_type": "code",
   "execution_count": 241,
   "metadata": {},
   "outputs": [
    {
     "data": {
      "text/plain": [
       "((array([-3.90528166e+08, -3.90528166e+08, -3.90528166e+08, ...,\n",
       "          9.72738610e+10,  1.48207233e+11,  2.65370239e+11]),\n",
       "  array([2.17992664e+04, 2.26492325e+04, 2.34369488e+04, ...,\n",
       "         6.70296630e+09, 8.19808286e+09, 4.63594580e+11])),\n",
       " (np.float64(1.1187596172463885),\n",
       "  np.float64(92806353.90536708),\n",
       "  np.float64(0.8078066324364241)))"
      ]
     },
     "execution_count": 241,
     "metadata": {},
     "output_type": "execute_result"
    },
    {
     "data": {
      "image/png": "[encoded data removed]",
      "text/plain": [
       "<Figure size 640x480 with 1 Axes>"
      ]
     },
     "metadata": {},
     "output_type": "display_data"
    }
   ],
   "source": [
    "st.probplot(data_perdidas['Monto'], dist = best_distribution(*arg, loc=loc, scale=scale), plot = plt)"
   ]
  },
  {
   "cell_type": "markdown",
   "metadata": {},
   "source": []
  }
 ],
 "metadata": {
  "kernelspec": {
   "display_name": "Python 3",
   "language": "python",
   "name": "python3"
  },
  "language_info": {
   "codemirror_mode": {
    "name": "ipython",
    "version": 3
   },
   "file_extension": ".py",
   "mimetype": "text/x-python",
   "name": "python",
   "nbconvert_exporter": "python",
   "pygments_lexer": "ipython3",
   "version": "3.12.1"
  }
 },
 "nbformat": 4,
 "nbformat_minor": 2
}
