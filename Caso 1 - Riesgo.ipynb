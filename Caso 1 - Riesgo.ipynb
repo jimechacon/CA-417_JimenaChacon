{
 "cells": [
  {
   "cell_type": "markdown",
   "id": "dbd80704",
   "metadata": {},
   "source": [
    "# Caso 1 \n",
    "## Jimena Chacón (B81999)\n",
    "\n",
    "\n",
    "\n",
    "#### Ejercicio\n",
    "Se tiene un banco donde la suficiencia patrimonial SUGEF 3-06, es decir,\n",
    "$$ ISP = \\frac{CB}{RC + 10(RP + RO + RTC)}$$,\n",
    "\n",
    "toma el valor de ISP = 11.7% a partir de la siguientes variables (todos los montos en millones de colones).\n",
    "\n",
    "Capital base: CP = 1150\n",
    "\n",
    "Riesgo de crédito: RC = 8905\n",
    "\n",
    "Riesgo de precio: RP = 72.3\n",
    "\n",
    "Riesgo operativo: RO = 15.2\n",
    "\n",
    "Riesgo de tipo de cambio: RT C = 4.7\n",
    "\n",
    "La entidad tiene una cartera de crédito con saldo 8050 millones. El rendimiento neto de los créditos (tomando en cuenta costos) es del 3%. También posee una cartera de inversiones de alta calidad valorada en 976 millones con un rendimiento neto de 1%.\n",
    "El equipo de riesgo de crédito ha determinado que las pérdidas de crédito a un año plazo siguen una distribución Gamma de media 80.5 millones y desviación estándar 87.2 millones.\n",
    "El objetivo es analizar posibles escenarios para la suficiencia patrimonial del banco después de un año. Considere que otras fuentes de ingreso o gasto son despreciables.\n"
   ]
  },
  {
   "cell_type": "code",
   "execution_count": 3,
   "id": "3fea24b5",
   "metadata": {},
   "outputs": [],
   "source": [
    "#Inicialmente se cargan las librerías y los datos \n",
    "\n",
    "import numpy as np\n",
    "import scipy.stats as stats\n",
    "import matplotlib.pyplot as plt\n",
    "\n",
    "CP = 1150  # Capital base\n",
    "RC = 8905  # Riesgo de crédito \n",
    "RP = 72.3  # Riesgo de precio \n",
    "RO = 15.2  # Riesgo operativo \n",
    "RTC = 4.7  # Riesgo de tipo de cambio \n",
    "ISP_inicial = 11.7  \n",
    "\n",
    "# Cartera de crédito e inversiones\n",
    "cartera_credito = 8050 \n",
    "rendimiento_credito = 0.03 \n",
    "cartera_inversiones = 976  \n",
    "rendimiento_inversiones = 0.01  \n",
    "\n",
    "# Distribución Gamma para pérdidas crediticias\n",
    "media_perdidas = 80.5  \n",
    "desv_estandar_perdidas = 87.2  \n",
    "alpha = (media_perdidas / desv_estandar_perdidas) ** 2\n",
    "beta = media_perdidas / alpha\n",
    "\n",
    "\n",
    "n_simulaciones = 10000\n",
    "perdidas_credito = np.random.gamma(alpha, beta, n_simulaciones)"
   ]
  },
  {
   "cell_type": "markdown",
   "id": "1eba29a9",
   "metadata": {},
   "source": [
    "### Inciso a) \n",
    "El mínimo valor que el ISP podría alcanzar en un año con 99% de seguridad."
   ]
  },
  {
   "cell_type": "code",
   "execution_count": 4,
   "id": "d07f714a",
   "metadata": {},
   "outputs": [
    {
     "name": "stdout",
     "output_type": "stream",
     "text": [
      "ISP inicial: 11.7%\n",
      "ISP mínimo con 99% de confianza: 10.53%\n"
     ]
    }
   ],
   "source": [
    "# ISP después de un año\n",
    "ingreso_credito = cartera_credito * rendimiento_credito\n",
    "ingreso_inversiones = cartera_inversiones * rendimiento_inversiones\n",
    "capital_final = CP + ingreso_credito + ingreso_inversiones - perdidas_credito\n",
    "RC_final = RC - perdidas_credito\n",
    "\n",
    "ISP_final = capital_final / (RC_final + 10 * (RP + RO + RTC)) * 100\n",
    "\n",
    "ISP_min_99 = np.percentile(ISP_final, 1)\n",
    "print(f\"ISP inicial: {ISP_inicial}%\")\n",
    "print(f\"ISP mínimo con 99% de confianza: {ISP_min_99:.2f}%\")"
   ]
  },
  {
   "cell_type": "markdown",
   "id": "2069a2d2",
   "metadata": {},
   "source": [
    "### Inciso b) \n",
    "Probabilidad de que la entidad entre en irregularidad a un año plazo, es decir ISP < 10%."
   ]
  },
  {
   "cell_type": "code",
   "execution_count": 5,
   "id": "30c43272",
   "metadata": {},
   "outputs": [
    {
     "name": "stdout",
     "output_type": "stream",
     "text": [
      "Probabilidad de irregularidad (ISP < 10%): 0.56%\n"
     ]
    }
   ],
   "source": [
    "probabilidad_irregularidad = np.mean(ISP_final < 10) * 100\n",
    "print(f\"Probabilidad de irregularidad (ISP < 10%): {probabilidad_irregularidad:.2f}%\")"
   ]
  },
  {
   "cell_type": "markdown",
   "id": "22c03724",
   "metadata": {},
   "source": [
    "### Inciso c)\n",
    "Simulación Montecarlo para encontrar la distribución completa de ISP. "
   ]
  },
  {
   "cell_type": "code",
   "execution_count": 6,
   "id": "a0719139",
   "metadata": {},
   "outputs": [
    {
     "data": {
      "image/png": "[encoded data removed]",
      "text/plain": [
       "<Figure size 640x480 with 1 Axes>"
      ]
     },
     "metadata": {},
     "output_type": "display_data"
    }
   ],
   "source": [
    "plt.hist(ISP_final, bins=50, color='skyblue', edgecolor='black')\n",
    "plt.title('Distribución del ISP después de un año')\n",
    "plt.xlabel('ISP (%)')\n",
    "plt.ylabel('Frecuencia')\n",
    "plt.show()"
   ]
  }
 ],
 "metadata": {
  "kernelspec": {
   "display_name": "Python 3 (ipykernel)",
   "language": "python",
   "name": "python3"
  },
  "language_info": {
   "codemirror_mode": {
    "name": "ipython",
    "version": 3
   },
   "file_extension": ".py",
   "mimetype": "text/x-python",
   "name": "python",
   "nbconvert_exporter": "python",
   "pygments_lexer": "ipython3",
   "version": "3.10.9"
  }
 },
 "nbformat": 4,
 "nbformat_minor": 5
}
