{
 "cells": [
  {
   "cell_type": "code",
   "execution_count": 6,
   "metadata": {},
   "outputs": [],
   "source": [
    "\n",
    "\n",
    "import QuantLib as ql\n",
    "import pandas as pd\n"
   ]
  },
  {
   "cell_type": "code",
   "execution_count": 5,
   "metadata": {},
   "outputs": [
    {
     "name": "stdout",
     "output_type": "stream",
     "text": [
      "Collecting QuantLib==1.35\n",
      "  Downloading QuantLib-1.35-cp38-abi3-manylinux_2_17_x86_64.manylinux2014_x86_64.whl.metadata (1.1 kB)\n",
      "Downloading QuantLib-1.35-cp38-abi3-manylinux_2_17_x86_64.manylinux2014_x86_64.whl (19.6 MB)\n",
      "\u001b[2K   \u001b[90m━━━━━━━━━━━━━━━━━━━━━━━━━━━━━━━━━━━━━━━━\u001b[0m \u001b[32m19.6/19.6 MB\u001b[0m \u001b[31m72.2 MB/s\u001b[0m eta \u001b[36m0:00:00\u001b[0m:00:01\u001b[0m\n",
      "\u001b[?25hInstalling collected packages: QuantLib\n",
      "Successfully installed QuantLib-1.35\n",
      "Note: you may need to restart the kernel to use updated packages.\n"
     ]
    }
   ],
   "source": [
    "pip install QuantLib==1.35"
   ]
  },
  {
   "cell_type": "code",
   "execution_count": null,
   "metadata": {},
   "outputs": [],
   "source": [
    "tasa_cupon = 0.0713\n",
    "periodicidad =2\n",
    "precio = 102.42"
   ]
  },
  {
   "cell_type": "code",
   "execution_count": null,
   "metadata": {},
   "outputs": [],
   "source": [
    "fecha_emision = pd.to_datetime('2015-12-22')\n",
    "fecha_vence = pd.to_datetime('2021-12-22')\n",
    "fecha_calculo = pd.to_datetime('2020-02-12')"
   ]
  },
  {
   "cell_type": "code",
   "execution_count": null,
   "metadata": {},
   "outputs": [],
   "source": [
    "fecha_calc_ql = ql.Date(fecha_calculo.day,fecha_calculo.month,fecha_calculo.year)\n",
    "ql.Settings.instance().evaluationDate = fecha_calc_ql"
   ]
  },
  {
   "cell_type": "code",
   "execution_count": null,
   "metadata": {},
   "outputs": [],
   "source": [
    "qlCalendar = ql.BespokeCalendar('Costa Rica')\n",
    "qlCalendar.addWeekend(ql.Sunday)\n",
    "qlCalendar.addWeekend(ql.Saturday)\n",
    "qlCalendar.addHoliday(ql.Date(25,12,2020))\n",
    "qlCalendar.addHoliday(ql.Date(1,1,2021))\n",
    "qlCalendar.addHoliday(ql.Date(15,9,2020))"
   ]
  },
  {
   "cell_type": "code",
   "execution_count": null,
   "metadata": {},
   "outputs": [],
   "source": [
    "fecha1 = ql.Calendar.advance(fecha_calc_ql,intervalo)\n",
    "print(fecha1)"
   ]
  },
  {
   "cell_type": "code",
   "execution_count": null,
   "metadata": {},
   "outputs": [],
   "source": [
    "fecha_vence_ql = ql.Date(fecha_vence.day, fecha_vence.month, fecha_vence.year)\n",
    "fecha_emision_ql = ql.Date(fecha_emision.day, fecha_emision.month, fecha_emision.year)"
   ]
  },
  {
   "cell_type": "code",
   "execution_count": null,
   "metadata": {},
   "outputs": [],
   "source": [
    "qlTenor = ql.Period(periodicidad)\n",
    "qlConvencion = ql.Following\n",
    "dateGeneration = ql.DateGeneration.Backward\n",
    "monthEnd = False"
   ]
  },
  {
   "cell_type": "code",
   "execution_count": null,
   "metadata": {},
   "outputs": [],
   "source": [
    "cronograma = ql.Schedule(fecha_emision_ql,fecha_vence_ql,qlTenor,\n",
    "                         qlCalendar, qlConvencion, qlConvencion, dateGeneration, monthEnd)\n",
    "pd.DataFrame({'date':list(cronograma)})"
   ]
  }
 ],
 "metadata": {
  "kernelspec": {
   "display_name": "Python 3",
   "language": "python",
   "name": "python3"
  },
  "language_info": {
   "codemirror_mode": {
    "name": "ipython",
    "version": 3
   },
   "file_extension": ".py",
   "mimetype": "text/x-python",
   "name": "python",
   "nbconvert_exporter": "python",
   "pygments_lexer": "ipython3",
   "version": "3.12.1"
  }
 },
 "nbformat": 4,
 "nbformat_minor": 2
}
