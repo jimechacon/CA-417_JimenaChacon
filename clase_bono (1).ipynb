{
 "cells": [
  {
   "cell_type": "code",
   "execution_count": 34,
   "id": "659f0a52-1a7e-4cd4-905c-7075b1bc56c8",
   "metadata": {},
   "outputs": [],
   "source": [
    "import QuantLib as ql\n",
    "import pandas as pd\n",
    "import numpy as np"
   ]
  },
  {
   "cell_type": "code",
   "execution_count": 35,
   "id": "823ced23-bec3-40cb-8d99-1152935e2733",
   "metadata": {},
   "outputs": [],
   "source": [
    "tasa_cupon = 0.0713\n",
    "periodicidad = 2"
   ]
  },
  {
   "cell_type": "code",
   "execution_count": 36,
   "id": "21dc6095-e45c-4aa2-9b42-f1b54c8d6649",
   "metadata": {},
   "outputs": [],
   "source": [
    "precio = 102.42"
   ]
  },
  {
   "cell_type": "code",
   "execution_count": 37,
   "id": "b7874faa-cb49-4a93-b4a9-23f83d0ff621",
   "metadata": {},
   "outputs": [],
   "source": [
    "fecha_emision = pd.to_datetime('2015-12-22')\n",
    "fecha_vence = pd.to_datetime('2021-12-22')\n",
    "fecha_calculo = pd.to_datetime('2020-02-12')"
   ]
  },
  {
   "cell_type": "code",
   "execution_count": 38,
   "id": "c1d2f262-ebd8-4e1f-ab73-ec42a28c9175",
   "metadata": {},
   "outputs": [],
   "source": [
    "fecha_calc_ql = ql.Date(fecha_calculo.day,fecha_calculo.month,fecha_calculo.year)\n",
    "\n",
    "ql.Settings.instance().evaluationDate = fecha_calc_ql"
   ]
  },
  {
   "cell_type": "code",
   "execution_count": 39,
   "id": "b2cb4569-4a2a-462e-a268-cb0bad342e84",
   "metadata": {},
   "outputs": [],
   "source": [
    "qlCalendar = ql.BespokeCalendar('Costa Rica')\n",
    "qlCalendar.addWeekend(ql.Sunday)\n",
    "qlCalendar.addWeekend(ql.Saturday)\n",
    "qlCalendar.addHoliday(ql.Date(25,12,2020))\n",
    "qlCalendar.addHoliday(ql.Date(1,1,2021))\n",
    "qlCalendar.addHoliday(ql.Date(15,9,2020))"
   ]
  },
  {
   "cell_type": "code",
   "execution_count": 40,
   "id": "ea11a8dc-dfbe-4f9e-91b5-93a88a0ac479",
   "metadata": {},
   "outputs": [
    {
     "data": {
      "text/plain": [
       "(Date(15,9,2020), Date(25,12,2020), Date(1,1,2021))"
      ]
     },
     "execution_count": 40,
     "metadata": {},
     "output_type": "execute_result"
    }
   ],
   "source": [
    "qlCalendar.holidayList(ql.Date(1,1,2020),ql.Date(1,1,2022),False)"
   ]
  },
  {
   "cell_type": "code",
   "execution_count": 41,
   "id": "b790897f-c019-4f8b-b148-ab8cff472db3",
   "metadata": {},
   "outputs": [
    {
     "name": "stdout",
     "output_type": "stream",
     "text": [
      "February 12th, 2020\n"
     ]
    }
   ],
   "source": [
    "intervalo = ql.Period(60,ql.Days)\n",
    "print(fecha_calc_ql)"
   ]
  },
  {
   "cell_type": "code",
   "execution_count": 42,
   "id": "4e836139-7c0c-4d45-a5ca-e8c040774f24",
   "metadata": {},
   "outputs": [
    {
     "name": "stdout",
     "output_type": "stream",
     "text": [
      "April 12th, 2020\n"
     ]
    }
   ],
   "source": [
    "fecha = fecha_calc_ql + intervalo\n",
    "print(fecha)"
   ]
  },
  {
   "cell_type": "code",
   "execution_count": 43,
   "id": "d25c3509-8685-4bc9-a0c8-0bd60c7f973a",
   "metadata": {},
   "outputs": [
    {
     "name": "stdout",
     "output_type": "stream",
     "text": [
      "May 6th, 2020\n"
     ]
    }
   ],
   "source": [
    "fecha_1 = qlCalendar.advance(fecha_calc_ql,intervalo)\n",
    "print(fecha_1)"
   ]
  },
  {
   "cell_type": "code",
   "execution_count": 44,
   "id": "37c9182b-c70b-4526-b60e-18fbda52fc1e",
   "metadata": {},
   "outputs": [],
   "source": [
    "fecha_vence_ql = ql.Date(fecha_vence.day,fecha_vence.month,fecha_vence.year)\n",
    "fecha_emision_ql = ql.Date(fecha_emision.day,fecha_emision.month,fecha_emision.year)"
   ]
  },
  {
   "cell_type": "code",
   "execution_count": 45,
   "id": "a6fc37d1-6ec7-43da-a01d-d7728b4c21e0",
   "metadata": {},
   "outputs": [],
   "source": [
    "qlTenor = ql.Period(periodicidad)\n",
    "qlConvencion = ql.Following\n",
    "dateGeneration = ql.DateGeneration.Backward\n",
    "monthEnd = False"
   ]
  },
  {
   "cell_type": "code",
   "execution_count": 46,
   "id": "e3a84fe1-7dc2-4cf0-9f88-651d909a9f28",
   "metadata": {},
   "outputs": [
    {
     "data": {
      "text/html": [
       "<div>\n",
       "<style scoped>\n",
       "    .dataframe tbody tr th:only-of-type {\n",
       "        vertical-align: middle;\n",
       "    }\n",
       "\n",
       "    .dataframe tbody tr th {\n",
       "        vertical-align: top;\n",
       "    }\n",
       "\n",
       "    .dataframe thead th {\n",
       "        text-align: right;\n",
       "    }\n",
       "</style>\n",
       "<table border=\"1\" class=\"dataframe\">\n",
       "  <thead>\n",
       "    <tr style=\"text-align: right;\">\n",
       "      <th></th>\n",
       "      <th>date</th>\n",
       "    </tr>\n",
       "  </thead>\n",
       "  <tbody>\n",
       "    <tr>\n",
       "      <th>0</th>\n",
       "      <td>December 22nd, 2015</td>\n",
       "    </tr>\n",
       "    <tr>\n",
       "      <th>1</th>\n",
       "      <td>June 22nd, 2016</td>\n",
       "    </tr>\n",
       "    <tr>\n",
       "      <th>2</th>\n",
       "      <td>December 22nd, 2016</td>\n",
       "    </tr>\n",
       "    <tr>\n",
       "      <th>3</th>\n",
       "      <td>June 22nd, 2017</td>\n",
       "    </tr>\n",
       "    <tr>\n",
       "      <th>4</th>\n",
       "      <td>December 22nd, 2017</td>\n",
       "    </tr>\n",
       "    <tr>\n",
       "      <th>5</th>\n",
       "      <td>June 22nd, 2018</td>\n",
       "    </tr>\n",
       "    <tr>\n",
       "      <th>6</th>\n",
       "      <td>December 24th, 2018</td>\n",
       "    </tr>\n",
       "    <tr>\n",
       "      <th>7</th>\n",
       "      <td>June 24th, 2019</td>\n",
       "    </tr>\n",
       "    <tr>\n",
       "      <th>8</th>\n",
       "      <td>December 23rd, 2019</td>\n",
       "    </tr>\n",
       "    <tr>\n",
       "      <th>9</th>\n",
       "      <td>June 22nd, 2020</td>\n",
       "    </tr>\n",
       "    <tr>\n",
       "      <th>10</th>\n",
       "      <td>December 22nd, 2020</td>\n",
       "    </tr>\n",
       "    <tr>\n",
       "      <th>11</th>\n",
       "      <td>June 22nd, 2021</td>\n",
       "    </tr>\n",
       "    <tr>\n",
       "      <th>12</th>\n",
       "      <td>December 22nd, 2021</td>\n",
       "    </tr>\n",
       "  </tbody>\n",
       "</table>\n",
       "</div>"
      ],
      "text/plain": [
       "                   date\n",
       "0   December 22nd, 2015\n",
       "1       June 22nd, 2016\n",
       "2   December 22nd, 2016\n",
       "3       June 22nd, 2017\n",
       "4   December 22nd, 2017\n",
       "5       June 22nd, 2018\n",
       "6   December 24th, 2018\n",
       "7       June 24th, 2019\n",
       "8   December 23rd, 2019\n",
       "9       June 22nd, 2020\n",
       "10  December 22nd, 2020\n",
       "11      June 22nd, 2021\n",
       "12  December 22nd, 2021"
      ]
     },
     "execution_count": 46,
     "metadata": {},
     "output_type": "execute_result"
    }
   ],
   "source": [
    "cronograma = ql.Schedule(fecha_emision_ql,fecha_vence_ql,qlTenor,\n",
    "                         qlCalendar,qlConvencion,qlConvencion,dateGeneration,monthEnd)\n",
    "# list(cronograma)\n",
    "pd.DataFrame({'date':list(cronograma)})"
   ]
  },
  {
   "cell_type": "code",
   "execution_count": 47,
   "id": "a640c09a-120d-41d4-8b87-c32f989e55d1",
   "metadata": {},
   "outputs": [],
   "source": [
    "dayCount = ql.Thirty360(ql.Thirty360.BondBasis)"
   ]
  },
  {
   "cell_type": "code",
   "execution_count": 48,
   "id": "22ab01d5-9979-46f2-9ceb-833e9a1c94db",
   "metadata": {},
   "outputs": [],
   "source": [
    "compound_type = ql.Compounded"
   ]
  },
  {
   "cell_type": "code",
   "execution_count": 49,
   "id": "d63dccc2-4230-42aa-ae2b-8ed4f6a26f64",
   "metadata": {},
   "outputs": [],
   "source": [
    "frequency = ql.Semiannual"
   ]
  },
  {
   "cell_type": "code",
   "execution_count": 50,
   "id": "bc8f64a4-bbbb-457d-ab6f-194f71cc436a",
   "metadata": {},
   "outputs": [],
   "source": [
    "settlementDays = 0"
   ]
  },
  {
   "cell_type": "code",
   "execution_count": 51,
   "id": "d464710f-3acc-47aa-a696-e9c8aaa1d754",
   "metadata": {},
   "outputs": [
    {
     "name": "stdout",
     "output_type": "stream",
     "text": [
      "7.130000 % 30/360 (Bond Basis) Semiannual compounding\n"
     ]
    }
   ],
   "source": [
    "interest_rate = ql.InterestRate(tasa_cupon,dayCount,compound_type,frequency)\n",
    "print(interest_rate)"
   ]
  },
  {
   "cell_type": "code",
   "execution_count": 52,
   "id": "9eb268e0-7817-4038-98d0-110526778f90",
   "metadata": {},
   "outputs": [
    {
     "name": "stdout",
     "output_type": "stream",
     "text": [
      "1.0725709225\n"
     ]
    }
   ],
   "source": [
    "print(interest_rate.compoundFactor(1))"
   ]
  },
  {
   "cell_type": "code",
   "execution_count": 53,
   "id": "5b75b6f1-4e75-4310-90ee-c87ec926ce85",
   "metadata": {},
   "outputs": [
    {
     "name": "stdout",
     "output_type": "stream",
     "text": [
      "0.7556069152825599\n"
     ]
    }
   ],
   "source": [
    "print(interest_rate.discountFactor(4))"
   ]
  },
  {
   "cell_type": "code",
   "execution_count": 54,
   "id": "fee3564d-fdd7-4062-8d58-759e41a2a020",
   "metadata": {},
   "outputs": [
    {
     "name": "stdout",
     "output_type": "stream",
     "text": [
      "7.257092 % 30/360 (Bond Basis) Annual compounding\n"
     ]
    }
   ],
   "source": [
    "nueva_tasa = interest_rate.equivalentRate(compound_type,ql.Annual,1)\n",
    "print(nueva_tasa)"
   ]
  },
  {
   "cell_type": "markdown",
   "id": "f3fc6893-3b56-423c-9315-171098bdbe61",
   "metadata": {},
   "source": [
    "### Creación del bono"
   ]
  },
  {
   "cell_type": "code",
   "execution_count": 55,
   "id": "2cf5ead9-8b14-4e5f-8cc0-7141fe39bfd7",
   "metadata": {},
   "outputs": [
    {
     "data": {
      "text/plain": [
       "<QuantLib.QuantLib.FixedRateBond; proxy of <Swig Object of type 'ext::shared_ptr< FixedRateBond > *' at 0x0000020F2006ABE0> >"
      ]
     },
     "execution_count": 55,
     "metadata": {},
     "output_type": "execute_result"
    }
   ],
   "source": [
    "bono = ql.FixedRateBond(settlementDays,100,cronograma,[tasa_cupon],dayCount)\n",
    "bono"
   ]
  },
  {
   "cell_type": "code",
   "execution_count": 56,
   "id": "6d5619ac-9686-4c26-998c-7aa7306fd379",
   "metadata": {},
   "outputs": [
    {
     "name": "stdout",
     "output_type": "stream",
     "text": [
      "                 Fechas      Montos\n",
      "0       June 22nd, 2016    3.565000\n",
      "1   December 22nd, 2016    3.565000\n",
      "2       June 22nd, 2017    3.565000\n",
      "3   December 22nd, 2017    3.565000\n",
      "4       June 22nd, 2018    3.565000\n",
      "5   December 24th, 2018    3.604611\n",
      "6       June 24th, 2019    3.565000\n",
      "7   December 23rd, 2019    3.545194\n",
      "8       June 22nd, 2020    3.545194\n",
      "9   December 22nd, 2020    3.565000\n",
      "10      June 22nd, 2021    3.565000\n",
      "11  December 22nd, 2021    3.565000\n",
      "12  December 22nd, 2021  100.000000\n"
     ]
    }
   ],
   "source": [
    "cf = bono.cashflows()\n",
    "fechas = [item.date() for item in cf]\n",
    "montos = [item.amount() for item in cf]\n",
    "print(pd.DataFrame({'Fechas':fechas,'Montos':montos}))"
   ]
  },
  {
   "cell_type": "code",
   "execution_count": 57,
   "id": "efc222dd-c5ba-4e30-bd26-943aa50702a9",
   "metadata": {},
   "outputs": [],
   "source": [
    "rend = bono.bondYield(precio,dayCount,compound_type,frequency)"
   ]
  },
  {
   "cell_type": "code",
   "execution_count": 58,
   "id": "e771a7ff-4a87-4c3d-94de-478a352ecb0c",
   "metadata": {},
   "outputs": [
    {
     "data": {
      "text/plain": [
       "0.057349736690521236"
      ]
     },
     "execution_count": 58,
     "metadata": {},
     "output_type": "execute_result"
    }
   ],
   "source": [
    "rend"
   ]
  },
  {
   "cell_type": "code",
   "execution_count": 59,
   "id": "0b22d6f3-9d4b-4b47-a41a-173afb95560d",
   "metadata": {},
   "outputs": [],
   "source": [
    "interes_rend = ql.InterestRate(rend,dayCount,compound_type,frequency)"
   ]
  },
  {
   "cell_type": "code",
   "execution_count": 60,
   "id": "8f1b21c7-bdc9-44a4-8267-c8c690de7eaf",
   "metadata": {},
   "outputs": [
    {
     "data": {
      "text/plain": [
       "1.7619109199149028"
      ]
     },
     "execution_count": 60,
     "metadata": {},
     "output_type": "execute_result"
    }
   ],
   "source": [
    "duracion=ql.BondFunctions.duration(bono,interes_rend,ql.Duration.Macaulay)\n",
    "duracion"
   ]
  },
  {
   "cell_type": "code",
   "execution_count": 61,
   "id": "320376e9-c990-424f-bcc5-78a9bd15f904",
   "metadata": {},
   "outputs": [
    {
     "data": {
      "text/plain": [
       "1.7127967000390851"
      ]
     },
     "execution_count": 61,
     "metadata": {},
     "output_type": "execute_result"
    }
   ],
   "source": [
    "duracionMod=ql.BondFunctions.duration(bono,interes_rend,ql.Duration.Modified)\n",
    "duracionMod"
   ]
  },
  {
   "cell_type": "code",
   "execution_count": 62,
   "id": "b43f49ab-54d9-4741-b00b-cf735709deb6",
   "metadata": {},
   "outputs": [
    {
     "data": {
      "text/plain": [
       "3.8669145300256282"
      ]
     },
     "execution_count": 62,
     "metadata": {},
     "output_type": "execute_result"
    }
   ],
   "source": [
    "convexidad=ql.BondFunctions.convexity(bono,interes_rend)\n",
    "convexidad"
   ]
  },
  {
   "cell_type": "markdown",
   "id": "39cb0f4c-6005-4fcd-9adf-213930931e75",
   "metadata": {},
   "source": [
    "#### Curvas de rendimiento"
   ]
  },
  {
   "cell_type": "code",
   "execution_count": 64,
   "id": "f387f541-7d4e-48f0-8530-19896212bb7c",
   "metadata": {},
   "outputs": [
    {
     "ename": "FileNotFoundError",
     "evalue": "[Errno 2] No such file or directory: 'curvas(1).csv'",
     "output_type": "error",
     "traceback": [
      "\u001b[1;31m---------------------------------------------------------------------------\u001b[0m",
      "\u001b[1;31mFileNotFoundError\u001b[0m                         Traceback (most recent call last)",
      "Cell \u001b[1;32mIn[64], line 1\u001b[0m\n\u001b[1;32m----> 1\u001b[0m curvas \u001b[38;5;241m=\u001b[39m \u001b[43mpd\u001b[49m\u001b[38;5;241;43m.\u001b[39;49m\u001b[43mread_csv\u001b[49m\u001b[43m(\u001b[49m\u001b[38;5;124;43m\"\u001b[39;49m\u001b[38;5;124;43mcurvas(1).csv\u001b[39;49m\u001b[38;5;124;43m\"\u001b[39;49m\u001b[43m)\u001b[49m\n",
      "File \u001b[1;32m~\\anaconda3\\lib\\site-packages\\pandas\\util\\_decorators.py:211\u001b[0m, in \u001b[0;36mdeprecate_kwarg.<locals>._deprecate_kwarg.<locals>.wrapper\u001b[1;34m(*args, **kwargs)\u001b[0m\n\u001b[0;32m    209\u001b[0m     \u001b[38;5;28;01melse\u001b[39;00m:\n\u001b[0;32m    210\u001b[0m         kwargs[new_arg_name] \u001b[38;5;241m=\u001b[39m new_arg_value\n\u001b[1;32m--> 211\u001b[0m \u001b[38;5;28;01mreturn\u001b[39;00m func(\u001b[38;5;241m*\u001b[39margs, \u001b[38;5;241m*\u001b[39m\u001b[38;5;241m*\u001b[39mkwargs)\n",
      "File \u001b[1;32m~\\anaconda3\\lib\\site-packages\\pandas\\util\\_decorators.py:331\u001b[0m, in \u001b[0;36mdeprecate_nonkeyword_arguments.<locals>.decorate.<locals>.wrapper\u001b[1;34m(*args, **kwargs)\u001b[0m\n\u001b[0;32m    325\u001b[0m \u001b[38;5;28;01mif\u001b[39;00m \u001b[38;5;28mlen\u001b[39m(args) \u001b[38;5;241m>\u001b[39m num_allow_args:\n\u001b[0;32m    326\u001b[0m     warnings\u001b[38;5;241m.\u001b[39mwarn(\n\u001b[0;32m    327\u001b[0m         msg\u001b[38;5;241m.\u001b[39mformat(arguments\u001b[38;5;241m=\u001b[39m_format_argument_list(allow_args)),\n\u001b[0;32m    328\u001b[0m         \u001b[38;5;167;01mFutureWarning\u001b[39;00m,\n\u001b[0;32m    329\u001b[0m         stacklevel\u001b[38;5;241m=\u001b[39mfind_stack_level(),\n\u001b[0;32m    330\u001b[0m     )\n\u001b[1;32m--> 331\u001b[0m \u001b[38;5;28;01mreturn\u001b[39;00m func(\u001b[38;5;241m*\u001b[39margs, \u001b[38;5;241m*\u001b[39m\u001b[38;5;241m*\u001b[39mkwargs)\n",
      "File \u001b[1;32m~\\anaconda3\\lib\\site-packages\\pandas\\io\\parsers\\readers.py:950\u001b[0m, in \u001b[0;36mread_csv\u001b[1;34m(filepath_or_buffer, sep, delimiter, header, names, index_col, usecols, squeeze, prefix, mangle_dupe_cols, dtype, engine, converters, true_values, false_values, skipinitialspace, skiprows, skipfooter, nrows, na_values, keep_default_na, na_filter, verbose, skip_blank_lines, parse_dates, infer_datetime_format, keep_date_col, date_parser, dayfirst, cache_dates, iterator, chunksize, compression, thousands, decimal, lineterminator, quotechar, quoting, doublequote, escapechar, comment, encoding, encoding_errors, dialect, error_bad_lines, warn_bad_lines, on_bad_lines, delim_whitespace, low_memory, memory_map, float_precision, storage_options)\u001b[0m\n\u001b[0;32m    935\u001b[0m kwds_defaults \u001b[38;5;241m=\u001b[39m _refine_defaults_read(\n\u001b[0;32m    936\u001b[0m     dialect,\n\u001b[0;32m    937\u001b[0m     delimiter,\n\u001b[1;32m   (...)\u001b[0m\n\u001b[0;32m    946\u001b[0m     defaults\u001b[38;5;241m=\u001b[39m{\u001b[38;5;124m\"\u001b[39m\u001b[38;5;124mdelimiter\u001b[39m\u001b[38;5;124m\"\u001b[39m: \u001b[38;5;124m\"\u001b[39m\u001b[38;5;124m,\u001b[39m\u001b[38;5;124m\"\u001b[39m},\n\u001b[0;32m    947\u001b[0m )\n\u001b[0;32m    948\u001b[0m kwds\u001b[38;5;241m.\u001b[39mupdate(kwds_defaults)\n\u001b[1;32m--> 950\u001b[0m \u001b[38;5;28;01mreturn\u001b[39;00m \u001b[43m_read\u001b[49m\u001b[43m(\u001b[49m\u001b[43mfilepath_or_buffer\u001b[49m\u001b[43m,\u001b[49m\u001b[43m \u001b[49m\u001b[43mkwds\u001b[49m\u001b[43m)\u001b[49m\n",
      "File \u001b[1;32m~\\anaconda3\\lib\\site-packages\\pandas\\io\\parsers\\readers.py:605\u001b[0m, in \u001b[0;36m_read\u001b[1;34m(filepath_or_buffer, kwds)\u001b[0m\n\u001b[0;32m    602\u001b[0m _validate_names(kwds\u001b[38;5;241m.\u001b[39mget(\u001b[38;5;124m\"\u001b[39m\u001b[38;5;124mnames\u001b[39m\u001b[38;5;124m\"\u001b[39m, \u001b[38;5;28;01mNone\u001b[39;00m))\n\u001b[0;32m    604\u001b[0m \u001b[38;5;66;03m# Create the parser.\u001b[39;00m\n\u001b[1;32m--> 605\u001b[0m parser \u001b[38;5;241m=\u001b[39m TextFileReader(filepath_or_buffer, \u001b[38;5;241m*\u001b[39m\u001b[38;5;241m*\u001b[39mkwds)\n\u001b[0;32m    607\u001b[0m \u001b[38;5;28;01mif\u001b[39;00m chunksize \u001b[38;5;129;01mor\u001b[39;00m iterator:\n\u001b[0;32m    608\u001b[0m     \u001b[38;5;28;01mreturn\u001b[39;00m parser\n",
      "File \u001b[1;32m~\\anaconda3\\lib\\site-packages\\pandas\\io\\parsers\\readers.py:1442\u001b[0m, in \u001b[0;36mTextFileReader.__init__\u001b[1;34m(self, f, engine, **kwds)\u001b[0m\n\u001b[0;32m   1439\u001b[0m     \u001b[38;5;28mself\u001b[39m\u001b[38;5;241m.\u001b[39moptions[\u001b[38;5;124m\"\u001b[39m\u001b[38;5;124mhas_index_names\u001b[39m\u001b[38;5;124m\"\u001b[39m] \u001b[38;5;241m=\u001b[39m kwds[\u001b[38;5;124m\"\u001b[39m\u001b[38;5;124mhas_index_names\u001b[39m\u001b[38;5;124m\"\u001b[39m]\n\u001b[0;32m   1441\u001b[0m \u001b[38;5;28mself\u001b[39m\u001b[38;5;241m.\u001b[39mhandles: IOHandles \u001b[38;5;241m|\u001b[39m \u001b[38;5;28;01mNone\u001b[39;00m \u001b[38;5;241m=\u001b[39m \u001b[38;5;28;01mNone\u001b[39;00m\n\u001b[1;32m-> 1442\u001b[0m \u001b[38;5;28mself\u001b[39m\u001b[38;5;241m.\u001b[39m_engine \u001b[38;5;241m=\u001b[39m \u001b[38;5;28;43mself\u001b[39;49m\u001b[38;5;241;43m.\u001b[39;49m\u001b[43m_make_engine\u001b[49m\u001b[43m(\u001b[49m\u001b[43mf\u001b[49m\u001b[43m,\u001b[49m\u001b[43m \u001b[49m\u001b[38;5;28;43mself\u001b[39;49m\u001b[38;5;241;43m.\u001b[39;49m\u001b[43mengine\u001b[49m\u001b[43m)\u001b[49m\n",
      "File \u001b[1;32m~\\anaconda3\\lib\\site-packages\\pandas\\io\\parsers\\readers.py:1735\u001b[0m, in \u001b[0;36mTextFileReader._make_engine\u001b[1;34m(self, f, engine)\u001b[0m\n\u001b[0;32m   1733\u001b[0m     \u001b[38;5;28;01mif\u001b[39;00m \u001b[38;5;124m\"\u001b[39m\u001b[38;5;124mb\u001b[39m\u001b[38;5;124m\"\u001b[39m \u001b[38;5;129;01mnot\u001b[39;00m \u001b[38;5;129;01min\u001b[39;00m mode:\n\u001b[0;32m   1734\u001b[0m         mode \u001b[38;5;241m+\u001b[39m\u001b[38;5;241m=\u001b[39m \u001b[38;5;124m\"\u001b[39m\u001b[38;5;124mb\u001b[39m\u001b[38;5;124m\"\u001b[39m\n\u001b[1;32m-> 1735\u001b[0m \u001b[38;5;28mself\u001b[39m\u001b[38;5;241m.\u001b[39mhandles \u001b[38;5;241m=\u001b[39m \u001b[43mget_handle\u001b[49m\u001b[43m(\u001b[49m\n\u001b[0;32m   1736\u001b[0m \u001b[43m    \u001b[49m\u001b[43mf\u001b[49m\u001b[43m,\u001b[49m\n\u001b[0;32m   1737\u001b[0m \u001b[43m    \u001b[49m\u001b[43mmode\u001b[49m\u001b[43m,\u001b[49m\n\u001b[0;32m   1738\u001b[0m \u001b[43m    \u001b[49m\u001b[43mencoding\u001b[49m\u001b[38;5;241;43m=\u001b[39;49m\u001b[38;5;28;43mself\u001b[39;49m\u001b[38;5;241;43m.\u001b[39;49m\u001b[43moptions\u001b[49m\u001b[38;5;241;43m.\u001b[39;49m\u001b[43mget\u001b[49m\u001b[43m(\u001b[49m\u001b[38;5;124;43m\"\u001b[39;49m\u001b[38;5;124;43mencoding\u001b[39;49m\u001b[38;5;124;43m\"\u001b[39;49m\u001b[43m,\u001b[49m\u001b[43m \u001b[49m\u001b[38;5;28;43;01mNone\u001b[39;49;00m\u001b[43m)\u001b[49m\u001b[43m,\u001b[49m\n\u001b[0;32m   1739\u001b[0m \u001b[43m    \u001b[49m\u001b[43mcompression\u001b[49m\u001b[38;5;241;43m=\u001b[39;49m\u001b[38;5;28;43mself\u001b[39;49m\u001b[38;5;241;43m.\u001b[39;49m\u001b[43moptions\u001b[49m\u001b[38;5;241;43m.\u001b[39;49m\u001b[43mget\u001b[49m\u001b[43m(\u001b[49m\u001b[38;5;124;43m\"\u001b[39;49m\u001b[38;5;124;43mcompression\u001b[39;49m\u001b[38;5;124;43m\"\u001b[39;49m\u001b[43m,\u001b[49m\u001b[43m \u001b[49m\u001b[38;5;28;43;01mNone\u001b[39;49;00m\u001b[43m)\u001b[49m\u001b[43m,\u001b[49m\n\u001b[0;32m   1740\u001b[0m \u001b[43m    \u001b[49m\u001b[43mmemory_map\u001b[49m\u001b[38;5;241;43m=\u001b[39;49m\u001b[38;5;28;43mself\u001b[39;49m\u001b[38;5;241;43m.\u001b[39;49m\u001b[43moptions\u001b[49m\u001b[38;5;241;43m.\u001b[39;49m\u001b[43mget\u001b[49m\u001b[43m(\u001b[49m\u001b[38;5;124;43m\"\u001b[39;49m\u001b[38;5;124;43mmemory_map\u001b[39;49m\u001b[38;5;124;43m\"\u001b[39;49m\u001b[43m,\u001b[49m\u001b[43m \u001b[49m\u001b[38;5;28;43;01mFalse\u001b[39;49;00m\u001b[43m)\u001b[49m\u001b[43m,\u001b[49m\n\u001b[0;32m   1741\u001b[0m \u001b[43m    \u001b[49m\u001b[43mis_text\u001b[49m\u001b[38;5;241;43m=\u001b[39;49m\u001b[43mis_text\u001b[49m\u001b[43m,\u001b[49m\n\u001b[0;32m   1742\u001b[0m \u001b[43m    \u001b[49m\u001b[43merrors\u001b[49m\u001b[38;5;241;43m=\u001b[39;49m\u001b[38;5;28;43mself\u001b[39;49m\u001b[38;5;241;43m.\u001b[39;49m\u001b[43moptions\u001b[49m\u001b[38;5;241;43m.\u001b[39;49m\u001b[43mget\u001b[49m\u001b[43m(\u001b[49m\u001b[38;5;124;43m\"\u001b[39;49m\u001b[38;5;124;43mencoding_errors\u001b[39;49m\u001b[38;5;124;43m\"\u001b[39;49m\u001b[43m,\u001b[49m\u001b[43m \u001b[49m\u001b[38;5;124;43m\"\u001b[39;49m\u001b[38;5;124;43mstrict\u001b[39;49m\u001b[38;5;124;43m\"\u001b[39;49m\u001b[43m)\u001b[49m\u001b[43m,\u001b[49m\n\u001b[0;32m   1743\u001b[0m \u001b[43m    \u001b[49m\u001b[43mstorage_options\u001b[49m\u001b[38;5;241;43m=\u001b[39;49m\u001b[38;5;28;43mself\u001b[39;49m\u001b[38;5;241;43m.\u001b[39;49m\u001b[43moptions\u001b[49m\u001b[38;5;241;43m.\u001b[39;49m\u001b[43mget\u001b[49m\u001b[43m(\u001b[49m\u001b[38;5;124;43m\"\u001b[39;49m\u001b[38;5;124;43mstorage_options\u001b[39;49m\u001b[38;5;124;43m\"\u001b[39;49m\u001b[43m,\u001b[49m\u001b[43m \u001b[49m\u001b[38;5;28;43;01mNone\u001b[39;49;00m\u001b[43m)\u001b[49m\u001b[43m,\u001b[49m\n\u001b[0;32m   1744\u001b[0m \u001b[43m\u001b[49m\u001b[43m)\u001b[49m\n\u001b[0;32m   1745\u001b[0m \u001b[38;5;28;01massert\u001b[39;00m \u001b[38;5;28mself\u001b[39m\u001b[38;5;241m.\u001b[39mhandles \u001b[38;5;129;01mis\u001b[39;00m \u001b[38;5;129;01mnot\u001b[39;00m \u001b[38;5;28;01mNone\u001b[39;00m\n\u001b[0;32m   1746\u001b[0m f \u001b[38;5;241m=\u001b[39m \u001b[38;5;28mself\u001b[39m\u001b[38;5;241m.\u001b[39mhandles\u001b[38;5;241m.\u001b[39mhandle\n",
      "File \u001b[1;32m~\\anaconda3\\lib\\site-packages\\pandas\\io\\common.py:856\u001b[0m, in \u001b[0;36mget_handle\u001b[1;34m(path_or_buf, mode, encoding, compression, memory_map, is_text, errors, storage_options)\u001b[0m\n\u001b[0;32m    851\u001b[0m \u001b[38;5;28;01melif\u001b[39;00m \u001b[38;5;28misinstance\u001b[39m(handle, \u001b[38;5;28mstr\u001b[39m):\n\u001b[0;32m    852\u001b[0m     \u001b[38;5;66;03m# Check whether the filename is to be opened in binary mode.\u001b[39;00m\n\u001b[0;32m    853\u001b[0m     \u001b[38;5;66;03m# Binary mode does not support 'encoding' and 'newline'.\u001b[39;00m\n\u001b[0;32m    854\u001b[0m     \u001b[38;5;28;01mif\u001b[39;00m ioargs\u001b[38;5;241m.\u001b[39mencoding \u001b[38;5;129;01mand\u001b[39;00m \u001b[38;5;124m\"\u001b[39m\u001b[38;5;124mb\u001b[39m\u001b[38;5;124m\"\u001b[39m \u001b[38;5;129;01mnot\u001b[39;00m \u001b[38;5;129;01min\u001b[39;00m ioargs\u001b[38;5;241m.\u001b[39mmode:\n\u001b[0;32m    855\u001b[0m         \u001b[38;5;66;03m# Encoding\u001b[39;00m\n\u001b[1;32m--> 856\u001b[0m         handle \u001b[38;5;241m=\u001b[39m \u001b[38;5;28;43mopen\u001b[39;49m\u001b[43m(\u001b[49m\n\u001b[0;32m    857\u001b[0m \u001b[43m            \u001b[49m\u001b[43mhandle\u001b[49m\u001b[43m,\u001b[49m\n\u001b[0;32m    858\u001b[0m \u001b[43m            \u001b[49m\u001b[43mioargs\u001b[49m\u001b[38;5;241;43m.\u001b[39;49m\u001b[43mmode\u001b[49m\u001b[43m,\u001b[49m\n\u001b[0;32m    859\u001b[0m \u001b[43m            \u001b[49m\u001b[43mencoding\u001b[49m\u001b[38;5;241;43m=\u001b[39;49m\u001b[43mioargs\u001b[49m\u001b[38;5;241;43m.\u001b[39;49m\u001b[43mencoding\u001b[49m\u001b[43m,\u001b[49m\n\u001b[0;32m    860\u001b[0m \u001b[43m            \u001b[49m\u001b[43merrors\u001b[49m\u001b[38;5;241;43m=\u001b[39;49m\u001b[43merrors\u001b[49m\u001b[43m,\u001b[49m\n\u001b[0;32m    861\u001b[0m \u001b[43m            \u001b[49m\u001b[43mnewline\u001b[49m\u001b[38;5;241;43m=\u001b[39;49m\u001b[38;5;124;43m\"\u001b[39;49m\u001b[38;5;124;43m\"\u001b[39;49m\u001b[43m,\u001b[49m\n\u001b[0;32m    862\u001b[0m \u001b[43m        \u001b[49m\u001b[43m)\u001b[49m\n\u001b[0;32m    863\u001b[0m     \u001b[38;5;28;01melse\u001b[39;00m:\n\u001b[0;32m    864\u001b[0m         \u001b[38;5;66;03m# Binary mode\u001b[39;00m\n\u001b[0;32m    865\u001b[0m         handle \u001b[38;5;241m=\u001b[39m \u001b[38;5;28mopen\u001b[39m(handle, ioargs\u001b[38;5;241m.\u001b[39mmode)\n",
      "\u001b[1;31mFileNotFoundError\u001b[0m: [Errno 2] No such file or directory: 'curvas(1).csv'"
     ]
    }
   ],
   "source": [
    "curvas = pd.read_csv(\"curvas(1).csv\")"
   ]
  },
  {
   "cell_type": "code",
   "execution_count": null,
   "id": "abc3fdf9-582f-4125-90d5-f4aafb7b7f10",
   "metadata": {},
   "outputs": [],
   "source": [
    "curvas"
   ]
  },
  {
   "cell_type": "code",
   "execution_count": null,
   "id": "cf027ea7-0706-45b1-809c-c004be364f83",
   "metadata": {},
   "outputs": [],
   "source": [
    "curvas.dtypes"
   ]
  },
  {
   "cell_type": "code",
   "execution_count": null,
   "id": "2ad7c87e-7db5-4499-ad73-14649926c0b2",
   "metadata": {},
   "outputs": [],
   "source": [
    "curvas['DATE'] = pd.to_datetime(curvas['DATE'])"
   ]
  },
  {
   "cell_type": "code",
   "execution_count": null,
   "id": "2311be4d-2a5d-4259-86ee-7357d532185a",
   "metadata": {},
   "outputs": [],
   "source": [
    "tabla_curvas = curvas.pivot(values = 'RATE',index = 'DATE', columns = 'TERM')\n",
    "tabla_curvas.head()"
   ]
  },
  {
   "cell_type": "code",
   "execution_count": null,
   "id": "750bd5d4-d08d-441e-8c97-4df89eebc172",
   "metadata": {},
   "outputs": [],
   "source": [
    "tabla_curvas = tabla_curvas.loc[:,0:900]"
   ]
  },
  {
   "cell_type": "code",
   "execution_count": null,
   "id": "4b297128-2f74-44aa-9dd6-719a942495da",
   "metadata": {},
   "outputs": [],
   "source": [
    "tabla_curvas.head()"
   ]
  },
  {
   "cell_type": "code",
   "execution_count": null,
   "id": "d77a5d00-0a71-4fcc-ad3c-b15a924bbed7",
   "metadata": {},
   "outputs": [],
   "source": [
    "import matplotlib.pyplot as plt"
   ]
  },
  {
   "cell_type": "code",
   "execution_count": null,
   "id": "50cf46c6-dd54-4282-b0ac-d9df2ccba2cb",
   "metadata": {},
   "outputs": [],
   "source": [
    "plt.plot(tabla_curvas[360])"
   ]
  },
  {
   "cell_type": "code",
   "execution_count": null,
   "id": "2d3beeb8-670e-40b8-b3b4-a27c96e8b472",
   "metadata": {},
   "outputs": [],
   "source": [
    "tabla_curvas = tabla_curvas.loc[tabla_curvas.index >= pd.to_datetime('2018-04-01'),:]\n",
    "plt.plot(tabla_curvas[360])"
   ]
  },
  {
   "cell_type": "code",
   "execution_count": null,
   "id": "d0a5dbe1-726f-44cf-8948-a446eaa82d58",
   "metadata": {},
   "outputs": [],
   "source": [
    "plt.plot(tabla_curvas.iloc[200,:])"
   ]
  },
  {
   "cell_type": "code",
   "execution_count": null,
   "id": "41f79b1d-f4ed-41ac-8bd5-281a09047832",
   "metadata": {},
   "outputs": [],
   "source": [
    "curva_actual = tabla_curvas.iloc[-1,:]\n",
    "plt.plot(curva_actual)"
   ]
  },
  {
   "cell_type": "code",
   "execution_count": null,
   "id": "fc52b023-79df-49a2-b4fe-0b95b574b83c",
   "metadata": {},
   "outputs": [],
   "source": [
    "tasa_actual = curva_actual.values\n",
    "plazos = curva_actual.index.values\n",
    "plazos"
   ]
  },
  {
   "cell_type": "code",
   "execution_count": null,
   "id": "f92853f1-b126-46fc-9fa4-623516315da8",
   "metadata": {},
   "outputs": [],
   "source": [
    "curva_ql0 = ql.ZeroCurve(fecha_calc_ql+plazos,tasa_actual,ql.Thirty360(ql.Thirty360.BondBasis))\n",
    "curva_ql = ql.YieldTermStructureHandle(curva_ql0)"
   ]
  },
  {
   "cell_type": "code",
   "execution_count": null,
   "id": "8a9a94e5-8b4f-4584-910f-80b62604f5f4",
   "metadata": {},
   "outputs": [],
   "source": [
    "estructura_plazos = ql.ZeroSpreadedTermStructure(\n",
    "        curva_ql,ql.QuoteHandle(ql.SimpleQuote(0)), ql.Compounded,\n",
    "        ql.Semiannual,dayCount)"
   ]
  },
  {
   "cell_type": "code",
   "execution_count": null,
   "id": "08d593c9-653b-499b-947b-555cdf0df1dc",
   "metadata": {},
   "outputs": [],
   "source": [
    "pricing_engine = ql.DiscountingBondEngine(\n",
    "        ql.RelinkableYieldTermStructureHandle(estructura_plazos))"
   ]
  },
  {
   "cell_type": "code",
   "execution_count": null,
   "id": "16b31862-4235-45c2-b25d-b77382b0a49e",
   "metadata": {},
   "outputs": [],
   "source": [
    "bono.setPricingEngine(pricing_engine)\n",
    "bono.NPV()"
   ]
  },
  {
   "cell_type": "code",
   "execution_count": null,
   "id": "59bafe05-9635-43ae-9746-da0b18a89a28",
   "metadata": {},
   "outputs": [],
   "source": [
    "def Precio(spread):\n",
    "    estructura_plazos = ql.ZeroSpreadedTermStructure(\n",
    "            curva_ql,ql.QuoteHandle(ql.SimpleQuote(spread)), ql.Compounded,\n",
    "            ql.Semiannual,dayCount)\n",
    "    pricing_engine = ql.DiscountingBondEngine(\n",
    "            ql.RelinkableYieldTermStructureHandle(estructura_plazos))\n",
    "    \n",
    "    bono.setPricingEngine(pricing_engine)\n",
    "    return bono.NPV()"
   ]
  },
  {
   "cell_type": "code",
   "execution_count": null,
   "id": "99f9754e-9b86-4498-a834-a67e8645474e",
   "metadata": {},
   "outputs": [],
   "source": [
    "Precio(-0.01)"
   ]
  },
  {
   "cell_type": "code",
   "execution_count": null,
   "id": "868d8313-55aa-451e-bcbe-0cb65c8f0bf7",
   "metadata": {},
   "outputs": [],
   "source": [
    "def ErrorPrecio(spread):\n",
    "    return precio-Precio(spread)"
   ]
  },
  {
   "cell_type": "code",
   "execution_count": null,
   "id": "2430abf3-850a-4c65-8564-8ae1dfc63b63",
   "metadata": {},
   "outputs": [],
   "source": [
    "ErrorPrecio(0)"
   ]
  },
  {
   "cell_type": "code",
   "execution_count": null,
   "id": "20204c04-9f9b-4e75-a59e-4ba94e1a3fe2",
   "metadata": {},
   "outputs": [],
   "source": [
    "from scipy.optimize import bisect"
   ]
  },
  {
   "cell_type": "code",
   "execution_count": null,
   "id": "d69f40d3-a408-4d8b-bf7b-0cc215871e87",
   "metadata": {},
   "outputs": [],
   "source": [
    "spread_estimado = bisect(ErrorPrecio,-1,1)\n",
    "spread_estimado"
   ]
  },
  {
   "cell_type": "code",
   "execution_count": null,
   "id": "3fdeee29-6149-4ad0-b18e-517a198b71c1",
   "metadata": {},
   "outputs": [],
   "source": [
    "Precio(spread_estimado)"
   ]
  },
  {
   "cell_type": "code",
   "execution_count": null,
   "id": "643797a2-18b5-4639-badd-ca2ac36f5973",
   "metadata": {},
   "outputs": [],
   "source": []
  },
  {
   "cell_type": "markdown",
   "id": "47f6257b-edc7-4909-ad4d-f1d340a82098",
   "metadata": {},
   "source": [
    "## Cálculo de valor en riesgo por método paramétrico"
   ]
  },
  {
   "cell_type": "markdown",
   "id": "6a5cfb35-6084-4b3d-a0dd-97646b915e0a",
   "metadata": {},
   "source": [
    "Aproximación por variaciones paralelas"
   ]
  },
  {
   "cell_type": "markdown",
   "id": "3698dbef-21cb-428b-9271-b429eaa0281b",
   "metadata": {},
   "source": [
    "$VaR = \\sigma \\times \\Phi^{-1}(q) \\times W = D P \\,\\sigma_r \\,z_q  W/100$"
   ]
  },
  {
   "cell_type": "code",
   "execution_count": null,
   "id": "c1c4b2ee-5942-4a7b-b622-13842404fe53",
   "metadata": {},
   "outputs": [],
   "source": [
    "duracionMod"
   ]
  },
  {
   "cell_type": "code",
   "execution_count": null,
   "id": "a9ad5acb-a127-4bdd-8335-f8057eee668a",
   "metadata": {},
   "outputs": [],
   "source": [
    "from scipy.stats import norm"
   ]
  },
  {
   "cell_type": "code",
   "execution_count": null,
   "id": "e0f1b3be-e7f1-45d3-ab1e-5b6a693c9714",
   "metadata": {},
   "outputs": [],
   "source": [
    "nivel_conf = 0.999\n",
    "zq = norm.ppf(nivel_conf)\n",
    "zq"
   ]
  },
  {
   "cell_type": "code",
   "execution_count": null,
   "id": "0c093b60-514c-44ab-8d8e-6b25681831a3",
   "metadata": {},
   "outputs": [],
   "source": [
    "cambios_tasas = tabla_curvas.diff(20).iloc[20:]\n",
    "cambios_tasas.head()"
   ]
  },
  {
   "cell_type": "code",
   "execution_count": null,
   "id": "7c891ec9-0ae4-4ad8-bea1-b777b4c81a1c",
   "metadata": {},
   "outputs": [],
   "source": [
    "sigma_plazo=cambios_tasas.std()\n",
    "plt.plot(sigma_plazo)"
   ]
  },
  {
   "cell_type": "code",
   "execution_count": null,
   "id": "7b759c56-c0d6-4dde-90c0-a8fb0b1cfcf3",
   "metadata": {},
   "outputs": [],
   "source": [
    "vol=sigma_plazo[600]\n",
    "vol"
   ]
  },
  {
   "cell_type": "code",
   "execution_count": null,
   "id": "1b1ccbb1-f605-48c6-a374-21a1d5b4e78f",
   "metadata": {},
   "outputs": [],
   "source": [
    "VaR = precio*duracionMod*zq*vol/100\n",
    "VaR"
   ]
  },
  {
   "cell_type": "code",
   "execution_count": null,
   "id": "aefcdc66-0dfe-4d91-b2f7-1a849d36f1b2",
   "metadata": {},
   "outputs": [],
   "source": [
    "duracionMod"
   ]
  },
  {
   "cell_type": "code",
   "execution_count": null,
   "id": "9f559557-ce1a-46dd-86ec-9dbd4a60f2c7",
   "metadata": {},
   "outputs": [],
   "source": [
    "delta = .0001\n",
    "nuevo_precio = Precio(spread_estimado+delta)\n",
    "cambio_porcentual = (1/precio)*(precio-nuevo_precio)/(delta)"
   ]
  },
  {
   "cell_type": "code",
   "execution_count": null,
   "id": "81c0b3a7-de35-47c5-9a3d-f5681f90e48a",
   "metadata": {},
   "outputs": [],
   "source": [
    "from sklearn import decomposition"
   ]
  },
  {
   "cell_type": "code",
   "execution_count": null,
   "id": "e379c875-d41f-4235-9e40-f50cc09e6ca3",
   "metadata": {},
   "outputs": [],
   "source": [
    "pca = decomposition.PCA(n_components=3, whiten = False)"
   ]
  },
  {
   "cell_type": "code",
   "execution_count": null,
   "id": "076b5ba7-ae2a-48f0-b8c1-2486b6456045",
   "metadata": {},
   "outputs": [],
   "source": [
    "cambios_tasas = np.diff(tabla_curvas.values,axis = 0)"
   ]
  },
  {
   "cell_type": "code",
   "execution_count": null,
   "id": "9ca14112-6e98-4905-ad8f-cf0175b243bc",
   "metadata": {},
   "outputs": [],
   "source": [
    "x_r = pca.fit_transform(cambios_tasas)\n",
    "x_r.shape"
   ]
  },
  {
   "cell_type": "code",
   "execution_count": null,
   "id": "0e9aff55-915c-4d49-8e6b-3bf85e7c9b34",
   "metadata": {},
   "outputs": [],
   "source": [
    "# Eje Y maginitud de la componente principal. Se puede indentificar que los datos de corto plazo están represnetados en \n",
    "# esta primera componente principal (los datos que tienen más varianza)\n",
    "\n",
    "comp = pca.components_\n",
    "plt.plot(plazos,comp[0])\n",
    "\n"
   ]
  },
  {
   "cell_type": "code",
   "execution_count": null,
   "id": "207d856e-df3a-4166-95d6-b45642ead5c2",
   "metadata": {},
   "outputs": [],
   "source": [
    "# Eje Y maginitud de la componente principal. Se puede indentificar que los datos de mediano plazo están represnetados en \n",
    "# esta segunda componente principal (los datos que tienen más varianza)\n",
    "\n",
    "comp = pca.components_\n",
    "plt.plot(plazos,comp[1])"
   ]
  },
  {
   "cell_type": "code",
   "execution_count": null,
   "id": "363775a4-7170-4752-beb4-6d767d04282c",
   "metadata": {},
   "outputs": [],
   "source": [
    "# Eje Y maginitud de la componente principal. Se puede indentificar que los datos de largo plazo están represnetados en \n",
    "# esta tercera componente principal (los datos que tienen más varianza)\n",
    "\n",
    "comp = pca.components_\n",
    "plt.plot(plazos,comp[2])"
   ]
  },
  {
   "cell_type": "code",
   "execution_count": null,
   "id": "dea18583-fa3f-45ca-8a2a-96f4d5de4379",
   "metadata": {},
   "outputs": [],
   "source": [
    "# Autovalores son las varianzas de cada componente\n",
    "\n",
    "print(pca.explained_variance_ratio_)"
   ]
  },
  {
   "cell_type": "code",
   "execution_count": null,
   "id": "6a2e0a1a-954a-4a6b-8fcb-776bd409ebcf",
   "metadata": {},
   "outputs": [],
   "source": [
    "# Componentes que explican la varianza\n",
    "\n",
    "print(np.cumsum(pca.explained_variance_ratio_))"
   ]
  },
  {
   "cell_type": "code",
   "execution_count": null,
   "id": "ec3b6155-27f4-4b7c-91d6-55eefb246330",
   "metadata": {},
   "outputs": [],
   "source": [
    "def PriceTermStructShift(spread,shift):\n",
    "    ql_curvacero_shift = ql.ZeroCurve(fecha_calc_ql+plazos,tasa_actual+shift,ql.Thirty360(ql.Thirty360.BondBasis))\n",
    "    ql_curva_shift = ql.YieldTermStructureHandle(ql_curvacero_shift)    \n",
    "    term_structure_spread = ql.ZeroSpreadedTermStructure(ql_curva_shift,ql.QuoteHandle(ql.SimpleQuote(spread)),ql.Compounded,ql.Semiannual,dayCount) \n",
    "    pricing_engine_shift = ql.DiscountingBondEngine(ql.RelinkableYieldTermStructureHandle(term_structure_spread))\n",
    "    bono.setPricingEngine(pricing_engine_shift)\n",
    "    return bono.NPV()"
   ]
  },
  {
   "cell_type": "code",
   "execution_count": null,
   "id": "fcdef91f-a896-40f8-b190-4fff745821e0",
   "metadata": {},
   "outputs": [],
   "source": [
    "PriceTermStructShift(spread_estimado, .02)"
   ]
  },
  {
   "cell_type": "code",
   "execution_count": null,
   "id": "af74e561-0961-467b-998a-3ff218f97d9e",
   "metadata": {},
   "outputs": [],
   "source": [
    "dur_pca = np.zeros(3)\n",
    "delta = .0001\n",
    "\n",
    "\n",
    "# Sensibilidad: cuanto cambia el precio respecto a la varianza\n",
    "for icomp in range(0,3):\n",
    "    nuevo_precio = PriceTermStructShift(spread_estimado,delta*comp[icomp])\n",
    "    dur_pca[icomp] = -(1/precio)*(precio-nuevo_precio)/(delta)\n",
    "print(dur_pca)\n",
    "\n",
    "\n",
    "# Es más fuerte al final porque es donde recibo casi toda la plata, entonces tengo más cúmulo de riesgo pero cuya variabilidad es menor. "
   ]
  },
  {
   "cell_type": "code",
   "execution_count": null,
   "id": "077ce189-5f07-4f0b-b0ea-e49a8a84cf19",
   "metadata": {},
   "outputs": [],
   "source": [
    "np.linalg.norm(comp[0])"
   ]
  },
  {
   "cell_type": "code",
   "execution_count": null,
   "id": "caf7683a-968f-46dc-97d8-adf76787d58a",
   "metadata": {},
   "outputs": [],
   "source": [
    "covar = np.cov(np.transpose(x_r))\n",
    "covar"
   ]
  },
  {
   "cell_type": "code",
   "execution_count": null,
   "id": "f5354a8f-2f6f-45c5-9623-a45bc673a973",
   "metadata": {},
   "outputs": [],
   "source": [
    "sigma = np.sqrt(np.dot(np.dot(np.transpose(dur_pca),covar),dur_pca))\n",
    "print(sigma)"
   ]
  },
  {
   "cell_type": "code",
   "execution_count": null,
   "id": "3b07c67d-ecde-48aa-a117-9b50ae735fc5",
   "metadata": {},
   "outputs": [],
   "source": [
    "VaR = precio*sigma*zq/100\n",
    "print(VaR)"
   ]
  },
  {
   "cell_type": "markdown",
   "id": "2b1b3454-65fb-4781-913b-798c1d317e74",
   "metadata": {},
   "source": [
    "Valor en riesgo por simulación histórica"
   ]
  },
  {
   "cell_type": "code",
   "execution_count": null,
   "id": "4e863c3a-a1e2-4b2f-8847-d4dba5fe969d",
   "metadata": {},
   "outputs": [],
   "source": [
    "dur_pca = np.zeros(3)\n",
    "delta = .0001\n",
    "\n",
    "\n",
    "# Sensibilidad: cuanto cambia el precio respecto a la varianza\n",
    "for icomp in range(0,3):\n",
    "    nuevo_precio = PriceTermStructShift(spread_estimado,cambios_tasas[icomp,])\n",
    "    dur_pca[icomp] = -(1/precio)*(precio-nuevo_precio)/(delta)\n",
    "print(dur_pca)\n",
    "\n"
   ]
  },
  {
   "cell_type": "code",
   "execution_count": null,
   "id": "ec3d21ab",
   "metadata": {},
   "outputs": [],
   "source": [
    "np.linalg.norm(comp[0])"
   ]
  },
  {
   "cell_type": "code",
   "execution_count": null,
   "id": "c114d844",
   "metadata": {},
   "outputs": [],
   "source": [
    "covar = np.cov(np.transpose(x_r))\n",
    "covar"
   ]
  },
  {
   "cell_type": "code",
   "execution_count": null,
   "id": "e7d5678b",
   "metadata": {},
   "outputs": [],
   "source": [
    "sigma = np.sqrt(np.dot(np.dot(np.transpose(dur_pca),covar),dur_pca))\n",
    "print(sigma)"
   ]
  },
  {
   "cell_type": "code",
   "execution_count": null,
   "id": "516cb54b",
   "metadata": {},
   "outputs": [],
   "source": [
    "n=len(cambios_tasas)\n",
    "precios_esc = np.zeros(n)\n",
    "for i in range(0,n):\n",
    "    precios_esc[i] = PriceTermStructShift(spread_estimado,cambios_tasas[i,:])"
   ]
  },
  {
   "cell_type": "code",
   "execution_count": null,
   "id": "f66fee6f",
   "metadata": {},
   "outputs": [],
   "source": [
    "import scipy as sp\n",
    "from statsmodels.distributions.empirical_distribution import ECDF"
   ]
  },
  {
   "cell_type": "code",
   "execution_count": null,
   "id": "440c76bf",
   "metadata": {},
   "outputs": [],
   "source": [
    "precio_ecdf = ECDF(precios_esc)\n",
    "mu = np.mean(precios_esc)\n",
    "sig = np.std(precios_esc)"
   ]
  },
  {
   "cell_type": "code",
   "execution_count": null,
   "id": "7347b1c5",
   "metadata": {},
   "outputs": [],
   "source": [
    "norm_approx = sp.stats.norm.cdf(precio_ecdf.x,mu,sig)\n",
    "plt.plot(precio_ecdf.x,precio_ecdf.y,precio_ecdf.x,norm_approx)"
   ]
  }
 ],
 "metadata": {
  "kernelspec": {
   "display_name": "Python 3 (ipykernel)",
   "language": "python",
   "name": "python3"
  },
  "language_info": {
   "codemirror_mode": {
    "name": "ipython",
    "version": 3
   },
   "file_extension": ".py",
   "mimetype": "text/x-python",
   "name": "python",
   "nbconvert_exporter": "python",
   "pygments_lexer": "ipython3",
   "version": "3.10.9"
  }
 },
 "nbformat": 4,
 "nbformat_minor": 5
}
