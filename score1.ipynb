{
 "cells": [
  {
   "cell_type": "markdown",
   "id": "9f7da677-9870-486a-a10d-7a8299e285bd",
   "metadata": {},
   "source": [
    "# Ejemplo de score de crédito"
   ]
  },
  {
   "cell_type": "code",
   "execution_count": 698,
   "id": "a38768de-39ff-40aa-9990-c0686d947fbc",
   "metadata": {},
   "outputs": [],
   "source": [
    "import numpy as np\n",
    "import pandas as pd\n",
    "import matplotlib.pyplot as plt"
   ]
  },
  {
   "cell_type": "markdown",
   "id": "b1b60f43-8c31-417c-abef-3a0077495d9c",
   "metadata": {},
   "source": [
    "### Carga de datos"
   ]
  },
  {
   "cell_type": "code",
   "execution_count": 699,
   "id": "24a4e600-0e41-435f-ada5-0f5339376279",
   "metadata": {},
   "outputs": [
    {
     "name": "stderr",
     "output_type": "stream",
     "text": [
      "C:\\Users\\josea\\AppData\\Local\\Temp\\ipykernel_33524\\1438989098.py:1: DtypeWarning: Columns (26) have mixed types. Specify dtype option on import or set low_memory=False.\n",
      "  dfData = pd.read_csv(r\"C:\\Users\\josea\\Dropbox\\CA0417\\score\\train.csv\")\n"
     ]
    }
   ],
   "source": [
    "dfData = pd.read_csv(r\"C:\\Users\\josea\\Dropbox\\CA0417\\score\\train.csv\")"
   ]
  },
  {
   "cell_type": "code",
   "execution_count": 700,
   "id": "4586deb0-e8a2-4b98-8f49-014c393e4ee8",
   "metadata": {},
   "outputs": [
    {
     "data": {
      "text/html": [
       "<div>\n",
       "<style scoped>\n",
       "    .dataframe tbody tr th:only-of-type {\n",
       "        vertical-align: middle;\n",
       "    }\n",
       "\n",
       "    .dataframe tbody tr th {\n",
       "        vertical-align: top;\n",
       "    }\n",
       "\n",
       "    .dataframe thead th {\n",
       "        text-align: right;\n",
       "    }\n",
       "</style>\n",
       "<table border=\"1\" class=\"dataframe\">\n",
       "  <thead>\n",
       "    <tr style=\"text-align: right;\">\n",
       "      <th></th>\n",
       "      <th>ID</th>\n",
       "      <th>Customer_ID</th>\n",
       "      <th>Month</th>\n",
       "      <th>Name</th>\n",
       "      <th>Age</th>\n",
       "      <th>SSN</th>\n",
       "      <th>Occupation</th>\n",
       "      <th>Annual_Income</th>\n",
       "      <th>Monthly_Inhand_Salary</th>\n",
       "      <th>Num_Bank_Accounts</th>\n",
       "      <th>...</th>\n",
       "      <th>Credit_Mix</th>\n",
       "      <th>Outstanding_Debt</th>\n",
       "      <th>Credit_Utilization_Ratio</th>\n",
       "      <th>Credit_History_Age</th>\n",
       "      <th>Payment_of_Min_Amount</th>\n",
       "      <th>Total_EMI_per_month</th>\n",
       "      <th>Amount_invested_monthly</th>\n",
       "      <th>Payment_Behaviour</th>\n",
       "      <th>Monthly_Balance</th>\n",
       "      <th>Credit_Score</th>\n",
       "    </tr>\n",
       "  </thead>\n",
       "  <tbody>\n",
       "    <tr>\n",
       "      <th>0</th>\n",
       "      <td>0x1602</td>\n",
       "      <td>CUS_0xd40</td>\n",
       "      <td>January</td>\n",
       "      <td>Aaron Maashoh</td>\n",
       "      <td>23</td>\n",
       "      <td>821-00-0265</td>\n",
       "      <td>Scientist</td>\n",
       "      <td>19114.12</td>\n",
       "      <td>1824.843333</td>\n",
       "      <td>3</td>\n",
       "      <td>...</td>\n",
       "      <td>_</td>\n",
       "      <td>809.98</td>\n",
       "      <td>26.822620</td>\n",
       "      <td>22 Years and 1 Months</td>\n",
       "      <td>No</td>\n",
       "      <td>49.574949</td>\n",
       "      <td>80.41529543900253</td>\n",
       "      <td>High_spent_Small_value_payments</td>\n",
       "      <td>312.49408867943663</td>\n",
       "      <td>Good</td>\n",
       "    </tr>\n",
       "    <tr>\n",
       "      <th>1</th>\n",
       "      <td>0x1603</td>\n",
       "      <td>CUS_0xd40</td>\n",
       "      <td>February</td>\n",
       "      <td>Aaron Maashoh</td>\n",
       "      <td>23</td>\n",
       "      <td>821-00-0265</td>\n",
       "      <td>Scientist</td>\n",
       "      <td>19114.12</td>\n",
       "      <td>NaN</td>\n",
       "      <td>3</td>\n",
       "      <td>...</td>\n",
       "      <td>Good</td>\n",
       "      <td>809.98</td>\n",
       "      <td>31.944960</td>\n",
       "      <td>NaN</td>\n",
       "      <td>No</td>\n",
       "      <td>49.574949</td>\n",
       "      <td>118.28022162236736</td>\n",
       "      <td>Low_spent_Large_value_payments</td>\n",
       "      <td>284.62916249607184</td>\n",
       "      <td>Good</td>\n",
       "    </tr>\n",
       "    <tr>\n",
       "      <th>2</th>\n",
       "      <td>0x1604</td>\n",
       "      <td>CUS_0xd40</td>\n",
       "      <td>March</td>\n",
       "      <td>Aaron Maashoh</td>\n",
       "      <td>-500</td>\n",
       "      <td>821-00-0265</td>\n",
       "      <td>Scientist</td>\n",
       "      <td>19114.12</td>\n",
       "      <td>NaN</td>\n",
       "      <td>3</td>\n",
       "      <td>...</td>\n",
       "      <td>Good</td>\n",
       "      <td>809.98</td>\n",
       "      <td>28.609352</td>\n",
       "      <td>22 Years and 3 Months</td>\n",
       "      <td>No</td>\n",
       "      <td>49.574949</td>\n",
       "      <td>81.699521264648</td>\n",
       "      <td>Low_spent_Medium_value_payments</td>\n",
       "      <td>331.2098628537912</td>\n",
       "      <td>Good</td>\n",
       "    </tr>\n",
       "    <tr>\n",
       "      <th>3</th>\n",
       "      <td>0x1605</td>\n",
       "      <td>CUS_0xd40</td>\n",
       "      <td>April</td>\n",
       "      <td>Aaron Maashoh</td>\n",
       "      <td>23</td>\n",
       "      <td>821-00-0265</td>\n",
       "      <td>Scientist</td>\n",
       "      <td>19114.12</td>\n",
       "      <td>NaN</td>\n",
       "      <td>3</td>\n",
       "      <td>...</td>\n",
       "      <td>Good</td>\n",
       "      <td>809.98</td>\n",
       "      <td>31.377862</td>\n",
       "      <td>22 Years and 4 Months</td>\n",
       "      <td>No</td>\n",
       "      <td>49.574949</td>\n",
       "      <td>199.4580743910713</td>\n",
       "      <td>Low_spent_Small_value_payments</td>\n",
       "      <td>223.45130972736786</td>\n",
       "      <td>Good</td>\n",
       "    </tr>\n",
       "    <tr>\n",
       "      <th>4</th>\n",
       "      <td>0x1606</td>\n",
       "      <td>CUS_0xd40</td>\n",
       "      <td>May</td>\n",
       "      <td>Aaron Maashoh</td>\n",
       "      <td>23</td>\n",
       "      <td>821-00-0265</td>\n",
       "      <td>Scientist</td>\n",
       "      <td>19114.12</td>\n",
       "      <td>1824.843333</td>\n",
       "      <td>3</td>\n",
       "      <td>...</td>\n",
       "      <td>Good</td>\n",
       "      <td>809.98</td>\n",
       "      <td>24.797347</td>\n",
       "      <td>22 Years and 5 Months</td>\n",
       "      <td>No</td>\n",
       "      <td>49.574949</td>\n",
       "      <td>41.420153086217326</td>\n",
       "      <td>High_spent_Medium_value_payments</td>\n",
       "      <td>341.48923103222177</td>\n",
       "      <td>Good</td>\n",
       "    </tr>\n",
       "    <tr>\n",
       "      <th>...</th>\n",
       "      <td>...</td>\n",
       "      <td>...</td>\n",
       "      <td>...</td>\n",
       "      <td>...</td>\n",
       "      <td>...</td>\n",
       "      <td>...</td>\n",
       "      <td>...</td>\n",
       "      <td>...</td>\n",
       "      <td>...</td>\n",
       "      <td>...</td>\n",
       "      <td>...</td>\n",
       "      <td>...</td>\n",
       "      <td>...</td>\n",
       "      <td>...</td>\n",
       "      <td>...</td>\n",
       "      <td>...</td>\n",
       "      <td>...</td>\n",
       "      <td>...</td>\n",
       "      <td>...</td>\n",
       "      <td>...</td>\n",
       "      <td>...</td>\n",
       "    </tr>\n",
       "    <tr>\n",
       "      <th>99995</th>\n",
       "      <td>0x25fe9</td>\n",
       "      <td>CUS_0x942c</td>\n",
       "      <td>April</td>\n",
       "      <td>Nicks</td>\n",
       "      <td>25</td>\n",
       "      <td>078-73-5990</td>\n",
       "      <td>Mechanic</td>\n",
       "      <td>39628.99</td>\n",
       "      <td>3359.415833</td>\n",
       "      <td>4</td>\n",
       "      <td>...</td>\n",
       "      <td>_</td>\n",
       "      <td>502.38</td>\n",
       "      <td>34.663572</td>\n",
       "      <td>31 Years and 6 Months</td>\n",
       "      <td>No</td>\n",
       "      <td>35.104023</td>\n",
       "      <td>60.97133255718485</td>\n",
       "      <td>High_spent_Large_value_payments</td>\n",
       "      <td>479.866228</td>\n",
       "      <td>Poor</td>\n",
       "    </tr>\n",
       "    <tr>\n",
       "      <th>99996</th>\n",
       "      <td>0x25fea</td>\n",
       "      <td>CUS_0x942c</td>\n",
       "      <td>May</td>\n",
       "      <td>Nicks</td>\n",
       "      <td>25</td>\n",
       "      <td>078-73-5990</td>\n",
       "      <td>Mechanic</td>\n",
       "      <td>39628.99</td>\n",
       "      <td>3359.415833</td>\n",
       "      <td>4</td>\n",
       "      <td>...</td>\n",
       "      <td>_</td>\n",
       "      <td>502.38</td>\n",
       "      <td>40.565631</td>\n",
       "      <td>31 Years and 7 Months</td>\n",
       "      <td>No</td>\n",
       "      <td>35.104023</td>\n",
       "      <td>54.18595028760385</td>\n",
       "      <td>High_spent_Medium_value_payments</td>\n",
       "      <td>496.65161</td>\n",
       "      <td>Poor</td>\n",
       "    </tr>\n",
       "    <tr>\n",
       "      <th>99997</th>\n",
       "      <td>0x25feb</td>\n",
       "      <td>CUS_0x942c</td>\n",
       "      <td>June</td>\n",
       "      <td>Nicks</td>\n",
       "      <td>25</td>\n",
       "      <td>078-73-5990</td>\n",
       "      <td>Mechanic</td>\n",
       "      <td>39628.99</td>\n",
       "      <td>3359.415833</td>\n",
       "      <td>4</td>\n",
       "      <td>...</td>\n",
       "      <td>Good</td>\n",
       "      <td>502.38</td>\n",
       "      <td>41.255522</td>\n",
       "      <td>31 Years and 8 Months</td>\n",
       "      <td>No</td>\n",
       "      <td>35.104023</td>\n",
       "      <td>24.02847744864441</td>\n",
       "      <td>High_spent_Large_value_payments</td>\n",
       "      <td>516.809083</td>\n",
       "      <td>Poor</td>\n",
       "    </tr>\n",
       "    <tr>\n",
       "      <th>99998</th>\n",
       "      <td>0x25fec</td>\n",
       "      <td>CUS_0x942c</td>\n",
       "      <td>July</td>\n",
       "      <td>Nicks</td>\n",
       "      <td>25</td>\n",
       "      <td>078-73-5990</td>\n",
       "      <td>Mechanic</td>\n",
       "      <td>39628.99</td>\n",
       "      <td>3359.415833</td>\n",
       "      <td>4</td>\n",
       "      <td>...</td>\n",
       "      <td>Good</td>\n",
       "      <td>502.38</td>\n",
       "      <td>33.638208</td>\n",
       "      <td>31 Years and 9 Months</td>\n",
       "      <td>No</td>\n",
       "      <td>35.104023</td>\n",
       "      <td>251.67258219721603</td>\n",
       "      <td>Low_spent_Large_value_payments</td>\n",
       "      <td>319.164979</td>\n",
       "      <td>Standard</td>\n",
       "    </tr>\n",
       "    <tr>\n",
       "      <th>99999</th>\n",
       "      <td>0x25fed</td>\n",
       "      <td>CUS_0x942c</td>\n",
       "      <td>August</td>\n",
       "      <td>Nicks</td>\n",
       "      <td>25</td>\n",
       "      <td>078-73-5990</td>\n",
       "      <td>Mechanic</td>\n",
       "      <td>39628.99_</td>\n",
       "      <td>3359.415833</td>\n",
       "      <td>4</td>\n",
       "      <td>...</td>\n",
       "      <td>Good</td>\n",
       "      <td>502.38</td>\n",
       "      <td>34.192463</td>\n",
       "      <td>31 Years and 10 Months</td>\n",
       "      <td>No</td>\n",
       "      <td>35.104023</td>\n",
       "      <td>167.1638651610451</td>\n",
       "      <td>!@9#%8</td>\n",
       "      <td>393.673696</td>\n",
       "      <td>Poor</td>\n",
       "    </tr>\n",
       "  </tbody>\n",
       "</table>\n",
       "<p>100000 rows × 28 columns</p>\n",
       "</div>"
      ],
      "text/plain": [
       "            ID Customer_ID     Month           Name   Age          SSN  \\\n",
       "0       0x1602   CUS_0xd40   January  Aaron Maashoh    23  821-00-0265   \n",
       "1       0x1603   CUS_0xd40  February  Aaron Maashoh    23  821-00-0265   \n",
       "2       0x1604   CUS_0xd40     March  Aaron Maashoh  -500  821-00-0265   \n",
       "3       0x1605   CUS_0xd40     April  Aaron Maashoh    23  821-00-0265   \n",
       "4       0x1606   CUS_0xd40       May  Aaron Maashoh    23  821-00-0265   \n",
       "...        ...         ...       ...            ...   ...          ...   \n",
       "99995  0x25fe9  CUS_0x942c     April          Nicks    25  078-73-5990   \n",
       "99996  0x25fea  CUS_0x942c       May          Nicks    25  078-73-5990   \n",
       "99997  0x25feb  CUS_0x942c      June          Nicks    25  078-73-5990   \n",
       "99998  0x25fec  CUS_0x942c      July          Nicks    25  078-73-5990   \n",
       "99999  0x25fed  CUS_0x942c    August          Nicks    25  078-73-5990   \n",
       "\n",
       "      Occupation Annual_Income  Monthly_Inhand_Salary  Num_Bank_Accounts  ...  \\\n",
       "0      Scientist      19114.12            1824.843333                  3  ...   \n",
       "1      Scientist      19114.12                    NaN                  3  ...   \n",
       "2      Scientist      19114.12                    NaN                  3  ...   \n",
       "3      Scientist      19114.12                    NaN                  3  ...   \n",
       "4      Scientist      19114.12            1824.843333                  3  ...   \n",
       "...          ...           ...                    ...                ...  ...   \n",
       "99995   Mechanic      39628.99            3359.415833                  4  ...   \n",
       "99996   Mechanic      39628.99            3359.415833                  4  ...   \n",
       "99997   Mechanic      39628.99            3359.415833                  4  ...   \n",
       "99998   Mechanic      39628.99            3359.415833                  4  ...   \n",
       "99999   Mechanic     39628.99_            3359.415833                  4  ...   \n",
       "\n",
       "       Credit_Mix  Outstanding_Debt Credit_Utilization_Ratio  \\\n",
       "0               _            809.98                26.822620   \n",
       "1            Good            809.98                31.944960   \n",
       "2            Good            809.98                28.609352   \n",
       "3            Good            809.98                31.377862   \n",
       "4            Good            809.98                24.797347   \n",
       "...           ...               ...                      ...   \n",
       "99995           _            502.38                34.663572   \n",
       "99996           _            502.38                40.565631   \n",
       "99997        Good            502.38                41.255522   \n",
       "99998        Good            502.38                33.638208   \n",
       "99999        Good            502.38                34.192463   \n",
       "\n",
       "           Credit_History_Age  Payment_of_Min_Amount Total_EMI_per_month  \\\n",
       "0       22 Years and 1 Months                     No           49.574949   \n",
       "1                         NaN                     No           49.574949   \n",
       "2       22 Years and 3 Months                     No           49.574949   \n",
       "3       22 Years and 4 Months                     No           49.574949   \n",
       "4       22 Years and 5 Months                     No           49.574949   \n",
       "...                       ...                    ...                 ...   \n",
       "99995   31 Years and 6 Months                     No           35.104023   \n",
       "99996   31 Years and 7 Months                     No           35.104023   \n",
       "99997   31 Years and 8 Months                     No           35.104023   \n",
       "99998   31 Years and 9 Months                     No           35.104023   \n",
       "99999  31 Years and 10 Months                     No           35.104023   \n",
       "\n",
       "      Amount_invested_monthly                 Payment_Behaviour  \\\n",
       "0           80.41529543900253   High_spent_Small_value_payments   \n",
       "1          118.28022162236736    Low_spent_Large_value_payments   \n",
       "2             81.699521264648   Low_spent_Medium_value_payments   \n",
       "3           199.4580743910713    Low_spent_Small_value_payments   \n",
       "4          41.420153086217326  High_spent_Medium_value_payments   \n",
       "...                       ...                               ...   \n",
       "99995       60.97133255718485   High_spent_Large_value_payments   \n",
       "99996       54.18595028760385  High_spent_Medium_value_payments   \n",
       "99997       24.02847744864441   High_spent_Large_value_payments   \n",
       "99998      251.67258219721603    Low_spent_Large_value_payments   \n",
       "99999       167.1638651610451                            !@9#%8   \n",
       "\n",
       "          Monthly_Balance Credit_Score  \n",
       "0      312.49408867943663         Good  \n",
       "1      284.62916249607184         Good  \n",
       "2       331.2098628537912         Good  \n",
       "3      223.45130972736786         Good  \n",
       "4      341.48923103222177         Good  \n",
       "...                   ...          ...  \n",
       "99995          479.866228         Poor  \n",
       "99996           496.65161         Poor  \n",
       "99997          516.809083         Poor  \n",
       "99998          319.164979     Standard  \n",
       "99999          393.673696         Poor  \n",
       "\n",
       "[100000 rows x 28 columns]"
      ]
     },
     "execution_count": 700,
     "metadata": {},
     "output_type": "execute_result"
    }
   ],
   "source": [
    "dfData"
   ]
  },
  {
   "cell_type": "code",
   "execution_count": 701,
   "id": "3ccfffe8-2985-494f-b31c-d901d63355c2",
   "metadata": {},
   "outputs": [],
   "source": [
    "dfData1 = dfData[['ID','Age','Num_Bank_Accounts','Credit_Score']].copy()"
   ]
  },
  {
   "cell_type": "markdown",
   "id": "50950a40-296f-4dde-9e55-fb2194342c19",
   "metadata": {},
   "source": [
    "## Variable dependiente"
   ]
  },
  {
   "cell_type": "code",
   "execution_count": 702,
   "id": "7c2fe523-8e7e-4c40-9200-5e03227a0c7b",
   "metadata": {},
   "outputs": [
    {
     "data": {
      "text/plain": [
       "array(['Good', 'Standard', 'Poor'], dtype=object)"
      ]
     },
     "execution_count": 702,
     "metadata": {},
     "output_type": "execute_result"
    }
   ],
   "source": [
    "dfData1['Credit_Score'].unique()"
   ]
  },
  {
   "cell_type": "code",
   "execution_count": 703,
   "id": "648ba200-7b68-470d-9890-5a3e1331abf3",
   "metadata": {},
   "outputs": [
    {
     "data": {
      "text/plain": [
       "Credit_Score\n",
       "Standard    53174\n",
       "Poor        28998\n",
       "Good        17828\n",
       "Name: count, dtype: int64"
      ]
     },
     "execution_count": 703,
     "metadata": {},
     "output_type": "execute_result"
    }
   ],
   "source": [
    "dfData1['Credit_Score'].value_counts()"
   ]
  },
  {
   "cell_type": "code",
   "execution_count": 704,
   "id": "618602e6-2005-453f-b6d8-791fbcf15cf1",
   "metadata": {},
   "outputs": [],
   "source": [
    "dfData1['malo']=dfData1['Credit_Score'].map({'Good':0, 'Standard':0, 'Poor':1})"
   ]
  },
  {
   "cell_type": "code",
   "execution_count": 705,
   "id": "ee1cbf62-1faf-4c6c-94dd-aa8e202f834f",
   "metadata": {},
   "outputs": [
    {
     "data": {
      "text/plain": [
       "malo\n",
       "0    71002\n",
       "1    28998\n",
       "Name: count, dtype: int64"
      ]
     },
     "execution_count": 705,
     "metadata": {},
     "output_type": "execute_result"
    }
   ],
   "source": [
    "dfData1['malo'].value_counts()"
   ]
  },
  {
   "cell_type": "markdown",
   "id": "251d1c61-dca5-4d6f-b358-e000c9d4f3e1",
   "metadata": {},
   "source": [
    "## Variables independientes: Número de cuentas bancarias"
   ]
  },
  {
   "cell_type": "code",
   "execution_count": 706,
   "id": "d02b19df-b49e-4462-af62-661ce5610bf0",
   "metadata": {},
   "outputs": [
    {
     "data": {
      "text/plain": [
       "Num_Bank_Accounts\n",
       "-1        21\n",
       " 0      4328\n",
       " 1      4490\n",
       " 2      4304\n",
       " 3     11950\n",
       " 4     12186\n",
       " 5     12118\n",
       " 6     13001\n",
       " 7     12823\n",
       " 8     12765\n",
       " 9      5443\n",
       " 10     5247\n",
       " 11        9\n",
       " 18        1\n",
       " 26        1\n",
       " 27        1\n",
       " 28        3\n",
       " 29        1\n",
       " 30        1\n",
       " 31        1\n",
       "Name: count, dtype: int64"
      ]
     },
     "execution_count": 706,
     "metadata": {},
     "output_type": "execute_result"
    }
   ],
   "source": [
    "dfCountBankAcc = dfData1['Num_Bank_Accounts'].value_counts().sort_index()\n",
    "dfCountBankAcc.head(20)"
   ]
  },
  {
   "cell_type": "code",
   "execution_count": 707,
   "id": "c23d1e38-6067-402f-9799-a012872ab68a",
   "metadata": {},
   "outputs": [
    {
     "data": {
      "text/plain": [
       "Num_Bank_Accounts\n",
       "1786    1\n",
       "1789    2\n",
       "1793    1\n",
       "1794    2\n",
       "1798    2\n",
       "Name: count, dtype: int64"
      ]
     },
     "execution_count": 707,
     "metadata": {},
     "output_type": "execute_result"
    }
   ],
   "source": [
    "dfCountBankAcc.tail(5)"
   ]
  },
  {
   "cell_type": "code",
   "execution_count": 708,
   "id": "5fd349d9-e9fb-42fa-b35b-7b8a18b9f885",
   "metadata": {},
   "outputs": [],
   "source": [
    "dfData1 = dfData1.loc[(dfData1['Num_Bank_Accounts']>=0)&(dfData['Num_Bank_Accounts']<=10),:]"
   ]
  },
  {
   "cell_type": "code",
   "execution_count": 709,
   "id": "30ebaf61-3916-4595-a77d-072571a5de0b",
   "metadata": {},
   "outputs": [
    {
     "data": {
      "text/plain": [
       "98655"
      ]
     },
     "execution_count": 709,
     "metadata": {},
     "output_type": "execute_result"
    }
   ],
   "source": [
    "len(dfData1)"
   ]
  },
  {
   "cell_type": "code",
   "execution_count": 710,
   "id": "3f8140de-97dc-428b-ac13-d188d97b2a16",
   "metadata": {},
   "outputs": [
    {
     "data": {
      "text/plain": [
       "Num_Bank_Accounts\n",
       "0      4328\n",
       "1      4490\n",
       "2      4304\n",
       "3     11950\n",
       "4     12186\n",
       "5     12118\n",
       "6     13001\n",
       "7     12823\n",
       "8     12765\n",
       "9      5443\n",
       "10     5247\n",
       "Name: count, dtype: int64"
      ]
     },
     "execution_count": 710,
     "metadata": {},
     "output_type": "execute_result"
    }
   ],
   "source": [
    "dfCountBankAcc=dfData1['Num_Bank_Accounts'].value_counts().sort_index()\n",
    "dfCountBankAcc"
   ]
  },
  {
   "cell_type": "code",
   "execution_count": 711,
   "id": "6c4c557c-2196-4ead-ae39-0867b1113932",
   "metadata": {},
   "outputs": [
    {
     "data": {
      "text/html": [
       "<div>\n",
       "<style scoped>\n",
       "    .dataframe tbody tr th:only-of-type {\n",
       "        vertical-align: middle;\n",
       "    }\n",
       "\n",
       "    .dataframe tbody tr th {\n",
       "        vertical-align: top;\n",
       "    }\n",
       "\n",
       "    .dataframe thead tr th {\n",
       "        text-align: left;\n",
       "    }\n",
       "\n",
       "    .dataframe thead tr:last-of-type th {\n",
       "        text-align: right;\n",
       "    }\n",
       "</style>\n",
       "<table border=\"1\" class=\"dataframe\">\n",
       "  <thead>\n",
       "    <tr>\n",
       "      <th></th>\n",
       "      <th colspan=\"2\" halign=\"left\">malo</th>\n",
       "    </tr>\n",
       "    <tr>\n",
       "      <th></th>\n",
       "      <th>sum</th>\n",
       "      <th>count</th>\n",
       "    </tr>\n",
       "    <tr>\n",
       "      <th>Num_Bank_Accounts</th>\n",
       "      <th></th>\n",
       "      <th></th>\n",
       "    </tr>\n",
       "  </thead>\n",
       "  <tbody>\n",
       "    <tr>\n",
       "      <th>0</th>\n",
       "      <td>761</td>\n",
       "      <td>4328</td>\n",
       "    </tr>\n",
       "    <tr>\n",
       "      <th>1</th>\n",
       "      <td>706</td>\n",
       "      <td>4490</td>\n",
       "    </tr>\n",
       "    <tr>\n",
       "      <th>2</th>\n",
       "      <td>634</td>\n",
       "      <td>4304</td>\n",
       "    </tr>\n",
       "    <tr>\n",
       "      <th>3</th>\n",
       "      <td>1864</td>\n",
       "      <td>11950</td>\n",
       "    </tr>\n",
       "    <tr>\n",
       "      <th>4</th>\n",
       "      <td>1921</td>\n",
       "      <td>12186</td>\n",
       "    </tr>\n",
       "    <tr>\n",
       "      <th>5</th>\n",
       "      <td>1970</td>\n",
       "      <td>12118</td>\n",
       "    </tr>\n",
       "    <tr>\n",
       "      <th>6</th>\n",
       "      <td>4665</td>\n",
       "      <td>13001</td>\n",
       "    </tr>\n",
       "    <tr>\n",
       "      <th>7</th>\n",
       "      <td>4781</td>\n",
       "      <td>12823</td>\n",
       "    </tr>\n",
       "    <tr>\n",
       "      <th>8</th>\n",
       "      <td>4647</td>\n",
       "      <td>12765</td>\n",
       "    </tr>\n",
       "    <tr>\n",
       "      <th>9</th>\n",
       "      <td>3431</td>\n",
       "      <td>5443</td>\n",
       "    </tr>\n",
       "    <tr>\n",
       "      <th>10</th>\n",
       "      <td>3201</td>\n",
       "      <td>5247</td>\n",
       "    </tr>\n",
       "  </tbody>\n",
       "</table>\n",
       "</div>"
      ],
      "text/plain": [
       "                   malo       \n",
       "                    sum  count\n",
       "Num_Bank_Accounts             \n",
       "0                   761   4328\n",
       "1                   706   4490\n",
       "2                   634   4304\n",
       "3                  1864  11950\n",
       "4                  1921  12186\n",
       "5                  1970  12118\n",
       "6                  4665  13001\n",
       "7                  4781  12823\n",
       "8                  4647  12765\n",
       "9                  3431   5443\n",
       "10                 3201   5247"
      ]
     },
     "execution_count": 711,
     "metadata": {},
     "output_type": "execute_result"
    }
   ],
   "source": [
    "dfTablaWoeNumCuentas = dfData1[['Num_Bank_Accounts','malo']].groupby('Num_Bank_Accounts').agg({'malo':['sum','count']})\n",
    "dfTablaWoeNumCuentas"
   ]
  },
  {
   "cell_type": "code",
   "execution_count": 712,
   "id": "4d70858d-e8cc-43e6-bf66-45feb683e4b4",
   "metadata": {},
   "outputs": [
    {
     "data": {
      "text/html": [
       "<div>\n",
       "<style scoped>\n",
       "    .dataframe tbody tr th:only-of-type {\n",
       "        vertical-align: middle;\n",
       "    }\n",
       "\n",
       "    .dataframe tbody tr th {\n",
       "        vertical-align: top;\n",
       "    }\n",
       "\n",
       "    .dataframe thead th {\n",
       "        text-align: right;\n",
       "    }\n",
       "</style>\n",
       "<table border=\"1\" class=\"dataframe\">\n",
       "  <thead>\n",
       "    <tr style=\"text-align: right;\">\n",
       "      <th></th>\n",
       "      <th>malo</th>\n",
       "      <th>total</th>\n",
       "    </tr>\n",
       "    <tr>\n",
       "      <th>Num_Bank_Accounts</th>\n",
       "      <th></th>\n",
       "      <th></th>\n",
       "    </tr>\n",
       "  </thead>\n",
       "  <tbody>\n",
       "    <tr>\n",
       "      <th>0</th>\n",
       "      <td>761</td>\n",
       "      <td>4328</td>\n",
       "    </tr>\n",
       "    <tr>\n",
       "      <th>1</th>\n",
       "      <td>706</td>\n",
       "      <td>4490</td>\n",
       "    </tr>\n",
       "    <tr>\n",
       "      <th>2</th>\n",
       "      <td>634</td>\n",
       "      <td>4304</td>\n",
       "    </tr>\n",
       "    <tr>\n",
       "      <th>3</th>\n",
       "      <td>1864</td>\n",
       "      <td>11950</td>\n",
       "    </tr>\n",
       "    <tr>\n",
       "      <th>4</th>\n",
       "      <td>1921</td>\n",
       "      <td>12186</td>\n",
       "    </tr>\n",
       "    <tr>\n",
       "      <th>5</th>\n",
       "      <td>1970</td>\n",
       "      <td>12118</td>\n",
       "    </tr>\n",
       "    <tr>\n",
       "      <th>6</th>\n",
       "      <td>4665</td>\n",
       "      <td>13001</td>\n",
       "    </tr>\n",
       "    <tr>\n",
       "      <th>7</th>\n",
       "      <td>4781</td>\n",
       "      <td>12823</td>\n",
       "    </tr>\n",
       "    <tr>\n",
       "      <th>8</th>\n",
       "      <td>4647</td>\n",
       "      <td>12765</td>\n",
       "    </tr>\n",
       "    <tr>\n",
       "      <th>9</th>\n",
       "      <td>3431</td>\n",
       "      <td>5443</td>\n",
       "    </tr>\n",
       "    <tr>\n",
       "      <th>10</th>\n",
       "      <td>3201</td>\n",
       "      <td>5247</td>\n",
       "    </tr>\n",
       "  </tbody>\n",
       "</table>\n",
       "</div>"
      ],
      "text/plain": [
       "                   malo  total\n",
       "Num_Bank_Accounts             \n",
       "0                   761   4328\n",
       "1                   706   4490\n",
       "2                   634   4304\n",
       "3                  1864  11950\n",
       "4                  1921  12186\n",
       "5                  1970  12118\n",
       "6                  4665  13001\n",
       "7                  4781  12823\n",
       "8                  4647  12765\n",
       "9                  3431   5443\n",
       "10                 3201   5247"
      ]
     },
     "execution_count": 712,
     "metadata": {},
     "output_type": "execute_result"
    }
   ],
   "source": [
    "dfTablaWoeNumCuentas.columns = ['malo','total']\n",
    "dfTablaWoeNumCuentas"
   ]
  },
  {
   "cell_type": "code",
   "execution_count": 713,
   "id": "9962f8e5-6b55-4d39-914e-3983b498bd84",
   "metadata": {},
   "outputs": [
    {
     "data": {
      "text/html": [
       "<div>\n",
       "<style scoped>\n",
       "    .dataframe tbody tr th:only-of-type {\n",
       "        vertical-align: middle;\n",
       "    }\n",
       "\n",
       "    .dataframe tbody tr th {\n",
       "        vertical-align: top;\n",
       "    }\n",
       "\n",
       "    .dataframe thead th {\n",
       "        text-align: right;\n",
       "    }\n",
       "</style>\n",
       "<table border=\"1\" class=\"dataframe\">\n",
       "  <thead>\n",
       "    <tr style=\"text-align: right;\">\n",
       "      <th></th>\n",
       "      <th>malo</th>\n",
       "      <th>total</th>\n",
       "      <th>probMalo</th>\n",
       "    </tr>\n",
       "    <tr>\n",
       "      <th>Num_Bank_Accounts</th>\n",
       "      <th></th>\n",
       "      <th></th>\n",
       "      <th></th>\n",
       "    </tr>\n",
       "  </thead>\n",
       "  <tbody>\n",
       "    <tr>\n",
       "      <th>0</th>\n",
       "      <td>761</td>\n",
       "      <td>4328</td>\n",
       "      <td>0.175832</td>\n",
       "    </tr>\n",
       "    <tr>\n",
       "      <th>1</th>\n",
       "      <td>706</td>\n",
       "      <td>4490</td>\n",
       "      <td>0.157238</td>\n",
       "    </tr>\n",
       "    <tr>\n",
       "      <th>2</th>\n",
       "      <td>634</td>\n",
       "      <td>4304</td>\n",
       "      <td>0.147305</td>\n",
       "    </tr>\n",
       "    <tr>\n",
       "      <th>3</th>\n",
       "      <td>1864</td>\n",
       "      <td>11950</td>\n",
       "      <td>0.155983</td>\n",
       "    </tr>\n",
       "    <tr>\n",
       "      <th>4</th>\n",
       "      <td>1921</td>\n",
       "      <td>12186</td>\n",
       "      <td>0.157640</td>\n",
       "    </tr>\n",
       "    <tr>\n",
       "      <th>5</th>\n",
       "      <td>1970</td>\n",
       "      <td>12118</td>\n",
       "      <td>0.162568</td>\n",
       "    </tr>\n",
       "    <tr>\n",
       "      <th>6</th>\n",
       "      <td>4665</td>\n",
       "      <td>13001</td>\n",
       "      <td>0.358819</td>\n",
       "    </tr>\n",
       "    <tr>\n",
       "      <th>7</th>\n",
       "      <td>4781</td>\n",
       "      <td>12823</td>\n",
       "      <td>0.372846</td>\n",
       "    </tr>\n",
       "    <tr>\n",
       "      <th>8</th>\n",
       "      <td>4647</td>\n",
       "      <td>12765</td>\n",
       "      <td>0.364042</td>\n",
       "    </tr>\n",
       "    <tr>\n",
       "      <th>9</th>\n",
       "      <td>3431</td>\n",
       "      <td>5443</td>\n",
       "      <td>0.630351</td>\n",
       "    </tr>\n",
       "    <tr>\n",
       "      <th>10</th>\n",
       "      <td>3201</td>\n",
       "      <td>5247</td>\n",
       "      <td>0.610063</td>\n",
       "    </tr>\n",
       "  </tbody>\n",
       "</table>\n",
       "</div>"
      ],
      "text/plain": [
       "                   malo  total  probMalo\n",
       "Num_Bank_Accounts                       \n",
       "0                   761   4328  0.175832\n",
       "1                   706   4490  0.157238\n",
       "2                   634   4304  0.147305\n",
       "3                  1864  11950  0.155983\n",
       "4                  1921  12186  0.157640\n",
       "5                  1970  12118  0.162568\n",
       "6                  4665  13001  0.358819\n",
       "7                  4781  12823  0.372846\n",
       "8                  4647  12765  0.364042\n",
       "9                  3431   5443  0.630351\n",
       "10                 3201   5247  0.610063"
      ]
     },
     "execution_count": 713,
     "metadata": {},
     "output_type": "execute_result"
    }
   ],
   "source": [
    "dfTablaWoeNumCuentas['probMalo'] = dfTablaWoeNumCuentas['malo'] / dfTablaWoeNumCuentas['total']\n",
    "dfTablaWoeNumCuentas"
   ]
  },
  {
   "cell_type": "code",
   "execution_count": 714,
   "id": "60170305-a4ef-43ac-87b6-c4482fc2c02b",
   "metadata": {},
   "outputs": [
    {
     "data": {
      "text/plain": [
       "[<matplotlib.lines.Line2D at 0x2419d0c2590>]"
      ]
     },
     "execution_count": 714,
     "metadata": {},
     "output_type": "execute_result"
    },
    {
     "data": {
      "image/png": "[encoded data removed]",
      "text/plain": [
       "<Figure size 640x480 with 1 Axes>"
      ]
     },
     "metadata": {},
     "output_type": "display_data"
    }
   ],
   "source": [
    "plt.plot(dfTablaWoeNumCuentas['probMalo'])"
   ]
  },
  {
   "cell_type": "code",
   "execution_count": 715,
   "id": "ef52b659-3b25-4d45-a13b-cd838624b78c",
   "metadata": {},
   "outputs": [
    {
     "data": {
      "text/html": [
       "<div>\n",
       "<style scoped>\n",
       "    .dataframe tbody tr th:only-of-type {\n",
       "        vertical-align: middle;\n",
       "    }\n",
       "\n",
       "    .dataframe tbody tr th {\n",
       "        vertical-align: top;\n",
       "    }\n",
       "\n",
       "    .dataframe thead th {\n",
       "        text-align: right;\n",
       "    }\n",
       "</style>\n",
       "<table border=\"1\" class=\"dataframe\">\n",
       "  <thead>\n",
       "    <tr style=\"text-align: right;\">\n",
       "      <th></th>\n",
       "      <th>malo</th>\n",
       "      <th>total</th>\n",
       "      <th>probMalo</th>\n",
       "    </tr>\n",
       "    <tr>\n",
       "      <th>Num_Bank_Accounts</th>\n",
       "      <th></th>\n",
       "      <th></th>\n",
       "      <th></th>\n",
       "    </tr>\n",
       "  </thead>\n",
       "  <tbody>\n",
       "    <tr>\n",
       "      <th>0</th>\n",
       "      <td>761</td>\n",
       "      <td>4328</td>\n",
       "      <td>0.175832</td>\n",
       "    </tr>\n",
       "    <tr>\n",
       "      <th>1</th>\n",
       "      <td>706</td>\n",
       "      <td>4490</td>\n",
       "      <td>0.157238</td>\n",
       "    </tr>\n",
       "    <tr>\n",
       "      <th>2</th>\n",
       "      <td>634</td>\n",
       "      <td>4304</td>\n",
       "      <td>0.147305</td>\n",
       "    </tr>\n",
       "    <tr>\n",
       "      <th>3</th>\n",
       "      <td>1864</td>\n",
       "      <td>11950</td>\n",
       "      <td>0.155983</td>\n",
       "    </tr>\n",
       "    <tr>\n",
       "      <th>4</th>\n",
       "      <td>1921</td>\n",
       "      <td>12186</td>\n",
       "      <td>0.157640</td>\n",
       "    </tr>\n",
       "    <tr>\n",
       "      <th>5</th>\n",
       "      <td>1970</td>\n",
       "      <td>12118</td>\n",
       "      <td>0.162568</td>\n",
       "    </tr>\n",
       "    <tr>\n",
       "      <th>6</th>\n",
       "      <td>4665</td>\n",
       "      <td>13001</td>\n",
       "      <td>0.358819</td>\n",
       "    </tr>\n",
       "    <tr>\n",
       "      <th>7</th>\n",
       "      <td>4781</td>\n",
       "      <td>12823</td>\n",
       "      <td>0.372846</td>\n",
       "    </tr>\n",
       "    <tr>\n",
       "      <th>8</th>\n",
       "      <td>11279</td>\n",
       "      <td>23455</td>\n",
       "      <td>0.480878</td>\n",
       "    </tr>\n",
       "  </tbody>\n",
       "</table>\n",
       "</div>"
      ],
      "text/plain": [
       "                    malo  total  probMalo\n",
       "Num_Bank_Accounts                        \n",
       "0                    761   4328  0.175832\n",
       "1                    706   4490  0.157238\n",
       "2                    634   4304  0.147305\n",
       "3                   1864  11950  0.155983\n",
       "4                   1921  12186  0.157640\n",
       "5                   1970  12118  0.162568\n",
       "6                   4665  13001  0.358819\n",
       "7                   4781  12823  0.372846\n",
       "8                  11279  23455  0.480878"
      ]
     },
     "execution_count": 715,
     "metadata": {},
     "output_type": "execute_result"
    }
   ],
   "source": [
    "dfData1.loc[dfData1['Num_Bank_Accounts']>=8,'Num_Bank_Accounts'] = 8\n",
    "dfDMalo = dfData1[['Num_Bank_Accounts','malo']]\n",
    "dfTablaWoeNumCuentas = dfDMalo.groupby('Num_Bank_Accounts').agg({'malo':['sum','count']})\n",
    "dfTablaWoeNumCuentas.columns = ['malo','total']\n",
    "dfTablaWoeNumCuentas['probMalo'] = dfTablaWoeNumCuentas['malo'] / dfTablaWoeNumCuentas['total']\n",
    "dfTablaWoeNumCuentas"
   ]
  },
  {
   "cell_type": "code",
   "execution_count": 716,
   "id": "d24f434c-143d-4291-a8ee-8f0b64114e61",
   "metadata": {},
   "outputs": [
    {
     "data": {
      "text/plain": [
       "[<matplotlib.lines.Line2D at 0x24199522ed0>]"
      ]
     },
     "execution_count": 716,
     "metadata": {},
     "output_type": "execute_result"
    },
    {
     "data": {
      "image/png": "[encoded data removed]",
      "text/plain": [
       "<Figure size 640x480 with 1 Axes>"
      ]
     },
     "metadata": {},
     "output_type": "display_data"
    }
   ],
   "source": [
    "plt.plot(dfTablaWoeNumCuentas['probMalo'])"
   ]
  },
  {
   "cell_type": "code",
   "execution_count": 717,
   "id": "5b450b42-9cdd-4006-a318-8279b23c1f47",
   "metadata": {},
   "outputs": [
    {
     "data": {
      "text/plain": [
       "Num_Bank_Accounts\n",
       "0     4328\n",
       "1     4490\n",
       "2     4304\n",
       "3    11950\n",
       "4    12186\n",
       "5    12118\n",
       "6    13001\n",
       "7    12823\n",
       "8    23455\n",
       "Name: count, dtype: int64"
      ]
     },
     "execution_count": 717,
     "metadata": {},
     "output_type": "execute_result"
    }
   ],
   "source": [
    "dfCountBankAcc=dfData1['Num_Bank_Accounts'].value_counts().sort_index()\n",
    "dfCountBankAcc"
   ]
  },
  {
   "cell_type": "code",
   "execution_count": 718,
   "id": "becdb39d-3f2b-46ec-a478-ad4212ad85cf",
   "metadata": {},
   "outputs": [],
   "source": [
    "dfTablaWoeNumCuentas['bueno'] = dfTablaWoeNumCuentas['total']-dfTablaWoeNumCuentas['malo']\n",
    "dfTablaWoeNumCuentas['distBad'] = dfTablaWoeNumCuentas['malo'] / dfTablaWoeNumCuentas['malo'].sum() \n",
    "dfTablaWoeNumCuentas['distGood'] = dfTablaWoeNumCuentas['bueno'] / dfTablaWoeNumCuentas['bueno'].sum()\n",
    "dfTablaWoeNumCuentas['woe_NumCuentas'] = np.log(dfTablaWoeNumCuentas['distBad']/dfTablaWoeNumCuentas['distGood'])"
   ]
  },
  {
   "cell_type": "code",
   "execution_count": 719,
   "id": "4ab79526-e57e-411d-8afa-7bf7cd391e20",
   "metadata": {
    "scrolled": true
   },
   "outputs": [
    {
     "data": {
      "image/png": "[encoded data removed]",
      "text/plain": [
       "<Figure size 640x480 with 1 Axes>"
      ]
     },
     "metadata": {},
     "output_type": "display_data"
    }
   ],
   "source": [
    "ax = dfTablaWoeNumCuentas.plot.bar(y='probMalo', rot=0)"
   ]
  },
  {
   "cell_type": "code",
   "execution_count": 720,
   "id": "fcaa6b26-13cf-4564-8a12-ab0cbe5bf9f5",
   "metadata": {},
   "outputs": [
    {
     "data": {
      "image/png": "[encoded data removed]",
      "text/plain": [
       "<Figure size 640x480 with 1 Axes>"
      ]
     },
     "metadata": {},
     "output_type": "display_data"
    }
   ],
   "source": [
    "ax = dfTablaWoeNumCuentas[['malo','bueno']].plot.bar(stacked=True)"
   ]
  },
  {
   "cell_type": "code",
   "execution_count": 721,
   "id": "dd9fceab-b672-431d-88d6-abe25a85ba21",
   "metadata": {},
   "outputs": [
    {
     "data": {
      "text/plain": [
       "0.45996855100574124"
      ]
     },
     "execution_count": 721,
     "metadata": {},
     "output_type": "execute_result"
    }
   ],
   "source": [
    "information_value = (dfTablaWoeNumCuentas['woe_NumCuentas'] *(dfTablaWoeNumCuentas['distBad'] -dfTablaWoeNumCuentas['distGood'] )).sum()\n",
    "information_value"
   ]
  },
  {
   "cell_type": "code",
   "execution_count": 722,
   "id": "b1288a41-0e35-42f0-b84a-9c6f35925580",
   "metadata": {},
   "outputs": [
    {
     "data": {
      "text/html": [
       "<div>\n",
       "<style scoped>\n",
       "    .dataframe tbody tr th:only-of-type {\n",
       "        vertical-align: middle;\n",
       "    }\n",
       "\n",
       "    .dataframe tbody tr th {\n",
       "        vertical-align: top;\n",
       "    }\n",
       "\n",
       "    .dataframe thead th {\n",
       "        text-align: right;\n",
       "    }\n",
       "</style>\n",
       "<table border=\"1\" class=\"dataframe\">\n",
       "  <thead>\n",
       "    <tr style=\"text-align: right;\">\n",
       "      <th></th>\n",
       "      <th>malo</th>\n",
       "      <th>bueno</th>\n",
       "    </tr>\n",
       "    <tr>\n",
       "      <th>Num_Bank_Accounts</th>\n",
       "      <th></th>\n",
       "      <th></th>\n",
       "    </tr>\n",
       "  </thead>\n",
       "  <tbody>\n",
       "    <tr>\n",
       "      <th>0</th>\n",
       "      <td>761</td>\n",
       "      <td>3567</td>\n",
       "    </tr>\n",
       "    <tr>\n",
       "      <th>1</th>\n",
       "      <td>706</td>\n",
       "      <td>3784</td>\n",
       "    </tr>\n",
       "    <tr>\n",
       "      <th>2</th>\n",
       "      <td>634</td>\n",
       "      <td>3670</td>\n",
       "    </tr>\n",
       "    <tr>\n",
       "      <th>3</th>\n",
       "      <td>1864</td>\n",
       "      <td>10086</td>\n",
       "    </tr>\n",
       "    <tr>\n",
       "      <th>4</th>\n",
       "      <td>1921</td>\n",
       "      <td>10265</td>\n",
       "    </tr>\n",
       "    <tr>\n",
       "      <th>5</th>\n",
       "      <td>1970</td>\n",
       "      <td>10148</td>\n",
       "    </tr>\n",
       "    <tr>\n",
       "      <th>6</th>\n",
       "      <td>4665</td>\n",
       "      <td>8336</td>\n",
       "    </tr>\n",
       "    <tr>\n",
       "      <th>7</th>\n",
       "      <td>4781</td>\n",
       "      <td>8042</td>\n",
       "    </tr>\n",
       "    <tr>\n",
       "      <th>8</th>\n",
       "      <td>11279</td>\n",
       "      <td>12176</td>\n",
       "    </tr>\n",
       "  </tbody>\n",
       "</table>\n",
       "</div>"
      ],
      "text/plain": [
       "                    malo  bueno\n",
       "Num_Bank_Accounts              \n",
       "0                    761   3567\n",
       "1                    706   3784\n",
       "2                    634   3670\n",
       "3                   1864  10086\n",
       "4                   1921  10265\n",
       "5                   1970  10148\n",
       "6                   4665   8336\n",
       "7                   4781   8042\n",
       "8                  11279  12176"
      ]
     },
     "execution_count": 722,
     "metadata": {},
     "output_type": "execute_result"
    }
   ],
   "source": [
    "contingencia = dfTablaWoeNumCuentas[['malo','bueno']]\n",
    "contingencia"
   ]
  },
  {
   "cell_type": "code",
   "execution_count": 723,
   "id": "ec1681a5-baab-451e-8872-4783a99c359f",
   "metadata": {},
   "outputs": [],
   "source": [
    "from scipy.stats import chi2_contingency"
   ]
  },
  {
   "cell_type": "code",
   "execution_count": 724,
   "id": "ed47f3f9-97df-4fb7-bc80-054285e30b9f",
   "metadata": {},
   "outputs": [
    {
     "data": {
      "text/plain": [
       "Chi2ContingencyResult(statistic=9001.188124373635, pvalue=0.0, dof=8, expected_freq=array([[ 1253.84996199,  3074.15003801],\n",
       "       [ 1300.7824236 ,  3189.2175764 ],\n",
       "       [ 1246.89700471,  3057.10299529],\n",
       "       [ 3461.99331002,  8488.00668998],\n",
       "       [ 3530.36405656,  8655.63594344],\n",
       "       [ 3510.66401095,  8607.33598905],\n",
       "       [ 3766.47489737,  9234.52510263],\n",
       "       [ 3714.90713091,  9108.09286909],\n",
       "       [ 6795.06720389, 16659.93279611]]))"
      ]
     },
     "execution_count": 724,
     "metadata": {},
     "output_type": "execute_result"
    }
   ],
   "source": [
    "res = chi2_contingency(contingencia)\n",
    "res"
   ]
  },
  {
   "cell_type": "code",
   "execution_count": 725,
   "id": "6a9cdb34-73da-4071-bc1e-e8c44749373d",
   "metadata": {},
   "outputs": [
    {
     "data": {
      "text/plain": [
       "Chi2ContingencyResult(statistic=9001.188124373635, pvalue=0.0, dof=8, expected_freq=array([[ 1253.84996199,  1300.7824236 ,  1246.89700471,  3461.99331002,\n",
       "         3530.36405656,  3510.66401095,  3766.47489737,  3714.90713091,\n",
       "         6795.06720389],\n",
       "       [ 3074.15003801,  3189.2175764 ,  3057.10299529,  8488.00668998,\n",
       "         8655.63594344,  8607.33598905,  9234.52510263,  9108.09286909,\n",
       "        16659.93279611]]))"
      ]
     },
     "execution_count": 725,
     "metadata": {},
     "output_type": "execute_result"
    }
   ],
   "source": [
    "res = chi2_contingency(contingencia.transpose())\n",
    "res"
   ]
  },
  {
   "cell_type": "code",
   "execution_count": 726,
   "id": "4a762b20-3c07-4c36-969e-5ef0ceed65d4",
   "metadata": {},
   "outputs": [],
   "source": [
    "dfTablaWoeNumCuentas.reset_index(inplace=True)"
   ]
  },
  {
   "cell_type": "code",
   "execution_count": 727,
   "id": "9ead8ef7-16fd-4974-9ec7-bd5263ea6b53",
   "metadata": {},
   "outputs": [
    {
     "data": {
      "text/plain": [
       "[<matplotlib.lines.Line2D at 0x2419da64b50>]"
      ]
     },
     "execution_count": 727,
     "metadata": {},
     "output_type": "execute_result"
    },
    {
     "data": {
      "image/png": "[encoded data removed]",
      "text/plain": [
       "<Figure size 640x480 with 1 Axes>"
      ]
     },
     "metadata": {},
     "output_type": "display_data"
    }
   ],
   "source": [
    "plt.plot(dfTablaWoeNumCuentas['woe_NumCuentas'])"
   ]
  },
  {
   "cell_type": "code",
   "execution_count": 728,
   "id": "ef03f005-2375-442f-aee8-409bea205c77",
   "metadata": {},
   "outputs": [],
   "source": [
    "dfData1 = pd.merge(dfData1,dfTablaWoeNumCuentas[['Num_Bank_Accounts','woe_NumCuentas']],on='Num_Bank_Accounts')"
   ]
  },
  {
   "cell_type": "code",
   "execution_count": 729,
   "id": "454deff4-f2c1-4e5d-9408-32ec52a76515",
   "metadata": {},
   "outputs": [
    {
     "data": {
      "text/html": [
       "<div>\n",
       "<style scoped>\n",
       "    .dataframe tbody tr th:only-of-type {\n",
       "        vertical-align: middle;\n",
       "    }\n",
       "\n",
       "    .dataframe tbody tr th {\n",
       "        vertical-align: top;\n",
       "    }\n",
       "\n",
       "    .dataframe thead th {\n",
       "        text-align: right;\n",
       "    }\n",
       "</style>\n",
       "<table border=\"1\" class=\"dataframe\">\n",
       "  <thead>\n",
       "    <tr style=\"text-align: right;\">\n",
       "      <th></th>\n",
       "      <th>ID</th>\n",
       "      <th>Age</th>\n",
       "      <th>Num_Bank_Accounts</th>\n",
       "      <th>Credit_Score</th>\n",
       "      <th>malo</th>\n",
       "      <th>woe_NumCuentas</th>\n",
       "    </tr>\n",
       "  </thead>\n",
       "  <tbody>\n",
       "    <tr>\n",
       "      <th>0</th>\n",
       "      <td>0x1602</td>\n",
       "      <td>23</td>\n",
       "      <td>3</td>\n",
       "      <td>Good</td>\n",
       "      <td>0</td>\n",
       "      <td>-0.791614</td>\n",
       "    </tr>\n",
       "    <tr>\n",
       "      <th>1</th>\n",
       "      <td>0x1603</td>\n",
       "      <td>23</td>\n",
       "      <td>3</td>\n",
       "      <td>Good</td>\n",
       "      <td>0</td>\n",
       "      <td>-0.791614</td>\n",
       "    </tr>\n",
       "    <tr>\n",
       "      <th>2</th>\n",
       "      <td>0x1604</td>\n",
       "      <td>-500</td>\n",
       "      <td>3</td>\n",
       "      <td>Good</td>\n",
       "      <td>0</td>\n",
       "      <td>-0.791614</td>\n",
       "    </tr>\n",
       "    <tr>\n",
       "      <th>3</th>\n",
       "      <td>0x1605</td>\n",
       "      <td>23</td>\n",
       "      <td>3</td>\n",
       "      <td>Good</td>\n",
       "      <td>0</td>\n",
       "      <td>-0.791614</td>\n",
       "    </tr>\n",
       "    <tr>\n",
       "      <th>4</th>\n",
       "      <td>0x1606</td>\n",
       "      <td>23</td>\n",
       "      <td>3</td>\n",
       "      <td>Good</td>\n",
       "      <td>0</td>\n",
       "      <td>-0.791614</td>\n",
       "    </tr>\n",
       "    <tr>\n",
       "      <th>...</th>\n",
       "      <td>...</td>\n",
       "      <td>...</td>\n",
       "      <td>...</td>\n",
       "      <td>...</td>\n",
       "      <td>...</td>\n",
       "      <td>...</td>\n",
       "    </tr>\n",
       "    <tr>\n",
       "      <th>98650</th>\n",
       "      <td>0x25f8b</td>\n",
       "      <td>38_</td>\n",
       "      <td>6</td>\n",
       "      <td>Standard</td>\n",
       "      <td>0</td>\n",
       "      <td>0.316314</td>\n",
       "    </tr>\n",
       "    <tr>\n",
       "      <th>98651</th>\n",
       "      <td>0x25f8c</td>\n",
       "      <td>38</td>\n",
       "      <td>6</td>\n",
       "      <td>Poor</td>\n",
       "      <td>1</td>\n",
       "      <td>0.316314</td>\n",
       "    </tr>\n",
       "    <tr>\n",
       "      <th>98652</th>\n",
       "      <td>0x25f8d</td>\n",
       "      <td>38</td>\n",
       "      <td>6</td>\n",
       "      <td>Poor</td>\n",
       "      <td>1</td>\n",
       "      <td>0.316314</td>\n",
       "    </tr>\n",
       "    <tr>\n",
       "      <th>98653</th>\n",
       "      <td>0x25f98</td>\n",
       "      <td>48_</td>\n",
       "      <td>6</td>\n",
       "      <td>Poor</td>\n",
       "      <td>1</td>\n",
       "      <td>0.316314</td>\n",
       "    </tr>\n",
       "    <tr>\n",
       "      <th>98654</th>\n",
       "      <td>0x25f99</td>\n",
       "      <td>48</td>\n",
       "      <td>6</td>\n",
       "      <td>Poor</td>\n",
       "      <td>1</td>\n",
       "      <td>0.316314</td>\n",
       "    </tr>\n",
       "  </tbody>\n",
       "</table>\n",
       "<p>98655 rows × 6 columns</p>\n",
       "</div>"
      ],
      "text/plain": [
       "            ID   Age  Num_Bank_Accounts Credit_Score  malo  woe_NumCuentas\n",
       "0       0x1602    23                  3         Good     0       -0.791614\n",
       "1       0x1603    23                  3         Good     0       -0.791614\n",
       "2       0x1604  -500                  3         Good     0       -0.791614\n",
       "3       0x1605    23                  3         Good     0       -0.791614\n",
       "4       0x1606    23                  3         Good     0       -0.791614\n",
       "...        ...   ...                ...          ...   ...             ...\n",
       "98650  0x25f8b   38_                  6     Standard     0        0.316314\n",
       "98651  0x25f8c    38                  6         Poor     1        0.316314\n",
       "98652  0x25f8d    38                  6         Poor     1        0.316314\n",
       "98653  0x25f98   48_                  6         Poor     1        0.316314\n",
       "98654  0x25f99    48                  6         Poor     1        0.316314\n",
       "\n",
       "[98655 rows x 6 columns]"
      ]
     },
     "execution_count": 729,
     "metadata": {},
     "output_type": "execute_result"
    }
   ],
   "source": [
    "dfData1"
   ]
  },
  {
   "cell_type": "code",
   "execution_count": 730,
   "id": "b056f150-2e5a-4a81-b9ff-ca1da9a45e1c",
   "metadata": {},
   "outputs": [],
   "source": [
    "import statsmodels.formula.api as smf"
   ]
  },
  {
   "cell_type": "code",
   "execution_count": 731,
   "id": "4a9b046a-f918-433b-8020-b37b748e0d84",
   "metadata": {},
   "outputs": [
    {
     "name": "stdout",
     "output_type": "stream",
     "text": [
      "Optimization terminated successfully.\n",
      "         Current function value: 0.555712\n",
      "         Iterations 5\n",
      "                           Logit Regression Results                           \n",
      "==============================================================================\n",
      "Dep. Variable:                   malo   No. Observations:                98655\n",
      "Model:                          Logit   Df Residuals:                    98653\n",
      "Method:                           MLE   Df Model:                            1\n",
      "Date:                Fri, 25 Oct 2024   Pseudo R-squ.:                 0.07672\n",
      "Time:                        15:36:43   Log-Likelihood:                -54824.\n",
      "converged:                       True   LL-Null:                       -59379.\n",
      "Covariance Type:            nonrobust   LLR p-value:                     0.000\n",
      "==================================================================================\n",
      "                     coef    std err          z      P>|z|      [0.025      0.975]\n",
      "----------------------------------------------------------------------------------\n",
      "Intercept         -0.8968      0.007   -120.539      0.000      -0.911      -0.882\n",
      "woe_NumCuentas     1.0000      0.011     91.600      0.000       0.979       1.021\n",
      "==================================================================================\n"
     ]
    }
   ],
   "source": [
    "model = smf.logit('malo ~ woe_NumCuentas', data=dfData1).fit()\n",
    "print(model.summary())"
   ]
  },
  {
   "cell_type": "code",
   "execution_count": 732,
   "id": "154637e3-332e-44a7-854b-de00357968bd",
   "metadata": {},
   "outputs": [
    {
     "data": {
      "text/plain": [
       "array([0.15598326, 0.15598326, 0.15598326, ..., 0.35881855, 0.35881855,\n",
       "       0.35881855])"
      ]
     },
     "execution_count": 732,
     "metadata": {},
     "output_type": "execute_result"
    }
   ],
   "source": [
    "model.predict()"
   ]
  },
  {
   "cell_type": "code",
   "execution_count": 733,
   "id": "1b027a2b-d321-41c2-b2df-0b3cedcb92d6",
   "metadata": {},
   "outputs": [],
   "source": [
    "corte = .3"
   ]
  },
  {
   "cell_type": "code",
   "execution_count": 734,
   "id": "c207c56b-a056-4412-843a-8d5ff7428282",
   "metadata": {},
   "outputs": [],
   "source": [
    "y_pred = model.predict() > corte\n",
    "y_test = dfData1['malo']"
   ]
  },
  {
   "cell_type": "code",
   "execution_count": 735,
   "id": "38ddf046-3da0-476f-934a-0477142cf09e",
   "metadata": {},
   "outputs": [
    {
     "data": {
      "text/plain": [
       "49279"
      ]
     },
     "execution_count": 735,
     "metadata": {},
     "output_type": "execute_result"
    }
   ],
   "source": [
    "sum(y_pred)"
   ]
  },
  {
   "cell_type": "code",
   "execution_count": 736,
   "id": "f39cd92e-169b-4984-bc17-5416cf9ba1b4",
   "metadata": {},
   "outputs": [],
   "source": [
    "from sklearn.metrics import accuracy_score, confusion_matrix, classification_report, roc_curve, auc"
   ]
  },
  {
   "cell_type": "code",
   "execution_count": 737,
   "id": "30befc1f-5118-49da-a259-5d47568e29dc",
   "metadata": {},
   "outputs": [
    {
     "name": "stdout",
     "output_type": "stream",
     "text": [
      "Accuracy: 63.09%\n",
      "Confusion Matrix:\n",
      " [[41520 28554]\n",
      " [ 7856 20725]]\n",
      "\n",
      "Classification Report:\n",
      "               precision    recall  f1-score   support\n",
      "\n",
      "           0       0.84      0.59      0.70     70074\n",
      "           1       0.42      0.73      0.53     28581\n",
      "\n",
      "    accuracy                           0.63     98655\n",
      "   macro avg       0.63      0.66      0.61     98655\n",
      "weighted avg       0.72      0.63      0.65     98655\n",
      "\n"
     ]
    }
   ],
   "source": [
    "accuracy = accuracy_score(y_test, y_pred)\n",
    "print(f\"Accuracy: {accuracy * 100:.2f}%\")\n",
    "\n",
    "print(\"Confusion Matrix:\\n\", confusion_matrix(y_test, y_pred))\n",
    "print(\"\\nClassification Report:\\n\", classification_report(y_test, y_pred))"
   ]
  },
  {
   "cell_type": "code",
   "execution_count": 738,
   "id": "4e9c10bf-e141-4ad2-8454-c92cfa874cd4",
   "metadata": {},
   "outputs": [
    {
     "data": {
      "image/png": "[encoded data removed]",
      "text/plain": [
       "<Figure size 800x600 with 1 Axes>"
      ]
     },
     "metadata": {},
     "output_type": "display_data"
    }
   ],
   "source": [
    "y_prob = model.predict()\n",
    "fpr, tpr, thresholds = roc_curve(y_test, y_prob)\n",
    "roc_auc = auc(fpr, tpr)\n",
    "\n",
    "plt.figure(figsize=(8, 6))\n",
    "plt.plot(fpr, tpr, color='darkorange', lw=2, label=f'ROC Curve (AUC = {roc_auc:.2f})')\n",
    "plt.plot([0, 1], [0, 1], color='navy', lw=2, linestyle='--', label='Random')\n",
    "plt.xlabel('False Positive Rate')\n",
    "plt.ylabel('True Positive Rate')\n",
    "plt.title('Receiver Operating Characteristic (ROC) Curve')\n",
    "plt.legend(loc=\"lower right\")\n",
    "plt.show()"
   ]
  },
  {
   "cell_type": "code",
   "execution_count": 739,
   "id": "afcd689f-c50e-44e2-86fa-5818b375ff28",
   "metadata": {},
   "outputs": [
    {
     "data": {
      "text/plain": [
       "0.6787725312865012"
      ]
     },
     "execution_count": 739,
     "metadata": {},
     "output_type": "execute_result"
    }
   ],
   "source": [
    "roc_auc"
   ]
  },
  {
   "cell_type": "markdown",
   "id": "605db273-3fca-472d-b4df-b7f9eb409a69",
   "metadata": {},
   "source": [
    "## Variables independientes: Edad"
   ]
  },
  {
   "cell_type": "code",
   "execution_count": 740,
   "id": "9468d394-54df-4225-b537-78002af1106c",
   "metadata": {},
   "outputs": [
    {
     "data": {
      "text/plain": [
       "array(['23', '-500', '32', ..., '598', '4347', '5642'], dtype=object)"
      ]
     },
     "execution_count": 740,
     "metadata": {},
     "output_type": "execute_result"
    }
   ],
   "source": [
    "dfData1['Age'].unique()"
   ]
  },
  {
   "cell_type": "code",
   "execution_count": 741,
   "id": "8a83e4a8-c48b-4095-bb70-35d2717b9852",
   "metadata": {},
   "outputs": [
    {
     "data": {
      "text/plain": [
       "0"
      ]
     },
     "execution_count": 741,
     "metadata": {},
     "output_type": "execute_result"
    }
   ],
   "source": [
    "dfData1['Edad'] = dfData1['Age'].str.replace('_','')\n",
    "dfData1['Edad'] = pd.to_numeric(dfData1['Edad'],errors='coerce')\n",
    "dfData1['Edad'].isna().sum()"
   ]
  },
  {
   "cell_type": "code",
   "execution_count": 742,
   "id": "b657559e-8059-4e0b-9e93-487d5383f0e5",
   "metadata": {},
   "outputs": [
    {
     "data": {
      "text/plain": [
       "-500"
      ]
     },
     "execution_count": 742,
     "metadata": {},
     "output_type": "execute_result"
    }
   ],
   "source": [
    "dfData1['Edad'].min()"
   ]
  },
  {
   "cell_type": "code",
   "execution_count": 743,
   "id": "2d7ec691-83d4-4ea1-bda3-ec6ad4d18dc8",
   "metadata": {},
   "outputs": [
    {
     "data": {
      "text/plain": [
       "8698"
      ]
     },
     "execution_count": 743,
     "metadata": {},
     "output_type": "execute_result"
    }
   ],
   "source": [
    "dfData1['Edad'].max()"
   ]
  },
  {
   "cell_type": "code",
   "execution_count": 744,
   "id": "dd64026a-917a-41c1-9fd1-47411eb2d7bc",
   "metadata": {},
   "outputs": [
    {
     "data": {
      "text/plain": [
       "1864"
      ]
     },
     "execution_count": 744,
     "metadata": {},
     "output_type": "execute_result"
    }
   ],
   "source": [
    "(dfData1['Edad']>90).sum()"
   ]
  },
  {
   "cell_type": "code",
   "execution_count": 745,
   "id": "9cf8b29f-a97a-4273-a552-a072750d5b38",
   "metadata": {},
   "outputs": [
    {
     "data": {
      "text/plain": [
       "6525"
      ]
     },
     "execution_count": 745,
     "metadata": {},
     "output_type": "execute_result"
    }
   ],
   "source": [
    "(dfData1['Edad']<18).sum()"
   ]
  },
  {
   "cell_type": "code",
   "execution_count": 746,
   "id": "3faad979-0ea8-45e7-bb42-d51c7935d7e9",
   "metadata": {},
   "outputs": [],
   "source": [
    "dfData1 = dfData1.loc[(dfData1['Edad']<=90)&(dfData1['Edad']>=18),:].copy()"
   ]
  },
  {
   "cell_type": "code",
   "execution_count": 747,
   "id": "0f491455-eb6a-4b62-85dd-0b3b843e07af",
   "metadata": {},
   "outputs": [
    {
     "data": {
      "text/html": [
       "<div>\n",
       "<style scoped>\n",
       "    .dataframe tbody tr th:only-of-type {\n",
       "        vertical-align: middle;\n",
       "    }\n",
       "\n",
       "    .dataframe tbody tr th {\n",
       "        vertical-align: top;\n",
       "    }\n",
       "\n",
       "    .dataframe thead th {\n",
       "        text-align: right;\n",
       "    }\n",
       "</style>\n",
       "<table border=\"1\" class=\"dataframe\">\n",
       "  <thead>\n",
       "    <tr style=\"text-align: right;\">\n",
       "      <th></th>\n",
       "      <th>ID</th>\n",
       "      <th>Age</th>\n",
       "      <th>Num_Bank_Accounts</th>\n",
       "      <th>Credit_Score</th>\n",
       "      <th>malo</th>\n",
       "      <th>woe_NumCuentas</th>\n",
       "      <th>Edad</th>\n",
       "    </tr>\n",
       "  </thead>\n",
       "  <tbody>\n",
       "    <tr>\n",
       "      <th>0</th>\n",
       "      <td>0x1602</td>\n",
       "      <td>23</td>\n",
       "      <td>3</td>\n",
       "      <td>Good</td>\n",
       "      <td>0</td>\n",
       "      <td>-0.791614</td>\n",
       "      <td>23</td>\n",
       "    </tr>\n",
       "    <tr>\n",
       "      <th>1</th>\n",
       "      <td>0x1603</td>\n",
       "      <td>23</td>\n",
       "      <td>3</td>\n",
       "      <td>Good</td>\n",
       "      <td>0</td>\n",
       "      <td>-0.791614</td>\n",
       "      <td>23</td>\n",
       "    </tr>\n",
       "    <tr>\n",
       "      <th>3</th>\n",
       "      <td>0x1605</td>\n",
       "      <td>23</td>\n",
       "      <td>3</td>\n",
       "      <td>Good</td>\n",
       "      <td>0</td>\n",
       "      <td>-0.791614</td>\n",
       "      <td>23</td>\n",
       "    </tr>\n",
       "    <tr>\n",
       "      <th>4</th>\n",
       "      <td>0x1606</td>\n",
       "      <td>23</td>\n",
       "      <td>3</td>\n",
       "      <td>Good</td>\n",
       "      <td>0</td>\n",
       "      <td>-0.791614</td>\n",
       "      <td>23</td>\n",
       "    </tr>\n",
       "    <tr>\n",
       "      <th>5</th>\n",
       "      <td>0x1607</td>\n",
       "      <td>23</td>\n",
       "      <td>3</td>\n",
       "      <td>Good</td>\n",
       "      <td>0</td>\n",
       "      <td>-0.791614</td>\n",
       "      <td>23</td>\n",
       "    </tr>\n",
       "    <tr>\n",
       "      <th>...</th>\n",
       "      <td>...</td>\n",
       "      <td>...</td>\n",
       "      <td>...</td>\n",
       "      <td>...</td>\n",
       "      <td>...</td>\n",
       "      <td>...</td>\n",
       "      <td>...</td>\n",
       "    </tr>\n",
       "    <tr>\n",
       "      <th>98650</th>\n",
       "      <td>0x25f8b</td>\n",
       "      <td>38_</td>\n",
       "      <td>6</td>\n",
       "      <td>Standard</td>\n",
       "      <td>0</td>\n",
       "      <td>0.316314</td>\n",
       "      <td>38</td>\n",
       "    </tr>\n",
       "    <tr>\n",
       "      <th>98651</th>\n",
       "      <td>0x25f8c</td>\n",
       "      <td>38</td>\n",
       "      <td>6</td>\n",
       "      <td>Poor</td>\n",
       "      <td>1</td>\n",
       "      <td>0.316314</td>\n",
       "      <td>38</td>\n",
       "    </tr>\n",
       "    <tr>\n",
       "      <th>98652</th>\n",
       "      <td>0x25f8d</td>\n",
       "      <td>38</td>\n",
       "      <td>6</td>\n",
       "      <td>Poor</td>\n",
       "      <td>1</td>\n",
       "      <td>0.316314</td>\n",
       "      <td>38</td>\n",
       "    </tr>\n",
       "    <tr>\n",
       "      <th>98653</th>\n",
       "      <td>0x25f98</td>\n",
       "      <td>48_</td>\n",
       "      <td>6</td>\n",
       "      <td>Poor</td>\n",
       "      <td>1</td>\n",
       "      <td>0.316314</td>\n",
       "      <td>48</td>\n",
       "    </tr>\n",
       "    <tr>\n",
       "      <th>98654</th>\n",
       "      <td>0x25f99</td>\n",
       "      <td>48</td>\n",
       "      <td>6</td>\n",
       "      <td>Poor</td>\n",
       "      <td>1</td>\n",
       "      <td>0.316314</td>\n",
       "      <td>48</td>\n",
       "    </tr>\n",
       "  </tbody>\n",
       "</table>\n",
       "<p>90266 rows × 7 columns</p>\n",
       "</div>"
      ],
      "text/plain": [
       "            ID  Age  Num_Bank_Accounts Credit_Score  malo  woe_NumCuentas  \\\n",
       "0       0x1602   23                  3         Good     0       -0.791614   \n",
       "1       0x1603   23                  3         Good     0       -0.791614   \n",
       "3       0x1605   23                  3         Good     0       -0.791614   \n",
       "4       0x1606   23                  3         Good     0       -0.791614   \n",
       "5       0x1607   23                  3         Good     0       -0.791614   \n",
       "...        ...  ...                ...          ...   ...             ...   \n",
       "98650  0x25f8b  38_                  6     Standard     0        0.316314   \n",
       "98651  0x25f8c   38                  6         Poor     1        0.316314   \n",
       "98652  0x25f8d   38                  6         Poor     1        0.316314   \n",
       "98653  0x25f98  48_                  6         Poor     1        0.316314   \n",
       "98654  0x25f99   48                  6         Poor     1        0.316314   \n",
       "\n",
       "       Edad  \n",
       "0        23  \n",
       "1        23  \n",
       "3        23  \n",
       "4        23  \n",
       "5        23  \n",
       "...     ...  \n",
       "98650    38  \n",
       "98651    38  \n",
       "98652    38  \n",
       "98653    48  \n",
       "98654    48  \n",
       "\n",
       "[90266 rows x 7 columns]"
      ]
     },
     "execution_count": 747,
     "metadata": {},
     "output_type": "execute_result"
    }
   ],
   "source": [
    "dfData1"
   ]
  },
  {
   "cell_type": "code",
   "execution_count": 748,
   "id": "dcb62aa5-29e2-47e3-95e6-feab2b7e4343",
   "metadata": {},
   "outputs": [
    {
     "data": {
      "text/plain": [
       "56"
      ]
     },
     "execution_count": 748,
     "metadata": {},
     "output_type": "execute_result"
    }
   ],
   "source": [
    "dfData1['Edad'].max()"
   ]
  },
  {
   "cell_type": "code",
   "execution_count": 749,
   "id": "f19d5918-14f7-4d31-91db-f161a76a5416",
   "metadata": {},
   "outputs": [
    {
     "data": {
      "text/plain": [
       "18"
      ]
     },
     "execution_count": 749,
     "metadata": {},
     "output_type": "execute_result"
    }
   ],
   "source": [
    "dfData1['Edad'].min()"
   ]
  },
  {
   "cell_type": "code",
   "execution_count": 750,
   "id": "eda5a1b0-b567-4045-8e76-6643388c39b8",
   "metadata": {},
   "outputs": [],
   "source": [
    "dfData1['EdadCat'] = pd.cut(dfData1['Edad'],bins = 5)"
   ]
  },
  {
   "cell_type": "code",
   "execution_count": 751,
   "id": "2053f6ed-29ee-4793-88b5-e42264e3a427",
   "metadata": {},
   "outputs": [
    {
     "data": {
      "text/html": [
       "<div>\n",
       "<style scoped>\n",
       "    .dataframe tbody tr th:only-of-type {\n",
       "        vertical-align: middle;\n",
       "    }\n",
       "\n",
       "    .dataframe tbody tr th {\n",
       "        vertical-align: top;\n",
       "    }\n",
       "\n",
       "    .dataframe thead th {\n",
       "        text-align: right;\n",
       "    }\n",
       "</style>\n",
       "<table border=\"1\" class=\"dataframe\">\n",
       "  <thead>\n",
       "    <tr style=\"text-align: right;\">\n",
       "      <th></th>\n",
       "      <th>ID</th>\n",
       "      <th>Age</th>\n",
       "      <th>Num_Bank_Accounts</th>\n",
       "      <th>Credit_Score</th>\n",
       "      <th>malo</th>\n",
       "      <th>woe_NumCuentas</th>\n",
       "      <th>Edad</th>\n",
       "      <th>EdadCat</th>\n",
       "    </tr>\n",
       "  </thead>\n",
       "  <tbody>\n",
       "    <tr>\n",
       "      <th>0</th>\n",
       "      <td>0x1602</td>\n",
       "      <td>23</td>\n",
       "      <td>3</td>\n",
       "      <td>Good</td>\n",
       "      <td>0</td>\n",
       "      <td>-0.791614</td>\n",
       "      <td>23</td>\n",
       "      <td>(17.962, 25.6]</td>\n",
       "    </tr>\n",
       "    <tr>\n",
       "      <th>1</th>\n",
       "      <td>0x1603</td>\n",
       "      <td>23</td>\n",
       "      <td>3</td>\n",
       "      <td>Good</td>\n",
       "      <td>0</td>\n",
       "      <td>-0.791614</td>\n",
       "      <td>23</td>\n",
       "      <td>(17.962, 25.6]</td>\n",
       "    </tr>\n",
       "    <tr>\n",
       "      <th>3</th>\n",
       "      <td>0x1605</td>\n",
       "      <td>23</td>\n",
       "      <td>3</td>\n",
       "      <td>Good</td>\n",
       "      <td>0</td>\n",
       "      <td>-0.791614</td>\n",
       "      <td>23</td>\n",
       "      <td>(17.962, 25.6]</td>\n",
       "    </tr>\n",
       "    <tr>\n",
       "      <th>4</th>\n",
       "      <td>0x1606</td>\n",
       "      <td>23</td>\n",
       "      <td>3</td>\n",
       "      <td>Good</td>\n",
       "      <td>0</td>\n",
       "      <td>-0.791614</td>\n",
       "      <td>23</td>\n",
       "      <td>(17.962, 25.6]</td>\n",
       "    </tr>\n",
       "    <tr>\n",
       "      <th>5</th>\n",
       "      <td>0x1607</td>\n",
       "      <td>23</td>\n",
       "      <td>3</td>\n",
       "      <td>Good</td>\n",
       "      <td>0</td>\n",
       "      <td>-0.791614</td>\n",
       "      <td>23</td>\n",
       "      <td>(17.962, 25.6]</td>\n",
       "    </tr>\n",
       "    <tr>\n",
       "      <th>...</th>\n",
       "      <td>...</td>\n",
       "      <td>...</td>\n",
       "      <td>...</td>\n",
       "      <td>...</td>\n",
       "      <td>...</td>\n",
       "      <td>...</td>\n",
       "      <td>...</td>\n",
       "      <td>...</td>\n",
       "    </tr>\n",
       "    <tr>\n",
       "      <th>98650</th>\n",
       "      <td>0x25f8b</td>\n",
       "      <td>38_</td>\n",
       "      <td>6</td>\n",
       "      <td>Standard</td>\n",
       "      <td>0</td>\n",
       "      <td>0.316314</td>\n",
       "      <td>38</td>\n",
       "      <td>(33.2, 40.8]</td>\n",
       "    </tr>\n",
       "    <tr>\n",
       "      <th>98651</th>\n",
       "      <td>0x25f8c</td>\n",
       "      <td>38</td>\n",
       "      <td>6</td>\n",
       "      <td>Poor</td>\n",
       "      <td>1</td>\n",
       "      <td>0.316314</td>\n",
       "      <td>38</td>\n",
       "      <td>(33.2, 40.8]</td>\n",
       "    </tr>\n",
       "    <tr>\n",
       "      <th>98652</th>\n",
       "      <td>0x25f8d</td>\n",
       "      <td>38</td>\n",
       "      <td>6</td>\n",
       "      <td>Poor</td>\n",
       "      <td>1</td>\n",
       "      <td>0.316314</td>\n",
       "      <td>38</td>\n",
       "      <td>(33.2, 40.8]</td>\n",
       "    </tr>\n",
       "    <tr>\n",
       "      <th>98653</th>\n",
       "      <td>0x25f98</td>\n",
       "      <td>48_</td>\n",
       "      <td>6</td>\n",
       "      <td>Poor</td>\n",
       "      <td>1</td>\n",
       "      <td>0.316314</td>\n",
       "      <td>48</td>\n",
       "      <td>(40.8, 48.4]</td>\n",
       "    </tr>\n",
       "    <tr>\n",
       "      <th>98654</th>\n",
       "      <td>0x25f99</td>\n",
       "      <td>48</td>\n",
       "      <td>6</td>\n",
       "      <td>Poor</td>\n",
       "      <td>1</td>\n",
       "      <td>0.316314</td>\n",
       "      <td>48</td>\n",
       "      <td>(40.8, 48.4]</td>\n",
       "    </tr>\n",
       "  </tbody>\n",
       "</table>\n",
       "<p>90266 rows × 8 columns</p>\n",
       "</div>"
      ],
      "text/plain": [
       "            ID  Age  Num_Bank_Accounts Credit_Score  malo  woe_NumCuentas  \\\n",
       "0       0x1602   23                  3         Good     0       -0.791614   \n",
       "1       0x1603   23                  3         Good     0       -0.791614   \n",
       "3       0x1605   23                  3         Good     0       -0.791614   \n",
       "4       0x1606   23                  3         Good     0       -0.791614   \n",
       "5       0x1607   23                  3         Good     0       -0.791614   \n",
       "...        ...  ...                ...          ...   ...             ...   \n",
       "98650  0x25f8b  38_                  6     Standard     0        0.316314   \n",
       "98651  0x25f8c   38                  6         Poor     1        0.316314   \n",
       "98652  0x25f8d   38                  6         Poor     1        0.316314   \n",
       "98653  0x25f98  48_                  6         Poor     1        0.316314   \n",
       "98654  0x25f99   48                  6         Poor     1        0.316314   \n",
       "\n",
       "       Edad         EdadCat  \n",
       "0        23  (17.962, 25.6]  \n",
       "1        23  (17.962, 25.6]  \n",
       "3        23  (17.962, 25.6]  \n",
       "4        23  (17.962, 25.6]  \n",
       "5        23  (17.962, 25.6]  \n",
       "...     ...             ...  \n",
       "98650    38    (33.2, 40.8]  \n",
       "98651    38    (33.2, 40.8]  \n",
       "98652    38    (33.2, 40.8]  \n",
       "98653    48    (40.8, 48.4]  \n",
       "98654    48    (40.8, 48.4]  \n",
       "\n",
       "[90266 rows x 8 columns]"
      ]
     },
     "execution_count": 751,
     "metadata": {},
     "output_type": "execute_result"
    }
   ],
   "source": [
    "dfData1"
   ]
  },
  {
   "cell_type": "code",
   "execution_count": 752,
   "id": "719aa046-ce22-4102-af8b-bc494ade9d85",
   "metadata": {},
   "outputs": [
    {
     "data": {
      "text/plain": [
       "EdadCat\n",
       "(25.6, 33.2]      22301\n",
       "(17.962, 25.6]    21371\n",
       "(33.2, 40.8]      19472\n",
       "(40.8, 48.4]      17559\n",
       "(48.4, 56.0]       9563\n",
       "Name: count, dtype: int64"
      ]
     },
     "execution_count": 752,
     "metadata": {},
     "output_type": "execute_result"
    }
   ],
   "source": [
    "dfData1['EdadCat'].value_counts()"
   ]
  },
  {
   "cell_type": "code",
   "execution_count": 753,
   "id": "b47d1c03-02b8-4b32-841a-986dc8d3a4ab",
   "metadata": {},
   "outputs": [
    {
     "data": {
      "text/html": [
       "<div>\n",
       "<style scoped>\n",
       "    .dataframe tbody tr th:only-of-type {\n",
       "        vertical-align: middle;\n",
       "    }\n",
       "\n",
       "    .dataframe tbody tr th {\n",
       "        vertical-align: top;\n",
       "    }\n",
       "\n",
       "    .dataframe thead th {\n",
       "        text-align: right;\n",
       "    }\n",
       "</style>\n",
       "<table border=\"1\" class=\"dataframe\">\n",
       "  <thead>\n",
       "    <tr style=\"text-align: right;\">\n",
       "      <th></th>\n",
       "      <th>malo</th>\n",
       "      <th>total</th>\n",
       "      <th>probMalo</th>\n",
       "    </tr>\n",
       "    <tr>\n",
       "      <th>EdadCat</th>\n",
       "      <th></th>\n",
       "      <th></th>\n",
       "      <th></th>\n",
       "    </tr>\n",
       "  </thead>\n",
       "  <tbody>\n",
       "    <tr>\n",
       "      <th>(17.962, 25.6]</th>\n",
       "      <td>6572</td>\n",
       "      <td>21371</td>\n",
       "      <td>0.307520</td>\n",
       "    </tr>\n",
       "    <tr>\n",
       "      <th>(25.6, 33.2]</th>\n",
       "      <td>6906</td>\n",
       "      <td>22301</td>\n",
       "      <td>0.309672</td>\n",
       "    </tr>\n",
       "    <tr>\n",
       "      <th>(33.2, 40.8]</th>\n",
       "      <td>5988</td>\n",
       "      <td>19472</td>\n",
       "      <td>0.307518</td>\n",
       "    </tr>\n",
       "    <tr>\n",
       "      <th>(40.8, 48.4]</th>\n",
       "      <td>4710</td>\n",
       "      <td>17559</td>\n",
       "      <td>0.268239</td>\n",
       "    </tr>\n",
       "    <tr>\n",
       "      <th>(48.4, 56.0]</th>\n",
       "      <td>1092</td>\n",
       "      <td>9563</td>\n",
       "      <td>0.114190</td>\n",
       "    </tr>\n",
       "  </tbody>\n",
       "</table>\n",
       "</div>"
      ],
      "text/plain": [
       "                malo  total  probMalo\n",
       "EdadCat                              \n",
       "(17.962, 25.6]  6572  21371  0.307520\n",
       "(25.6, 33.2]    6906  22301  0.309672\n",
       "(33.2, 40.8]    5988  19472  0.307518\n",
       "(40.8, 48.4]    4710  17559  0.268239\n",
       "(48.4, 56.0]    1092   9563  0.114190"
      ]
     },
     "execution_count": 753,
     "metadata": {},
     "output_type": "execute_result"
    }
   ],
   "source": [
    "dfTablaWoeEdad = dfData1[['EdadCat','malo']].groupby('EdadCat').agg({'malo':['sum','count']})\n",
    "dfTablaWoeEdad.columns = ['malo','total']\n",
    "dfTablaWoeEdad['probMalo'] = dfTablaWoeEdad['malo'] / dfTablaWoeEdad['total']\n",
    "dfTablaWoeEdad"
   ]
  },
  {
   "cell_type": "code",
   "execution_count": 754,
   "id": "cc39491a-55b1-4f61-8045-3fe75f280628",
   "metadata": {},
   "outputs": [],
   "source": [
    "dfTablaWoeEdad.index = dfTablaWoeEdad.index.astype(str)"
   ]
  },
  {
   "cell_type": "code",
   "execution_count": 755,
   "id": "e69cd4fd-a398-4612-b7ed-10f4655d72d6",
   "metadata": {},
   "outputs": [
    {
     "data": {
      "text/plain": [
       "[<matplotlib.lines.Line2D at 0x2419da35bd0>]"
      ]
     },
     "execution_count": 755,
     "metadata": {},
     "output_type": "execute_result"
    },
    {
     "data": {
      "image/png": "[encoded data removed]",
      "text/plain": [
       "<Figure size 640x480 with 1 Axes>"
      ]
     },
     "metadata": {},
     "output_type": "display_data"
    }
   ],
   "source": [
    "plt.plot(dfTablaWoeEdad['probMalo'])"
   ]
  },
  {
   "cell_type": "code",
   "execution_count": 756,
   "id": "b247f48c-0d57-4a96-9424-dcc70f99d90e",
   "metadata": {},
   "outputs": [
    {
     "data": {
      "text/plain": [
       "EdadCat\n",
       "(17.962, 25.6]    21371\n",
       "(25.6, 33.2]      22301\n",
       "(33.2, 40.8]      19472\n",
       "(40.8, 48.4]      17559\n",
       "(48.4, 56.0]       9563\n",
       "Name: count, dtype: int64"
      ]
     },
     "execution_count": 756,
     "metadata": {},
     "output_type": "execute_result"
    }
   ],
   "source": [
    "dfCountEdadCat=dfData1['EdadCat'].value_counts().sort_index()\n",
    "dfCountEdadCat"
   ]
  },
  {
   "cell_type": "code",
   "execution_count": 757,
   "id": "0d1b84f8-4141-43e0-be87-d784cafb6b35",
   "metadata": {},
   "outputs": [],
   "source": [
    "dfTablaWoeEdad['bueno'] = dfTablaWoeEdad['total']-dfTablaWoeEdad['malo']\n",
    "dfTablaWoeEdad['distBad'] = dfTablaWoeEdad['malo'] / dfTablaWoeEdad['malo'].sum() \n",
    "dfTablaWoeEdad['distGood'] = dfTablaWoeEdad['bueno'] / dfTablaWoeEdad['bueno'].sum()\n",
    "dfTablaWoeEdad['woe_edad'] = np.log(dfTablaWoeEdad['distBad']/dfTablaWoeEdad['distGood'])"
   ]
  },
  {
   "cell_type": "code",
   "execution_count": 758,
   "id": "ec15f350-c39d-46c9-b063-45ae149b7bff",
   "metadata": {
    "scrolled": true
   },
   "outputs": [
    {
     "data": {
      "image/png": "[encoded data removed]",
      "text/plain": [
       "<Figure size 640x480 with 1 Axes>"
      ]
     },
     "metadata": {},
     "output_type": "display_data"
    }
   ],
   "source": [
    "ax = dfTablaWoeEdad.plot.bar(y='probMalo', rot=0)"
   ]
  },
  {
   "cell_type": "code",
   "execution_count": 759,
   "id": "4812dcf7-40f8-44e0-bbe3-70703e08c7b8",
   "metadata": {},
   "outputs": [
    {
     "data": {
      "image/png": "[encoded data removed]",
      "text/plain": [
       "<Figure size 640x480 with 1 Axes>"
      ]
     },
     "metadata": {},
     "output_type": "display_data"
    }
   ],
   "source": [
    "ax = dfTablaWoeEdad[['malo','bueno']].plot.bar(stacked=True)"
   ]
  },
  {
   "cell_type": "code",
   "execution_count": 760,
   "id": "dc163de4-2ef3-4054-aa01-27a46a15040b",
   "metadata": {},
   "outputs": [
    {
     "data": {
      "text/plain": [
       "0.1102783211295145"
      ]
     },
     "execution_count": 760,
     "metadata": {},
     "output_type": "execute_result"
    }
   ],
   "source": [
    "information_value = (dfTablaWoeEdad['woe_edad'] *(dfTablaWoeEdad['distBad'] -dfTablaWoeEdad['distGood'] )).sum()\n",
    "information_value"
   ]
  },
  {
   "cell_type": "code",
   "execution_count": 761,
   "id": "ac67ba56-1714-48c0-aecf-ced694e6e7b1",
   "metadata": {},
   "outputs": [
    {
     "data": {
      "text/html": [
       "<div>\n",
       "<style scoped>\n",
       "    .dataframe tbody tr th:only-of-type {\n",
       "        vertical-align: middle;\n",
       "    }\n",
       "\n",
       "    .dataframe tbody tr th {\n",
       "        vertical-align: top;\n",
       "    }\n",
       "\n",
       "    .dataframe thead th {\n",
       "        text-align: right;\n",
       "    }\n",
       "</style>\n",
       "<table border=\"1\" class=\"dataframe\">\n",
       "  <thead>\n",
       "    <tr style=\"text-align: right;\">\n",
       "      <th></th>\n",
       "      <th>malo</th>\n",
       "      <th>bueno</th>\n",
       "    </tr>\n",
       "    <tr>\n",
       "      <th>EdadCat</th>\n",
       "      <th></th>\n",
       "      <th></th>\n",
       "    </tr>\n",
       "  </thead>\n",
       "  <tbody>\n",
       "    <tr>\n",
       "      <th>(17.962, 25.6]</th>\n",
       "      <td>6572</td>\n",
       "      <td>14799</td>\n",
       "    </tr>\n",
       "    <tr>\n",
       "      <th>(25.6, 33.2]</th>\n",
       "      <td>6906</td>\n",
       "      <td>15395</td>\n",
       "    </tr>\n",
       "    <tr>\n",
       "      <th>(33.2, 40.8]</th>\n",
       "      <td>5988</td>\n",
       "      <td>13484</td>\n",
       "    </tr>\n",
       "    <tr>\n",
       "      <th>(40.8, 48.4]</th>\n",
       "      <td>4710</td>\n",
       "      <td>12849</td>\n",
       "    </tr>\n",
       "    <tr>\n",
       "      <th>(48.4, 56.0]</th>\n",
       "      <td>1092</td>\n",
       "      <td>8471</td>\n",
       "    </tr>\n",
       "  </tbody>\n",
       "</table>\n",
       "</div>"
      ],
      "text/plain": [
       "                malo  bueno\n",
       "EdadCat                    \n",
       "(17.962, 25.6]  6572  14799\n",
       "(25.6, 33.2]    6906  15395\n",
       "(33.2, 40.8]    5988  13484\n",
       "(40.8, 48.4]    4710  12849\n",
       "(48.4, 56.0]    1092   8471"
      ]
     },
     "execution_count": 761,
     "metadata": {},
     "output_type": "execute_result"
    }
   ],
   "source": [
    "contingencia = dfTablaWoeEdad[['malo','bueno']]\n",
    "contingencia"
   ]
  },
  {
   "cell_type": "code",
   "execution_count": 762,
   "id": "2afb12a2-ce28-4945-ad61-4d569fe89034",
   "metadata": {},
   "outputs": [],
   "source": [
    "from scipy.stats import chi2_contingency"
   ]
  },
  {
   "cell_type": "code",
   "execution_count": 763,
   "id": "58a63252-74f0-4044-bf51-e21eb1af9145",
   "metadata": {},
   "outputs": [
    {
     "data": {
      "text/plain": [
       "Chi2ContingencyResult(statistic=1567.2510901901444, pvalue=0.0, dof=4, expected_freq=array([[ 5982.34582235, 15388.65417765],\n",
       "       [ 6242.67905967, 16058.32094033],\n",
       "       [ 5450.76214743, 14021.23785257],\n",
       "       [ 4915.25947754, 12643.74052246],\n",
       "       [ 2676.95349301,  6886.04650699]]))"
      ]
     },
     "execution_count": 763,
     "metadata": {},
     "output_type": "execute_result"
    }
   ],
   "source": [
    "res = chi2_contingency(contingencia)\n",
    "res"
   ]
  },
  {
   "cell_type": "code",
   "execution_count": 764,
   "id": "210242ca-6944-41c1-a796-967925f18932",
   "metadata": {},
   "outputs": [
    {
     "data": {
      "text/plain": [
       "Chi2ContingencyResult(statistic=1567.2510901901444, pvalue=0.0, dof=4, expected_freq=array([[ 5982.34582235,  6242.67905967,  5450.76214743,  4915.25947754,\n",
       "         2676.95349301],\n",
       "       [15388.65417765, 16058.32094033, 14021.23785257, 12643.74052246,\n",
       "         6886.04650699]]))"
      ]
     },
     "execution_count": 764,
     "metadata": {},
     "output_type": "execute_result"
    }
   ],
   "source": [
    "res = chi2_contingency(contingencia.transpose())\n",
    "res"
   ]
  },
  {
   "cell_type": "code",
   "execution_count": 765,
   "id": "01209932-b02b-4e82-a887-9bc95b65c2a5",
   "metadata": {},
   "outputs": [],
   "source": [
    "dfTablaWoeEdad.reset_index(inplace=True)"
   ]
  },
  {
   "cell_type": "code",
   "execution_count": 766,
   "id": "0a7a0d7d-3cce-48c9-a8f9-5ee9ee94591e",
   "metadata": {},
   "outputs": [
    {
     "data": {
      "text/plain": [
       "[<matplotlib.lines.Line2D at 0x2419daf4b50>]"
      ]
     },
     "execution_count": 766,
     "metadata": {},
     "output_type": "execute_result"
    },
    {
     "data": {
      "image/png": "[encoded data removed]",
      "text/plain": [
       "<Figure size 640x480 with 1 Axes>"
      ]
     },
     "metadata": {},
     "output_type": "display_data"
    }
   ],
   "source": [
    "plt.plot(dfTablaWoeEdad['woe_edad'])"
   ]
  },
  {
   "cell_type": "code",
   "execution_count": 767,
   "id": "833d503f-0621-4b89-8b0b-f19a2550ad34",
   "metadata": {},
   "outputs": [],
   "source": [
    "dfData1['EdadCat'] = dfData1['EdadCat'].astype(str)"
   ]
  },
  {
   "cell_type": "code",
   "execution_count": 768,
   "id": "8018b131-079b-4a43-9c62-7b5f0d80cb07",
   "metadata": {},
   "outputs": [],
   "source": [
    "dfData1 = pd.merge(dfData1,dfTablaWoeEdad[['EdadCat','woe_edad']],on='EdadCat')"
   ]
  },
  {
   "cell_type": "code",
   "execution_count": 769,
   "id": "a306c13f-a8b9-48f0-bf92-611d95de7ec0",
   "metadata": {},
   "outputs": [
    {
     "data": {
      "text/html": [
       "<div>\n",
       "<style scoped>\n",
       "    .dataframe tbody tr th:only-of-type {\n",
       "        vertical-align: middle;\n",
       "    }\n",
       "\n",
       "    .dataframe tbody tr th {\n",
       "        vertical-align: top;\n",
       "    }\n",
       "\n",
       "    .dataframe thead th {\n",
       "        text-align: right;\n",
       "    }\n",
       "</style>\n",
       "<table border=\"1\" class=\"dataframe\">\n",
       "  <thead>\n",
       "    <tr style=\"text-align: right;\">\n",
       "      <th></th>\n",
       "      <th>ID</th>\n",
       "      <th>Age</th>\n",
       "      <th>Num_Bank_Accounts</th>\n",
       "      <th>Credit_Score</th>\n",
       "      <th>malo</th>\n",
       "      <th>woe_NumCuentas</th>\n",
       "      <th>Edad</th>\n",
       "      <th>EdadCat</th>\n",
       "      <th>woe_edad</th>\n",
       "    </tr>\n",
       "  </thead>\n",
       "  <tbody>\n",
       "    <tr>\n",
       "      <th>0</th>\n",
       "      <td>0x1602</td>\n",
       "      <td>23</td>\n",
       "      <td>3</td>\n",
       "      <td>Good</td>\n",
       "      <td>0</td>\n",
       "      <td>-0.791614</td>\n",
       "      <td>23</td>\n",
       "      <td>(17.962, 25.6]</td>\n",
       "      <td>0.133076</td>\n",
       "    </tr>\n",
       "    <tr>\n",
       "      <th>1</th>\n",
       "      <td>0x1603</td>\n",
       "      <td>23</td>\n",
       "      <td>3</td>\n",
       "      <td>Good</td>\n",
       "      <td>0</td>\n",
       "      <td>-0.791614</td>\n",
       "      <td>23</td>\n",
       "      <td>(17.962, 25.6]</td>\n",
       "      <td>0.133076</td>\n",
       "    </tr>\n",
       "    <tr>\n",
       "      <th>2</th>\n",
       "      <td>0x1605</td>\n",
       "      <td>23</td>\n",
       "      <td>3</td>\n",
       "      <td>Good</td>\n",
       "      <td>0</td>\n",
       "      <td>-0.791614</td>\n",
       "      <td>23</td>\n",
       "      <td>(17.962, 25.6]</td>\n",
       "      <td>0.133076</td>\n",
       "    </tr>\n",
       "    <tr>\n",
       "      <th>3</th>\n",
       "      <td>0x1606</td>\n",
       "      <td>23</td>\n",
       "      <td>3</td>\n",
       "      <td>Good</td>\n",
       "      <td>0</td>\n",
       "      <td>-0.791614</td>\n",
       "      <td>23</td>\n",
       "      <td>(17.962, 25.6]</td>\n",
       "      <td>0.133076</td>\n",
       "    </tr>\n",
       "    <tr>\n",
       "      <th>4</th>\n",
       "      <td>0x1607</td>\n",
       "      <td>23</td>\n",
       "      <td>3</td>\n",
       "      <td>Good</td>\n",
       "      <td>0</td>\n",
       "      <td>-0.791614</td>\n",
       "      <td>23</td>\n",
       "      <td>(17.962, 25.6]</td>\n",
       "      <td>0.133076</td>\n",
       "    </tr>\n",
       "    <tr>\n",
       "      <th>...</th>\n",
       "      <td>...</td>\n",
       "      <td>...</td>\n",
       "      <td>...</td>\n",
       "      <td>...</td>\n",
       "      <td>...</td>\n",
       "      <td>...</td>\n",
       "      <td>...</td>\n",
       "      <td>...</td>\n",
       "      <td>...</td>\n",
       "    </tr>\n",
       "    <tr>\n",
       "      <th>90261</th>\n",
       "      <td>0x25c0f</td>\n",
       "      <td>51</td>\n",
       "      <td>6</td>\n",
       "      <td>Standard</td>\n",
       "      <td>0</td>\n",
       "      <td>0.316314</td>\n",
       "      <td>51</td>\n",
       "      <td>(48.4, 56.0]</td>\n",
       "      <td>-1.103820</td>\n",
       "    </tr>\n",
       "    <tr>\n",
       "      <th>90262</th>\n",
       "      <td>0x25c10</td>\n",
       "      <td>51</td>\n",
       "      <td>6</td>\n",
       "      <td>Standard</td>\n",
       "      <td>0</td>\n",
       "      <td>0.316314</td>\n",
       "      <td>51</td>\n",
       "      <td>(48.4, 56.0]</td>\n",
       "      <td>-1.103820</td>\n",
       "    </tr>\n",
       "    <tr>\n",
       "      <th>90263</th>\n",
       "      <td>0x25c11</td>\n",
       "      <td>51</td>\n",
       "      <td>6</td>\n",
       "      <td>Standard</td>\n",
       "      <td>0</td>\n",
       "      <td>0.316314</td>\n",
       "      <td>51</td>\n",
       "      <td>(48.4, 56.0]</td>\n",
       "      <td>-1.103820</td>\n",
       "    </tr>\n",
       "    <tr>\n",
       "      <th>90264</th>\n",
       "      <td>0x25c12</td>\n",
       "      <td>51</td>\n",
       "      <td>6</td>\n",
       "      <td>Standard</td>\n",
       "      <td>0</td>\n",
       "      <td>0.316314</td>\n",
       "      <td>51</td>\n",
       "      <td>(48.4, 56.0]</td>\n",
       "      <td>-1.103820</td>\n",
       "    </tr>\n",
       "    <tr>\n",
       "      <th>90265</th>\n",
       "      <td>0x25c14</td>\n",
       "      <td>52</td>\n",
       "      <td>6</td>\n",
       "      <td>Standard</td>\n",
       "      <td>0</td>\n",
       "      <td>0.316314</td>\n",
       "      <td>52</td>\n",
       "      <td>(48.4, 56.0]</td>\n",
       "      <td>-1.103820</td>\n",
       "    </tr>\n",
       "  </tbody>\n",
       "</table>\n",
       "<p>90266 rows × 9 columns</p>\n",
       "</div>"
      ],
      "text/plain": [
       "            ID Age  Num_Bank_Accounts Credit_Score  malo  woe_NumCuentas  \\\n",
       "0       0x1602  23                  3         Good     0       -0.791614   \n",
       "1       0x1603  23                  3         Good     0       -0.791614   \n",
       "2       0x1605  23                  3         Good     0       -0.791614   \n",
       "3       0x1606  23                  3         Good     0       -0.791614   \n",
       "4       0x1607  23                  3         Good     0       -0.791614   \n",
       "...        ...  ..                ...          ...   ...             ...   \n",
       "90261  0x25c0f  51                  6     Standard     0        0.316314   \n",
       "90262  0x25c10  51                  6     Standard     0        0.316314   \n",
       "90263  0x25c11  51                  6     Standard     0        0.316314   \n",
       "90264  0x25c12  51                  6     Standard     0        0.316314   \n",
       "90265  0x25c14  52                  6     Standard     0        0.316314   \n",
       "\n",
       "       Edad         EdadCat  woe_edad  \n",
       "0        23  (17.962, 25.6]  0.133076  \n",
       "1        23  (17.962, 25.6]  0.133076  \n",
       "2        23  (17.962, 25.6]  0.133076  \n",
       "3        23  (17.962, 25.6]  0.133076  \n",
       "4        23  (17.962, 25.6]  0.133076  \n",
       "...     ...             ...       ...  \n",
       "90261    51    (48.4, 56.0] -1.103820  \n",
       "90262    51    (48.4, 56.0] -1.103820  \n",
       "90263    51    (48.4, 56.0] -1.103820  \n",
       "90264    51    (48.4, 56.0] -1.103820  \n",
       "90265    52    (48.4, 56.0] -1.103820  \n",
       "\n",
       "[90266 rows x 9 columns]"
      ]
     },
     "execution_count": 769,
     "metadata": {},
     "output_type": "execute_result"
    }
   ],
   "source": [
    "dfData1"
   ]
  },
  {
   "cell_type": "code",
   "execution_count": 770,
   "id": "872bb6c3-c54e-4af8-8e12-27a71d5fe95d",
   "metadata": {},
   "outputs": [
    {
     "name": "stdout",
     "output_type": "stream",
     "text": [
      "Optimization terminated successfully.\n",
      "         Current function value: 0.582857\n",
      "         Iterations 6\n",
      "                           Logit Regression Results                           \n",
      "==============================================================================\n",
      "Dep. Variable:                   malo   No. Observations:                90266\n",
      "Model:                          Logit   Df Residuals:                    90264\n",
      "Method:                           MLE   Df Model:                            1\n",
      "Date:                Fri, 25 Oct 2024   Pseudo R-squ.:                 0.01691\n",
      "Time:                        15:36:44   Log-Likelihood:                -52612.\n",
      "converged:                       True   LL-Null:                       -53517.\n",
      "Covariance Type:            nonrobust   LLR p-value:                     0.000\n",
      "==============================================================================\n",
      "                 coef    std err          z      P>|z|      [0.025      0.975]\n",
      "------------------------------------------------------------------------------\n",
      "Intercept     -0.9448      0.008   -125.536      0.000      -0.960      -0.930\n",
      "woe_edad       1.0000      0.026     37.737      0.000       0.948       1.052\n",
      "==============================================================================\n"
     ]
    }
   ],
   "source": [
    "model = smf.logit('malo ~ woe_edad', data=dfData1).fit()\n",
    "\n",
    "print(model.summary())"
   ]
  },
  {
   "cell_type": "code",
   "execution_count": null,
   "id": "e3df4ec5-90f4-4b0d-8c8f-009124317e69",
   "metadata": {},
   "outputs": [],
   "source": []
  },
  {
   "cell_type": "code",
   "execution_count": 771,
   "id": "49e9ee9b-a9b1-41a1-8e26-8f50b493320f",
   "metadata": {},
   "outputs": [],
   "source": [
    "import seaborn as sns"
   ]
  },
  {
   "cell_type": "code",
   "execution_count": 772,
   "id": "fd203031-914c-4d41-8e27-7ebb07f4b960",
   "metadata": {},
   "outputs": [
    {
     "data": {
      "image/png": "[encoded data removed]",
      "text/plain": [
       "<Figure size 1400x1200 with 2 Axes>"
      ]
     },
     "metadata": {},
     "output_type": "display_data"
    }
   ],
   "source": [
    "plt.figure(figsize=(14,12))\n",
    "sns.heatmap(dfData1[['woe_NumCuentas','woe_edad']].corr(),linewidths=0.1,vmax=1.0, \n",
    "            square=True,  linecolor='white', annot=True)\n",
    "plt.show()"
   ]
  },
  {
   "cell_type": "code",
   "execution_count": 773,
   "id": "f65d43a6-2dbf-4f63-875f-8ad7c13c9028",
   "metadata": {},
   "outputs": [
    {
     "name": "stdout",
     "output_type": "stream",
     "text": [
      "Optimization terminated successfully.\n",
      "         Current function value: 0.544473\n",
      "         Iterations 6\n",
      "                           Logit Regression Results                           \n",
      "==============================================================================\n",
      "Dep. Variable:                   malo   No. Observations:                90266\n",
      "Model:                          Logit   Df Residuals:                    90264\n",
      "Method:                           MLE   Df Model:                            1\n",
      "Date:                Fri, 25 Oct 2024   Pseudo R-squ.:                 0.01691\n",
      "Time:                        15:36:44   Log-Likelihood:                -52612.\n",
      "converged:                       True   LL-Null:                       -53517.\n",
      "Covariance Type:            nonrobust   LLR p-value:                     0.000\n",
      "==============================================================================\n",
      "                 coef    std err          z      P>|z|      [0.025      0.975]\n",
      "------------------------------------------------------------------------------\n",
      "Intercept     -0.9448      0.008   -125.536      0.000      -0.960      -0.930\n",
      "woe_edad       1.0000      0.026     37.737      0.000       0.948       1.052\n",
      "==============================================================================\n"
     ]
    }
   ],
   "source": [
    "model2 = smf.logit('malo ~ woe_NumCuentas+woe_edad', data=dfData1).fit()\n",
    "print(model.summary())"
   ]
  },
  {
   "cell_type": "code",
   "execution_count": 774,
   "id": "d007d91f-cbfd-4649-90ad-8f7a665fea0f",
   "metadata": {},
   "outputs": [
    {
     "data": {
      "text/plain": [
       "array([0.17260431, 0.17260431, 0.17260431, ..., 0.19267398, 0.19267398,\n",
       "       0.19267398])"
      ]
     },
     "execution_count": 774,
     "metadata": {},
     "output_type": "execute_result"
    }
   ],
   "source": [
    "model2.predict()"
   ]
  },
  {
   "cell_type": "code",
   "execution_count": 775,
   "id": "19900d1c-62c4-42e1-a3fb-8ff8ba95b4bd",
   "metadata": {},
   "outputs": [],
   "source": [
    "corte = .3"
   ]
  },
  {
   "cell_type": "code",
   "execution_count": 776,
   "id": "6070f72c-4de0-4a54-a34a-a1c8e5d3a6ae",
   "metadata": {},
   "outputs": [],
   "source": [
    "y_pred = model2.predict() > corte\n",
    "y_test = dfData1['malo']"
   ]
  },
  {
   "cell_type": "code",
   "execution_count": 777,
   "id": "5d8c687e-c8ad-412a-bda3-24822981a6c9",
   "metadata": {},
   "outputs": [
    {
     "data": {
      "text/plain": [
       "41435"
      ]
     },
     "execution_count": 777,
     "metadata": {},
     "output_type": "execute_result"
    }
   ],
   "source": [
    "sum(y_pred)"
   ]
  },
  {
   "cell_type": "code",
   "execution_count": 778,
   "id": "a94c9b8a-3ab8-40c3-9e83-2284b604ea49",
   "metadata": {},
   "outputs": [
    {
     "name": "stdout",
     "output_type": "stream",
     "text": [
      "Accuracy: 65.39%\n",
      "Confusion Matrix:\n",
      " [[41295 23703]\n",
      " [ 7536 17732]]\n",
      "\n",
      "Classification Report:\n",
      "               precision    recall  f1-score   support\n",
      "\n",
      "           0       0.85      0.64      0.73     64998\n",
      "           1       0.43      0.70      0.53     25268\n",
      "\n",
      "    accuracy                           0.65     90266\n",
      "   macro avg       0.64      0.67      0.63     90266\n",
      "weighted avg       0.73      0.65      0.67     90266\n",
      "\n"
     ]
    }
   ],
   "source": [
    "accuracy = accuracy_score(y_test, y_pred)\n",
    "print(f\"Accuracy: {accuracy * 100:.2f}%\")\n",
    "\n",
    "print(\"Confusion Matrix:\\n\", confusion_matrix(y_test, y_pred))\n",
    "print(\"\\nClassification Report:\\n\", classification_report(y_test, y_pred))"
   ]
  },
  {
   "cell_type": "code",
   "execution_count": 779,
   "id": "cd0dd630-c173-4e2d-a989-cc37a1c5f032",
   "metadata": {},
   "outputs": [
    {
     "data": {
      "image/png": "[encoded data removed]",
      "text/plain": [
       "<Figure size 800x600 with 1 Axes>"
      ]
     },
     "metadata": {},
     "output_type": "display_data"
    }
   ],
   "source": [
    "y_prob = model2.predict()\n",
    "fpr, tpr, thresholds = roc_curve(y_test, y_prob)\n",
    "roc_auc = auc(fpr, tpr)\n",
    "\n",
    "plt.figure(figsize=(8, 6))\n",
    "plt.plot(fpr, tpr, color='darkorange', lw=2, label=f'ROC Curve (AUC = {roc_auc:.2f})')\n",
    "plt.plot([0, 1], [0, 1], color='navy', lw=2, linestyle='--', label='Random')\n",
    "plt.xlabel('False Positive Rate')\n",
    "plt.ylabel('True Positive Rate')\n",
    "plt.title('Receiver Operating Characteristic (ROC) Curve')\n",
    "plt.legend(loc=\"lower right\")\n",
    "plt.show()"
   ]
  },
  {
   "cell_type": "code",
   "execution_count": 780,
   "id": "4b7b2282-8cab-48b0-a62d-9367f013c702",
   "metadata": {},
   "outputs": [
    {
     "data": {
      "text/plain": [
       "0.6887977530614877"
      ]
     },
     "execution_count": 780,
     "metadata": {},
     "output_type": "execute_result"
    }
   ],
   "source": [
    "roc_auc"
   ]
  },
  {
   "cell_type": "code",
   "execution_count": null,
   "id": "70751be2-b80b-40f4-b9e3-59184d31d141",
   "metadata": {},
   "outputs": [],
   "source": []
  },
  {
   "cell_type": "markdown",
   "id": "246dfdc2-f1e2-4476-99f8-082391ab74b8",
   "metadata": {},
   "source": [
    "## Modelo con validación"
   ]
  },
  {
   "cell_type": "code",
   "execution_count": 781,
   "id": "ad339213-8c13-4f6c-8817-5a93d5dc58c5",
   "metadata": {},
   "outputs": [],
   "source": [
    "from sklearn.model_selection import train_test_split, KFold, cross_val_score "
   ]
  },
  {
   "cell_type": "code",
   "execution_count": 782,
   "id": "c006cc20-e8fc-4b7c-9623-1f83afdd8863",
   "metadata": {},
   "outputs": [],
   "source": [
    "df_train, df_test = train_test_split(dfData1, test_size = 0.25, random_state=42)"
   ]
  },
  {
   "cell_type": "code",
   "execution_count": 783,
   "id": "cc9515b6-d363-489a-a207-ea4f42d88c4e",
   "metadata": {},
   "outputs": [
    {
     "name": "stdout",
     "output_type": "stream",
     "text": [
      "Optimization terminated successfully.\n",
      "         Current function value: 0.544274\n",
      "         Iterations 6\n",
      "                           Logit Regression Results                           \n",
      "==============================================================================\n",
      "Dep. Variable:                   malo   No. Observations:                67699\n",
      "Model:                          Logit   Df Residuals:                    67696\n",
      "Method:                           MLE   Df Model:                            2\n",
      "Date:                Fri, 25 Oct 2024   Pseudo R-squ.:                 0.08141\n",
      "Time:                        15:36:45   Log-Likelihood:                -36847.\n",
      "converged:                       True   LL-Null:                       -40112.\n",
      "Covariance Type:            nonrobust   LLR p-value:                     0.000\n",
      "==================================================================================\n",
      "                     coef    std err          z      P>|z|      [0.025      0.975]\n",
      "----------------------------------------------------------------------------------\n",
      "Intercept         -0.9286      0.009   -102.112      0.000      -0.946      -0.911\n",
      "woe_NumCuentas     0.9306      0.013     69.721      0.000       0.904       0.957\n",
      "woe_edad           0.7164      0.031     22.822      0.000       0.655       0.778\n",
      "==================================================================================\n"
     ]
    }
   ],
   "source": [
    "model_train = smf.logit('malo ~ woe_NumCuentas+woe_edad', data=df_train).fit()\n",
    "print(model_train.summary())"
   ]
  },
  {
   "cell_type": "code",
   "execution_count": 784,
   "id": "4ae4bad5-9750-44e8-98b1-a76d0442234e",
   "metadata": {},
   "outputs": [
    {
     "data": {
      "text/plain": [
       "array([0.17389204, 0.07454596, 0.16444597, ..., 0.1595456 , 0.17222388,\n",
       "       0.178847  ])"
      ]
     },
     "execution_count": 784,
     "metadata": {},
     "output_type": "execute_result"
    }
   ],
   "source": [
    "model_train.predict()"
   ]
  },
  {
   "cell_type": "code",
   "execution_count": 785,
   "id": "12c405a6-9a82-48b3-9781-029989bbc57c",
   "metadata": {},
   "outputs": [
    {
     "data": {
      "text/plain": [
       "67699"
      ]
     },
     "execution_count": 785,
     "metadata": {},
     "output_type": "execute_result"
    }
   ],
   "source": [
    "len(model_train.predict())"
   ]
  },
  {
   "cell_type": "code",
   "execution_count": 786,
   "id": "14a4954b-798f-4c33-9de8-04a44d68d788",
   "metadata": {},
   "outputs": [
    {
     "data": {
      "text/plain": [
       "22567"
      ]
     },
     "execution_count": 786,
     "metadata": {},
     "output_type": "execute_result"
    }
   ],
   "source": [
    "len(model_train.predict(df_test))"
   ]
  },
  {
   "cell_type": "code",
   "execution_count": 787,
   "id": "cce78f4b-71de-44f7-b533-95a14ff9167a",
   "metadata": {},
   "outputs": [],
   "source": [
    "corte = .3"
   ]
  },
  {
   "cell_type": "code",
   "execution_count": 788,
   "id": "d9ff0e83-d712-43d0-9506-28fc26662c96",
   "metadata": {},
   "outputs": [],
   "source": [
    "y_pred = model_train.predict(df_test) > corte\n",
    "y_test = df_test['malo']"
   ]
  },
  {
   "cell_type": "code",
   "execution_count": 789,
   "id": "038a5d97-c9b7-46b6-950b-8cd9e8d6b5fa",
   "metadata": {},
   "outputs": [
    {
     "data": {
      "text/plain": [
       "10388"
      ]
     },
     "execution_count": 789,
     "metadata": {},
     "output_type": "execute_result"
    }
   ],
   "source": [
    "sum(y_pred)"
   ]
  },
  {
   "cell_type": "code",
   "execution_count": 790,
   "id": "a7061c63-7d85-4973-98e6-794a73fd611c",
   "metadata": {},
   "outputs": [
    {
     "name": "stdout",
     "output_type": "stream",
     "text": [
      "Accuracy: 65.18%\n",
      "Confusion Matrix:\n",
      " [[10272  5951]\n",
      " [ 1907  4437]]\n",
      "\n",
      "Classification Report:\n",
      "               precision    recall  f1-score   support\n",
      "\n",
      "           0       0.84      0.63      0.72     16223\n",
      "           1       0.43      0.70      0.53      6344\n",
      "\n",
      "    accuracy                           0.65     22567\n",
      "   macro avg       0.64      0.67      0.63     22567\n",
      "weighted avg       0.73      0.65      0.67     22567\n",
      "\n"
     ]
    }
   ],
   "source": [
    "accuracy = accuracy_score(y_test, y_pred)\n",
    "print(f\"Accuracy: {accuracy * 100:.2f}%\")\n",
    "\n",
    "print(\"Confusion Matrix:\\n\", confusion_matrix(y_test, y_pred))\n",
    "print(\"\\nClassification Report:\\n\", classification_report(y_test, y_pred))"
   ]
  },
  {
   "cell_type": "code",
   "execution_count": 791,
   "id": "404e7ad7-e7ef-45d7-81b6-1dba6b3587ef",
   "metadata": {},
   "outputs": [
    {
     "data": {
      "text/plain": [
       "22567"
      ]
     },
     "execution_count": 791,
     "metadata": {},
     "output_type": "execute_result"
    }
   ],
   "source": [
    "y_prob = model_train.predict()\n",
    "len(y_prob)\n",
    "len(y_test)"
   ]
  },
  {
   "cell_type": "code",
   "execution_count": 794,
   "id": "71bafb90-2c5f-4b20-a626-f9097ef62fe8",
   "metadata": {},
   "outputs": [],
   "source": [
    "y_prob = model_train.predict(df_test)\n",
    "fpr, tpr, thresholds = roc_curve(y_test, y_prob)\n",
    "roc_auc = auc(fpr, tpr)"
   ]
  },
  {
   "cell_type": "code",
   "execution_count": 795,
   "id": "2dec4c6b-44ad-43f1-84f1-ad34441883f9",
   "metadata": {},
   "outputs": [
    {
     "data": {
      "image/png": "[encoded data removed]",
      "text/plain": [
       "<Figure size 800x600 with 1 Axes>"
      ]
     },
     "metadata": {},
     "output_type": "display_data"
    }
   ],
   "source": [
    "plt.figure(figsize=(8, 6))\n",
    "plt.plot(fpr, tpr, color='darkorange', lw=2, label=f'ROC Curve (AUC = {roc_auc:.2f})')\n",
    "plt.plot([0, 1], [0, 1], color='navy', lw=2, linestyle='--', label='Random')\n",
    "plt.xlabel('False Positive Rate')\n",
    "plt.ylabel('True Positive Rate')\n",
    "plt.title('Receiver Operating Characteristic (ROC) Curve')\n",
    "plt.legend(loc=\"lower right\")\n",
    "plt.show()"
   ]
  },
  {
   "cell_type": "code",
   "execution_count": 796,
   "id": "814f6b7a-bccb-4107-a42e-47f0cdd912f4",
   "metadata": {},
   "outputs": [
    {
     "data": {
      "text/plain": [
       "0.6891965379434597"
      ]
     },
     "execution_count": 796,
     "metadata": {},
     "output_type": "execute_result"
    }
   ],
   "source": [
    "roc_auc"
   ]
  },
  {
   "cell_type": "code",
   "execution_count": 798,
   "id": "1bcb487e-a223-4d3e-8a5b-52f97b95aaaa",
   "metadata": {},
   "outputs": [
    {
     "data": {
      "text/plain": [
       "0.8445982689717298"
      ]
     },
     "execution_count": 798,
     "metadata": {},
     "output_type": "execute_result"
    }
   ],
   "source": [
    "gini = (1+roc_auc)/2\n",
    "gini"
   ]
  },
  {
   "cell_type": "code",
   "execution_count": null,
   "id": "e62049a5-9fc2-47f7-ba0d-f29c8bad33cb",
   "metadata": {},
   "outputs": [],
   "source": []
  },
  {
   "cell_type": "code",
   "execution_count": null,
   "id": "739a141f-6343-4c20-944a-259cbd22d89f",
   "metadata": {},
   "outputs": [],
   "source": []
  },
  {
   "cell_type": "code",
   "execution_count": null,
   "id": "93ca141c-aa7b-4639-8740-d0bd9046d201",
   "metadata": {},
   "outputs": [],
   "source": []
  }
 ],
 "metadata": {
  "kernelspec": {
   "display_name": "Python 3 (ipykernel)",
   "language": "python",
   "name": "python3"
  },
  "language_info": {
   "codemirror_mode": {
    "name": "ipython",
    "version": 3
   },
   "file_extension": ".py",
   "mimetype": "text/x-python",
   "name": "python",
   "nbconvert_exporter": "python",
   "pygments_lexer": "ipython3",
   "version": "3.11.3"
  }
 },
 "nbformat": 4,
 "nbformat_minor": 5
}
